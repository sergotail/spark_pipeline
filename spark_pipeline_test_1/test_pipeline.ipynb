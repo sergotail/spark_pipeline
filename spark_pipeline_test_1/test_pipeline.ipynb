{
 "cells": [
  {
   "cell_type": "code",
   "execution_count": null,
   "metadata": {
    "collapsed": true
   },
   "outputs": [],
   "source": [
    "#pipeline pseudocode\n",
    "init_pipeline(params)\n",
    "    #prepare_image_and_dirs - at now we manually put fits files in current dir\n",
    "    init_astromatic_wrapper # create kwargs dicts for astromatic objects from global params\n",
    "\n",
    "# assume we have some images image1.fits image2.fits image3.fits and corresponding to them bias dark and flat fits\n",
    "# 1 pre-reduction of FITS (bias, dark ,flat - HOW???) output - pr_images\n",
    "# 2 calibrate images using SCAMP (which uses SExtractor catalog)\n",
    "    # create catalog from pre-reduced fits\n",
    "    sextractor1 = aw.api.Astromatic(**sex_kwargs_1)\n",
    "    sextractor1.run(pr_image1.fits) # output - sex_output_pr_1\n",
    "    # send catalog to SCAMP - it will calculate astrometry and photometry solution (write into header)\n",
    "    scamp = aw.api.Astromatic(**scamp_kwargs)\n",
    "    scamp.run(sex_output_pr_1.fits) # output - calibrated_pr_1\n",
    "    # for 2 and 3 the same way\n",
    "# 3 co-addition and resampling of calibrated pre-reduced images\n",
    "    swarp = aw.api.Astromatic(**swarp_kwargs)\n",
    "    swarp.run(calibrated_pr_images) # output - preprocessed_coadd\n",
    "# 4 extracting sources from preprocessed images\n",
    "    sextractor2 = aw.api.Astromatic(**sex_kwargs_2)\n",
    "    sextractor2.run(preprocessed_coadd.fits) # output - catalog_1\n",
    "    psfex = aw.api.Astromatic(**psfex_kwargs)\n",
    "    psfex.run(catalog_1) # output - psf_coadd\n",
    "    sextractor3 = aw.api.Astromatic(**sex_kwargs_3)\n",
    "    sextractor3.run(preprocessed_coadd.fits, psf_coadd.fits) # output - catalog_2\n",
    "# catalog_2 - catalog of objects extracted from pre-reducted, preprocessed and co-added and psf-modeled fits\n",
    "# futher processing:\n",
    "    # a) put catalog into DB\n",
    "    # b) add single images processing (not only co-added) - add to catalog objects wchich dissapeared after co-addition"
   ]
  },
  {
   "cell_type": "markdown",
   "metadata": {},
   "source": [
    "# First, we check workability of components of astromatic software through astromatic_wrapper api"
   ]
  },
  {
   "cell_type": "markdown",
   "metadata": {},
   "source": [
    "## Prepare invironment"
   ]
  },
  {
   "cell_type": "code",
   "execution_count": 1,
   "metadata": {
    "collapsed": false
   },
   "outputs": [],
   "source": [
    "import os\n",
    "import datetime\n",
    "import fnmatch\n",
    "import re\n",
    "import astromatic_wrapper as aw #TODO: install aw to itaf virtual env\n",
    "from astropy.io import fits"
   ]
  },
  {
   "cell_type": "code",
   "execution_count": 2,
   "metadata": {
    "collapsed": false
   },
   "outputs": [],
   "source": [
    "#!pip install astromatic_wrapper"
   ]
  },
  {
   "cell_type": "code",
   "execution_count": 3,
   "metadata": {
    "collapsed": false
   },
   "outputs": [],
   "source": [
    "import pyraf.iraf as iraf"
   ]
  },
  {
   "cell_type": "code",
   "execution_count": 4,
   "metadata": {
    "collapsed": false
   },
   "outputs": [],
   "source": [
    "print_iraf_tasks = 0\n",
    "iraf.module.images(_doprint=print_iraf_tasks) # print or not to print (why it not working?)"
   ]
  },
  {
   "cell_type": "markdown",
   "metadata": {},
   "source": [
    "Just test that PyRAF works"
   ]
  },
  {
   "cell_type": "code",
   "execution_count": 5,
   "metadata": {
    "collapsed": false
   },
   "outputs": [
    {
     "name": "stdout",
     "output_type": "stream",
     "text": [
      "0\n"
     ]
    }
   ],
   "source": [
    "print iraf.module.imaccess('im_3.fit') #TODO: implement access check if needed\n",
    "input_fits = 'im_1.fit, im_2.fit'\n",
    "output_fits = 'res.fit'\n",
    "s = iraf.module.imcombine(input_fits, output_fits, combine='median', Stdout=1, Stderr=1)"
   ]
  },
  {
   "cell_type": "code",
   "execution_count": 6,
   "metadata": {
    "collapsed": false
   },
   "outputs": [
    {
     "name": "stdout",
     "output_type": "stream",
     "text": [
      "\n",
      "---------\n",
      "Apr 23 16:28: IMCOMBINE\n",
      "---------\n",
      "  combine = median, scale = none, zero = none, weight = none\n",
      "---------\n",
      "  blank = 0.\n",
      "---------\n",
      "                Images \n",
      "---------\n",
      "               im_1.fit\n",
      "---------\n",
      "               im_2.fit\n",
      "---------\n",
      "\n",
      "---------\n",
      "  Output image = res.fit, ncombine = 2\n",
      "---------\n"
     ]
    }
   ],
   "source": [
    "for ss in s:\n",
    "    print ss\n",
    "    print \"---------\""
   ]
  },
  {
   "cell_type": "code",
   "execution_count": 7,
   "metadata": {
    "collapsed": false
   },
   "outputs": [
    {
     "data": {
      "text/plain": [
       "{'PSFEx': 'psfex', 'SCAMP': 'scamp', 'SExtractor': 'sex', 'SWarp': 'swarp'}"
      ]
     },
     "execution_count": 7,
     "metadata": {},
     "output_type": "execute_result"
    }
   ],
   "source": [
    "aw.api.codes"
   ]
  },
  {
   "cell_type": "code",
   "execution_count": 8,
   "metadata": {
    "collapsed": false
   },
   "outputs": [
    {
     "name": "stdout",
     "output_type": "stream",
     "text": [
      "/home/ser/Dev/astro_engine/spark_pipeline/spark_pipeline_test_1/images\n",
      "/home/ser/Dev/astro_engine/spark_pipeline/spark_pipeline_test_1/catalogs\n",
      "/home/ser/Dev/astro_engine/spark_pipeline/spark_pipeline_test_1/config\n",
      "/home/ser/Dev/astro_engine/spark_pipeline/spark_pipeline_test_1/stacks\n",
      "/home/ser/Dev/astro_engine/spark_pipeline/spark_pipeline_test_1/temp\n"
     ]
    }
   ],
   "source": [
    "# define mode and log path\n",
    "mode = 'test'\n",
    "wrk_dir = ''#'/home/ser/Dev/Notebooks/test_pipeline'\n",
    "log_path = datetime.datetime.now().strftime('%Y-%m-%d_%H-%M-%S') + '_' + mode\n",
    "\n",
    "# set paths to work dirs\n",
    "base_path = os.getcwd() if wrk_dir is None or not len(wrk_dir) else wrk_dir\n",
    "paths = {\n",
    "    'temp': os.path.join(base_path, 'temp'),\n",
    "    #'log': os.path.join(base_path, 'log', log_path),\n",
    "    'config': os.path.join(base_path, 'config'),\n",
    "    'catalogs': os.path.join(base_path, 'catalogs'),\n",
    "    'stacks': os.path.join(base_path, 'stacks'),\n",
    "    'images': os.path.join(base_path, 'images')\n",
    "        }\n",
    "# build paths is needed for pipeline (it`s a code issue and will be elimenated in future)\n",
    "build_paths = {}\n",
    "\n",
    "# check if paths are ok\n",
    "for val in paths.values():\n",
    "    print val"
   ]
  },
  {
   "cell_type": "code",
   "execution_count": 162,
   "metadata": {
    "collapsed": true
   },
   "outputs": [],
   "source": [
    "# set image filename\n",
    "files = {'image': os.path.join(paths['images'], 'GRB130427_R60_001_001.fit')}"
   ]
  },
  {
   "cell_type": "code",
   "execution_count": 115,
   "metadata": {
    "collapsed": false
   },
   "outputs": [],
   "source": [
    "# prepare FITS file header for processing\n",
    "#hdulist = fits.open(files['image'])\n",
    "#hdulist[0].header"
   ]
  },
  {
   "cell_type": "code",
   "execution_count": 161,
   "metadata": {
    "collapsed": false
   },
   "outputs": [
    {
     "data": {
      "text/plain": [
       "'/home/ser/Dev/astro_engine/spark_pipeline/spark_pipeline_test_1/images/GRB130427_R60_001_001.fit /home/ser/Dev/astro_engine/spark_pipeline/spark_pipeline_test_1/images/GRB130427_R60_001_002.fit /home/ser/Dev/astro_engine/spark_pipeline/spark_pipeline_test_1/images/GRB130427_R60_001_003.fit'"
      ]
     },
     "execution_count": 161,
     "metadata": {},
     "output_type": "execute_result"
    }
   ],
   "source": [
    "fits_to_cats = ' '.join([os.path.join(paths['images'], 'GRB130427_R60_001_00%d.fit') % n for n in xrange(1,4)])\n",
    "fits_to_cats"
   ]
  },
  {
   "cell_type": "markdown",
   "metadata": {},
   "source": [
    "### 1) SExtractor"
   ]
  },
  {
   "cell_type": "code",
   "execution_count": 171,
   "metadata": {
    "collapsed": false
   },
   "outputs": [],
   "source": [
    "# set params for sextractor execution\n",
    "# set code type according to sextractor\n",
    "sex_kwargs_1 = {'code': 'SExtractor'}\n",
    "# set path to config file\n",
    "sex_kwargs_1['config_file'] = os.path.join(paths['config'], 'default.sex')\n",
    "# change some parameters in config (will not change config file set above)\n",
    "sex_kwargs_1['config'] = {'CATALOG_NAME': os.path.join(paths['temp'], \n",
    "                                                os.path.basename(files['image']).replace('.fit', '.cat'))\n",
    "                    }\n",
    "\n",
    "sex_kwargs_1['config']['CATALOG_TYPE'] = 'FITS_LDAC'\n",
    "sex_kwargs_1['config']['FILTER'] = 'N'\n",
    "sex_kwargs_1['temp_path'] = paths['temp']\n",
    "sex_kwargs_1['params'] = ['NUMBER', 'EXT_NUMBER', 'XWIN_IMAGE', 'YWIN_IMAGE', 'AWIN_IMAGE', 'BWIN_IMAGE',\n",
    "                          'ERRAWIN_IMAGE','ERRBWIN_IMAGE', 'ERRTHETAWIN_IMAGE', 'ERRA_WORLD', 'ERRB_WORLD', \n",
    "                          'ERRTHETA_WORLD', 'X_WORLD', 'Y_WORLD', 'XWIN_WORLD', 'YWIN_WORLD', \n",
    "                          'FLUX_AUTO', 'FLUX_MAX', 'MAG_AUTO', 'FLUXERR_AUTO', \n",
    "                          # flags not supported yet (need Weightwatcher)\n",
    "                          #'IMAFLAGS_ISO', 'FLAGS_WEIGHT',\n",
    "                          'FLAGS', 'FLUX_RADIUS', 'ELONGATION']\n",
    "\n",
    "# minimum catalog columns needed for SCAMP:\n",
    "#XWIN_IMAGE\n",
    "#YWIN_IMAGE\n",
    "#ERRAWIN_IMAGE\n",
    "#ERRBWIN_IMAGE\n",
    "#ERRTHETAWIN_IMAGE\n",
    "#ERRA_WORLD\n",
    "#ERRB_WORLD\n",
    "#ERRTHETA_WORLD\n",
    "#X_WORLD\n",
    "#Y_WORLD\n",
    "#FLUX_RADIUS\n",
    "#FLUX_AUTO\n",
    "#FLUXERR_AUTO\n",
    "#FLUX_MAX\n",
    "#MAG_AUTO\n",
    "#ELONGATION\n",
    "#FLAGS\n",
    "#AWIN_IMAGE\n",
    "#BWIN_IMAGE"
   ]
  },
  {
   "cell_type": "code",
   "execution_count": 172,
   "metadata": {
    "collapsed": false
   },
   "outputs": [],
   "source": [
    "sextractor = aw.api.Astromatic(**sex_kwargs_1)"
   ]
  },
  {
   "cell_type": "code",
   "execution_count": 173,
   "metadata": {
    "collapsed": false
   },
   "outputs": [
    {
     "name": "stdout",
     "output_type": "stream",
     "text": [
      "sex /home/ser/Dev/astro_engine/spark_pipeline/spark_pipeline_test_1/images/GRB130427_R60_001_001.fit -c /home/ser/Dev/astro_engine/spark_pipeline/spark_pipeline_test_1/config/default.sex -FILTER N -PARAMETERS_NAME /home/ser/Dev/astro_engine/spark_pipeline/spark_pipeline_test_1/temp/sex.param -CATALOG_TYPE FITS_LDAC -CATALOG_NAME /home/ser/Dev/astro_engine/spark_pipeline/spark_pipeline_test_1/temp/GRB130427_R60_001_001.cat\n"
     ]
    }
   ],
   "source": [
    "this_cmd, kwargs2 = sextractor.build_cmd(files['image'], **sex_kwargs_1)\n",
    "print this_cmd"
   ]
  },
  {
   "cell_type": "code",
   "execution_count": 174,
   "metadata": {
    "collapsed": false
   },
   "outputs": [
    {
     "data": {
      "text/plain": [
       "{'status': 'success'}"
      ]
     },
     "execution_count": 174,
     "metadata": {},
     "output_type": "execute_result"
    }
   ],
   "source": [
    "sextractor.run(files['image']) "
   ]
  },
  {
   "cell_type": "code",
   "execution_count": 175,
   "metadata": {
    "collapsed": false
   },
   "outputs": [
    {
     "data": {
      "text/html": [
       "&lt;Table length=3098&gt;\n",
       "<table id=\"table140116245594000\" class=\"table-striped table-bordered table-condensed\">\n",
       "<thead><tr><th>NUMBER</th><th>EXT_NUMBER</th><th>XWIN_IMAGE</th><th>YWIN_IMAGE</th><th>AWIN_IMAGE</th><th>BWIN_IMAGE</th><th>ERRAWIN_IMAGE</th><th>ERRBWIN_IMAGE</th><th>ERRTHETAWIN_IMAGE</th><th>ERRA_WORLD</th><th>ERRB_WORLD</th><th>ERRTHETA_WORLD</th><th>X_WORLD</th><th>Y_WORLD</th><th>XWIN_WORLD</th><th>YWIN_WORLD</th><th>FLUX_AUTO</th><th>FLUX_MAX</th><th>MAG_AUTO</th><th>FLUXERR_AUTO</th><th>FLAGS</th><th>FLUX_RADIUS</th><th>ELONGATION</th></tr></thead>\n",
       "<thead><tr><th></th><th></th><th>pix</th><th>pix</th><th>pix</th><th>pix</th><th>pix</th><th>pix</th><th>deg</th><th>deg</th><th>deg</th><th>deg</th><th>deg</th><th>deg</th><th>deg</th><th>deg</th><th>ct</th><th>ct</th><th>mag</th><th>ct</th><th></th><th>pix</th><th></th></tr></thead>\n",
       "<thead><tr><th>int32</th><th>int16</th><th>float64</th><th>float64</th><th>float32</th><th>float32</th><th>float32</th><th>float32</th><th>float32</th><th>float32</th><th>float32</th><th>float32</th><th>float64</th><th>float64</th><th>float64</th><th>float64</th><th>float32</th><th>float32</th><th>float32</th><th>float32</th><th>int16</th><th>float32</th><th>float32</th></tr></thead>\n",
       "<tr><td>1</td><td>1</td><td>74.0506797733</td><td>4.96785582996</td><td>0.323244</td><td>0.289622</td><td>0.0185418</td><td>0.0184054</td><td>44.8963</td><td>5.40008e-06</td><td>3.77398e-06</td><td>-37.5049</td><td>173.19748825</td><td>27.6328150289</td><td>173.197495356</td><td>27.6328720298</td><td>1874.71</td><td>1444.24</td><td>-8.18233</td><td>74.1216</td><td>0</td><td>0.485663</td><td>1.68992</td></tr>\n",
       "<tr><td>2</td><td>1</td><td>435.752504902</td><td>4.12222775746</td><td>0.506723</td><td>0.249457</td><td>0.0234493</td><td>0.0126799</td><td>-47.5847</td><td>6.25309e-06</td><td>3.38137e-06</td><td>47.5983</td><td>173.088704362</td><td>27.6326310121</td><td>173.088623675</td><td>27.6326436152</td><td>1790.76</td><td>970.529</td><td>-8.13259</td><td>84.6418</td><td>0</td><td>0.57194</td><td>2.0313</td></tr>\n",
       "<tr><td>3</td><td>1</td><td>391.664085704</td><td>3.65109619705</td><td>1.30106</td><td>0.288675</td><td>0.0926271</td><td>0.022354</td><td>45.0</td><td>2.47005e-05</td><td>5.96106e-06</td><td>-44.9895</td><td>173.101805007</td><td>27.6323387867</td><td>173.101894252</td><td>27.6325228849</td><td>287.597</td><td>396.692</td><td>-6.14696</td><td>153.999</td><td>16</td><td>0.511613</td><td>4.50702</td></tr>\n",
       "<tr><td>4</td><td>1</td><td>112.09876803</td><td>3.92879817309</td><td>0.787976</td><td>0.214852</td><td>0.0362528</td><td>0.00797585</td><td>61.7319</td><td>9.66705e-06</td><td>2.12845e-06</td><td>-61.744</td><td>173.186624908</td><td>27.6325439927</td><td>173.186042832</td><td>27.6325986426</td><td>-67.0791</td><td>866.306</td><td>99.0</td><td>116.252</td><td>16</td><td>0.0</td><td>3.66752</td></tr>\n",
       "<tr><td>5</td><td>1</td><td>108.454015622</td><td>9.39888210087</td><td>0.727711</td><td>0.186901</td><td>0.082488</td><td>0.0217069</td><td>-27.1206</td><td>2.1996e-05</td><td>5.79152e-06</td><td>27.1079</td><td>173.187631956</td><td>27.6334934591</td><td>173.187140435</td><td>27.6340570144</td><td>772.069</td><td>492.583</td><td>-7.21914</td><td>83.2629</td><td>0</td><td>0.708332</td><td>3.89356</td></tr>\n",
       "<tr><td>6</td><td>1</td><td>171.016293694</td><td>10.2398484152</td><td>1.17612</td><td>0.174485</td><td>0.0296752</td><td>0.00805462</td><td>-38.7114</td><td>7.91331e-06</td><td>2.14814e-06</td><td>38.7062</td><td>173.168327636</td><td>27.6331851572</td><td>173.168309107</td><td>27.634285449</td><td>2847.8</td><td>1274.26</td><td>-8.63627</td><td>95.3613</td><td>16</td><td>1.23039</td><td>6.74054</td></tr>\n",
       "<tr><td>7</td><td>1</td><td>304.262985612</td><td>9.77950602873</td><td>0.72701</td><td>0.305383</td><td>0.0565512</td><td>0.00944447</td><td>-31.1592</td><td>1.50805e-05</td><td>2.51715e-06</td><td>31.1644</td><td>173.128213415</td><td>27.6341834105</td><td>173.128201511</td><td>27.6341631122</td><td>1519.67</td><td>1424.83</td><td>-7.95437</td><td>124.696</td><td>0</td><td>0.465004</td><td>2.38065</td></tr>\n",
       "<tr><td>8</td><td>1</td><td>431.210482331</td><td>8.52234249694</td><td>1.09986</td><td>0.419533</td><td>0.0884621</td><td>0.030418</td><td>4.72838</td><td>2.35895e-05</td><td>8.11258e-06</td><td>-4.70234</td><td>173.090049909</td><td>27.6340057375</td><td>173.089990204</td><td>27.6338175391</td><td>993.887</td><td>541.043</td><td>-7.49334</td><td>179.785</td><td>0</td><td>1.08155</td><td>2.62164</td></tr>\n",
       "<tr><td>9</td><td>1</td><td>437.530236805</td><td>4.86677636309</td><td>0.77098</td><td>0.130869</td><td>0.0575818</td><td>0.0102394</td><td>59.5503</td><td>1.53559e-05</td><td>2.72629e-06</td><td>-59.5334</td><td>173.088178186</td><td>27.6335005257</td><td>173.088088475</td><td>27.6328419366</td><td>1530.37</td><td>1169.4</td><td>-7.96199</td><td>84.2915</td><td>1</td><td>0.640406</td><td>5.89123</td></tr>\n",
       "<tr><td>...</td><td>...</td><td>...</td><td>...</td><td>...</td><td>...</td><td>...</td><td>...</td><td>...</td><td>...</td><td>...</td><td>...</td><td>...</td><td>...</td><td>...</td><td>...</td><td>...</td><td>...</td><td>...</td><td>...</td><td>...</td><td>...</td><td>...</td></tr>\n",
       "<tr><td>3089</td><td>1</td><td>42.0945428487</td><td>486.064094654</td><td>0.417307</td><td>0.293276</td><td>0.0309072</td><td>0.0290835</td><td>-4.09331</td><td>7.07535e-06</td><td>3.65054e-06</td><td>-40.6709</td><td>173.207093266</td><td>27.7611862525</td><td>173.207185078</td><td>27.7611602809</td><td>1792.18</td><td>1087.12</td><td>-8.13345</td><td>117.991</td><td>1</td><td>0.634402</td><td>1.96043</td></tr>\n",
       "<tr><td>3090</td><td>1</td><td>334.686137924</td><td>486.170780036</td><td>0.751872</td><td>0.521233</td><td>0.546332</td><td>0.545184</td><td>6.57342</td><td>5.91991e-05</td><td>3.4224e-05</td><td>-89.8227</td><td>173.119006992</td><td>27.760895694</td><td>173.119011744</td><td>27.7611990732</td><td>320.85</td><td>96.9346</td><td>-6.26576</td><td>148.438</td><td>1</td><td>1.10433</td><td>1.83205</td></tr>\n",
       "<tr><td>3091</td><td>1</td><td>51.1931939997</td><td>484.981581433</td><td>0.563411</td><td>0.257707</td><td>0.222595</td><td>0.222242</td><td>23.9106</td><td>2.85375e-05</td><td>2.23853e-05</td><td>-48.3404</td><td>173.204356743</td><td>27.760982824</td><td>173.204443023</td><td>27.7608727755</td><td>1041.43</td><td>483.762</td><td>-7.54407</td><td>279.186</td><td>0</td><td>1.18191</td><td>1.56529</td></tr>\n",
       "<tr><td>3092</td><td>1</td><td>46.2615483948</td><td>486.311850375</td><td>0.865311</td><td>0.373214</td><td>0.423266</td><td>0.422313</td><td>-76.9488</td><td>5.59214e-05</td><td>3.12137e-05</td><td>24.2061</td><td>173.205766444</td><td>27.7611420514</td><td>173.205929376</td><td>27.7612268888</td><td>623.945</td><td>209.208</td><td>-6.98786</td><td>275.973</td><td>1</td><td>1.28483</td><td>1.99923</td></tr>\n",
       "<tr><td>3093</td><td>1</td><td>395.049179667</td><td>491.407073374</td><td>0.937305</td><td>0.700076</td><td>0.224172</td><td>0.223722</td><td>-56.0637</td><td>3.56469e-05</td><td>2.39621e-05</td><td>-66.6323</td><td>173.100699404</td><td>27.7626365808</td><td>173.100820575</td><td>27.7625905896</td><td>1332.76</td><td>302.687</td><td>-7.81188</td><td>270.08</td><td>0</td><td>1.44708</td><td>1.61491</td></tr>\n",
       "<tr><td>3094</td><td>1</td><td>126.155517447</td><td>484.896873654</td><td>1.18047</td><td>0.374264</td><td>0.206079</td><td>0.0716893</td><td>6.28346</td><td>5.49549e-05</td><td>1.9115e-05</td><td>-6.2992</td><td>173.181570098</td><td>27.7609450202</td><td>173.18185297</td><td>27.76085772</td><td>382.7</td><td>224.949</td><td>-6.45715</td><td>174.627</td><td>0</td><td>1.2718</td><td>3.15411</td></tr>\n",
       "<tr><td>3095</td><td>1</td><td>305.545040588</td><td>484.351931318</td><td>0.797554</td><td>0.108176</td><td>0.486063</td><td>0.48316</td><td>-12.8075</td><td>7.13297e-05</td><td>1.57881e-05</td><td>61.5479</td><td>173.127819085</td><td>27.7608354087</td><td>173.127793586</td><td>27.7607155254</td><td>314.505</td><td>116.904</td><td>-6.24407</td><td>116.559</td><td>0</td><td>0.997327</td><td>4.88403</td></tr>\n",
       "<tr><td>3096</td><td>1</td><td>41.9688558966</td><td>483.075440645</td><td>0.413697</td><td>0.33598</td><td>0.047088</td><td>0.0464736</td><td>-88.4764</td><td>2.52753e-05</td><td>5.07649e-06</td><td>51.3413</td><td>173.207324825</td><td>27.7604827288</td><td>173.207222512</td><td>27.7603632919</td><td>1808.08</td><td>1105.8</td><td>-8.14305</td><td>149.573</td><td>0</td><td>0.822051</td><td>4.61532</td></tr>\n",
       "<tr><td>3097</td><td>1</td><td>75.9777778279</td><td>485.42777478</td><td>0.711899</td><td>0.149231</td><td>0.0660685</td><td>0.0130055</td><td>-24.9045</td><td>1.76174e-05</td><td>3.47245e-06</td><td>24.8879</td><td>173.197073634</td><td>27.760908252</td><td>173.196974195</td><td>27.760994657</td><td>1248.47</td><td>936.979</td><td>-7.74095</td><td>83.9106</td><td>0</td><td>0.575333</td><td>4.77046</td></tr>\n",
       "<tr><td>3098</td><td>1</td><td>27.7179051117</td><td>483.689069494</td><td>1.20686</td><td>0.190737</td><td>0.140963</td><td>0.0331611</td><td>-51.597</td><td>3.75911e-05</td><td>8.83854e-06</td><td>51.5812</td><td>173.211616606</td><td>27.7607945518</td><td>173.21151714</td><td>27.7605249926</td><td>878.976</td><td>445.18</td><td>-7.35994</td><td>174.95</td><td>0</td><td>1.19953</td><td>6.32734</td></tr>\n",
       "</table>"
      ],
      "text/plain": [
       "<Table length=3098>\n",
       "NUMBER EXT_NUMBER   XWIN_IMAGE    YWIN_IMAGE  ... FLAGS FLUX_RADIUS ELONGATION\n",
       "                       pix           pix      ...           pix               \n",
       "int32    int16       float64       float64    ... int16   float32    float32  \n",
       "------ ---------- ------------- ------------- ... ----- ----------- ----------\n",
       "     1          1 74.0506797733 4.96785582996 ...     0    0.485663    1.68992\n",
       "     2          1 435.752504902 4.12222775746 ...     0     0.57194     2.0313\n",
       "     3          1 391.664085704 3.65109619705 ...    16    0.511613    4.50702\n",
       "     4          1  112.09876803 3.92879817309 ...    16         0.0    3.66752\n",
       "     5          1 108.454015622 9.39888210087 ...     0    0.708332    3.89356\n",
       "     6          1 171.016293694 10.2398484152 ...    16     1.23039    6.74054\n",
       "     7          1 304.262985612 9.77950602873 ...     0    0.465004    2.38065\n",
       "     8          1 431.210482331 8.52234249694 ...     0     1.08155    2.62164\n",
       "     9          1 437.530236805 4.86677636309 ...     1    0.640406    5.89123\n",
       "   ...        ...           ...           ... ...   ...         ...        ...\n",
       "  3089          1 42.0945428487 486.064094654 ...     1    0.634402    1.96043\n",
       "  3090          1 334.686137924 486.170780036 ...     1     1.10433    1.83205\n",
       "  3091          1 51.1931939997 484.981581433 ...     0     1.18191    1.56529\n",
       "  3092          1 46.2615483948 486.311850375 ...     1     1.28483    1.99923\n",
       "  3093          1 395.049179667 491.407073374 ...     0     1.44708    1.61491\n",
       "  3094          1 126.155517447 484.896873654 ...     0      1.2718    3.15411\n",
       "  3095          1 305.545040588 484.351931318 ...     0    0.997327    4.88403\n",
       "  3096          1 41.9688558966 483.075440645 ...     0    0.822051    4.61532\n",
       "  3097          1 75.9777778279  485.42777478 ...     0    0.575333    4.77046\n",
       "  3098          1 27.7179051117 483.689069494 ...     0     1.19953    6.32734"
      ]
     },
     "execution_count": 175,
     "metadata": {},
     "output_type": "execute_result"
    }
   ],
   "source": [
    "catalog = aw.utils.ldac.get_table_from_ldac(sex_kwargs_1['config']['CATALOG_NAME'])\n",
    "catalog"
   ]
  },
  {
   "cell_type": "markdown",
   "metadata": {
    "collapsed": true
   },
   "source": [
    "### 2) SCAMP"
   ]
  },
  {
   "cell_type": "code",
   "execution_count": 154,
   "metadata": {
    "collapsed": false
   },
   "outputs": [
    {
     "data": {
      "text/plain": [
       "'temp/GRB130427_R60_001_001.cat temp/GRB130427_R60_001_002.cat temp/GRB130427_R60_001_003.cat'"
      ]
     },
     "execution_count": 154,
     "metadata": {},
     "output_type": "execute_result"
    }
   ],
   "source": [
    "scamp_kwargs_1 = {\n",
    "    'config': {\n",
    "        'ASTREF_CATALOG': 'USNO-B1',\n",
    "        'ASTREF_BAND': 'DEFAULT',\n",
    "        'SOLVE_PHOTOM': 'N',\n",
    "        'CHECKPLOT_DEV': 'NULL'\n",
    "        }\n",
    "}\n",
    "scamp_kwargs_1['code'] = 'SCAMP'\n",
    "scamp_kwargs_1['config_file'] = os.path.join(paths['config'], 'default.scamp')\n",
    "\n",
    "catalogs = ['temp/GRB130427_R60_001_00%d.cat' % n for n in xrange(1,4)]\n",
    "catalogs = ' '.join(catalogs)\n",
    "catalogs"
   ]
  },
  {
   "cell_type": "code",
   "execution_count": 155,
   "metadata": {
    "collapsed": true
   },
   "outputs": [],
   "source": [
    "scamp = aw.api.Astromatic(**scamp_kwargs_1)"
   ]
  },
  {
   "cell_type": "code",
   "execution_count": 156,
   "metadata": {
    "collapsed": false
   },
   "outputs": [
    {
     "name": "stdout",
     "output_type": "stream",
     "text": [
      "scamp temp/GRB130427_R60_001_001.cat temp/GRB130427_R60_001_002.cat temp/GRB130427_R60_001_003.cat -c /home/ser/Dev/astro_engine/spark_pipeline/spark_pipeline_test_1/config/default.scamp -ASTREF_BAND DEFAULT -SOLVE_PHOTOM N -CHECKPLOT_DEV NULL -ASTREF_CATALOG USNO-B1\n"
     ]
    }
   ],
   "source": [
    "this_cmd, kwargs2 = scamp.build_cmd(catalogs, **scamp_kwargs_1)\n",
    "print this_cmd"
   ]
  },
  {
   "cell_type": "code",
   "execution_count": 57,
   "metadata": {
    "collapsed": false
   },
   "outputs": [
    {
     "data": {
      "text/plain": [
       "{'status': 'success'}"
      ]
     },
     "execution_count": 57,
     "metadata": {},
     "output_type": "execute_result"
    }
   ],
   "source": [
    "scamp.run(catalogs)"
   ]
  },
  {
   "cell_type": "code",
   "execution_count": 58,
   "metadata": {
    "collapsed": false
   },
   "outputs": [
    {
     "data": {
      "text/plain": [
       "HISTORY   Astrometric solution by SCAMP version 2.0.4 (2014-07-09)              \n",
       "COMMENT   (c) 2010-2013 IAP/CNRS/UPMC                                           \n",
       "COMMENT                                                                         \n",
       "EQUINOX =        2000.00000000 / Mean equinox                                   \n",
       "RADESYS = 'ICRS    '           / Astrometric system                             \n",
       "CTYPE1  = 'RA---TAN'           / WCS projection type for this axis              \n",
       "CTYPE2  = 'DEC--TAN'           / WCS projection type for this axis              \n",
       "CUNIT1  = 'DEG     '           / Axis unit                                      \n",
       "CUNIT2  = 'DEG     '           / Axis unit                                      \n",
       "CRVAL1  =   1.731577811223E+02 / World coordinate on this axis                  \n",
       "CRVAL2  =   2.771248790336E+01 / World coordinate on this axis                  \n",
       "CRPIX1  =   2.425608854055E+02 / Reference pixel on this axis                   \n",
       "CRPIX2  =   2.858855101757E+02 / Reference pixel on this axis                   \n",
       "CD1_1   =  -2.666664151156E-04 / Linear projection matrix                       \n",
       "CD1_2   =   2.378204123012E-08 / Linear projection matrix                       \n",
       "CD2_1   =   2.378204123012E-08 / Linear projection matrix                       \n",
       "CD2_2   =   2.666664151156E-04 / Linear projection matrix                       \n",
       "FGROUPNO=                    1 / SCAMP field group label                        \n",
       "ASTIRMS1=   0.000000000000E+00 / Astrom. dispersion RMS (intern., high S/N)     \n",
       "ASTIRMS2=   0.000000000000E+00 / Astrom. dispersion RMS (intern., high S/N)     \n",
       "ASTRRMS1=   0.000000000000E+00 / Astrom. dispersion RMS (ref., high S/N)        \n",
       "ASTRRMS2=   0.000000000000E+00 / Astrom. dispersion RMS (ref., high S/N)        \n",
       "ASTINST =                    1 / SCAMP astrometric instrument label             \n",
       "FLXSCALE=   0.000000000000E+00 / SCAMP relative flux scale                      \n",
       "MAGZEROP=           0.00000000 / SCAMP zero-point                               \n",
       "PHOTIRMS=           0.00000000 / mag dispersion RMS (internal, high S/N)        \n",
       "PHOTINST=                    1 / SCAMP photometric instrument label             \n",
       "PHOTLINK=                    F / True if linked to a photometric field          "
      ]
     },
     "execution_count": 58,
     "metadata": {},
     "output_type": "execute_result"
    }
   ],
   "source": [
    "# check header output after SCAMP work (need to load header from txt (.head) file)\n",
    "fileobj = open('temp/GRB130427_R60_001_001.head')\n",
    "hdr = fits.Header.fromtextfile(fileobj)\n",
    "hdr"
   ]
  },
  {
   "cell_type": "markdown",
   "metadata": {},
   "source": [
    "## 3) Swarp"
   ]
  },
  {
   "cell_type": "code",
   "execution_count": 46,
   "metadata": {
    "collapsed": false
   },
   "outputs": [
    {
     "data": {
      "text/plain": [
       "'/home/ser/Dev/astro_engine/spark_pipeline/spark_pipeline_test_1/temp'"
      ]
     },
     "execution_count": 46,
     "metadata": {},
     "output_type": "execute_result"
    }
   ],
   "source": [
    "files['image']\n",
    "paths['temp']"
   ]
  },
  {
   "cell_type": "code",
   "execution_count": 157,
   "metadata": {
    "collapsed": false
   },
   "outputs": [
    {
     "data": {
      "text/plain": [
       "'temp/GRB130427_R60_001_001.fit temp/GRB130427_R60_001_002.fit temp/GRB130427_R60_001_003.fit'"
      ]
     },
     "execution_count": 157,
     "metadata": {},
     "output_type": "execute_result"
    }
   ],
   "source": [
    "coadd_fits_name = 'coadded.fits'\n",
    "coadd_fits_filename = os.path.join(paths['temp'], coadd_fits_name)\n",
    "swarp_kwargs_1 = {\n",
    "    'config': {\n",
    "        #'WEIGHT_TYPE': 'MAP_WEIGHT',\n",
    "        #'WEIGHT_SUFFIX': '.wtmap.fits',\n",
    "        'IMAGEOUT_NAME': coadd_fits_filename,\n",
    "        'WEIGHTOUT_NAME': coadd_fits_filename.replace('.fits','.wtmap.fits'),\n",
    "    }\n",
    "    }\n",
    "\n",
    "swarp_kwargs_1['code'] = 'SWarp'\n",
    "swarp_kwargs_1['config_file'] = os.path.join(paths['config'], 'default.swarp')\n",
    "fits_to_coadd = ' '.join(['temp/GRB130427_R60_001_00%d.fit' % n for n in xrange(1,4)])\n",
    "fits_to_coadd"
   ]
  },
  {
   "cell_type": "code",
   "execution_count": 158,
   "metadata": {
    "collapsed": false
   },
   "outputs": [],
   "source": [
    "swarp = aw.api.Astromatic(**swarp_kwargs_1)"
   ]
  },
  {
   "cell_type": "code",
   "execution_count": 159,
   "metadata": {
    "collapsed": false
   },
   "outputs": [
    {
     "name": "stdout",
     "output_type": "stream",
     "text": [
      "swarp temp/GRB130427_R60_001_001.fit temp/GRB130427_R60_001_002.fit temp/GRB130427_R60_001_003.fit -c /home/ser/Dev/astro_engine/spark_pipeline/spark_pipeline_test_1/config/default.swarp -WEIGHTOUT_NAME /home/ser/Dev/astro_engine/spark_pipeline/spark_pipeline_test_1/temp/coadded.wtmap.fits -IMAGEOUT_NAME /home/ser/Dev/astro_engine/spark_pipeline/spark_pipeline_test_1/temp/coadded.fits\n"
     ]
    }
   ],
   "source": [
    "this_cmd, kwargs2 = swarp.build_cmd(fits_to_coadd, **swarp_kwargs_1)\n",
    "print this_cmd"
   ]
  },
  {
   "cell_type": "code",
   "execution_count": 92,
   "metadata": {
    "collapsed": false
   },
   "outputs": [
    {
     "data": {
      "text/plain": [
       "{'status': 'success'}"
      ]
     },
     "execution_count": 92,
     "metadata": {},
     "output_type": "execute_result"
    }
   ],
   "source": [
    "swarp.run('temp/GRB130427_R60_001_001.fit')"
   ]
  },
  {
   "cell_type": "markdown",
   "metadata": {},
   "source": [
    "### At now we have to check functions above on several images."
   ]
  },
  {
   "cell_type": "raw",
   "metadata": {},
   "source": [
    "Input: set of images, paths\n",
    "Output: coadded image"
   ]
  },
  {
   "cell_type": "code",
   "execution_count": 24,
   "metadata": {
    "collapsed": false
   },
   "outputs": [],
   "source": [
    "# function returns list of filenames with specified format in directory\n",
    "def get_fits_images_from_dir(directory, files_format='fits', exact_pattern=True):\n",
    "    regex_end = '$' if exact_pattern else ''\n",
    "    files_format += regex_end\n",
    "    return [f for f in os.listdir(directory) if os.path.isfile(os.path.join(directory, f)) and re.search(files_format, f, re.IGNORECASE) is not None]"
   ]
  },
  {
   "cell_type": "code",
   "execution_count": 68,
   "metadata": {
    "collapsed": true
   },
   "outputs": [],
   "source": [
    "# by defualt, we search for images in paths['images']\n",
    "def pipeline_1(paths):\n",
    "    print \"prepare...\"\n",
    "    # prepare\n",
    "    fits_format = 'fit'\n",
    "    filenames = sorted(get_fits_images_from_dir(paths['images'], files_format=fits_format))\n",
    "    exposures = []\n",
    "    for filename in filenames:\n",
    "        exposures.append({'image': os.path.join(paths['images'], filename)})\n",
    "    # STEP 1: basic extraction with SExtractor (generate catalogs) for each image\n",
    "    catalog_names = []\n",
    "    print 'begin SExtractor execution'\n",
    "    for files in exposures:\n",
    "        print files['image'] + ':'\n",
    "        # Create names for the output catalogs for each image (in temp dir)\n",
    "        catalog_names.append(os.path.join(paths['temp'],\n",
    "            os.path.basename(files['image']).replace('.'+fits_format, '.cat')))\n",
    "        # set params for sextractor execution\n",
    "        sex_kwargs_1 = {'code': 'SExtractor'}\n",
    "        sex_kwargs_1['config_file'] = os.path.join(paths['config'], 'default.sex')\n",
    "        sex_kwargs_1['config'] = {'CATALOG_NAME': catalog_names[-1]}\n",
    "        sex_kwargs_1['config']['CATALOG_TYPE'] = 'FITS_LDAC'\n",
    "        sex_kwargs_1['config']['FILTER'] = 'N'\n",
    "        sex_kwargs_1['temp_path'] = paths['temp']\n",
    "        sex_kwargs_1['params'] = ['NUMBER', 'EXT_NUMBER', 'XWIN_IMAGE', 'YWIN_IMAGE', 'AWIN_IMAGE', 'BWIN_IMAGE',\n",
    "                                  'ERRAWIN_IMAGE','ERRBWIN_IMAGE', 'ERRTHETAWIN_IMAGE', 'ERRA_WORLD', 'ERRB_WORLD', \n",
    "                                  'ERRTHETA_WORLD', 'X_WORLD', 'Y_WORLD', 'XWIN_WORLD', 'YWIN_WORLD', \n",
    "                                  'FLUX_AUTO', 'FLUX_MAX', 'MAG_AUTO', 'FLUXERR_AUTO', \n",
    "                                  'FLAGS', 'FLUX_RADIUS', 'ELONGATION']\n",
    "        sextractor = aw.api.Astromatic(**sex_kwargs_1)\n",
    "        print sextractor.run(files['image'])\n",
    "    print 'all catalogs successfully created'\n",
    "    \n",
    "    # STEP 2: compute solution for extracted catalogs\n",
    "    print 'SCAMP now working...'\n",
    "    scamp_kwargs_1 = {\n",
    "        'config': {\n",
    "            'ASTREF_CATALOG': 'USNO-B1',\n",
    "            'ASTREF_BAND': 'DEFAULT',\n",
    "            'SOLVE_PHOTOM': 'N',\n",
    "            'CHECKPLOT_DEV': 'NULL'\n",
    "            }\n",
    "    }\n",
    "    scamp_kwargs_1['code'] = 'SCAMP'\n",
    "    scamp_kwargs_1['config_file'] = os.path.join(paths['config'], 'default.scamp')\n",
    "    scamp = aw.api.Astromatic(**scamp_kwargs_1)\n",
    "    this_cmd, kwargs2 = scamp.build_cmd(catalog_names, **scamp_kwargs_1)\n",
    "    #print this_cmd\n",
    "    print scamp.run(catalog_names)\n",
    "    \n",
    "    print 'SWarp now working...'\n",
    "    # STEP 3: use SWarp for coadd images using .head files, computed with SCAMP\n",
    "    coadd_fits_name = 'coadded.fits'\n",
    "    coadd_fits_filename = os.path.join(paths['temp'], coadd_fits_name)\n",
    "    swarp_kwargs_1 = {\n",
    "        'config': {\n",
    "            'IMAGEOUT_NAME': coadd_fits_filename,\n",
    "            'WEIGHTOUT_NAME': coadd_fits_filename.replace('.fits','.wtmap.fits'),\n",
    "        }\n",
    "        }\n",
    "    swarp_kwargs_1['code'] = 'SWarp'\n",
    "    swarp_kwargs_1['config_file'] = os.path.join(paths['config'], 'default.swarp')\n",
    "    swarp = aw.api.Astromatic(**swarp_kwargs_1)\n",
    "    this_cmd, kwargs2 = swarp.build_cmd([exp['image'] for exp in exposures], **swarp_kwargs_1)\n",
    "    #print this_cmd\n",
    "    print swarp.run([exp['image'] for exp in exposures])\n",
    "    return\n",
    "    # STEP 4: extract object from coadded image using PSF\n",
    "    print 'SExtractor now working...'\n",
    "    coadd_weight_map = coadd_fits_filename.replace('.fits','.wtmap.fits')\n",
    "    sex_kwargs_2 = {\n",
    "            'config': {\n",
    "                'CATALOG_NAME': coadd_fits_filename.replace('.fits', '.cat'),\n",
    "                'CATALOG_TYPE': 'FITS_LDAC',\n",
    "                'FILTER': 'N',\n",
    "                'WEIGHT_IMAGE': coadd_weight_map,\n",
    "                'WEIGHT_TYPE': 'MAP_WEIGHT',        \n",
    "            },\n",
    "            'params': ['NUMBER', 'EXT_NUMBER', 'XWIN_IMAGE', 'YWIN_IMAGE', 'ERRAWIN_IMAGE',\n",
    "                'ERRBWIN_IMAGE', 'ERRTHETAWIN_IMAGE', 'XWIN_WORLD', 'YWIN_WORLD', 'FLUX_APER(1)',\n",
    "                'FLUXERR_APER(1)', 'FLAGS', 'FLAGS_WEIGHT', 'FLUX_RADIUS',\n",
    "                'ELONGATION', 'VIGNET(20,20)', 'SNR_WIN']\n",
    "        }\n",
    "    sex_kwargs_2['code'] = 'SExtractor'\n",
    "    sex_kwargs_2['config_file'] = os.path.join(paths['config'], 'default.sex')\n",
    "    sex_kwargs_2['temp_path'] = paths['temp']\n",
    "    sextractor = aw.api.Astromatic(**sex_kwargs_2)\n",
    "    print sextractor.run(coadd_fits_filename)\n",
    "    \n",
    "    # Calculate PSF\n",
    "    print 'PSFex now working...'\n",
    "    psf_kwargs_1 = {\n",
    "        'config': {\n",
    "            'CENTER_KEYS': 'XWIN_IMAGE,YWIN_IMAGE',\n",
    "            'PSFVAR_KEYS': 'XWIN_IMAGE,YWIN_IMAGE',\n",
    "            'CHECKPLOT_DEV': 'NULL',\n",
    "            'PSF_SUFFIX': '.psf'\n",
    "        }\n",
    "    }\n",
    "    psf_kwargs_1['code'] = 'PSFEx'\n",
    "    psf_kwargs_1['config_file'] = os.path.join(paths['config'], 'default.psfex')\n",
    "    psf_kwargs_1['temp_path'] = paths['temp']\n",
    "    psfex = aw.api.Astromatic(**psf_kwargs_1)\n",
    "    print psfex.run(coadd_fits_filename.replace('.fits', '.cat'))\n",
    "    \n",
    "    # Calculate PSF photometry for coadded image\n",
    "    print 'SExtractor now working...'\n",
    "    output_cat_name = 'result.ldac.fits'\n",
    "    catalog_name = os.path.join(paths['catalogs'], output_cat_name)\n",
    "    sex_kwargs_3 = {\n",
    "            'config': {\n",
    "                'PSF_NAME': os.path.join(coadd_fits_filename.replace('.fits', '.psf')),\n",
    "                'CATALOG_TYPE': 'FITS_LDAC',\n",
    "                'FILTER': 'N',\n",
    "                'CATALOG_NAME': catalog_name,\n",
    "                'WEIGHT_IMAGE': coadd_weight_map,\n",
    "                'WEIGHT_TYPE': 'MAP_WEIGHT',\n",
    "            },\n",
    "            'params': ['NUMBER', 'EXT_NUMBER', 'XWIN_IMAGE', 'YWIN_IMAGE', 'ERRAWIN_IMAGE',\n",
    "                'ERRBWIN_IMAGE', 'ERRTHETAWIN_IMAGE', 'XWIN_WORLD', 'YWIN_WORLD', 'FLUX_AUTO',\n",
    "                'FLUXERR_AUTO', 'FLAGS', 'FLAGS_WEIGHT', 'FLUX_RADIUS',\n",
    "                'ELONGATION', 'MAG_AUTO', 'MAGERR_AUTO', 'ALPHAPSF_SKY', 'DELTAPSF_SKY',\n",
    "                'ERRX2PSF_WORLD','ERRY2PSF_WORLD', 'FLUX_PSF', 'FLUXERR_PSF', 'MAG_PSF', 'MAGERR_PSF']\n",
    "        }\n",
    "    sex_kwargs_3['code'] = 'SExtractor'\n",
    "    sex_kwargs_3['config_file'] = os.path.join(paths['config'], 'default.sex')\n",
    "    sex_kwargs_3['temp_path'] = paths['temp']\n",
    "    sextractor = aw.api.Astromatic(**sex_kwargs_3)\n",
    "    print sextractor.run(coadd_fits_filename)\n",
    "    return catalog_name"
   ]
  },
  {
   "cell_type": "code",
   "execution_count": 70,
   "metadata": {
    "collapsed": false
   },
   "outputs": [
    {
     "name": "stdout",
     "output_type": "stream",
     "text": [
      "prepare...\n",
      "begin SExtractor execution\n",
      "/home/ser/Dev/astro_engine/spark_pipeline/spark_pipeline_test_1/images/GRB130427_R60_001_001.fit:\n",
      "{'status': 'success'}\n",
      "/home/ser/Dev/astro_engine/spark_pipeline/spark_pipeline_test_1/images/GRB130427_R60_001_002.fit:\n",
      "{'status': 'success'}\n",
      "all catalogs successfully created\n",
      "SCAMP now working...\n",
      "{'status': 'success'}\n",
      "SWarp now working...\n",
      "{'status': 'success'}\n"
     ]
    }
   ],
   "source": [
    "catalog_name = pipeline_1(paths)\n",
    "#catalog = aw.utils.ldac.get_table_from_ldac(catalog_name)\n",
    "#catalog"
   ]
  },
  {
   "cell_type": "code",
   "execution_count": null,
   "metadata": {
    "collapsed": true
   },
   "outputs": [],
   "source": []
  },
  {
   "cell_type": "markdown",
   "metadata": {},
   "source": [
    "## Test pipeline components"
   ]
  },
  {
   "cell_type": "code",
   "execution_count": 29,
   "metadata": {
    "collapsed": true
   },
   "outputs": [],
   "source": [
    "def build_pipeline(pipeline, exposures, ref_catalog='IKI', ref_band='DEFAULT',\n",
    "        stack_name = 'test_stack.fits', output_cat_name='test_psf.ldac.fits'):\n",
    "    # Generate catalogs from sextractor\n",
    "    catalog_names = []\n",
    "    for files in exposures:\n",
    "        # Create names for the output catalogs for each image\n",
    "        catalog_names.append(os.path.join(pipeline.paths['temp'],\n",
    "            os.path.basename(files['image']).replace('.fit', '.cat')))\n",
    "        kwargs = {\n",
    "            # image to SExtract\n",
    "            'files': files,\n",
    "            # Arguments to initialize Astromatic class\n",
    "            'api_kwargs': {\n",
    "                # Configuration parameters\n",
    "                'config': {\n",
    "                    'CATALOG_NAME': catalog_names[-1],\n",
    "                    'CATALOG_TYPE': 'FITS_LDAC',\n",
    "                    'FILTER': 'N',\n",
    "                    #'WEIGHT_TYPE': 'MAP_WEIGHT',\n",
    "                },\n",
    "                # Output parameters\n",
    "                'params': ['NUMBER', 'EXT_NUMBER', 'XWIN_IMAGE', 'YWIN_IMAGE', 'ERRAWIN_IMAGE',\n",
    "                    'ERRBWIN_IMAGE', 'ERRTHETAWIN_IMAGE', 'XWIN_WORLD', 'YWIN_WORLD', 'FLUX_AUTO',\n",
    "                    'FLUXERR_AUTO', 'IMAFLAGS_ISO', 'FLAGS', 'FLAGS_WEIGHT', 'FLUX_RADIUS',\n",
    "                    'ELONGATION'],\n",
    "            },\n",
    "        }\n",
    "        # Add the step to the pipeline\n",
    "        pipeline.add_step(aw.api.run_sex, ['step1', 'SExtractor'], **kwargs)\n",
    "\n",
    "    # Use SCAMP to get astrometric solutions\n",
    "    kwargs = {\n",
    "        'catalogs': catalog_names,\n",
    "        'api_kwargs': {\n",
    "            'config': {\n",
    "                'ASTREF_CATALOG': ref_catalog,\n",
    "                'ASTREF_BAND': ref_band,\n",
    "                'SOLVE_PHOTOM': 'N',\n",
    "                'CHECKPLOT_DEV': 'NULL'\n",
    "            },\n",
    "        }\n",
    "    }\n",
    "    pipeline.add_step(aw.api.run_scamp, ['step2', 'SCAMP'],**kwargs)\n",
    "\n",
    "    # Resample (rotate and scale) and combine (stack) images using SWarp\n",
    "    stack_filename = os.path.join(pipeline.paths['temp'], stack_name)\n",
    "    kwargs = {\n",
    "        'filenames': [exp['image'] for exp in exposures],\n",
    "        'api_kwargs': {\n",
    "            'config': {\n",
    "                'WEIGHT_TYPE': 'MAP_WEIGHT',\n",
    "                'WEIGHT_SUFFIX': '.wtmap.fits',\n",
    "                'IMAGEOUT_NAME': stack_filename,\n",
    "                'WEIGHTOUT_NAME': stack_filename.replace('.fits','.wtmap.fits'),\n",
    "            },\n",
    "        }\n",
    "    }\n",
    "    pipeline.add_step(aw.api.run_swarp, ['step3', 'SWarp'], **kwargs)\n",
    "\n",
    "    # Get positions in stack for PSF photometry (SExtractor -> PSFex -> SExtractor)\n",
    "    kwargs = {\n",
    "        'files': {\n",
    "            'image': stack_filename,\n",
    "            'wtmap': stack_filename.replace('.fits', '.wtmap.fits')\n",
    "        },\n",
    "        'api_kwargs': {\n",
    "            'config': {\n",
    "                'CATALOG_TYPE': 'FITS_LDAC',\n",
    "                'FILTER': 'N',\n",
    "                'WEIGHT_TYPE': 'MAP_WEIGHT',\n",
    "            },\n",
    "            'params': ['NUMBER', 'EXT_NUMBER', 'XWIN_IMAGE', 'YWIN_IMAGE', 'ERRAWIN_IMAGE',\n",
    "                'ERRBWIN_IMAGE', 'ERRTHETAWIN_IMAGE', 'XWIN_WORLD', 'YWIN_WORLD', 'FLUX_APER(1)',\n",
    "                'FLUXERR_APER(1)', 'FLAGS', 'FLAGS_WEIGHT', 'FLUX_RADIUS',\n",
    "                'ELONGATION', 'VIGNET(20,20)', 'SNR_WIN'],\n",
    "        }\n",
    "    }\n",
    "    pipeline.add_step(aw.api.run_sex, ['step4', 'SExtractor'], **kwargs)\n",
    "\n",
    "    # Calculate PSF\n",
    "    kwargs = {\n",
    "        'catalogs': stack_filename.replace('.fits', '.cat'),\n",
    "        'api_kwargs': {\n",
    "            'config': {\n",
    "                'CENTER_KEYS': 'XWIN_IMAGE,YWIN_IMAGE',\n",
    "                'PSFVAR_KEYS': 'XWIN_IMAGE,YWIN_IMAGE',\n",
    "                'CHECKPLOT_DEV': 'NULL',\n",
    "                'PSF_SUFFIX': '.psf'\n",
    "            }\n",
    "        }\n",
    "    }\n",
    "    pipeline.add_step(aw.api.run_psfex, ['step5', 'PSFEx'], **kwargs)\n",
    "\n",
    "    # Calculate PSF photometry for coadded image\n",
    "    catalog_name = os.path.join(pipeline.paths['catalogs'], output_cat_name)\n",
    "    kwargs = {\n",
    "        'files': {\n",
    "            'image': stack_filename,\n",
    "            'wtmap': stack_filename.replace('.fits', '.wtmap.fits')\n",
    "        },\n",
    "        'api_kwargs': {\n",
    "            'config': {\n",
    "                'PSF_NAME': os.path.join(stack_filename.replace('.fits', '.psf')),\n",
    "                'CATALOG_TYPE': 'FITS_LDAC',\n",
    "                'FILTER': 'N',\n",
    "                'CATALOG_NAME': catalog_name,\n",
    "                'WEIGHT_TYPE': 'MAP_WEIGHT',\n",
    "            },\n",
    "            'params': ['NUMBER', 'EXT_NUMBER', 'XWIN_IMAGE', 'YWIN_IMAGE', 'ERRAWIN_IMAGE',\n",
    "                'ERRBWIN_IMAGE', 'ERRTHETAWIN_IMAGE', 'XWIN_WORLD', 'YWIN_WORLD', 'FLUX_AUTO',\n",
    "                'FLUXERR_AUTO', 'FLAGS', 'FLAGS_WEIGHT', 'FLUX_RADIUS',\n",
    "                'ELONGATION', 'MAG_AUTO', 'MAGERR_AUTO', 'ALPHAPSF_SKY', 'DELTAPSF_SKY',\n",
    "                'ERRX2PSF_WORLD','ERRY2PSF_WORLD', 'FLUX_PSF', 'FLUXERR_PSF', 'MAG_PSF', 'MAGERR_PSF'],\n",
    "        }\n",
    "    }\n",
    "    pipeline.add_step(aw.api.run_sex, ['step6', 'SExtractor'], **kwargs)\n",
    "\n",
    "    def save_output(pipeline, old_stack, new_stack, old_cat, new_cat):\n",
    "        # Copy the final stack and catalog from the temp folder\n",
    "        import shutil\n",
    "        # Move the weight map if it exists\n",
    "        if os.path.isfile(old_stack.replace('.fits', '.wtmap.fits')):\n",
    "            shutil.move(old_stack.replace('.fits', '.wtmap.fits'), new_stack.replace('.fits', '.wtmap.fits'))\n",
    "        shutil.move(old_stack, new_stack)\n",
    "        shutil.move(old_cat, new_cat)\n",
    "        result = {\n",
    "            'status': 'success'\n",
    "        }\n",
    "        return result\n",
    "\n",
    "    kwargs = {\n",
    "        'old_stack': stack_filename,\n",
    "        'new_stack': os.path.join(pipeline.paths['stacks'], stack_name),\n",
    "        'old_cat': catalog_name,\n",
    "        'new_cat': os.path.join(pipeline.paths['catalogs'], output_cat_name)\n",
    "    }\n",
    "    pipeline.add_step(save_output, ['step7', 'save_output'], **kwargs)\n",
    "\n",
    "    return pipeline"
   ]
  }
 ],
 "metadata": {
  "anaconda-cloud": {},
  "kernelspec": {
   "display_name": "Python [conda env:iraf27]",
   "language": "python",
   "name": "conda-env-iraf27-py"
  },
  "language_info": {
   "codemirror_mode": {
    "name": "ipython",
    "version": 2
   },
   "file_extension": ".py",
   "mimetype": "text/x-python",
   "name": "python",
   "nbconvert_exporter": "python",
   "pygments_lexer": "ipython2",
   "version": "2.7.13"
  }
 },
 "nbformat": 4,
 "nbformat_minor": 1
}
