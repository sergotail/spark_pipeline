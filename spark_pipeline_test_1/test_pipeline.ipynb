{
 "cells": [
  {
   "cell_type": "markdown",
   "metadata": {},
   "source": [
    "## Prepare invironment"
   ]
  },
  {
   "cell_type": "code",
   "execution_count": 14,
   "metadata": {
    "collapsed": false
   },
   "outputs": [],
   "source": [
    "# correct flats headers\n",
    "#from functools import partial\n",
    "#p = '/home/ser/Dev/astro_engine/spark_pipeline/spark_pipeline_test_1/temp/flat'\n",
    "#f = filter_fits_by_header(input_images_names, paths['temp']+'/flat', EXPTYPE='Light')\n",
    "#change_header_apply = partial(change_header, fits_path=p, EXPTYPE=to_header_str_format('Flat'))\n",
    "#apply_to_fits(f, p, change_header_apply)"
   ]
  },
  {
   "cell_type": "code",
   "execution_count": 9,
   "metadata": {
    "collapsed": false
   },
   "outputs": [],
   "source": [
    "# take lists of each type images\n",
    "#input_images_names = sorted(get_fits_images_from_dir(os.path.join(paths['temp']), '.fts', True, True))\n",
    "#bias_list = filter_fits_by_header(input_images_names, paths['temp'], IMAGETYP='Bias')\n",
    "#dark_list = filter_fits_by_header(input_images_names, paths['temp'], IMAGETYP='Dark Frame')\n",
    "#flat_list = filter_fits_by_header(input_images_names, paths['temp'], IMAGETYP='Flat Field')\n",
    "#images_list = filter_fits_by_header(input_images_names, paths['temp'], IMAGETYP='Light Frame')"
   ]
  },
  {
   "cell_type": "code",
   "execution_count": 153,
   "metadata": {
    "collapsed": true
   },
   "outputs": [],
   "source": [
    "# superbias\n",
    "#iraf.noao.imred(_doprint=0)\n",
    "#iraf.noao.imred.ccdred(_doprint=0)\n",
    "#iraf.noao.imred.ccdred.instrument = os.path.join(paths['config'], 'instrument.dat')\n",
    "#iraf.noao.imred.ccdred.zerocombine.setParam('ccdtype', \"\")  \n",
    "#gain = fits.getheader(bias_list[0], 0)['GAIN']\n",
    "#iraf.noao.imred.ccdred.zerocombine.setParam('gain', gain) \n",
    "#bias_list_txt = os.path.join(paths['temp'], 'super', 'bias_list.txt')\n",
    "#list_to_file(bias_list, bias_list_txt)\n",
    "#superbias_filename = os.path.join(paths['temp'], 'super', 'superbias.fits')\n",
    "#iraf.noao.imred.ccdred.zerocombine(input='@' + bias_list_txt, output=superbias_filename, \n",
    "                                       #process='no', delete='no', clobber='no')"
   ]
  },
  {
   "cell_type": "code",
   "execution_count": 155,
   "metadata": {
    "collapsed": false
   },
   "outputs": [
    {
     "name": "stdout",
     "output_type": "stream",
     "text": [
      "darks exp times: [2.0, 60.0]\n",
      "filter: R\n",
      "flats exp times: []\n",
      "images exp times: [60.0]\n",
      "best darks exp time for images: {60.0: 60.0}\n",
      "best darks exp time for flats: {}\n",
      "best flats exp time for images: {}\n"
     ]
    }
   ],
   "source": [
    "# compute darks_exp_times, key:filename, value:exp_time\n",
    "darks_exp_times_dict = header_keywords_values(dark_list, keywords=['EXPTIME'])\n",
    "if 'EXPTIME' in darks_exp_times_dict.keys():\n",
    "    darks_exp_times = sorted(darks_exp_times_dict['EXPTIME'].keys())\n",
    "else:\n",
    "    darks_exp_times = []\n",
    "print 'darks exp times:', darks_exp_times\n",
    "\n",
    "# for each image filter, find best dark for flat and flat for image\n",
    "filters = ['R']\n",
    "filters_exp_times_mappings = {}\n",
    "for filter_ in filters:\n",
    "    print 'filter:', filter_\n",
    "    # filter fits with current filter\n",
    "    filter_flat_list = filter_fits_by_header(flat_list, paths['temp'], FILTER=filter_)\n",
    "    filter_images_list = filter_fits_by_header(images_list, paths['temp'], FILTER=filter_)\n",
    "    \n",
    "    # compute flats_exp_times\n",
    "    flats_exp_times_dict = header_keywords_values(filter_flat_list, keywords=['EXPTIME'])\n",
    "    if 'EXPTIME' in flats_exp_times_dict.keys():\n",
    "        flats_exp_times = sorted(flats_exp_times_dict['EXPTIME'].keys())\n",
    "    else:\n",
    "        flats_exp_times = []\n",
    "    print 'flats exp times:', flats_exp_times\n",
    "\n",
    "    # compute images_exp_times\n",
    "    images_exp_times_dict = header_keywords_values(filter_images_list, keywords=['EXPTIME'])\n",
    "    if 'EXPTIME' in images_exp_times_dict.keys():\n",
    "        images_exp_times = sorted(images_exp_times_dict['EXPTIME'].keys())\n",
    "    else:\n",
    "        images_exp_times = []\n",
    "    print 'images exp times:', images_exp_times\n",
    "\n",
    "    # search for best dark_exp_times for images\n",
    "    images_darks_exp_times = best_exp_time(images_exp_times, darks_exp_times)\n",
    "    print \"best darks exp time for images:\", images_darks_exp_times\n",
    "\n",
    "    # search for best dark_exp_times for flats\n",
    "    flat_darks_exp_times = best_exp_time(flats_exp_times, darks_exp_times)\n",
    "    print \"best darks exp time for flats:\", flat_darks_exp_times\n",
    "\n",
    "    # search for best flat_exp_times for images\n",
    "    images_flats_exp_times = best_exp_time(images_exp_times, flats_exp_times)\n",
    "    print \"best flats exp time for images:\", images_flats_exp_times\n",
    "    \n",
    "    filters_exp_times_mappings[filter_] = {'images-dark': images_darks_exp_times, \n",
    "                                           'flat-dark': flat_darks_exp_times,\n",
    "                                           'images-flat': images_flats_exp_times}"
   ]
  },
  {
   "cell_type": "code",
   "execution_count": 156,
   "metadata": {
    "collapsed": false
   },
   "outputs": [
    {
     "data": {
      "text/plain": [
       "{'R': {'flat-dark': {}, 'images-dark': {60.0: 60.0}, 'images-flat': {}}}"
      ]
     },
     "execution_count": 156,
     "metadata": {},
     "output_type": "execute_result"
    }
   ],
   "source": [
    "filters_exp_times_mappings"
   ]
  },
  {
   "cell_type": "code",
   "execution_count": 178,
   "metadata": {
    "collapsed": false
   },
   "outputs": [
    {
     "name": "stderr",
     "output_type": "stream",
     "text": [
      "/home/ser/Dev/astro_engine/spark_pipeline/spark_pipeline_test_1/temp/super/superdark_R_images_60.fits is not an image or a number\n"
     ]
    },
    {
     "name": "stdout",
     "output_type": "stream",
     "text": [
      "filter: R\n",
      "use dark with exp_time 60.0 for images with exp_time 60.0 coeff = 1.000000\n",
      "don't use flat for images for this filter\n",
      "don't use dark for flat for this filter\n"
     ]
    }
   ],
   "source": [
    "# when we know which dark needed for which flat and which image, so compute all needed darks\n",
    "exp_times_superdarks = {}\n",
    "for filter_, mapps in filters_exp_times_mappings.iteritems():\n",
    "    for mapp, vals in mapps.iteritems():\n",
    "        for_, by_ = mapp.split('-')[0], mapp.split('-')[1]\n",
    "        if vals and by_ == 'dark':\n",
    "            for k, v in vals.iteritems():\n",
    "                superdark_filename = os.path.join(paths['temp'], 'super',\n",
    "                                                  'superdark_%s_%s_%d.fits' % (filter_, for_, k))\n",
    "                input_darks_list = darks_exp_times_dict['EXPTIME'][v]\n",
    "                scale_coeff = float(k) / float(v)\n",
    "                iraf.noao.imred(_doprint=0)\n",
    "                iraf.noao.imred.ccdred(_doprint=0)\n",
    "                iraf.noao.imred.ccdred.instrument = os.path.join(paths['config'], 'instrument.dat')\n",
    "                iraf.noao.imred.ccdred.darkcombine.setParam('ccdtype', \"\")  \n",
    "                gain = fits.getheader(input_darks_list[0], 0)['GAIN']\n",
    "                iraf.noao.imred.ccdred.darkcombine.setParam('gain', gain)\n",
    "                iraf.noao.imred.ccdred.darkcombine.setParam('scale', 'exposure')\n",
    "                iraf.noao.imred.ccdred.darkcombine.setParam('combine', 'median')\n",
    "                iraf.noao.imred.ccdred.darkcombine.setParam('process', 'no')\n",
    "                dark_list_txt = os.path.join(paths['temp'], 'super', 'dark_list.txt')\n",
    "                list_to_file(input_darks_list, dark_list_txt)\n",
    "                iraf.noao.imred.ccdred.darkcombine(input='@' + dark_list_txt, output=superdark_filename)\n",
    "                # TODO: subtract superbias\n",
    "                \n",
    "                #iraf.module.imarith.lParam()\n",
    "                sub_1 = 'temp/super/superdark.txt'\n",
    "                sub_2 = 'temp/super/superbias.txt'\n",
    "                list_to_file([superdark_filename], sub_1)\n",
    "                list_to_file([superbias_filename], sub_2)\n",
    "                iraf.module.imarith('@'+sub_1, '-', '@'+sub_2, 'res.fits')\n",
    "                \n",
    "# \n",
    "for filter_, mapps in filters_exp_times_mappings.iteritems():\n",
    "    print 'filter:', filter_\n",
    "    for mapp, vals in mapps.iteritems():\n",
    "        for_, by_ = mapp.split('-')[0], mapp.split('-')[1]\n",
    "        if not vals:\n",
    "            print 'don\\'t use', by_, 'for', for_, 'for this filter'\n",
    "        else:\n",
    "            for k, v in vals.iteritems():\n",
    "                coef_str = 'coeff = %f' %(float(k)/float(v)) if by_ == 'dark' else ''\n",
    "                print 'use', by_, 'with exp_time', v, 'for', for_, 'with exp_time', k, coef_str"
   ]
  },
  {
   "cell_type": "code",
   "execution_count": 102,
   "metadata": {
    "collapsed": false
   },
   "outputs": [
    {
     "data": {
      "text/plain": [
       "{2.0: 12, 60.0: 60}"
      ]
     },
     "execution_count": 102,
     "metadata": {},
     "output_type": "execute_result"
    }
   ],
   "source": [
    "# compute superdark for each flat exp_times"
   ]
  },
  {
   "cell_type": "code",
   "execution_count": 101,
   "metadata": {
    "collapsed": true
   },
   "outputs": [],
   "source": [
    "def best_exp_time(exp_list_for, exp_list_by):\n",
    "    res = {}\n",
    "    if not exp_list_by or not exp_list_for:\n",
    "        return res\n",
    "    for iet in exp_list_for:\n",
    "        min_diff = abs(exp_list_by[0] - iet)\n",
    "        best_det = exp_list_by[0]\n",
    "        for det in exp_list_by:\n",
    "            diff = abs(det - iet)\n",
    "            if diff < min_diff:\n",
    "                best_det = det\n",
    "                min_diff = diff\n",
    "        res[iet] = best_det\n",
    "    return res"
   ]
  },
  {
   "cell_type": "markdown",
   "metadata": {},
   "source": [
    "<h2>Pipeline (local version)</h2>"
   ]
  },
  {
   "cell_type": "markdown",
   "metadata": {},
   "source": [
    "<h3>Import all needed packages</h3>"
   ]
  },
  {
   "cell_type": "code",
   "execution_count": 1,
   "metadata": {
    "collapsed": false
   },
   "outputs": [],
   "source": [
    "import os\n",
    "import datetime\n",
    "import copy\n",
    "import astromatic_wrapper as aw #TODO: install aw to itaf virtual env\n",
    "from astropy.io import fits\n",
    "import pyraf\n",
    "from pyraf import iraf\n",
    "import sys\n",
    "sys.path.insert(0, '/home/ser/Dev/astro_engine/code')\n",
    "from astro_utils import AEDirsTreeConfigurer, AEJsonConfigLoader\n",
    "from fits_utils import *"
   ]
  },
  {
   "cell_type": "markdown",
   "metadata": {},
   "source": [
    "<h3>Define pipeline parameters</h3>"
   ]
  },
  {
   "cell_type": "code",
   "execution_count": 6,
   "metadata": {
    "collapsed": true
   },
   "outputs": [],
   "source": [
    "#EXPTYPE - FITS header keywords for type of frame\n",
    "#Bias - bias\n",
    "#Dark - dark\n",
    "#Light - flat"
   ]
  },
  {
   "cell_type": "code",
   "execution_count": 7,
   "metadata": {
    "collapsed": false
   },
   "outputs": [
    {
     "name": "stdout",
     "output_type": "stream",
     "text": [
      "2.2.dev\n"
     ]
    }
   ],
   "source": [
    "#print(pyraf.__version__)\n",
    "#iraf.pwd()\n",
    "#from pyraf import irafinst\n",
    "#irafinst.getIrafVer()\n",
    "\n",
    "#iraf.files(bias_list)\n",
    "\n",
    "#iraf.images(_doprint=0) # load images\n",
    "#iraf.imutil(_doprint=0) # load imutil\n",
    "#iraf.imheader.setParam('longheader', 'yes')\n",
    "#iraf.imheader(bias_list[0])"
   ]
  },
  {
   "cell_type": "code",
   "execution_count": 2,
   "metadata": {
    "collapsed": false
   },
   "outputs": [],
   "source": [
    "def list_to_file(list_, filename, sep='\\n'):\n",
    "    with open(filename, 'w') as fid:\n",
    "        for item in list_:\n",
    "            fid.write('%s%s' % (str(item), sep))\n",
    "\n",
    "def to_list(something):\n",
    "    return something if isinstance(something, list) else [something]\n",
    "\n",
    "def filter_fits_by_header(fits_filenames, fits_path=None, match_any=False, ignore_case=True,\n",
    "                          ignore_edge_spaces=True, hdu_num=0, **kwargs):\n",
    "    iffs = [os.path.join(fits_path, os.path.basename(iff)) if fits_path is not None else iff\\\n",
    "            for iff in to_list(fits_filenames)]\n",
    "    res = []\n",
    "    for iff in iffs:\n",
    "        fits_file_header = fits.getheader(iff, hdu_num)\n",
    "        keywords_match = 0\n",
    "        for keyword, value in kwargs.iteritems():\n",
    "            if keyword in fits_file_header:\n",
    "                header_val = str(fits_file_header[keyword]).strip() if ignore_edge_spaces \\\n",
    "                else str(fits_file_header[keyword])\n",
    "                header_val = header_val.lower() if ignore_case else header_val\n",
    "                kwargs_val = str(value).strip() if ignore_edge_spaces else str(value)\n",
    "                kwargs_val = kwargs_val.lower() if ignore_case else kwargs_val\n",
    "                if header_val == kwargs_val:\n",
    "                    keywords_match += 1\n",
    "                    if match_any:\n",
    "                        break\n",
    "        if (keywords_match and match_any) or (keywords_match == len(kwargs)):\n",
    "            res.append(iff)\n",
    "    return res\n",
    "\n",
    "def header_keywords_values(fits_filenames, fits_path=None, keywords=['SIMPLE'], keys_keywords=True, lower_case=True,\n",
    "                           split_edge_spaces=True, hdu_num=0):\n",
    "    iffs = [os.path.join(fits_path, os.path.basename(iff)) if fits_path is not None else iff \\\n",
    "            for iff in to_list(fits_filenames)]\n",
    "    kws = to_list(keywords)\n",
    "    res = {}\n",
    "    for iff in iffs:\n",
    "        fits_file_header = fits.getheader(iff, hdu_num)\n",
    "        if keys_keywords:\n",
    "            for keyword in kws:\n",
    "                if keyword not in res.keys():\n",
    "                    res[keyword] = {}\n",
    "                if keyword in fits_file_header:\n",
    "                    val = fits_file_header[keyword]\n",
    "                    if val not in res[keyword].keys():\n",
    "                        res[keyword][val] = []\n",
    "                    res[keyword][val].append(iff)\n",
    "        else:   \n",
    "            for keyword in kws:\n",
    "                if keyword in fits_file_header:\n",
    "                    res[iff] = {keyword: fits_file_header[keyword]}\n",
    "                else:\n",
    "                    res[iff] = {keyword: None}\n",
    "    return res\n",
    "\n",
    "def change_header(fits_filename, fits_path=None, new_path=None, clobber=True, **kwargs):\n",
    "    iff = os.path.join(fits_path, os.path.basename(fits_filename)) if fits_path is not None else fits_filename\n",
    "    data, header = fits.getdata(iff, header=True)\n",
    "    for keyword, value in kwargs.iteritems():\n",
    "        if value is None:\n",
    "            header.remove(keyword, True, True)\n",
    "        else:\n",
    "            header[keyword] = value\n",
    "    if new_path is None:\n",
    "        new_path = os.path.dirname(iff)\n",
    "    iff = os.path.join(new_path, os.path.basename(iff))\n",
    "    fits.writeto(iff, data, header, clobber=clobber)\n",
    "    return iff\n",
    "\n",
    "def fits_ImageHDU_from_file(filename, mode='denywrite', lazy_load_hdus=False):\n",
    "    f = fits.open(filename, mode='denywrite', lazy_load_hdus=False)\n",
    "    fits_image = fits.ImageHDU(data=f[0].data, header=f[0].header)\n",
    "    f.close()\n",
    "    return fits_image\n",
    "\n",
    "def to_header_str_format(str_value, length=8):\n",
    "    return str_value.strip().ljust(length)\n",
    "\n",
    "def apply_to_fits(fits_filenames, fits_path=None, func=None):\n",
    "    iffs = [os.path.join(fits_path, os.path.basename(iff)) if fits_path is not None else iff \\\n",
    "            for iff in to_list(fits_filenames)]\n",
    "    if not func:\n",
    "        return iffs\n",
    "    res = []\n",
    "    for iff in iffs:\n",
    "        res.append(func(iff))\n",
    "    return res\n",
    "\n",
    "def images_stat(images, fields='mode,mean', return_dict=True, stdout=1, stderr=2):\n",
    "    iraf.images(_doprint=0)\n",
    "    if return_dict:\n",
    "        iraf.images.imstat.setParam('format', 'no')\n",
    "        #iraf.images.imstat.setParam('')\n",
    "    iraf.images.imstat.setParam('fields', fields)\n",
    "    images = images if isinstance(images, list) else [images]\n",
    "    res = []\n",
    "    for image in images:\n",
    "        res.append(iraf.imstat(image, Stdout=stdout, Stderr=stderr))\n",
    "    return res"
   ]
  },
  {
   "cell_type": "markdown",
   "metadata": {},
   "source": [
    "gain_for_raw_images = 0.16400855506412962"
   ]
  },
  {
   "cell_type": "markdown",
   "metadata": {},
   "source": [
    "gain_for_basic_reduced_images = 0.14559281953978367"
   ]
  },
  {
   "cell_type": "code",
   "execution_count": 809,
   "metadata": {
    "collapsed": true
   },
   "outputs": [],
   "source": [
    "# take lists of each type images\n",
    "#input_images_names = sorted(get_fits_images_from_dir(os.path.join(paths['temp']), '.fts', True, True))\n",
    "#bias_list = filter_fits_by_header(input_images_names, paths['temp'], IMAGETYP='Bias')\n",
    "#dark_list = filter_fits_by_header(input_images_names, paths['temp'], IMAGETYP='Dark Frame')\n",
    "#flat_list = filter_fits_by_header(input_images_names, paths['temp'], IMAGETYP='Flat Field')\n",
    "#images_list = filter_fits_by_header(input_images_names, paths['temp'], IMAGETYP='Light Frame')"
   ]
  },
  {
   "cell_type": "code",
   "execution_count": 56,
   "metadata": {
    "collapsed": false
   },
   "outputs": [],
   "source": [
    "#from functools import partial\n",
    "#gain_for_basic_reduced_images = 0.14559281953978367\n",
    "#part_c_h = partial(change_header, GAIN=gain_for_basic_reduced_images)\n",
    "#apply_to_fits(images_list, func=part_c_h)"
   ]
  },
  {
   "cell_type": "code",
   "execution_count": 62,
   "metadata": {
    "collapsed": false
   },
   "outputs": [],
   "source": [
    "# PROCESS HEADERS\n",
    "#first_header = fits.getheader(images_list[0], 0)\n",
    "#last_header = fits.getheader(images_list[-1], 0)\n",
    "\n",
    "#common_keywords = ['CTYPE1', 'CTYPE2', 'CRPIX1','CRPIX2']\n",
    "#common_vals_dict = {ch_k: first_header[ch_k] for ch_k in common_keywords} \n",
    "\n",
    "#ch_keywords = ['CDELT1', 'CDELT2', 'CROTA1', 'CROTA2', 'CRVAL1', 'CRVAL2']\n",
    "#first_dict = {ch_k: first_header[ch_k] for ch_k in ch_keywords} \n",
    "#last_dict = {ch_k: last_header[ch_k] for ch_k in ch_keywords}\n",
    "#diff_dict = {ch_k: abs(first_header[ch_k] - last_header[ch_k]) for ch_k in ch_keywords}\n",
    "#import numpy as np\n",
    "#linspaces_dict = {ch_k: np.linspace(first_dict[ch_k], last_dict[ch_k], len(images_list)) for ch_k in ch_keywords}\n",
    "\n",
    "#for i in xrange(len(images_list)):\n",
    "    #i_dict = {}\n",
    "    #for k, v in linspaces_dict.iteritems():\n",
    "        #i_dict[k] = v[i]\n",
    "    #for k, v in common_vals_dict.iteritems():\n",
    "        #i_dict[k] = v\n",
    "    #change_header(images_list[i], **i_dict)\n",
    "    \n",
    "# paste here code to remove some keywords from headers\n"
   ]
  },
  {
   "cell_type": "markdown",
   "metadata": {},
   "source": [
    "<h4>Basic reduction</h4>"
   ]
  },
  {
   "cell_type": "code",
   "execution_count": 3,
   "metadata": {
    "collapsed": true
   },
   "outputs": [],
   "source": [
    "def compute_superbias(input_images_names, paths, pipeline_config, pipeline_stage, pipeline_step):\n",
    "    # TODO: check config, stage and step for needed for this function keys\n",
    "    # select pipeline stage and step in config\n",
    "    step_config = copy.deepcopy(pipeline_config['pipeline_stages'][pipeline_stage]['stage_steps'][pipeline_step])\n",
    "    step_params_config = step_config['step_params']\n",
    "    software_params = step_params_config['software_params']\n",
    "    \n",
    "    input_tech_frames_dir = paths[step_params_config['input_params']['tech_frames']['frames_dir']]\n",
    "    output_tech_frames_dir = paths[step_params_config['output_params']['tech_frames']['frames_dir']]\n",
    "\n",
    "    input_bias_config = step_params_config['input_params']['tech_frames']['bias']\n",
    "    input_bias_config['format'] = to_ext_format(input_bias_config['format'])\n",
    "    output_bias_config = step_params_config['output_params']['tech_frames']['bias']\n",
    "    output_bias_config['format'] = to_ext_format(output_bias_config['format'])\n",
    "    \n",
    "    input_bias_dir = os.path.join(input_tech_frames_dir, input_bias_config['sub_dir'])\n",
    "    output_bias_dir = os.path.join(output_tech_frames_dir, output_bias_config['sub_dir'])\n",
    "\n",
    "    superbias_filename = os.path.join(output_bias_dir,\n",
    "                                      (output_bias_config['name'] + output_bias_config['format']))\n",
    "\n",
    "    filter_bias_kwargs = {input_bias_config['type_keyword']: input_bias_config['type_keyword_value']}\n",
    "    input_bias_filenames = filter_fits_by_header(input_images_names, input_bias_dir, \n",
    "                                                 **filter_bias_kwargs)\n",
    "    \n",
    "    iraf.noao.imred(_doprint=0)\n",
    "    iraf.noao.imred.ccdred(_doprint=0)\n",
    "    iraf.noao.imred.ccdred.instrument = os.path.join(paths[software_params['config']['INSTRUMENT_DIR']],\n",
    "                                                     software_params['config']['INSTRUMENT_FILE'])\n",
    "    \n",
    "    if 'ccdtype' in input_bias_config.keys():\n",
    "        iraf.noao.imred.ccdred.zerocombine.setParam('ccdtype', input_bias_config['ccdtype'])\n",
    "    else:\n",
    "        iraf.noao.imred.ccdred.zerocombine.setParam('ccdtype', '')\n",
    "    if 'gain_keyword' in input_bias_config.keys():\n",
    "        gain = fits.getheader(input_bias_filenames[0], 0)[input_bias_config['gain_keyword']]\n",
    "        iraf.noao.imred.ccdred.zerocombine.setParam('gain', gain)\n",
    "    \n",
    "    bias_list = os.path.join(paths['temp'], 'bias_list.txt')\n",
    "    list_to_file(input_bias_filenames, bias_list)\n",
    "    \n",
    "    iraf.noao.imred.ccdred.zerocombine(input='@' + bias_list, output=superbias_filename, \n",
    "                                       process='no', delete='no', clobber='no')\n",
    "    \n",
    "    return superbias_filename"
   ]
  },
  {
   "cell_type": "code",
   "execution_count": 4,
   "metadata": {
    "collapsed": true
   },
   "outputs": [],
   "source": [
    "def compute_supers(input_images_names, paths, pipeline_config, pipeline_stage, pipeline_step):\n",
    "    # TODO: check config, stage and step for needed for this function keys\n",
    "    # select pipeline stage and step in config\n",
    "    step_config = copy.deepcopy(pipeline_config['pipeline_stages'][pipeline_stage]['stage_steps'][pipeline_step])\n",
    "    step_params_config = step_config['step_params']\n",
    "    input_params_config = step_params_config['input_params']\n",
    "    output_params_config = step_params_config['output_params']\n",
    "    \n",
    "    # prepare io params \n",
    "    exp_times = to_list(input_params_config['images_exp_times_secs'])\n",
    "    filters = to_list(input_params_config['images_filters'])\n",
    "    images_filter_keyword = input_params_config['images_filter_keyword']\n",
    "    input_tech_frames_dir = paths[input_params_config['tech_frames']['frames_dir']]\n",
    "    output_tech_frames_dir = paths[output_params_config['tech_frames']['frames_dir']]\n",
    "    use_bias = 'bias' in input_params_config['tech_frames']['use_frames']\n",
    "    use_dark = 'dark' in input_params_config['tech_frames']['use_frames']\n",
    "    use_flat = 'flat' in input_params_config['tech_frames']['use_frames']\n",
    "\n",
    "    \n",
    "    if use_bias:\n",
    "        superbias_filename = compute_superbias(input_images_names, paths, \n",
    "                                               pipeline_config, pipeline_stage, pipeline_step)   \n",
    "    if use_dark:\n",
    "        # compute superdarks for all exp_times for data images\n",
    "        #if no exp_time, take exp_time with biggest list of corresponding darks\n",
    "        exp_times_darks = {}\n",
    "        for exp_time in exp_times:\n",
    "            exp_times_darks[exp_time] = compute_superdark(input_images_names, paths, \n",
    "                                               pipeline_config, pipeline_stage, pipeline_step)\n"
   ]
  },
  {
   "cell_type": "code",
   "execution_count": 5,
   "metadata": {
    "collapsed": false
   },
   "outputs": [],
   "source": [
    "#input_images_names = sorted(get_fits_images_from_dir(os.path.join(paths['temp']), 'fit', True, True))\n",
    "#compute_supers(input_images_names, paths, pipeline_config, 'preparation', 'tech_frames_preprocessing')"
   ]
  },
  {
   "cell_type": "markdown",
   "metadata": {},
   "source": [
    "<h4>Catalog extraction basic function</h4>"
   ]
  },
  {
   "cell_type": "code",
   "execution_count": 3,
   "metadata": {
    "collapsed": false
   },
   "outputs": [],
   "source": [
    "def create_catalogs(input_images_names, paths, pipeline_config, pipeline_stage, pipeline_step):\n",
    "    # TODO: check config, stage and step for needed for this function keys\n",
    "    # select pipeline stage and step in config\n",
    "    step_config = copy.deepcopy(pipeline_config['pipeline_stages'][pipeline_stage]['stage_steps'][pipeline_step])\n",
    "    step_params_config = step_config['step_params']\n",
    "    \n",
    "    # use paths to fill path-depended params TODO: preprocess config to do this\n",
    "    step_params_config['software_params']['config_file'] = os.path.join(paths['config'],\n",
    "                                                                step_params_config['software_params']['config_file'])\n",
    "    step_params_config['software_params']['temp_path'] = paths[step_params_config['software_params']['temp_path']]\n",
    "    step_params_config['software_params']['config']['FILTER_NAME'] = os.path.join(paths['config'],\n",
    "                                                      step_params_config['software_params']['config']['FILTER_NAME'])\n",
    "    step_params_config['software_params']['config']['STARNNW_NAME'] = os.path.join(paths['config'],\n",
    "                                                      step_params_config['software_params']['config']['STARNNW_NAME'])\n",
    "    \n",
    "    # prepare io params   \n",
    "    # input images\n",
    "    input_images_format = to_ext_format(step_params_config['input_params']['images_format'])\n",
    "    input_images_dir = paths[step_params_config['input_params']['images_dir']]\n",
    "    iffs = build_filenames_list(input_images_names, new_ext=input_images_format, \n",
    "                                new_path=input_images_dir)\n",
    "    \n",
    "    # input psf models, if exist\n",
    "    look_for_psf = False\n",
    "    ipfs = range(len(iffs))\n",
    "    if 'psf_models_format' in step_params_config['input_params'].keys() and \\\n",
    "    'psf_models_dir' in step_params_config['input_params'].keys():\n",
    "        look_for_psf = True\n",
    "        input_psf_models_format = to_ext_format(step_params_config['input_params']['psf_models_format'])\n",
    "        input_psf_models_dir = paths[step_params_config['input_params']['psf_models_dir']]\n",
    "        ipfs = build_filenames_list(input_images_names, new_ext=input_psf_models_format, \n",
    "                                    new_path=input_psf_models_dir)\n",
    "    \n",
    "    # output catalogs\n",
    "    output_catalogs_format = to_ext_format(step_params_config['output_params']['catalogs_format'])\n",
    "    output_catalogs_dir = paths[step_params_config['output_params']['catalogs_dir']]\n",
    "    ocfs = build_filenames_list(input_images_names, new_ext=output_catalogs_format, \n",
    "                                    new_path=output_catalogs_dir)\n",
    "    \n",
    "    \n",
    "    if 'check_params_for_scamp_required' in step_params_config['output_params'].keys():\n",
    "        if step_params_config['output_params']['check_params_for_scamp_required'] == 'true':\n",
    "            missing_req_scamp_params = list(set(pipeline_config['scamp_required_catalog_params']) - \\\n",
    "            set(step_params_config['software_params']['params']))\n",
    "            step_params_config['software_params']['params'].extend(missing_req_scamp_params)\n",
    "    \n",
    "    if 'check_params_for_psfex_required' in step_params_config['output_params'].keys():\n",
    "        if step_params_config['output_params']['check_params_for_psfex_required'] == 'true':\n",
    "            missing_req_psfex_params = list(set(pipeline_config['psfex_required_catalog_params']) - \\\n",
    "            set(step_params_config['software_params']['params']))\n",
    "            step_params_config['software_params']['params'].extend(missing_req_psfex_params)\n",
    "    \n",
    "    # output is a list of catalogs full pathnames\n",
    "    catalogs = []\n",
    "    \n",
    "    for (iff, ipf, ocf) in zip(iffs, ipfs, ocfs):\n",
    "        software_params = step_params_config['software_params'] # TODO: deepcopy or not?\n",
    "        # TODO: is it needed or SExtractor recognizes it by itself?\n",
    "        if 'params_from_fits_header' in step_params_config['data_handle'].keys():\n",
    "            fits_file = fits.open(iff)\n",
    "            fits_file_header = fits_file[0].header\n",
    "            for param_name, fits_header_keyword in step_params_config['data_handle']['params_from_fits_header'].iteritems():\n",
    "                if fits_header_keyword in fits_file_header:\n",
    "                    software_params['config'][param_name] = str(fits_file[0].header[fits_header_keyword])\n",
    "        software_params['config']['CATALOG_NAME'] = ocf\n",
    "        if look_for_psf:\n",
    "            software_params['config']['PSF_NAME'] = ipf\n",
    "        sextractor = aw.api.Astromatic(**software_params)\n",
    "        #this_cmd, kwargs2 = sextractor.build_cmd(iff, **software_params)\n",
    "        #print this_cmd\n",
    "        sextractor.run(iff) #TODO: handle run status (maybe return it?)\n",
    "        print iff\n",
    "        catalogs.append(ocf)\n",
    "    \n",
    "    return catalogs"
   ]
  },
  {
   "cell_type": "markdown",
   "metadata": {},
   "source": [
    "<h4>Calculate calibration basic function</h4>"
   ]
  },
  {
   "cell_type": "code",
   "execution_count": 4,
   "metadata": {
    "collapsed": false
   },
   "outputs": [],
   "source": [
    "def calculate_calibration(input_images_names, paths, pipeline_config, pipeline_stage, pipeline_step):\n",
    "    # TODO: check config, stage and step for needed for this function keys\n",
    "    # select pipeline stage and step in config\n",
    "    step_config = copy.deepcopy(pipeline_config['pipeline_stages'][pipeline_stage]['stage_steps'][pipeline_step])\n",
    "    step_params_config = step_config['step_params']\n",
    "    \n",
    "    # use paths to fill path-depended params TODO: preprocess config to do this\n",
    "    step_params_config['software_params']['config_file'] = os.path.join(paths['config'],\n",
    "                                                                step_params_config['software_params']['config_file'])\n",
    "    step_params_config['software_params']['temp_path'] = paths[step_params_config['software_params']['temp_path']]\n",
    "    \n",
    "    # prepare io params   \n",
    "    # input catalogs\n",
    "    input_catalogs_format = to_ext_format(step_params_config['input_params']['catalogs_format'])\n",
    "    input_catalogs_dir = paths[step_params_config['input_params']['catalogs_dir']]\n",
    "    icfs = build_filenames_list(input_images_names, new_ext=input_catalogs_format, \n",
    "                                    new_path=input_catalogs_dir)\n",
    "    \n",
    "    # output is empty list\n",
    "    result = []\n",
    "    \n",
    "    calculate_calibration_separately = False\n",
    "    if 'calculate_calibration_separately' in step_params_config['output_params'].keys():\n",
    "        if step_params_config['output_params']['calculate_calibration_separately'] == 'true':\n",
    "            calculate_calibration_separately = True\n",
    "            \n",
    "    software_params = step_params_config['software_params'] # TODO: deepcopy or not?\n",
    "    \n",
    "    if calculate_calibration_separately:\n",
    "        for icf in icfs:\n",
    "            scamp = aw.api.Astromatic(**software_params)\n",
    "            #this_cmd, kwargs2 = scamp.build_cmd(icf, **software_params)\n",
    "            #print this_cmd\n",
    "            scamp.run(icf)\n",
    "    else:\n",
    "        scamp = aw.api.Astromatic(**software_params)\n",
    "        #this_cmd, kwargs2 = scamp.build_cmd(' '.join(icfs), **software_params)\n",
    "        #print this_cmd\n",
    "        scamp.run(' '.join(icfs)) # TODO: create file with catalogs list, and pass as @catalogs_list\n",
    "        \n",
    "    return result"
   ]
  },
  {
   "cell_type": "code",
   "execution_count": 5,
   "metadata": {
    "collapsed": false
   },
   "outputs": [],
   "source": [
    "#calculate_calibration(input_images_names, paths, pipeline_config, 'images_calibration', 'create_calibration_headers')"
   ]
  },
  {
   "cell_type": "markdown",
   "metadata": {},
   "source": [
    "<h4>Image SWarp basic function</h4>"
   ]
  },
  {
   "cell_type": "code",
   "execution_count": 6,
   "metadata": {
    "collapsed": true
   },
   "outputs": [],
   "source": [
    "from operator import itemgetter\n",
    "from itertools import *\n",
    "def swarp_images(input_images_names, paths, pipeline_config, pipeline_stage, pipeline_step):\n",
    "    # TODO: check config, stage and step for needed for this function keys\n",
    "    # select pipeline stage and step in config\n",
    "    step_config = copy.deepcopy(pipeline_config['pipeline_stages'][pipeline_stage]['stage_steps'][pipeline_step])\n",
    "    step_params_config = step_config['step_params']\n",
    "    \n",
    "    # use paths to fill path-depended params TODO: preprocess config to do this\n",
    "    step_params_config['software_params']['config_file'] = os.path.join(paths['config'],\n",
    "                                                                step_params_config['software_params']['config_file'])\n",
    "    step_params_config['software_params']['temp_path'] = paths[step_params_config['software_params']['temp_path']]\n",
    "    step_params_config['software_params']['config']['RESAMPLE_DIR'] = paths[step_params_config['software_params']['config']['RESAMPLE_DIR']]\n",
    "    \n",
    "    # prepare io params\n",
    "    # input images\n",
    "    input_images_format = to_ext_format(step_params_config['input_params']['images_format'])\n",
    "    input_images_dir = paths[step_params_config['input_params']['images_dir']]\n",
    "    iffs = build_filenames_list(input_images_names, new_ext=input_images_format, \n",
    "                                new_path=input_images_dir)\n",
    "    \n",
    "    # output images\n",
    "    output_images_format = to_ext_format(step_params_config['output_params']['images_format'])\n",
    "    output_images_dir = paths[step_params_config['output_params']['images_dir']]\n",
    "    \n",
    "    # output weightmaps\n",
    "    output_weightmaps_format = to_ext_format(step_params_config['output_params']['weightmaps_format'])\n",
    "    output_weightmaps_dir = paths[step_params_config['output_params']['weightmaps_dir']]\n",
    "    \n",
    "    # output is a tuple of lists: swarped images full pathnames and weightmaps full pathnames\n",
    "    swarped_images, weightmaps = [], []\n",
    "    \n",
    "    swarp_separately = False\n",
    "    if 'swarp_separately' in step_params_config['output_params'].keys():\n",
    "        if step_params_config['output_params']['swarp_separately'] == 'true':\n",
    "            swarp_separately = True\n",
    "            \n",
    "    software_params = step_params_config['software_params'] # TODO: deepcopy or not?\n",
    "                   \n",
    "    if swarp_separately:\n",
    "        # prepare output_images_filenames and output_weightmaps_filenames (convert them to full pathname)\n",
    "        offs = build_filenames_list(input_images_names, new_ext=output_images_format, \n",
    "                                    new_path=output_images_dir)\n",
    "        owmfs = build_filenames_list(input_images_names, new_ext=output_weightmaps_format, \n",
    "                                    new_path=output_weightmaps_dir)\n",
    "        \n",
    "        for (iff, off, owmf) in zip(iffs, offs, owmfs):\n",
    "            software_params['config']['IMAGEOUT_NAME'] = off\n",
    "            software_params['config']['WEIGHTOUT_NAME'] = owmf\n",
    "            swarp = aw.api.Astromatic(**software_params)\n",
    "            swarp.run(iff)\n",
    "            swarped_images.append(off)\n",
    "            weightmaps.append(owmf)   \n",
    "    else:\n",
    "        # build coadded image and weightmap names\n",
    "        output_filename = pipeline_config['observation_id']\n",
    "        coadd_images_nums = sorted(\n",
    "            [os.path.basename(iff).rstrip(input_images_format).rsplit('_',1)[1] for iff in iffs])\n",
    "        nums_ranges = []\n",
    "        for k, g in groupby(enumerate(coadd_images_nums), lambda (i,x):int(i)-int(x)):\n",
    "            nums_range = map(itemgetter(1),g)\n",
    "            nums_ranges.append(nums_range[0] if len(nums_range) == 1 else nums_range[0] + '-' + nums_range[-1])\n",
    "        nums_ranges = '_'.join(nums_ranges)\n",
    "        output_image_name = output_filename + '_' + nums_ranges + output_images_format\n",
    "        output_image_name = os.path.join(output_images_dir, output_image_name)\n",
    "        output_weightmap_name = output_filename + '_' + nums_ranges + output_weightmaps_format\n",
    "        output_weightmap_name = os.path.join(output_weightmaps_dir, output_weightmap_name)\n",
    "        # run SWarp\n",
    "        software_params['config']['IMAGEOUT_NAME'] = output_image_name\n",
    "        software_params['config']['WEIGHTOUT_NAME'] = output_weightmap_name\n",
    "        swarp = aw.api.Astromatic(**software_params)\n",
    "        #this_cmd, kwargs2 = swarp.build_cmd(' '.join(iffs), **software_params)\n",
    "        #print this_cmd\n",
    "        swarp.run(' '.join(iffs)) # TODO: create file with images list, and pass as @images_list\n",
    "        swarped_images.append(output_image_name)\n",
    "        weightmaps.append(output_weightmap_name)\n",
    "    \n",
    "    return swarped_images, weightmaps"
   ]
  },
  {
   "cell_type": "markdown",
   "metadata": {},
   "source": [
    "<h4>Calculate PSF basic function</h4>"
   ]
  },
  {
   "cell_type": "code",
   "execution_count": 7,
   "metadata": {
    "collapsed": true
   },
   "outputs": [],
   "source": [
    "def calculate_psf(input_images_names, paths, pipeline_config, pipeline_stage, pipeline_step):\n",
    "    # TODO: check config, stage and step for needed for this function keys\n",
    "    # select pipeline stage and step in config\n",
    "    step_config = copy.deepcopy(pipeline_config['pipeline_stages'][pipeline_stage]['stage_steps'][pipeline_step])\n",
    "    step_params_config = step_config['step_params']\n",
    "    \n",
    "    # use paths to fill path-depended params TODO: preprocess config to do this\n",
    "    step_params_config['software_params']['config_file'] = os.path.join(paths['config'],\n",
    "                                                                step_params_config['software_params']['config_file'])\n",
    "    step_params_config['software_params']['temp_path'] = paths[step_params_config['software_params']['temp_path']]\n",
    "    \n",
    "    # prepare io params   \n",
    "    # input catalogs\n",
    "    input_catalogs_format = to_ext_format(step_params_config['input_params']['catalogs_format'])\n",
    "    input_catalogs_dir = paths[step_params_config['input_params']['catalogs_dir']]\n",
    "    icfs = build_filenames_list(input_images_names, new_ext=input_catalogs_format, \n",
    "                                    new_path=input_catalogs_dir)\n",
    "    \n",
    "    # output psf models\n",
    "    output_psf_models_format = to_ext_format(step_params_config['output_params']['psf_models_format'])\n",
    "    output_psf_models_dir = paths[step_params_config['output_params']['psf_models_dir']]\n",
    "    # TODO: ispect BUG in PSFEx, it replaces PSF_SUFFIX only last extension part (after last .)\n",
    "    step_params_config['software_params']['config']['PSF_SUFFIX'] = ext_split(output_psf_models_format)[-1]\n",
    "    step_params_config['software_params']['config']['PSF_DIR'] = output_psf_models_dir\n",
    "    opmfs = build_filenames_list(input_images_names, new_ext=output_psf_models_format, \n",
    "                                    new_path=output_psf_models_dir)\n",
    "    \n",
    "    # output is list of calculated psf models full pathnames\n",
    "    #\n",
    "    \n",
    "    calculate_psf_separately = False\n",
    "    if 'calculate_psf_separately' in step_params_config['output_params'].keys():\n",
    "        if step_params_config['output_params']['calculate_psf_separately'] == 'true':\n",
    "            calculate_psf_separately = True\n",
    "            \n",
    "    software_params = step_params_config['software_params'] # TODO: deepcopy or not?\n",
    "    \n",
    "    if calculate_psf_separately:\n",
    "        for icf in icfs:\n",
    "            psfex = aw.api.Astromatic(**software_params)\n",
    "            #this_cmd, kwargs2 = psfex.build_cmd(icf, **software_params)\n",
    "            #print this_cmd\n",
    "            psfex.run(icf)\n",
    "    else:\n",
    "        psfex = aw.api.Astromatic(**software_params)\n",
    "        #this_cmd, kwargs2 = psfex.build_cmd(' '.join(icfs), **software_params)\n",
    "        #print this_cmd\n",
    "        psfex.run(' '.join(icfs)) # TODO: create file with catalogs list, and pass as @catalogs_list\n",
    "    \n",
    "    return opmfs"
   ]
  },
  {
   "cell_type": "markdown",
   "metadata": {
    "collapsed": false
   },
   "source": [
    "<h3>Test of pipeline</h3>"
   ]
  },
  {
   "cell_type": "code",
   "execution_count": 8,
   "metadata": {
    "collapsed": false
   },
   "outputs": [
    {
     "data": {
      "text/plain": [
       "{'catalogs': '/home/ser/Dev/astro_engine/spark_pipeline/spark_pipeline_test_1/catalogs',\n",
       " 'config': '/home/ser/Dev/astro_engine/spark_pipeline/spark_pipeline_test_1/config',\n",
       " 'images': '/home/ser/Dev/astro_engine/spark_pipeline/spark_pipeline_test_1/images',\n",
       " 'logs': '/home/ser/Dev/astro_engine/spark_pipeline/spark_pipeline_test_1/logs',\n",
       " 'stacks': '/home/ser/Dev/astro_engine/spark_pipeline/spark_pipeline_test_1/stacks',\n",
       " 'temp': '/home/ser/Dev/astro_engine/spark_pipeline/spark_pipeline_test_1/temp'}"
      ]
     },
     "execution_count": 8,
     "metadata": {},
     "output_type": "execute_result"
    }
   ],
   "source": [
    "dirs = AEDirsTreeConfigurer()#images_path='images/GRB130427A')\n",
    "dirs.build_dirs_tree()\n",
    "dirs.new_log_dir()\n",
    "paths = dirs.get_paths()\n",
    "paths"
   ]
  },
  {
   "cell_type": "code",
   "execution_count": 9,
   "metadata": {
    "collapsed": false
   },
   "outputs": [],
   "source": [
    "# do first image as photometric\n",
    "#header = fits.getheader(images_list[0], 0)\n",
    "#change_header(images_list[0], PHOTFLAG='T', PHOT_C=22.5, PHOT_K=0.0)"
   ]
  },
  {
   "cell_type": "code",
   "execution_count": 10,
   "metadata": {
    "collapsed": false
   },
   "outputs": [
    {
     "name": "stdout",
     "output_type": "stream",
     "text": [
      "{'config_files': ['pipeline_config']}\n"
     ]
    }
   ],
   "source": [
    "all_configs = AEJsonConfigLoader(os.path.join(paths['config'], 'common_config.json'))\n",
    "print all_configs.get_required_common_params()\n",
    "all_configs.build_config()\n",
    "pipeline_config = all_configs.get_pipeline_config()"
   ]
  },
  {
   "cell_type": "markdown",
   "metadata": {},
   "source": [
    "Input images are saved to temp folder, beause futher processing needs images and .head files in same directory.<br>\n",
    "Define list of input images, raw and tech frames"
   ]
  },
  {
   "cell_type": "code",
   "execution_count": 11,
   "metadata": {
    "collapsed": false
   },
   "outputs": [
    {
     "name": "stdout",
     "output_type": "stream",
     "text": [
      "['GRB130427_R60_001_001', 'GRB130427_R60_001_002', 'GRB130427_R60_001_003', 'GRB130427_R60_001_004', 'GRB130427_R60_001_005', 'GRB130427_R60_001_006', 'GRB130427_R60_001_007', 'GRB130427_R60_001_008', 'GRB130427_R60_001_009', 'GRB130427_R60_001_010', 'GRB130427_R60_001_011', 'GRB130427_R60_001_012', 'GRB130427_R60_001_013', 'GRB130427_R60_001_014', 'GRB130427_R60_001_015', 'GRB130427_R60_001_016', 'GRB130427_R60_001_017', 'GRB130427_R60_001_018', 'GRB130427_R60_001_019', 'GRB130427_R60_001_020', 'GRB130427_R60_001_021', 'GRB130427_R60_001_022', 'GRB130427_R60_001_023', 'GRB130427_R60_001_024', 'GRB130427_R60_001_025', 'GRB130427_R60_001_026', 'GRB130427_R60_001_027', 'GRB130427_R60_001_028', 'GRB130427_R60_001_029', 'GRB130427_R60_001_030', 'GRB130427_R60_001_031', 'GRB130427_R60_001_032', 'GRB130427_R60_001_033', 'GRB130427_R60_001_034', 'GRB130427_R60_001_035', 'GRB130427_R60_001_036', 'GRB130427_R60_001_037', 'GRB130427_R60_001_038', 'GRB130427_R60_001_039', 'GRB130427_R60_001_040', 'GRB130427_R60_001_041', 'GRB130427_R60_001_042', 'GRB130427_R60_001_043', 'GRB130427_R60_001_044', 'GRB130427_R60_001_045', 'GRB130427_R60_001_046', 'GRB130427_R60_001_047', 'GRB130427_R60_001_048', 'GRB130427_R60_001_049', 'GRB130427_R60_001_050', 'GRB130427_R60_001_051', 'GRB130427_R60_001_052', 'GRB130427_R60_001_053', 'GRB130427_R60_001_054', 'GRB130427_R60_001_055', 'GRB130427_R60_001_056', 'GRB130427_R60_001_057', 'GRB130427_R60_001_058', 'GRB130427_R60_001_059', 'GRB130427_R60_001_060']\n"
     ]
    }
   ],
   "source": [
    "input_images_names = sorted(get_fits_images_from_dir(paths['temp'], 'fit', True, True))\n",
    "#input_images_names = filter_fits_by_header(input_images_names, paths['temp'], IMAGETYP='Light Frame')\n",
    "input_images_names = [change_file_extension(os.path.basename(iin), '') for iin in input_images_names]\n",
    "input_images_names\n",
    "res = []\n",
    "#reject_list = [2, 6, 11, 21]\n",
    "reject_list = []\n",
    "for i in xrange(len(input_images_names)):\n",
    "    if i not in reject_list:\n",
    "        res.append(input_images_names[i])\n",
    "input_images_names = res\n",
    "print input_images_names"
   ]
  },
  {
   "cell_type": "markdown",
   "metadata": {
    "collapsed": false
   },
   "source": [
    "Pipeline basic functions calls"
   ]
  },
  {
   "cell_type": "code",
   "execution_count": 157,
   "metadata": {
    "collapsed": false
   },
   "outputs": [
    {
     "name": "stdout",
     "output_type": "stream",
     "text": [
      "/home/ser/Dev/astro_engine/spark_pipeline/spark_pipeline_test_1/temp/GRB130427_R60_001_001.fit\n",
      "/home/ser/Dev/astro_engine/spark_pipeline/spark_pipeline_test_1/temp/GRB130427_R60_001_002.fit\n",
      "/home/ser/Dev/astro_engine/spark_pipeline/spark_pipeline_test_1/temp/GRB130427_R60_001_003.fit\n",
      "/home/ser/Dev/astro_engine/spark_pipeline/spark_pipeline_test_1/temp/GRB130427_R60_001_004.fit\n",
      "/home/ser/Dev/astro_engine/spark_pipeline/spark_pipeline_test_1/temp/GRB130427_R60_001_005.fit\n",
      "/home/ser/Dev/astro_engine/spark_pipeline/spark_pipeline_test_1/temp/GRB130427_R60_001_006.fit\n",
      "/home/ser/Dev/astro_engine/spark_pipeline/spark_pipeline_test_1/temp/GRB130427_R60_001_007.fit\n",
      "/home/ser/Dev/astro_engine/spark_pipeline/spark_pipeline_test_1/temp/GRB130427_R60_001_008.fit\n",
      "/home/ser/Dev/astro_engine/spark_pipeline/spark_pipeline_test_1/temp/GRB130427_R60_001_009.fit\n",
      "/home/ser/Dev/astro_engine/spark_pipeline/spark_pipeline_test_1/temp/GRB130427_R60_001_010.fit\n",
      "/home/ser/Dev/astro_engine/spark_pipeline/spark_pipeline_test_1/temp/GRB130427_R60_001_011.fit\n",
      "/home/ser/Dev/astro_engine/spark_pipeline/spark_pipeline_test_1/temp/GRB130427_R60_001_012.fit\n",
      "/home/ser/Dev/astro_engine/spark_pipeline/spark_pipeline_test_1/temp/GRB130427_R60_001_013.fit\n",
      "/home/ser/Dev/astro_engine/spark_pipeline/spark_pipeline_test_1/temp/GRB130427_R60_001_014.fit\n",
      "/home/ser/Dev/astro_engine/spark_pipeline/spark_pipeline_test_1/temp/GRB130427_R60_001_015.fit\n",
      "/home/ser/Dev/astro_engine/spark_pipeline/spark_pipeline_test_1/temp/GRB130427_R60_001_016.fit\n",
      "/home/ser/Dev/astro_engine/spark_pipeline/spark_pipeline_test_1/temp/GRB130427_R60_001_017.fit\n",
      "/home/ser/Dev/astro_engine/spark_pipeline/spark_pipeline_test_1/temp/GRB130427_R60_001_018.fit\n",
      "/home/ser/Dev/astro_engine/spark_pipeline/spark_pipeline_test_1/temp/GRB130427_R60_001_019.fit\n",
      "/home/ser/Dev/astro_engine/spark_pipeline/spark_pipeline_test_1/temp/GRB130427_R60_001_020.fit\n",
      "/home/ser/Dev/astro_engine/spark_pipeline/spark_pipeline_test_1/temp/GRB130427_R60_001_021.fit\n",
      "/home/ser/Dev/astro_engine/spark_pipeline/spark_pipeline_test_1/temp/GRB130427_R60_001_022.fit\n",
      "/home/ser/Dev/astro_engine/spark_pipeline/spark_pipeline_test_1/temp/GRB130427_R60_001_023.fit\n",
      "/home/ser/Dev/astro_engine/spark_pipeline/spark_pipeline_test_1/temp/GRB130427_R60_001_024.fit\n",
      "/home/ser/Dev/astro_engine/spark_pipeline/spark_pipeline_test_1/temp/GRB130427_R60_001_025.fit\n",
      "/home/ser/Dev/astro_engine/spark_pipeline/spark_pipeline_test_1/temp/GRB130427_R60_001_026.fit\n",
      "/home/ser/Dev/astro_engine/spark_pipeline/spark_pipeline_test_1/temp/GRB130427_R60_001_027.fit\n",
      "/home/ser/Dev/astro_engine/spark_pipeline/spark_pipeline_test_1/temp/GRB130427_R60_001_028.fit\n",
      "/home/ser/Dev/astro_engine/spark_pipeline/spark_pipeline_test_1/temp/GRB130427_R60_001_029.fit\n",
      "/home/ser/Dev/astro_engine/spark_pipeline/spark_pipeline_test_1/temp/GRB130427_R60_001_030.fit\n",
      "/home/ser/Dev/astro_engine/spark_pipeline/spark_pipeline_test_1/temp/GRB130427_R60_001_031.fit\n",
      "/home/ser/Dev/astro_engine/spark_pipeline/spark_pipeline_test_1/temp/GRB130427_R60_001_032.fit\n",
      "/home/ser/Dev/astro_engine/spark_pipeline/spark_pipeline_test_1/temp/GRB130427_R60_001_033.fit\n",
      "/home/ser/Dev/astro_engine/spark_pipeline/spark_pipeline_test_1/temp/GRB130427_R60_001_034.fit\n",
      "/home/ser/Dev/astro_engine/spark_pipeline/spark_pipeline_test_1/temp/GRB130427_R60_001_035.fit\n",
      "/home/ser/Dev/astro_engine/spark_pipeline/spark_pipeline_test_1/temp/GRB130427_R60_001_036.fit\n",
      "/home/ser/Dev/astro_engine/spark_pipeline/spark_pipeline_test_1/temp/GRB130427_R60_001_037.fit\n",
      "/home/ser/Dev/astro_engine/spark_pipeline/spark_pipeline_test_1/temp/GRB130427_R60_001_038.fit\n",
      "/home/ser/Dev/astro_engine/spark_pipeline/spark_pipeline_test_1/temp/GRB130427_R60_001_039.fit\n",
      "/home/ser/Dev/astro_engine/spark_pipeline/spark_pipeline_test_1/temp/GRB130427_R60_001_040.fit\n",
      "/home/ser/Dev/astro_engine/spark_pipeline/spark_pipeline_test_1/temp/GRB130427_R60_001_041.fit\n",
      "/home/ser/Dev/astro_engine/spark_pipeline/spark_pipeline_test_1/temp/GRB130427_R60_001_042.fit\n",
      "/home/ser/Dev/astro_engine/spark_pipeline/spark_pipeline_test_1/temp/GRB130427_R60_001_043.fit\n",
      "/home/ser/Dev/astro_engine/spark_pipeline/spark_pipeline_test_1/temp/GRB130427_R60_001_044.fit\n",
      "/home/ser/Dev/astro_engine/spark_pipeline/spark_pipeline_test_1/temp/GRB130427_R60_001_045.fit\n",
      "/home/ser/Dev/astro_engine/spark_pipeline/spark_pipeline_test_1/temp/GRB130427_R60_001_046.fit\n",
      "/home/ser/Dev/astro_engine/spark_pipeline/spark_pipeline_test_1/temp/GRB130427_R60_001_047.fit\n",
      "/home/ser/Dev/astro_engine/spark_pipeline/spark_pipeline_test_1/temp/GRB130427_R60_001_048.fit\n",
      "/home/ser/Dev/astro_engine/spark_pipeline/spark_pipeline_test_1/temp/GRB130427_R60_001_049.fit\n",
      "/home/ser/Dev/astro_engine/spark_pipeline/spark_pipeline_test_1/temp/GRB130427_R60_001_050.fit\n",
      "/home/ser/Dev/astro_engine/spark_pipeline/spark_pipeline_test_1/temp/GRB130427_R60_001_051.fit\n",
      "/home/ser/Dev/astro_engine/spark_pipeline/spark_pipeline_test_1/temp/GRB130427_R60_001_052.fit\n",
      "/home/ser/Dev/astro_engine/spark_pipeline/spark_pipeline_test_1/temp/GRB130427_R60_001_053.fit\n",
      "/home/ser/Dev/astro_engine/spark_pipeline/spark_pipeline_test_1/temp/GRB130427_R60_001_054.fit\n",
      "/home/ser/Dev/astro_engine/spark_pipeline/spark_pipeline_test_1/temp/GRB130427_R60_001_055.fit\n",
      "/home/ser/Dev/astro_engine/spark_pipeline/spark_pipeline_test_1/temp/GRB130427_R60_001_056.fit\n",
      "/home/ser/Dev/astro_engine/spark_pipeline/spark_pipeline_test_1/temp/GRB130427_R60_001_057.fit\n",
      "/home/ser/Dev/astro_engine/spark_pipeline/spark_pipeline_test_1/temp/GRB130427_R60_001_058.fit\n",
      "/home/ser/Dev/astro_engine/spark_pipeline/spark_pipeline_test_1/temp/GRB130427_R60_001_059.fit\n",
      "/home/ser/Dev/astro_engine/spark_pipeline/spark_pipeline_test_1/temp/GRB130427_R60_001_060.fit\n",
      "/home/ser/Dev/astro_engine/spark_pipeline/spark_pipeline_test_1/images/GRB130427_R60_001_001.resamp.fits\n",
      "/home/ser/Dev/astro_engine/spark_pipeline/spark_pipeline_test_1/images/GRB130427_R60_001_002.resamp.fits\n",
      "/home/ser/Dev/astro_engine/spark_pipeline/spark_pipeline_test_1/images/GRB130427_R60_001_003.resamp.fits\n",
      "/home/ser/Dev/astro_engine/spark_pipeline/spark_pipeline_test_1/images/GRB130427_R60_001_004.resamp.fits\n",
      "/home/ser/Dev/astro_engine/spark_pipeline/spark_pipeline_test_1/images/GRB130427_R60_001_005.resamp.fits\n",
      "/home/ser/Dev/astro_engine/spark_pipeline/spark_pipeline_test_1/images/GRB130427_R60_001_006.resamp.fits\n",
      "/home/ser/Dev/astro_engine/spark_pipeline/spark_pipeline_test_1/images/GRB130427_R60_001_007.resamp.fits\n",
      "/home/ser/Dev/astro_engine/spark_pipeline/spark_pipeline_test_1/images/GRB130427_R60_001_008.resamp.fits\n",
      "/home/ser/Dev/astro_engine/spark_pipeline/spark_pipeline_test_1/images/GRB130427_R60_001_009.resamp.fits\n",
      "/home/ser/Dev/astro_engine/spark_pipeline/spark_pipeline_test_1/images/GRB130427_R60_001_010.resamp.fits\n",
      "/home/ser/Dev/astro_engine/spark_pipeline/spark_pipeline_test_1/images/GRB130427_R60_001_011.resamp.fits\n",
      "/home/ser/Dev/astro_engine/spark_pipeline/spark_pipeline_test_1/images/GRB130427_R60_001_012.resamp.fits\n",
      "/home/ser/Dev/astro_engine/spark_pipeline/spark_pipeline_test_1/images/GRB130427_R60_001_013.resamp.fits\n",
      "/home/ser/Dev/astro_engine/spark_pipeline/spark_pipeline_test_1/images/GRB130427_R60_001_014.resamp.fits\n",
      "/home/ser/Dev/astro_engine/spark_pipeline/spark_pipeline_test_1/images/GRB130427_R60_001_015.resamp.fits\n",
      "/home/ser/Dev/astro_engine/spark_pipeline/spark_pipeline_test_1/images/GRB130427_R60_001_016.resamp.fits\n",
      "/home/ser/Dev/astro_engine/spark_pipeline/spark_pipeline_test_1/images/GRB130427_R60_001_017.resamp.fits\n",
      "/home/ser/Dev/astro_engine/spark_pipeline/spark_pipeline_test_1/images/GRB130427_R60_001_018.resamp.fits\n",
      "/home/ser/Dev/astro_engine/spark_pipeline/spark_pipeline_test_1/images/GRB130427_R60_001_019.resamp.fits\n",
      "/home/ser/Dev/astro_engine/spark_pipeline/spark_pipeline_test_1/images/GRB130427_R60_001_020.resamp.fits\n",
      "/home/ser/Dev/astro_engine/spark_pipeline/spark_pipeline_test_1/images/GRB130427_R60_001_021.resamp.fits\n",
      "/home/ser/Dev/astro_engine/spark_pipeline/spark_pipeline_test_1/images/GRB130427_R60_001_022.resamp.fits\n",
      "/home/ser/Dev/astro_engine/spark_pipeline/spark_pipeline_test_1/images/GRB130427_R60_001_023.resamp.fits\n",
      "/home/ser/Dev/astro_engine/spark_pipeline/spark_pipeline_test_1/images/GRB130427_R60_001_024.resamp.fits\n",
      "/home/ser/Dev/astro_engine/spark_pipeline/spark_pipeline_test_1/images/GRB130427_R60_001_025.resamp.fits\n",
      "/home/ser/Dev/astro_engine/spark_pipeline/spark_pipeline_test_1/images/GRB130427_R60_001_026.resamp.fits\n",
      "/home/ser/Dev/astro_engine/spark_pipeline/spark_pipeline_test_1/images/GRB130427_R60_001_027.resamp.fits\n",
      "/home/ser/Dev/astro_engine/spark_pipeline/spark_pipeline_test_1/images/GRB130427_R60_001_028.resamp.fits\n",
      "/home/ser/Dev/astro_engine/spark_pipeline/spark_pipeline_test_1/images/GRB130427_R60_001_029.resamp.fits\n",
      "/home/ser/Dev/astro_engine/spark_pipeline/spark_pipeline_test_1/images/GRB130427_R60_001_030.resamp.fits\n",
      "/home/ser/Dev/astro_engine/spark_pipeline/spark_pipeline_test_1/images/GRB130427_R60_001_031.resamp.fits\n",
      "/home/ser/Dev/astro_engine/spark_pipeline/spark_pipeline_test_1/images/GRB130427_R60_001_032.resamp.fits\n",
      "/home/ser/Dev/astro_engine/spark_pipeline/spark_pipeline_test_1/images/GRB130427_R60_001_033.resamp.fits\n",
      "/home/ser/Dev/astro_engine/spark_pipeline/spark_pipeline_test_1/images/GRB130427_R60_001_034.resamp.fits\n",
      "/home/ser/Dev/astro_engine/spark_pipeline/spark_pipeline_test_1/images/GRB130427_R60_001_035.resamp.fits\n",
      "/home/ser/Dev/astro_engine/spark_pipeline/spark_pipeline_test_1/images/GRB130427_R60_001_036.resamp.fits\n",
      "/home/ser/Dev/astro_engine/spark_pipeline/spark_pipeline_test_1/images/GRB130427_R60_001_037.resamp.fits\n",
      "/home/ser/Dev/astro_engine/spark_pipeline/spark_pipeline_test_1/images/GRB130427_R60_001_038.resamp.fits\n",
      "/home/ser/Dev/astro_engine/spark_pipeline/spark_pipeline_test_1/images/GRB130427_R60_001_039.resamp.fits\n",
      "/home/ser/Dev/astro_engine/spark_pipeline/spark_pipeline_test_1/images/GRB130427_R60_001_040.resamp.fits\n",
      "/home/ser/Dev/astro_engine/spark_pipeline/spark_pipeline_test_1/images/GRB130427_R60_001_041.resamp.fits\n",
      "/home/ser/Dev/astro_engine/spark_pipeline/spark_pipeline_test_1/images/GRB130427_R60_001_042.resamp.fits\n",
      "/home/ser/Dev/astro_engine/spark_pipeline/spark_pipeline_test_1/images/GRB130427_R60_001_043.resamp.fits\n",
      "/home/ser/Dev/astro_engine/spark_pipeline/spark_pipeline_test_1/images/GRB130427_R60_001_044.resamp.fits\n",
      "/home/ser/Dev/astro_engine/spark_pipeline/spark_pipeline_test_1/images/GRB130427_R60_001_045.resamp.fits\n",
      "/home/ser/Dev/astro_engine/spark_pipeline/spark_pipeline_test_1/images/GRB130427_R60_001_046.resamp.fits\n",
      "/home/ser/Dev/astro_engine/spark_pipeline/spark_pipeline_test_1/images/GRB130427_R60_001_047.resamp.fits\n",
      "/home/ser/Dev/astro_engine/spark_pipeline/spark_pipeline_test_1/images/GRB130427_R60_001_048.resamp.fits\n",
      "/home/ser/Dev/astro_engine/spark_pipeline/spark_pipeline_test_1/images/GRB130427_R60_001_049.resamp.fits\n",
      "/home/ser/Dev/astro_engine/spark_pipeline/spark_pipeline_test_1/images/GRB130427_R60_001_050.resamp.fits\n",
      "/home/ser/Dev/astro_engine/spark_pipeline/spark_pipeline_test_1/images/GRB130427_R60_001_051.resamp.fits\n",
      "/home/ser/Dev/astro_engine/spark_pipeline/spark_pipeline_test_1/images/GRB130427_R60_001_052.resamp.fits\n",
      "/home/ser/Dev/astro_engine/spark_pipeline/spark_pipeline_test_1/images/GRB130427_R60_001_053.resamp.fits\n",
      "/home/ser/Dev/astro_engine/spark_pipeline/spark_pipeline_test_1/images/GRB130427_R60_001_054.resamp.fits\n",
      "/home/ser/Dev/astro_engine/spark_pipeline/spark_pipeline_test_1/images/GRB130427_R60_001_055.resamp.fits\n",
      "/home/ser/Dev/astro_engine/spark_pipeline/spark_pipeline_test_1/images/GRB130427_R60_001_056.resamp.fits\n",
      "/home/ser/Dev/astro_engine/spark_pipeline/spark_pipeline_test_1/images/GRB130427_R60_001_057.resamp.fits\n",
      "/home/ser/Dev/astro_engine/spark_pipeline/spark_pipeline_test_1/images/GRB130427_R60_001_058.resamp.fits\n",
      "/home/ser/Dev/astro_engine/spark_pipeline/spark_pipeline_test_1/images/GRB130427_R60_001_059.resamp.fits\n",
      "/home/ser/Dev/astro_engine/spark_pipeline/spark_pipeline_test_1/images/GRB130427_R60_001_060.resamp.fits\n"
     ]
    }
   ],
   "source": [
    "# stage: images_calibration\n",
    "catalogs_1 = create_catalogs(input_images_names, paths, pipeline_config, 'images_calibration', 'create_calibration_catalogs')\n",
    "calculate_calibration(input_images_names, paths, pipeline_config, 'images_calibration', 'create_calibration_headers')\n",
    "swarped_images_1, _ = swarp_images(input_images_names, paths, pipeline_config, 'images_calibration', 'calibrate_images')\n",
    "catalogs_2 = create_catalogs(input_images_names, paths, pipeline_config, 'images_calibration', 'create_calibrated_images_catalogs')\n",
    "#calculate_psf(input_images_names, paths, pipeline_config, 'images_calibration', 'model_psf_calibrated_images_catalogs')\n",
    "#catalogs_3 = create_catalogs(input_images_names, paths, pipeline_config, 'images_calibration', 'create_calibrated_images_catalogs_psf')\n",
    "# stage: images_coaddition\n",
    "#swarped_images_2, _ = swarp_images(input_images_names, paths, pipeline_config, 'images_coaddition', 'coadd_calibrated_images')\n",
    "#catalogs_4 = create_catalogs(swarped_images_2, paths, pipeline_config, 'images_coaddition', 'create_coadded_image_catalog')\n",
    "#calculate_psf(swarped_images_2, paths, pipeline_config, 'images_coaddition', 'model_psf_coadded_image_catalog')\n",
    "#catalogs_5 = create_catalogs(swarped_images_2, paths, pipeline_config, 'images_coaddition', 'create_coadded_image_catalog_psf')"
   ]
  },
  {
   "cell_type": "markdown",
   "metadata": {
    "collapsed": true
   },
   "source": [
    "Check coadded image catalog"
   ]
  },
  {
   "cell_type": "code",
   "execution_count": 12,
   "metadata": {
    "collapsed": true
   },
   "outputs": [],
   "source": [
    "import pandas as pd\n",
    "import numpy as np\n",
    "from sklearn.preprocessing import normalize\n",
    "from math import radians, cos, sin, asin, sqrt, pi\n",
    "from astropy.coordinates import Distance, SkyCoord\n",
    "from astropy import units as u\n",
    "import matplotlib.pyplot as plt\n",
    "%matplotlib inline"
   ]
  },
  {
   "cell_type": "code",
   "execution_count": 90,
   "metadata": {
    "collapsed": false
   },
   "outputs": [],
   "source": [
    "refer_cat = aw.utils.ldac.get_table_from_ldac('refer.cat')\n",
    "refer_cat_df = pd.DataFrame(refer_cat.to_pandas())"
   ]
  },
  {
   "cell_type": "code",
   "execution_count": 16,
   "metadata": {
    "collapsed": false
   },
   "outputs": [],
   "source": [
    "all_cats = get_fits_images_from_dir(paths['catalogs'], ['.cat'])\n",
    "cats_psf = get_fits_images_from_dir(paths['catalogs'], ['psf.cat', '.psf.coadded.cat'])\n",
    "coadded_cat_psf = get_fits_images_from_dir(paths['catalogs'], ['psf.coadded.cat'])\n",
    "coadded_cat = get_fits_images_from_dir(paths['catalogs'], ['coadded.cat'])\n",
    "cats_psf = list(set(cats_psf) - set(coadded_cat_psf))\n",
    "cats = list((set(all_cats) - set(cats_psf)) - set(coadded_cat))\n",
    "cats = [os.path.join(paths['catalogs'], cat) for cat in cats]\n",
    "coadded_cat = list(set(coadded_cat) - set(coadded_cat_psf))"
   ]
  },
  {
   "cell_type": "code",
   "execution_count": 17,
   "metadata": {
    "collapsed": false
   },
   "outputs": [
    {
     "name": "stdout",
     "output_type": "stream",
     "text": [
      "(13869, 42)\n"
     ]
    },
    {
     "data": {
      "text/html": [
       "<div>\n",
       "<table border=\"1\" class=\"dataframe\">\n",
       "  <thead>\n",
       "    <tr style=\"text-align: right;\">\n",
       "      <th></th>\n",
       "      <th>0</th>\n",
       "      <th>1</th>\n",
       "      <th>2</th>\n",
       "      <th>3</th>\n",
       "      <th>4</th>\n",
       "    </tr>\n",
       "  </thead>\n",
       "  <tbody>\n",
       "    <tr>\n",
       "      <th>NUMBER</th>\n",
       "      <td>1.000000e+00</td>\n",
       "      <td>2.000000e+00</td>\n",
       "      <td>3.000000e+00</td>\n",
       "      <td>4.000000e+00</td>\n",
       "      <td>5.000000e+00</td>\n",
       "    </tr>\n",
       "    <tr>\n",
       "      <th>EXT_NUMBER</th>\n",
       "      <td>1.000000e+00</td>\n",
       "      <td>1.000000e+00</td>\n",
       "      <td>1.000000e+00</td>\n",
       "      <td>1.000000e+00</td>\n",
       "      <td>1.000000e+00</td>\n",
       "    </tr>\n",
       "    <tr>\n",
       "      <th>FLAGS</th>\n",
       "      <td>2.000000e+00</td>\n",
       "      <td>0.000000e+00</td>\n",
       "      <td>0.000000e+00</td>\n",
       "      <td>0.000000e+00</td>\n",
       "      <td>0.000000e+00</td>\n",
       "    </tr>\n",
       "    <tr>\n",
       "      <th>X_WORLD</th>\n",
       "      <td>1.731593e+02</td>\n",
       "      <td>1.731309e+02</td>\n",
       "      <td>1.732063e+02</td>\n",
       "      <td>1.731686e+02</td>\n",
       "      <td>1.731287e+02</td>\n",
       "    </tr>\n",
       "    <tr>\n",
       "      <th>Y_WORLD</th>\n",
       "      <td>2.764545e+01</td>\n",
       "      <td>2.764582e+01</td>\n",
       "      <td>2.764555e+01</td>\n",
       "      <td>2.764244e+01</td>\n",
       "      <td>2.764083e+01</td>\n",
       "    </tr>\n",
       "    <tr>\n",
       "      <th>X2_WORLD</th>\n",
       "      <td>6.044764e-07</td>\n",
       "      <td>2.267878e-07</td>\n",
       "      <td>2.014481e-07</td>\n",
       "      <td>3.139512e-07</td>\n",
       "      <td>3.064469e-07</td>\n",
       "    </tr>\n",
       "    <tr>\n",
       "      <th>Y2_WORLD</th>\n",
       "      <td>1.356445e-06</td>\n",
       "      <td>9.402996e-07</td>\n",
       "      <td>2.940287e-07</td>\n",
       "      <td>2.500561e-07</td>\n",
       "      <td>6.141761e-07</td>\n",
       "    </tr>\n",
       "    <tr>\n",
       "      <th>XWIN_WORLD</th>\n",
       "      <td>1.731591e+02</td>\n",
       "      <td>1.731311e+02</td>\n",
       "      <td>1.732063e+02</td>\n",
       "      <td>1.731689e+02</td>\n",
       "      <td>1.731287e+02</td>\n",
       "    </tr>\n",
       "    <tr>\n",
       "      <th>YWIN_WORLD</th>\n",
       "      <td>2.764517e+01</td>\n",
       "      <td>2.764576e+01</td>\n",
       "      <td>2.764563e+01</td>\n",
       "      <td>2.764261e+01</td>\n",
       "      <td>2.764102e+01</td>\n",
       "    </tr>\n",
       "    <tr>\n",
       "      <th>X2WIN_WORLD</th>\n",
       "      <td>1.336385e-07</td>\n",
       "      <td>1.423713e-06</td>\n",
       "      <td>2.177077e-07</td>\n",
       "      <td>2.111422e-07</td>\n",
       "      <td>4.175494e-07</td>\n",
       "    </tr>\n",
       "    <tr>\n",
       "      <th>Y2WIN_WORLD</th>\n",
       "      <td>1.547935e-07</td>\n",
       "      <td>1.758516e-06</td>\n",
       "      <td>3.857463e-07</td>\n",
       "      <td>1.658322e-07</td>\n",
       "      <td>6.022939e-07</td>\n",
       "    </tr>\n",
       "    <tr>\n",
       "      <th>XWIN_IMAGE</th>\n",
       "      <td>1.935573e+02</td>\n",
       "      <td>2.868477e+02</td>\n",
       "      <td>3.682317e+01</td>\n",
       "      <td>1.611024e+02</td>\n",
       "      <td>2.946772e+02</td>\n",
       "    </tr>\n",
       "    <tr>\n",
       "      <th>YWIN_IMAGE</th>\n",
       "      <td>3.973635e+01</td>\n",
       "      <td>4.193940e+01</td>\n",
       "      <td>4.151374e+01</td>\n",
       "      <td>3.015799e+01</td>\n",
       "      <td>2.418243e+01</td>\n",
       "    </tr>\n",
       "    <tr>\n",
       "      <th>X2WIN_IMAGE</th>\n",
       "      <td>1.879289e+00</td>\n",
       "      <td>2.002070e+01</td>\n",
       "      <td>3.060363e+00</td>\n",
       "      <td>2.969080e+00</td>\n",
       "      <td>5.871842e+00</td>\n",
       "    </tr>\n",
       "    <tr>\n",
       "      <th>Y2WIN_IMAGE</th>\n",
       "      <td>2.176801e+00</td>\n",
       "      <td>2.472956e+01</td>\n",
       "      <td>5.425747e+00</td>\n",
       "      <td>2.332142e+00</td>\n",
       "      <td>8.469758e+00</td>\n",
       "    </tr>\n",
       "    <tr>\n",
       "      <th>AWIN_IMAGE</th>\n",
       "      <td>1.478293e+00</td>\n",
       "      <td>5.251899e+00</td>\n",
       "      <td>2.587205e+00</td>\n",
       "      <td>1.799708e+00</td>\n",
       "      <td>2.921261e+00</td>\n",
       "    </tr>\n",
       "    <tr>\n",
       "      <th>BWIN_IMAGE</th>\n",
       "      <td>1.367750e+00</td>\n",
       "      <td>4.143406e+00</td>\n",
       "      <td>1.338835e+00</td>\n",
       "      <td>1.436062e+00</td>\n",
       "      <td>2.409945e+00</td>\n",
       "    </tr>\n",
       "    <tr>\n",
       "      <th>ERRAWIN_IMAGE</th>\n",
       "      <td>7.625982e-03</td>\n",
       "      <td>2.393671e-01</td>\n",
       "      <td>1.485538e-01</td>\n",
       "      <td>1.019658e-01</td>\n",
       "      <td>1.412108e-01</td>\n",
       "    </tr>\n",
       "    <tr>\n",
       "      <th>ERRBWIN_IMAGE</th>\n",
       "      <td>7.477851e-03</td>\n",
       "      <td>2.382362e-01</td>\n",
       "      <td>1.464625e-01</td>\n",
       "      <td>1.010016e-01</td>\n",
       "      <td>1.408508e-01</td>\n",
       "    </tr>\n",
       "    <tr>\n",
       "      <th>ERRTHETAWIN_IMAGE</th>\n",
       "      <td>-7.881849e+01</td>\n",
       "      <td>6.041349e+01</td>\n",
       "      <td>-5.678260e+01</td>\n",
       "      <td>-5.057281e+00</td>\n",
       "      <td>8.124757e+01</td>\n",
       "    </tr>\n",
       "    <tr>\n",
       "      <th>ELONGATION</th>\n",
       "      <td>1.883761e+00</td>\n",
       "      <td>3.325641e+00</td>\n",
       "      <td>2.472322e+00</td>\n",
       "      <td>1.906301e+00</td>\n",
       "      <td>1.457880e+00</td>\n",
       "    </tr>\n",
       "    <tr>\n",
       "      <th>ELLIPTICITY</th>\n",
       "      <td>4.691471e-01</td>\n",
       "      <td>6.993061e-01</td>\n",
       "      <td>5.955220e-01</td>\n",
       "      <td>4.754239e-01</td>\n",
       "      <td>3.140725e-01</td>\n",
       "    </tr>\n",
       "    <tr>\n",
       "      <th>CLASS_STAR</th>\n",
       "      <td>3.003849e-02</td>\n",
       "      <td>3.607913e-01</td>\n",
       "      <td>5.364732e-01</td>\n",
       "      <td>9.991235e-01</td>\n",
       "      <td>1.427480e-01</td>\n",
       "    </tr>\n",
       "    <tr>\n",
       "      <th>FWHM_WORLD</th>\n",
       "      <td>5.406975e-03</td>\n",
       "      <td>3.400665e-03</td>\n",
       "      <td>2.484409e-03</td>\n",
       "      <td>1.710909e-03</td>\n",
       "      <td>3.929714e-03</td>\n",
       "    </tr>\n",
       "    <tr>\n",
       "      <th>SNR_WIN</th>\n",
       "      <td>3.974255e+02</td>\n",
       "      <td>3.843803e+01</td>\n",
       "      <td>2.943925e+01</td>\n",
       "      <td>3.464788e+01</td>\n",
       "      <td>3.842186e+01</td>\n",
       "    </tr>\n",
       "    <tr>\n",
       "      <th>THRESHOLD</th>\n",
       "      <td>6.711899e+01</td>\n",
       "      <td>6.711899e+01</td>\n",
       "      <td>6.711899e+01</td>\n",
       "      <td>6.711899e+01</td>\n",
       "      <td>6.711899e+01</td>\n",
       "    </tr>\n",
       "    <tr>\n",
       "      <th>THRESHOLDMAX</th>\n",
       "      <td>6.711899e+01</td>\n",
       "      <td>6.711899e+01</td>\n",
       "      <td>6.711899e+01</td>\n",
       "      <td>6.711899e+01</td>\n",
       "      <td>6.711899e+01</td>\n",
       "    </tr>\n",
       "    <tr>\n",
       "      <th>FLUX_RADIUS</th>\n",
       "      <td>2.843013e+00</td>\n",
       "      <td>7.654129e+00</td>\n",
       "      <td>3.606449e+00</td>\n",
       "      <td>2.933116e+00</td>\n",
       "      <td>4.508236e+00</td>\n",
       "    </tr>\n",
       "    <tr>\n",
       "      <th>FLUX_AUTO</th>\n",
       "      <td>1.064286e+05</td>\n",
       "      <td>1.889842e+04</td>\n",
       "      <td>7.376657e+03</td>\n",
       "      <td>7.670129e+03</td>\n",
       "      <td>1.170369e+04</td>\n",
       "    </tr>\n",
       "    <tr>\n",
       "      <th>FLUX_APER</th>\n",
       "      <td>4.631650e+04</td>\n",
       "      <td>2.743530e+03</td>\n",
       "      <td>2.368940e+03</td>\n",
       "      <td>3.183156e+03</td>\n",
       "      <td>2.352257e+03</td>\n",
       "    </tr>\n",
       "    <tr>\n",
       "      <th>FLUX_ISO</th>\n",
       "      <td>1.058568e+05</td>\n",
       "      <td>8.672482e+03</td>\n",
       "      <td>9.158743e+03</td>\n",
       "      <td>6.863636e+03</td>\n",
       "      <td>8.257558e+03</td>\n",
       "    </tr>\n",
       "    <tr>\n",
       "      <th>FLUX_MAX</th>\n",
       "      <td>4.615042e+03</td>\n",
       "      <td>1.528658e+03</td>\n",
       "      <td>1.453457e+03</td>\n",
       "      <td>2.628458e+03</td>\n",
       "      <td>1.637545e+03</td>\n",
       "    </tr>\n",
       "    <tr>\n",
       "      <th>MAG_AUTO</th>\n",
       "      <td>-1.256765e+01</td>\n",
       "      <td>-1.069106e+01</td>\n",
       "      <td>-9.669649e+00</td>\n",
       "      <td>-9.712007e+00</td>\n",
       "      <td>-1.017081e+01</td>\n",
       "    </tr>\n",
       "    <tr>\n",
       "      <th>MAG_APER</th>\n",
       "      <td>-1.166434e+01</td>\n",
       "      <td>-8.595774e+00</td>\n",
       "      <td>-8.436385e+00</td>\n",
       "      <td>-8.757145e+00</td>\n",
       "      <td>-8.428712e+00</td>\n",
       "    </tr>\n",
       "    <tr>\n",
       "      <th>MAG_ISO</th>\n",
       "      <td>-1.256180e+01</td>\n",
       "      <td>-9.845359e+00</td>\n",
       "      <td>-9.904590e+00</td>\n",
       "      <td>-9.591386e+00</td>\n",
       "      <td>-9.792129e+00</td>\n",
       "    </tr>\n",
       "    <tr>\n",
       "      <th>FLUXERR_AUTO</th>\n",
       "      <td>5.361699e+02</td>\n",
       "      <td>6.055526e+02</td>\n",
       "      <td>3.998132e+02</td>\n",
       "      <td>3.923145e+02</td>\n",
       "      <td>5.068923e+02</td>\n",
       "    </tr>\n",
       "    <tr>\n",
       "      <th>FLUXERR_APER</th>\n",
       "      <td>1.428193e+02</td>\n",
       "      <td>1.023444e+02</td>\n",
       "      <td>1.018294e+02</td>\n",
       "      <td>1.027340e+02</td>\n",
       "      <td>1.017124e+02</td>\n",
       "    </tr>\n",
       "    <tr>\n",
       "      <th>FLUXERR_ISO</th>\n",
       "      <td>4.052315e+02</td>\n",
       "      <td>1.884355e+02</td>\n",
       "      <td>1.631212e+02</td>\n",
       "      <td>1.535713e+02</td>\n",
       "      <td>1.868504e+02</td>\n",
       "    </tr>\n",
       "    <tr>\n",
       "      <th>MAGERR_AUTO</th>\n",
       "      <td>5.471090e-03</td>\n",
       "      <td>3.479815e-02</td>\n",
       "      <td>5.886096e-02</td>\n",
       "      <td>5.554712e-02</td>\n",
       "      <td>4.703518e-02</td>\n",
       "    </tr>\n",
       "    <tr>\n",
       "      <th>MAGERR_APER</th>\n",
       "      <td>3.348736e-03</td>\n",
       "      <td>4.051205e-02</td>\n",
       "      <td>4.668192e-02</td>\n",
       "      <td>3.504983e-02</td>\n",
       "      <td>4.695900e-02</td>\n",
       "    </tr>\n",
       "    <tr>\n",
       "      <th>MAGERR_ISO</th>\n",
       "      <td>4.157329e-03</td>\n",
       "      <td>2.359658e-02</td>\n",
       "      <td>1.934213e-02</td>\n",
       "      <td>2.429885e-02</td>\n",
       "      <td>2.457380e-02</td>\n",
       "    </tr>\n",
       "    <tr>\n",
       "      <th>CATALOG_NUM</th>\n",
       "      <td>1.000000e+00</td>\n",
       "      <td>1.000000e+00</td>\n",
       "      <td>1.000000e+00</td>\n",
       "      <td>1.000000e+00</td>\n",
       "      <td>1.000000e+00</td>\n",
       "    </tr>\n",
       "  </tbody>\n",
       "</table>\n",
       "</div>"
      ],
      "text/plain": [
       "                              0             1             2             3  \\\n",
       "NUMBER             1.000000e+00  2.000000e+00  3.000000e+00  4.000000e+00   \n",
       "EXT_NUMBER         1.000000e+00  1.000000e+00  1.000000e+00  1.000000e+00   \n",
       "FLAGS              2.000000e+00  0.000000e+00  0.000000e+00  0.000000e+00   \n",
       "X_WORLD            1.731593e+02  1.731309e+02  1.732063e+02  1.731686e+02   \n",
       "Y_WORLD            2.764545e+01  2.764582e+01  2.764555e+01  2.764244e+01   \n",
       "X2_WORLD           6.044764e-07  2.267878e-07  2.014481e-07  3.139512e-07   \n",
       "Y2_WORLD           1.356445e-06  9.402996e-07  2.940287e-07  2.500561e-07   \n",
       "XWIN_WORLD         1.731591e+02  1.731311e+02  1.732063e+02  1.731689e+02   \n",
       "YWIN_WORLD         2.764517e+01  2.764576e+01  2.764563e+01  2.764261e+01   \n",
       "X2WIN_WORLD        1.336385e-07  1.423713e-06  2.177077e-07  2.111422e-07   \n",
       "Y2WIN_WORLD        1.547935e-07  1.758516e-06  3.857463e-07  1.658322e-07   \n",
       "XWIN_IMAGE         1.935573e+02  2.868477e+02  3.682317e+01  1.611024e+02   \n",
       "YWIN_IMAGE         3.973635e+01  4.193940e+01  4.151374e+01  3.015799e+01   \n",
       "X2WIN_IMAGE        1.879289e+00  2.002070e+01  3.060363e+00  2.969080e+00   \n",
       "Y2WIN_IMAGE        2.176801e+00  2.472956e+01  5.425747e+00  2.332142e+00   \n",
       "AWIN_IMAGE         1.478293e+00  5.251899e+00  2.587205e+00  1.799708e+00   \n",
       "BWIN_IMAGE         1.367750e+00  4.143406e+00  1.338835e+00  1.436062e+00   \n",
       "ERRAWIN_IMAGE      7.625982e-03  2.393671e-01  1.485538e-01  1.019658e-01   \n",
       "ERRBWIN_IMAGE      7.477851e-03  2.382362e-01  1.464625e-01  1.010016e-01   \n",
       "ERRTHETAWIN_IMAGE -7.881849e+01  6.041349e+01 -5.678260e+01 -5.057281e+00   \n",
       "ELONGATION         1.883761e+00  3.325641e+00  2.472322e+00  1.906301e+00   \n",
       "ELLIPTICITY        4.691471e-01  6.993061e-01  5.955220e-01  4.754239e-01   \n",
       "CLASS_STAR         3.003849e-02  3.607913e-01  5.364732e-01  9.991235e-01   \n",
       "FWHM_WORLD         5.406975e-03  3.400665e-03  2.484409e-03  1.710909e-03   \n",
       "SNR_WIN            3.974255e+02  3.843803e+01  2.943925e+01  3.464788e+01   \n",
       "THRESHOLD          6.711899e+01  6.711899e+01  6.711899e+01  6.711899e+01   \n",
       "THRESHOLDMAX       6.711899e+01  6.711899e+01  6.711899e+01  6.711899e+01   \n",
       "FLUX_RADIUS        2.843013e+00  7.654129e+00  3.606449e+00  2.933116e+00   \n",
       "FLUX_AUTO          1.064286e+05  1.889842e+04  7.376657e+03  7.670129e+03   \n",
       "FLUX_APER          4.631650e+04  2.743530e+03  2.368940e+03  3.183156e+03   \n",
       "FLUX_ISO           1.058568e+05  8.672482e+03  9.158743e+03  6.863636e+03   \n",
       "FLUX_MAX           4.615042e+03  1.528658e+03  1.453457e+03  2.628458e+03   \n",
       "MAG_AUTO          -1.256765e+01 -1.069106e+01 -9.669649e+00 -9.712007e+00   \n",
       "MAG_APER          -1.166434e+01 -8.595774e+00 -8.436385e+00 -8.757145e+00   \n",
       "MAG_ISO           -1.256180e+01 -9.845359e+00 -9.904590e+00 -9.591386e+00   \n",
       "FLUXERR_AUTO       5.361699e+02  6.055526e+02  3.998132e+02  3.923145e+02   \n",
       "FLUXERR_APER       1.428193e+02  1.023444e+02  1.018294e+02  1.027340e+02   \n",
       "FLUXERR_ISO        4.052315e+02  1.884355e+02  1.631212e+02  1.535713e+02   \n",
       "MAGERR_AUTO        5.471090e-03  3.479815e-02  5.886096e-02  5.554712e-02   \n",
       "MAGERR_APER        3.348736e-03  4.051205e-02  4.668192e-02  3.504983e-02   \n",
       "MAGERR_ISO         4.157329e-03  2.359658e-02  1.934213e-02  2.429885e-02   \n",
       "CATALOG_NUM        1.000000e+00  1.000000e+00  1.000000e+00  1.000000e+00   \n",
       "\n",
       "                              4  \n",
       "NUMBER             5.000000e+00  \n",
       "EXT_NUMBER         1.000000e+00  \n",
       "FLAGS              0.000000e+00  \n",
       "X_WORLD            1.731287e+02  \n",
       "Y_WORLD            2.764083e+01  \n",
       "X2_WORLD           3.064469e-07  \n",
       "Y2_WORLD           6.141761e-07  \n",
       "XWIN_WORLD         1.731287e+02  \n",
       "YWIN_WORLD         2.764102e+01  \n",
       "X2WIN_WORLD        4.175494e-07  \n",
       "Y2WIN_WORLD        6.022939e-07  \n",
       "XWIN_IMAGE         2.946772e+02  \n",
       "YWIN_IMAGE         2.418243e+01  \n",
       "X2WIN_IMAGE        5.871842e+00  \n",
       "Y2WIN_IMAGE        8.469758e+00  \n",
       "AWIN_IMAGE         2.921261e+00  \n",
       "BWIN_IMAGE         2.409945e+00  \n",
       "ERRAWIN_IMAGE      1.412108e-01  \n",
       "ERRBWIN_IMAGE      1.408508e-01  \n",
       "ERRTHETAWIN_IMAGE  8.124757e+01  \n",
       "ELONGATION         1.457880e+00  \n",
       "ELLIPTICITY        3.140725e-01  \n",
       "CLASS_STAR         1.427480e-01  \n",
       "FWHM_WORLD         3.929714e-03  \n",
       "SNR_WIN            3.842186e+01  \n",
       "THRESHOLD          6.711899e+01  \n",
       "THRESHOLDMAX       6.711899e+01  \n",
       "FLUX_RADIUS        4.508236e+00  \n",
       "FLUX_AUTO          1.170369e+04  \n",
       "FLUX_APER          2.352257e+03  \n",
       "FLUX_ISO           8.257558e+03  \n",
       "FLUX_MAX           1.637545e+03  \n",
       "MAG_AUTO          -1.017081e+01  \n",
       "MAG_APER          -8.428712e+00  \n",
       "MAG_ISO           -9.792129e+00  \n",
       "FLUXERR_AUTO       5.068923e+02  \n",
       "FLUXERR_APER       1.017124e+02  \n",
       "FLUXERR_ISO        1.868504e+02  \n",
       "MAGERR_AUTO        4.703518e-02  \n",
       "MAGERR_APER        4.695900e-02  \n",
       "MAGERR_ISO         2.457380e-02  \n",
       "CATALOG_NUM        1.000000e+00  "
      ]
     },
     "execution_count": 17,
     "metadata": {},
     "output_type": "execute_result"
    }
   ],
   "source": [
    "#ccc2 = aw.utils.ldac.get_table_from_ldac(catalogs_1[0])\n",
    "#columns_units2 = {column: ccc.columns[column].unit or None for column in ccc.colnames}\n",
    "#catalogs_psf = [aw.utils.ldac.get_table_from_ldac(catalog) for catalog in cats_psf]\n",
    "catalogs = [aw.utils.ldac.get_table_from_ldac(catalog) for catalog in cats]\n",
    "#coadded_cat_psf = [aw.utils.ldac.get_table_from_ldac(catalog) for catalog in coadded_cat_psf]\n",
    "#coadded_cat = [aw.utils.ldac.get_table_from_ldac(catalog) for catalog in coadded_cat]\n",
    "catalogs_list = []\n",
    "for i, catalog in enumerate(catalogs):\n",
    "    if i < 20:\n",
    "        catalog.remove_column('VIGNET')\n",
    "        catalogs_list.append(pd.DataFrame(catalog.to_pandas()))\n",
    "        catalogs_list[-1]['CATALOG_NUM'] = i + 1\n",
    "        #print catalogs_psf_df_list[-1].shape\n",
    "\n",
    "#coadded_cat2 = aw.utils.ldac.get_table_from_ldac(catalogs_5[0]) \n",
    "#coadded_cat2.remove_column('VIGNET')\n",
    "#coadded_df2 = pd.DataFrame(coadded_cat.to_pandas())\n",
    "\n",
    "all_catalogs_df = pd.concat(catalogs_list)\n",
    "print all_catalogs_df.shape\n",
    "all_catalogs_df.head().T"
   ]
  },
  {
   "cell_type": "code",
   "execution_count": 18,
   "metadata": {
    "collapsed": false
   },
   "outputs": [
    {
     "data": {
      "text/plain": [
       "(11707, 43)"
      ]
     },
     "execution_count": 18,
     "metadata": {},
     "output_type": "execute_result"
    }
   ],
   "source": [
    "# remove bad, edge, etc objects\n",
    "bad_objects = all_catalogs_df[all_catalogs_df['FLAGS'] >= 0]\n",
    "bad_objects.reset_index(drop=False, inplace=True)\n",
    "all_catalogs_df = all_catalogs_df[all_catalogs_df['FLAGS'] < 1]\n",
    "all_catalogs_df.reset_index(drop=False, inplace=True)\n",
    "all_catalogs_df.shape\n",
    "#all_catalogs_df.head().T"
   ]
  },
  {
   "cell_type": "code",
   "execution_count": 919,
   "metadata": {
    "collapsed": true
   },
   "outputs": [],
   "source": [
    "# remove bad, edge, etc objects\n",
    "#all_catalogs_df2 = all_catalogs_df2[all_catalogs_df2['FLAGS'] < 8]\n",
    "#all_catalogs_df2.reset_index(drop=False, inplace=True)\n",
    "#all_catalogs_df.head().T"
   ]
  },
  {
   "cell_type": "code",
   "execution_count": 42,
   "metadata": {
    "collapsed": false
   },
   "outputs": [],
   "source": [
    "#print distance(173.141220, 27.699258, 173.136688, 27.700136)\n",
    "#print sky_dist_degrees((173.141220, 27.699258), (173.136688, 27.700136))"
   ]
  },
  {
   "cell_type": "code",
   "execution_count": 15,
   "metadata": {
    "collapsed": false
   },
   "outputs": [],
   "source": [
    "# obj1 and obj2 are tuples (ra,dec)\n",
    "def sky_dist_degrees(obj1, obj2, units=u.degree):\n",
    "    c1 = SkyCoord(ra=obj1[0]*units, dec=obj1[1]*units)\n",
    "    c2 = SkyCoord(ra=obj2[0]*units, dec=obj2[1]*units)\n",
    "    return c1.separation(c2).deg\n",
    "\n",
    "def distance(lat1, lon1, lat2, lon2):\n",
    "    R = 50\n",
    "    # convert decimal degrees to radians \n",
    "    lon1, lat1, lon2, lat2 = map(radians, [lon1, lat1, lon2, lat2])\n",
    "    # haversine formula \n",
    "    dlon = lon2 - lon1 \n",
    "    dlat = lat2 - lat1 \n",
    "    a = sin(dlat/2)**2 + cos(lat1) * cos(lat2) * sin(dlon/2)**2\n",
    "    c = 2 * asin(sqrt(a)) \n",
    "    km = R * c\n",
    "    return km\n",
    "\n",
    "def best_candidate(obj_coord_1, obj_coord_2, cands_coord_1, cands_coord_2, cands_idxs, radius):\n",
    "    min_dist = np.inf\n",
    "    best_cand_idx = None\n",
    "    for i, cand_idx in enumerate(cands_idxs):\n",
    "        cur_dist = distance(obj_coord_1, obj_coord_2, cands_coord_1[i], cands_coord_2[i])\n",
    "        if cur_dist < radius and cur_dist < min_dist:\n",
    "            min_dist = cur_dist\n",
    "            best_cand_idx = cand_idx\n",
    "    return best_cand_idx\n",
    "\n",
    "def find_matching_fast(all_cats, coord_1, coord_2, cat_num_col, radius):\n",
    "    all_cats_sorted = all_cats.sort_values([cat_num_col, coord_1, coord_2], \n",
    "                                           ascending=[True, True, True]).reset_index(drop=True)\n",
    "    n_objs = all_cats_sorted.shape[0]\n",
    "    catalog_nums = sorted(all_cats_sorted[cat_num_col].unique(), reverse=False)\n",
    "    n_cats = len(catalog_nums)\n",
    "    catalog_idxs = range(n_cats)\n",
    "    \n",
    "    coords_1 = all_cats_sorted[coord_1].values\n",
    "    coords_2 = all_cats_sorted[coord_2].values\n",
    "    cats_edges = []\n",
    "    \n",
    "    for cat_idx in catalog_idxs:\n",
    "        min_idx = all_cats_sorted[all_cats_sorted[cat_num_col] == catalog_nums[cat_idx]].index.min()\n",
    "        max_idx = all_cats_sorted[all_cats_sorted[cat_num_col] == catalog_nums[cat_idx]].index.max()\n",
    "        cats_edges.append((min_idx, max_idx))\n",
    "    \n",
    "    # matrix of indieces, rows are objects idxs, columns - matched objects idxs to this row object\n",
    "    idxs = np.zeros((n_objs, n_objs))\n",
    "    \n",
    "    for cat_idx in catalog_idxs:\n",
    "        other_cats_idxs = range(cat_idx) + range(cat_idx + 1, n_cats)\n",
    "        for cur_obj_idx in xrange(cats_edges[cat_idx][0], cats_edges[cat_idx][1] + 1):\n",
    "            is_processed = True if np.any(idxs[:, cur_obj_idx]) else False\n",
    "            if not is_processed:\n",
    "                for other_cat_idx in other_cats_idxs:\n",
    "                    other_cat_objs_idxs = range(cats_edges[other_cat_idx][0], \n",
    "                                                cats_edges[other_cat_idx][1] + 1)\n",
    "                    best_cand_idx = best_candidate(coords_1[cur_obj_idx], coords_2[cur_obj_idx], \n",
    "                                                   coords_1[other_cat_objs_idxs], coords_2[other_cat_objs_idxs], \n",
    "                                                   other_cat_objs_idxs, radius)\n",
    "                    if best_cand_idx is not None:\n",
    "                        idxs[cur_obj_idx][best_cand_idx] = 1\n",
    "                idxs[cur_obj_idx][cur_obj_idx] = 1\n",
    "    \n",
    "    res = []\n",
    "    obj_id = 0\n",
    "    for i in xrange(idxs.shape[0]):\n",
    "        if idxs[i][i]:\n",
    "            df = pd.DataFrame(columns=all_cats_sorted.columns)\n",
    "            size = 0\n",
    "            for j in xrange(idxs.shape[1]):\n",
    "                if idxs[i][j]:\n",
    "                    df.loc[size] = all_cats_sorted.ix[j].values\n",
    "                    size += 1\n",
    "            df['OBJECT_ID_WORLD'] = obj_id\n",
    "            obj_id += 1\n",
    "            res.append(df)\n",
    "    \n",
    "    return pd.concat(res)\n",
    "\n",
    "from scipy import stats as st\n",
    "def time_series_variance_estimate(data, data_samples_rmse):\n",
    "    data_np = np.array(data, dtype=np.float64)\n",
    "    data_samples_rmse_np = np.array(data_samples_rmse, dtype=np.float64)\n",
    "    data_mean = np.mean(data_np)\n",
    "    res = np.mean(np.power(data_np - data_mean, 2))\\\n",
    "            + np.mean(np.power(data_samples_rmse_np, 2))\n",
    "    return res\n",
    "\n",
    "def welch_ttest(mean_1, mean_2, var_1, var_2, n_1, n_2, eps):\n",
    "    if not var_1:\n",
    "        var_1 = eps\n",
    "    if not var_2:\n",
    "        var_2 = eps\n",
    "    t_stat = (mean_1 - mean_2) / np.sqrt(var_1 / n_1 + var_2 / n_2)\n",
    "    ddof = (var_1 / n_1 + var_2 / n_2)**2\n",
    "    ddof /= var_1**2/(n_1**2 * (n_1 - 1)) + var_2**2/(n_2**2 * (n_2 - 1))\n",
    "    p_value = st.t.sf(np.abs(t_stat), ddof)*2\n",
    "    return t_stat, p_value\n",
    "\n",
    "def is_mean_changes(data, data_samples_rmse, alpha, eps, level=1, max_level=2):\n",
    "    if level > max_level:\n",
    "        return False\n",
    "    data = np.array(data)\n",
    "    data_samples_rmse = np.array(data_samples_rmse)\n",
    "    if data.shape[0] < 4:\n",
    "        return False\n",
    "    border = data.shape[0]/2\n",
    "    data_1 = data[:border]\n",
    "    rmse_1 = data_samples_rmse[:border]\n",
    "    data_2 = data[border:]\n",
    "    rmse_2 = data_samples_rmse[border:]\n",
    "    var_1 = time_series_variance_estimate(data_1, rmse_1)\n",
    "    var_2 = time_series_variance_estimate(data_2, rmse_2)\n",
    "    mean_1 = np.mean(data_1)\n",
    "    mean_2 = np.mean(data_2)\n",
    "    n_1 = data_1.shape[0]\n",
    "    n_2 = data_2.shape[0]\n",
    "    t_stat, p_value = welch_ttest(mean_1, mean_2, var_1, var_2, n_1, n_2, eps)\n",
    "    if p_value < alpha:\n",
    "        return True\n",
    "    else:\n",
    "        return is_mean_changes(data_1, rmse_1, alpha, eps, level + 1) \\\n",
    "        or is_mean_changes(data_2, rmse_2, alpha, eps, level + 1)"
   ]
  },
  {
   "cell_type": "code",
   "execution_count": 116,
   "metadata": {
    "collapsed": false
   },
   "outputs": [
    {
     "data": {
      "text/plain": [
       "(293, 48)"
      ]
     },
     "execution_count": 116,
     "metadata": {},
     "output_type": "execute_result"
    }
   ],
   "source": [
    "first_cat_df = all_catalogs_df[all_catalogs_df.CATALOG_NUM == 1]\n",
    "#find_matching_fast(all_catalogs_df, coord_1, coord_2, cat_num_col, radius)\n",
    "refer_cat_df['CATALOG_NUM'] = 0\n",
    "merged_1 = pd.concat([first_cat_df, refer_cat_df])\n",
    "merged_1.shape"
   ]
  },
  {
   "cell_type": "code",
   "execution_count": 20,
   "metadata": {
    "collapsed": false
   },
   "outputs": [
    {
     "data": {
      "text/plain": [
       "(11707, 44)"
      ]
     },
     "execution_count": 20,
     "metadata": {},
     "output_type": "execute_result"
    }
   ],
   "source": [
    "# index column represent initial order of objects \n",
    "# (so sort them by time gives time series if sort by index after all)\n",
    "\n",
    "# define vars\n",
    "sigmas = 1.\n",
    "radius = 0.1\n",
    "index_col = 'index'\n",
    "cat_num_col = 'CATALOG_NUM'\n",
    "param = 'FLUX_PSF'\n",
    "param_rms = 'FLUXERR_PSF'\n",
    "coord_1 = 'X_WORLD'\n",
    "coord_2 = 'Y_WORLD'\n",
    "coord_1_var = 'X2_WORLD'\n",
    "coord_2_var = 'Y2_WORLD'\n",
    "\n",
    "df2 = find_matching_fast(all_catalogs_df, coord_1, coord_2, cat_num_col, radius)\n",
    "df2.drop_duplicates(subset=['X_WORLD', 'Y_WORLD'], inplace=True)\n",
    "df2.shape\n",
    "#df2 = find_matching_fast(all_catalogs_df2, coord_1, coord_2, cat_num_col, radius)"
   ]
  },
  {
   "cell_type": "code",
   "execution_count": 133,
   "metadata": {
    "collapsed": false
   },
   "outputs": [
    {
     "data": {
      "text/html": [
       "<div>\n",
       "<table border=\"1\" class=\"dataframe\">\n",
       "  <thead>\n",
       "    <tr style=\"text-align: right;\">\n",
       "      <th></th>\n",
       "      <th>MAG_AUTO</th>\n",
       "      <th>MAG</th>\n",
       "      <th>CATALOG_NUM</th>\n",
       "    </tr>\n",
       "  </thead>\n",
       "  <tbody>\n",
       "    <tr>\n",
       "      <th>0</th>\n",
       "      <td>NaN</td>\n",
       "      <td>15.552</td>\n",
       "      <td>0.0</td>\n",
       "    </tr>\n",
       "    <tr>\n",
       "      <th>1</th>\n",
       "      <td>-10.149405</td>\n",
       "      <td>NaN</td>\n",
       "      <td>1.0</td>\n",
       "    </tr>\n",
       "  </tbody>\n",
       "</table>\n",
       "</div>"
      ],
      "text/plain": [
       "    MAG_AUTO     MAG  CATALOG_NUM\n",
       "0        NaN  15.552          0.0\n",
       "1 -10.149405     NaN          1.0"
      ]
     },
     "execution_count": 133,
     "metadata": {},
     "output_type": "execute_result"
    }
   ],
   "source": [
    "df2[df2.OBJECT_ID_WORLD == 6][['MAG_AUTO', 'MAG', 'CATALOG_NUM']]"
   ]
  },
  {
   "cell_type": "code",
   "execution_count": 22,
   "metadata": {
    "collapsed": false
   },
   "outputs": [],
   "source": [
    "from matplotlib import colors, cm"
   ]
  },
  {
   "cell_type": "code",
   "execution_count": 23,
   "metadata": {
    "collapsed": false
   },
   "outputs": [
    {
     "data": {
      "image/png": "[encoded data removed]",
      "text/plain": [
       "<matplotlib.figure.Figure at 0x7effac4fc8d0>"
      ]
     },
     "metadata": {},
     "output_type": "display_data"
    }
   ],
   "source": [
    "lst = df2.OBJECT_ID_WORLD.unique()\n",
    "minma = min(lst)\n",
    "maxma = max(lst)\n",
    "\n",
    "norm = colors.Normalize(vmin=minma, vmax=maxma, clip=True)\n",
    "mapper = cm.ScalarMappable(norm=norm, cmap=cm.RdYlBu_r)\n",
    "\n",
    "for obj_id in lst:\n",
    "    gh = df2[df2.OBJECT_ID_WORLD == obj_id]\n",
    "    ras = gh.XWIN_WORLD.values\n",
    "    decs = gh.YWIN_WORLD.values\n",
    "    plt.scatter(ras, decs, c=mapper.to_rgba(obj_id))"
   ]
  },
  {
   "cell_type": "code",
   "execution_count": 830,
   "metadata": {
    "collapsed": true
   },
   "outputs": [],
   "source": [
    "#from sklearn.cluster import DBSCAN"
   ]
  },
  {
   "cell_type": "code",
   "execution_count": null,
   "metadata": {
    "collapsed": true
   },
   "outputs": [],
   "source": [
    "#db = DBSCAN(eps=0.01, min_samples=27)"
   ]
  },
  {
   "cell_type": "code",
   "execution_count": 880,
   "metadata": {
    "collapsed": false
   },
   "outputs": [],
   "source": [
    "# found moving objs (or flashes) (write that comparison with coadded image done)\n",
    "#for obj_id in df2.OBJECT_ID_WORLD.unique():\n",
    "    #print df2[df2.OBJECT_ID_WORLD == obj_id].shape, len(df2[df2.OBJECT_ID_WORLD == obj_id].CATALOG_NUM.unique())"
   ]
  },
  {
   "cell_type": "code",
   "execution_count": 760,
   "metadata": {
    "collapsed": true
   },
   "outputs": [],
   "source": [
    "#df_fin_2 = df2.loc[(df2.XWIN_IMAGE > 495) & (df2.XWIN_IMAGE < 542) \\\n",
    "                    #& (df2.YWIN_IMAGE > 495) & (df2.YWIN_IMAGE < 542)]"
   ]
  },
  {
   "cell_type": "code",
   "execution_count": 1244,
   "metadata": {
    "collapsed": false
   },
   "outputs": [
    {
     "data": {
      "text/plain": [
       "array([ 0.99619835,  0.99276703,  0.99537075,  0.9915878 ,  0.99828572,\n",
       "        0.99664769,  0.9903394 ,  0.99491518,  0.99506799,  0.99065759,\n",
       "        0.99180399,  1.00096547,  0.99768051,  0.99424946,  0.99009158,\n",
       "        0.99807522,  0.99433296,  0.99231376,  0.99795535,  0.99035071,\n",
       "        0.9960605 ,  0.99579293,  0.99298007,  1.00093094,  0.99516554,\n",
       "        0.99317922,  1.00043446])"
      ]
     },
     "execution_count": 1244,
     "metadata": {},
     "output_type": "execute_result"
    }
   ],
   "source": [
    "np.random.uniform(low=0.99, high=1.001, size=27)"
   ]
  },
  {
   "cell_type": "code",
   "execution_count": 24,
   "metadata": {
    "collapsed": false
   },
   "outputs": [],
   "source": [
    "n_objs = len(df2.OBJECT_ID_WORLD.unique())\n",
    "max_len = 27"
   ]
  },
  {
   "cell_type": "code",
   "execution_count": 25,
   "metadata": {
    "collapsed": false
   },
   "outputs": [
    {
     "name": "stdout",
     "output_type": "stream",
     "text": [
      "(1174, 27)\n"
     ]
    }
   ],
   "source": [
    "def moving_average(interval, window_size): \n",
    "    window = np.ones(int(window_size))/float(window_size) \n",
    "    return np.convolve(interval, window, 'valid')\n",
    "\n",
    "fluxes = np.zeros((n_objs, max_len))\n",
    "for obj_id in xrange(n_objs):\n",
    "    param_mat = df2[df2.OBJECT_ID_WORLD == obj_id][['MAG_AUTO', 'CATALOG_NUM']].as_matrix()\n",
    "    flux_mean = np.mean(param_mat[:,0])\n",
    "    flux_std = np.std(param_mat[:,0])\n",
    "    if obj_id == 59 or True:\n",
    "        flux_list = []\n",
    "        idx = 0\n",
    "        for cat_num in xrange(1, 28):\n",
    "            if cat_num not in param_mat[:,1]:\n",
    "                flux_list.append(np.mean(flux_list[:-1] if flux_list[:-1] else flux_mean))\n",
    "            else:\n",
    "                flux_list.append(param_mat[idx, 0])\n",
    "                idx += 1\n",
    "        flux = np.array(flux_list)\n",
    "    #print flux, flux_list\n",
    "    #flux = normalize(flux.reshape(1,-1)).ravel()\n",
    "    fluxes[obj_id] = flux\n",
    "    \n",
    "print fluxes.shape    "
   ]
  },
  {
   "cell_type": "code",
   "execution_count": 29,
   "metadata": {
    "collapsed": false
   },
   "outputs": [
    {
     "data": {
      "text/plain": [
       "array([1, 1, 1, ..., 5, 0, 3], dtype=int32)"
      ]
     },
     "execution_count": 29,
     "metadata": {},
     "output_type": "execute_result"
    }
   ],
   "source": [
    "from sklearn.cluster import KMeans\n",
    "bc = KMeans(n_clusters=6)\n",
    "bc.fit(fluxes)\n",
    "bc.labels_"
   ]
  },
  {
   "cell_type": "code",
   "execution_count": 146,
   "metadata": {
    "collapsed": false
   },
   "outputs": [
    {
     "data": {
      "text/plain": [
       "4"
      ]
     },
     "execution_count": 146,
     "metadata": {},
     "output_type": "execute_result"
    }
   ],
   "source": [
    "rare = []\n",
    "for obj_id in xrange(n_objs):\n",
    "    if len(df2[df2.OBJECT_ID_WORLD == obj_id].CATALOG_NUM.unique()) < 2:\n",
    "        rare.append(obj_id)\n",
    "len(rare)"
   ]
  },
  {
   "cell_type": "code",
   "execution_count": 30,
   "metadata": {
    "collapsed": false
   },
   "outputs": [
    {
     "name": "stdout",
     "output_type": "stream",
     "text": [
      "cluster: 0\n"
     ]
    },
    {
     "data": {
      "image/png": "[encoded data removed]",
      "text/plain": [
       "<matplotlib.figure.Figure at 0x7eff6a2b5ad0>"
      ]
     },
     "metadata": {},
     "output_type": "display_data"
    },
    {
     "name": "stdout",
     "output_type": "stream",
     "text": [
      "cluster: 1\n"
     ]
    },
    {
     "data": {
      "image/png": "[encoded data removed]",
      "text/plain": [
       "<matplotlib.figure.Figure at 0x7eff6a301ed0>"
      ]
     },
     "metadata": {},
     "output_type": "display_data"
    },
    {
     "name": "stdout",
     "output_type": "stream",
     "text": [
      "cluster: 2\n"
     ]
    },
    {
     "data": {
      "image/png": "[encoded data removed]",
      "text/plain": [
       "<matplotlib.figure.Figure at 0x7effaaf55e10>"
      ]
     },
     "metadata": {},
     "output_type": "display_data"
    },
    {
     "name": "stdout",
     "output_type": "stream",
     "text": [
      "cluster: 3\n"
     ]
    },
    {
     "data": {
      "image/png": "[encoded data removed]",
      "text/plain": [
       "<matplotlib.figure.Figure at 0x7eff6a2d7290>"
      ]
     },
     "metadata": {},
     "output_type": "display_data"
    },
    {
     "name": "stdout",
     "output_type": "stream",
     "text": [
      "cluster: 4\n"
     ]
    },
    {
     "data": {
      "image/png": "[encoded data removed]",
      "text/plain": [
       "<matplotlib.figure.Figure at 0x7effaac76490>"
      ]
     },
     "metadata": {},
     "output_type": "display_data"
    },
    {
     "name": "stdout",
     "output_type": "stream",
     "text": [
      "cluster: 5\n"
     ]
    },
    {
     "data": {
      "image/png": "[encoded data removed]",
      "text/plain": [
       "<matplotlib.figure.Figure at 0x7effaae08a50>"
      ]
     },
     "metadata": {},
     "output_type": "display_data"
    }
   ],
   "source": [
    "for obj_cl in np.unique(bc.labels_):\n",
    "    print 'cluster:', obj_cl\n",
    "    for obj_id in xrange(n_objs):\n",
    "        if obj_cl == bc.labels_[obj_id] and obj_id <=59:\n",
    "            plt.plot(range(1,28), fluxes[obj_id])\n",
    "    plt.show()"
   ]
  },
  {
   "cell_type": "code",
   "execution_count": 1386,
   "metadata": {
    "collapsed": false
   },
   "outputs": [
    {
     "ename": "TypeError",
     "evalue": "mean() takes at least 1 argument (0 given)",
     "output_type": "error",
     "traceback": [
      "\u001b[0;31m---------------------------------------------------------------------------\u001b[0m",
      "\u001b[0;31mTypeError\u001b[0m                                 Traceback (most recent call last)",
      "\u001b[0;32m<ipython-input-1386-758362e378fc>\u001b[0m in \u001b[0;36m<module>\u001b[0;34m()\u001b[0m\n\u001b[1;32m      1\u001b[0m \u001b[0;32mfor\u001b[0m \u001b[0mobj_if\u001b[0m \u001b[0;32min\u001b[0m \u001b[0mdf2\u001b[0m\u001b[0;34m.\u001b[0m\u001b[0mOBJECT_ID_WORLD\u001b[0m\u001b[0;34m.\u001b[0m\u001b[0munique\u001b[0m\u001b[0;34m(\u001b[0m\u001b[0;34m)\u001b[0m\u001b[0;34m:\u001b[0m\u001b[0;34m\u001b[0m\u001b[0m\n\u001b[0;32m----> 2\u001b[0;31m     \u001b[0mmean_flus\u001b[0m \u001b[0;34m=\u001b[0m \u001b[0mnp\u001b[0m\u001b[0;34m.\u001b[0m\u001b[0mmean\u001b[0m\u001b[0;34m(\u001b[0m\u001b[0;34m)\u001b[0m\u001b[0;34m\u001b[0m\u001b[0m\n\u001b[0m",
      "\u001b[0;31mTypeError\u001b[0m: mean() takes at least 1 argument (0 given)"
     ]
    }
   ],
   "source": [
    "for obj_if in df2.OBJECT_ID_WORLD.unique():\n",
    "    mean_flus = np.mean()"
   ]
  },
  {
   "cell_type": "code",
   "execution_count": 412,
   "metadata": {
    "collapsed": false
   },
   "outputs": [],
   "source": [
    "df_fin = all_catalogs_df.loc[(all_catalogs_df.XWIN_IMAGE > 495) & (all_catalogs_df.XWIN_IMAGE < 542) \\\n",
    "                    & (all_catalogs_df.YWIN_IMAGE > 495) & (all_catalogs_df.YWIN_IMAGE < 542)]\n",
    "\n",
    "coadded_df = coadded_df.loc[(coadded_df.XWIN_IMAGE > 495) & (coadded_df.XWIN_IMAGE < 542) \\\n",
    "                    & (coadded_df.YWIN_IMAGE > 495) & (coadded_df.YWIN_IMAGE < 542)]"
   ]
  },
  {
   "cell_type": "code",
   "execution_count": 418,
   "metadata": {
    "collapsed": false
   },
   "outputs": [
    {
     "data": {
      "text/html": [
       "<div>\n",
       "<table border=\"1\" class=\"dataframe\">\n",
       "  <thead>\n",
       "    <tr style=\"text-align: right;\">\n",
       "      <th></th>\n",
       "      <th>XWIN_WORLD</th>\n",
       "      <th>X2WIN_WORLD</th>\n",
       "      <th>YWIN_WORLD</th>\n",
       "      <th>X2WIN_WORLD</th>\n",
       "      <th>FLUX_AUTO</th>\n",
       "      <th>FLUXERR_AUTO</th>\n",
       "    </tr>\n",
       "  </thead>\n",
       "  <tbody>\n",
       "    <tr>\n",
       "      <th>84</th>\n",
       "      <td>173.133698</td>\n",
       "      <td>4.487870e-07</td>\n",
       "      <td>27.697637</td>\n",
       "      <td>4.487870e-07</td>\n",
       "      <td>13155.604492</td>\n",
       "      <td>310.444244</td>\n",
       "    </tr>\n",
       "  </tbody>\n",
       "</table>\n",
       "</div>"
      ],
      "text/plain": [
       "    XWIN_WORLD   X2WIN_WORLD  YWIN_WORLD   X2WIN_WORLD     FLUX_AUTO  \\\n",
       "84  173.133698  4.487870e-07   27.697637  4.487870e-07  13155.604492   \n",
       "\n",
       "    FLUXERR_AUTO  \n",
       "84    310.444244  "
      ]
     },
     "execution_count": 418,
     "metadata": {},
     "output_type": "execute_result"
    }
   ],
   "source": [
    "coadded_df.X"
   ]
  },
  {
   "cell_type": "code",
   "execution_count": 873,
   "metadata": {
    "collapsed": false
   },
   "outputs": [],
   "source": [
    "#df_fin[['XWIN_WORLD','X2WIN_WORLD','YWIN_WORLD','X2WIN_WORLD','FLUX_AUTO', 'FLUXERR_AUTO']]"
   ]
  },
  {
   "cell_type": "markdown",
   "metadata": {},
   "source": [
    "### Local hardcoded pipelines (testing astromatic software)"
   ]
  },
  {
   "cell_type": "raw",
   "metadata": {},
   "source": [
    "Input: set of images, paths\n",
    "Output: coadded image, catalog"
   ]
  },
  {
   "cell_type": "code",
   "execution_count": 68,
   "metadata": {
    "collapsed": true
   },
   "outputs": [],
   "source": [
    "# by defualt, we search for images in paths['images']\n",
    "def pipeline_1(paths):\n",
    "    print \"prepare...\"\n",
    "    # prepare\n",
    "    fits_format = 'fit'\n",
    "    filenames = sorted(get_fits_images_from_dir(paths['images'], files_format=fits_format))\n",
    "    exposures = []\n",
    "    for filename in filenames:\n",
    "        exposures.append({'image': os.path.join(paths['images'], filename)})\n",
    "    # STEP 1: basic extraction with SExtractor (generate catalogs) for each image\n",
    "    catalog_names = []\n",
    "    print 'begin SExtractor execution'\n",
    "    for files in exposures:\n",
    "        print files['image'] + ':'\n",
    "        # Create names for the output catalogs for each image (in temp dir)\n",
    "        catalog_names.append(os.path.join(paths['temp'],\n",
    "            os.path.basename(files['image']).replace('.'+fits_format, '.cat')))\n",
    "        # set params for sextractor execution\n",
    "        sex_kwargs_1 = {'code': 'SExtractor'}\n",
    "        sex_kwargs_1['config_file'] = os.path.join(paths['config'], 'default.sex')\n",
    "        sex_kwargs_1['config'] = {'CATALOG_NAME': catalog_names[-1]}\n",
    "        sex_kwargs_1['config']['CATALOG_TYPE'] = 'FITS_LDAC'\n",
    "        sex_kwargs_1['config']['FILTER'] = 'N'\n",
    "        sex_kwargs_1['temp_path'] = paths['temp']\n",
    "        sex_kwargs_1['params'] = ['NUMBER', 'EXT_NUMBER', 'XWIN_IMAGE', 'YWIN_IMAGE', 'AWIN_IMAGE', 'BWIN_IMAGE',\n",
    "                                  'ERRAWIN_IMAGE','ERRBWIN_IMAGE', 'ERRTHETAWIN_IMAGE', 'ERRA_WORLD', 'ERRB_WORLD', \n",
    "                                  'ERRTHETA_WORLD', 'X_WORLD', 'Y_WORLD', 'XWIN_WORLD', 'YWIN_WORLD', \n",
    "                                  'FLUX_AUTO', 'FLUX_MAX', 'MAG_AUTO', 'FLUXERR_AUTO', \n",
    "                                  'FLAGS', 'FLUX_RADIUS', 'ELONGATION']\n",
    "        sextractor = aw.api.Astromatic(**sex_kwargs_1)\n",
    "        print sextractor.run(files['image'])\n",
    "    print 'all catalogs successfully created'\n",
    "    \n",
    "    # STEP 2: compute solution for extracted catalogs\n",
    "    print 'SCAMP now working...'\n",
    "    scamp_kwargs_1 = {\n",
    "        'config': {\n",
    "            'ASTREF_CATALOG': 'USNO-B1',\n",
    "            'ASTREF_BAND': 'DEFAULT',\n",
    "            'SOLVE_PHOTOM': 'N',\n",
    "            'CHECKPLOT_DEV': 'NULL'\n",
    "            }\n",
    "    }\n",
    "    scamp_kwargs_1['code'] = 'SCAMP'\n",
    "    scamp_kwargs_1['config_file'] = os.path.join(paths['config'], 'default.scamp')\n",
    "    scamp = aw.api.Astromatic(**scamp_kwargs_1)\n",
    "    this_cmd, kwargs2 = scamp.build_cmd(catalog_names, **scamp_kwargs_1)\n",
    "    #print this_cmd\n",
    "    print scamp.run(catalog_names)\n",
    "    \n",
    "    print 'SWarp now working...'\n",
    "    # STEP 3: use SWarp for coadd images using .head files, computed with SCAMP\n",
    "    coadd_fits_name = 'coadded.fits'\n",
    "    coadd_fits_filename = os.path.join(paths['temp'], coadd_fits_name)\n",
    "    swarp_kwargs_1 = {\n",
    "        'config': {\n",
    "            'IMAGEOUT_NAME': coadd_fits_filename,\n",
    "            'WEIGHTOUT_NAME': coadd_fits_filename.replace('.fits','.wtmap.fits'),\n",
    "        }\n",
    "        }\n",
    "    swarp_kwargs_1['code'] = 'SWarp'\n",
    "    swarp_kwargs_1['config_file'] = os.path.join(paths['config'], 'default.swarp')\n",
    "    swarp = aw.api.Astromatic(**swarp_kwargs_1)\n",
    "    this_cmd, kwargs2 = swarp.build_cmd([exp['image'] for exp in exposures], **swarp_kwargs_1)\n",
    "    #print this_cmd\n",
    "    print swarp.run([exp['image'] for exp in exposures])\n",
    "    #return\n",
    "    # STEP 4: extract object from coadded image using PSF\n",
    "    print 'SExtractor now working...'\n",
    "    coadd_weight_map = coadd_fits_filename.replace('.fits','.wtmap.fits')\n",
    "    sex_kwargs_2 = {\n",
    "            'config': {\n",
    "                'CATALOG_NAME': coadd_fits_filename.replace('.fits', '.cat'),\n",
    "                'CATALOG_TYPE': 'FITS_LDAC',\n",
    "                'FILTER': 'N',\n",
    "                'WEIGHT_IMAGE': coadd_weight_map,\n",
    "                'WEIGHT_TYPE': 'MAP_WEIGHT',        \n",
    "            },\n",
    "            'params': ['NUMBER', 'EXT_NUMBER', 'XWIN_IMAGE', 'YWIN_IMAGE', 'ERRAWIN_IMAGE',\n",
    "                'ERRBWIN_IMAGE', 'ERRTHETAWIN_IMAGE', 'XWIN_WORLD', 'YWIN_WORLD', 'FLUX_APER(1)',\n",
    "                'FLUXERR_APER(1)', 'FLAGS', 'FLAGS_WEIGHT', 'FLUX_RADIUS',\n",
    "                'ELONGATION', 'VIGNET(20,20)', 'SNR_WIN']\n",
    "        }\n",
    "    sex_kwargs_2['code'] = 'SExtractor'\n",
    "    sex_kwargs_2['config_file'] = os.path.join(paths['config'], 'default.sex')\n",
    "    sex_kwargs_2['temp_path'] = paths['temp']\n",
    "    sextractor = aw.api.Astromatic(**sex_kwargs_2)\n",
    "    print sextractor.run(coadd_fits_filename)\n",
    "    \n",
    "    # Calculate PSF\n",
    "    print 'PSFex now working...'\n",
    "    psf_kwargs_1 = {\n",
    "        'config': {\n",
    "            'PHOT_APERTURES':'15'\n",
    "            'CENTER_KEYS': 'XWIN_IMAGE,YWIN_IMAGE',\n",
    "            'PSFVAR_KEYS': 'XWIN_IMAGE,YWIN_IMAGE',\n",
    "            'PHOTFLUX_KEY': 'FLUX_AUTO',\n",
    "            'PHOTFLUXERR_KEY': 'FLUXERR_AUTO',\n",
    "            'CHECKPLOT_DEV': 'NULL',\n",
    "            'STABILITY_TYPE':  'EXPOSURE',\n",
    "            'PSF_SUFFIX': '.psf'\n",
    "        }\n",
    "    }\n",
    "    psf_kwargs_1['code'] = 'PSFEx'\n",
    "    psf_kwargs_1['config_file'] = os.path.join(paths['config'], 'default.psfex')\n",
    "    psf_kwargs_1['temp_path'] = paths['temp']\n",
    "    psfex = aw.api.Astromatic(**psf_kwargs_1)\n",
    "    print psfex.run(coadd_fits_filename.replace('.fits', '.cat'))\n",
    "    \n",
    "    # Calculate PSF photometry for coadded image\n",
    "    print 'SExtractor now working...'\n",
    "    output_cat_name = 'result.ldac.fits'\n",
    "    catalog_name = os.path.join(paths['catalogs'], output_cat_name)\n",
    "    sex_kwargs_3 = {\n",
    "            'config': {\n",
    "                'PSF_NAME': os.path.join(coadd_fits_filename.replace('.fits', '.psf')),\n",
    "                'CATALOG_TYPE': 'FITS_LDAC',\n",
    "                'FILTER': 'N',\n",
    "                'CATALOG_NAME': catalog_name,\n",
    "                'WEIGHT_IMAGE': coadd_weight_map,\n",
    "                'WEIGHT_TYPE': 'MAP_WEIGHT',\n",
    "            },\n",
    "            'params': ['NUMBER', 'EXT_NUMBER', 'XWIN_IMAGE', 'YWIN_IMAGE', 'ERRAWIN_IMAGE',\n",
    "                'ERRBWIN_IMAGE', 'ERRTHETAWIN_IMAGE', 'XWIN_WORLD', 'YWIN_WORLD', 'FLUX_AUTO',\n",
    "                'FLUXERR_AUTO', 'FLAGS', 'FLAGS_WEIGHT', 'FLUX_RADIUS',\n",
    "                'ELONGATION', 'MAG_AUTO', 'MAGERR_AUTO', 'ALPHAPSF_SKY', 'DELTAPSF_SKY',\n",
    "                'ERRX2PSF_WORLD','ERRY2PSF_WORLD', 'FLUX_PSF', 'FLUXERR_PSF', 'MAG_PSF', 'MAGERR_PSF']\n",
    "        }\n",
    "    sex_kwargs_3['code'] = 'SExtractor'\n",
    "    sex_kwargs_3['config_file'] = os.path.join(paths['config'], 'default.sex')\n",
    "    sex_kwargs_3['temp_path'] = paths['temp']\n",
    "    sextractor = aw.api.Astromatic(**sex_kwargs_3)\n",
    "    print sextractor.run(coadd_fits_filename)\n",
    "    return catalog_name"
   ]
  },
  {
   "cell_type": "code",
   "execution_count": 70,
   "metadata": {
    "collapsed": false
   },
   "outputs": [
    {
     "name": "stdout",
     "output_type": "stream",
     "text": [
      "prepare...\n",
      "begin SExtractor execution\n",
      "/home/ser/Dev/astro_engine/spark_pipeline/spark_pipeline_test_1/images/GRB130427_R60_001_001.fit:\n",
      "{'status': 'success'}\n",
      "/home/ser/Dev/astro_engine/spark_pipeline/spark_pipeline_test_1/images/GRB130427_R60_001_002.fit:\n",
      "{'status': 'success'}\n",
      "all catalogs successfully created\n",
      "SCAMP now working...\n",
      "{'status': 'success'}\n",
      "SWarp now working...\n",
      "{'status': 'success'}\n"
     ]
    }
   ],
   "source": [
    "catalog_name = pipeline_1(paths)\n",
    "#catalog = aw.utils.ldac.get_table_from_ldac(catalog_name)\n",
    "#catalog"
   ]
  },
  {
   "cell_type": "markdown",
   "metadata": {},
   "source": [
    "## Test pipeline components"
   ]
  },
  {
   "cell_type": "code",
   "execution_count": 29,
   "metadata": {
    "collapsed": true
   },
   "outputs": [],
   "source": [
    "def build_pipeline(pipeline, exposures, ref_catalog='IKI', ref_band='DEFAULT',\n",
    "        stack_name = 'test_stack.fits', output_cat_name='test_psf.ldac.fits'):\n",
    "    # Generate catalogs from sextractor\n",
    "    catalog_names = []\n",
    "    for files in exposures:\n",
    "        # Create names for the output catalogs for each image\n",
    "        catalog_names.append(os.path.join(pipeline.paths['temp'],\n",
    "            os.path.basename(files['image']).replace('.fit', '.cat')))\n",
    "        kwargs = {\n",
    "            # image to SExtract\n",
    "            'files': files,\n",
    "            # Arguments to initialize Astromatic class\n",
    "            'api_kwargs': {\n",
    "                # Configuration parameters\n",
    "                'config': {\n",
    "                    'CATALOG_NAME': catalog_names[-1],\n",
    "                    'CATALOG_TYPE': 'FITS_LDAC',\n",
    "                    'FILTER': 'N',\n",
    "                    #'WEIGHT_TYPE': 'MAP_WEIGHT',\n",
    "                },\n",
    "                # Output parameters\n",
    "                'params': ['NUMBER', 'EXT_NUMBER', 'XWIN_IMAGE', 'YWIN_IMAGE', 'ERRAWIN_IMAGE',\n",
    "                    'ERRBWIN_IMAGE', 'ERRTHETAWIN_IMAGE', 'XWIN_WORLD', 'YWIN_WORLD', 'FLUX_AUTO',\n",
    "                    'FLUXERR_AUTO', 'IMAFLAGS_ISO', 'FLAGS', 'FLAGS_WEIGHT', 'FLUX_RADIUS',\n",
    "                    'ELONGATION'],\n",
    "            },\n",
    "        }\n",
    "        # Add the step to the pipeline\n",
    "        pipeline.add_step(aw.api.run_sex, ['step1', 'SExtractor'], **kwargs)\n",
    "\n",
    "    # Use SCAMP to get astrometric solutions\n",
    "    kwargs = {\n",
    "        'catalogs': catalog_names,\n",
    "        'api_kwargs': {\n",
    "            'config': {\n",
    "                'ASTREF_CATALOG': ref_catalog,\n",
    "                'ASTREF_BAND': ref_band,\n",
    "                'SOLVE_PHOTOM': 'N',\n",
    "                'CHECKPLOT_DEV': 'NULL'\n",
    "            },\n",
    "        }\n",
    "    }\n",
    "    pipeline.add_step(aw.api.run_scamp, ['step2', 'SCAMP'],**kwargs)\n",
    "\n",
    "    # Resample (rotate and scale) and combine (stack) images using SWarp\n",
    "    stack_filename = os.path.join(pipeline.paths['temp'], stack_name)\n",
    "    kwargs = {\n",
    "        'filenames': [exp['image'] for exp in exposures],\n",
    "        'api_kwargs': {\n",
    "            'config': {\n",
    "                'WEIGHT_TYPE': 'MAP_WEIGHT',\n",
    "                'WEIGHT_SUFFIX': '.wtmap.fits',\n",
    "                'IMAGEOUT_NAME': stack_filename,\n",
    "                'WEIGHTOUT_NAME': stack_filename.replace('.fits','.wtmap.fits'),\n",
    "            },\n",
    "        }\n",
    "    }\n",
    "    pipeline.add_step(aw.api.run_swarp, ['step3', 'SWarp'], **kwargs)\n",
    "\n",
    "    # Get positions in stack for PSF photometry (SExtractor -> PSFex -> SExtractor)\n",
    "    kwargs = {\n",
    "        'files': {\n",
    "            'image': stack_filename,\n",
    "            'wtmap': stack_filename.replace('.fits', '.wtmap.fits')\n",
    "        },\n",
    "        'api_kwargs': {\n",
    "            'config': {\n",
    "                'CATALOG_TYPE': 'FITS_LDAC',\n",
    "                'FILTER': 'N',\n",
    "                'WEIGHT_TYPE': 'MAP_WEIGHT',\n",
    "            },\n",
    "            'params': ['NUMBER', 'EXT_NUMBER', 'XWIN_IMAGE', 'YWIN_IMAGE', 'ERRAWIN_IMAGE',\n",
    "                'ERRBWIN_IMAGE', 'ERRTHETAWIN_IMAGE', 'XWIN_WORLD', 'YWIN_WORLD', 'FLUX_APER(1)',\n",
    "                'FLUXERR_APER(1)', 'FLAGS', 'FLAGS_WEIGHT', 'FLUX_RADIUS',\n",
    "                'ELONGATION', 'VIGNET(20,20)', 'SNR_WIN'],\n",
    "        }\n",
    "    }\n",
    "    pipeline.add_step(aw.api.run_sex, ['step4', 'SExtractor'], **kwargs)\n",
    "\n",
    "    # Calculate PSF\n",
    "    kwargs = {\n",
    "        'catalogs': stack_filename.replace('.fits', '.cat'),\n",
    "        'api_kwargs': {\n",
    "            'config': {\n",
    "                'CENTER_KEYS': 'XWIN_IMAGE,YWIN_IMAGE',\n",
    "                'PSFVAR_KEYS': 'XWIN_IMAGE,YWIN_IMAGE',\n",
    "                'CHECKPLOT_DEV': 'NULL',\n",
    "                'PSF_SUFFIX': '.psf'\n",
    "            }\n",
    "        }\n",
    "    }\n",
    "    pipeline.add_step(aw.api.run_psfex, ['step5', 'PSFEx'], **kwargs)\n",
    "\n",
    "    # Calculate PSF photometry for coadded image\n",
    "    catalog_name = os.path.join(pipeline.paths['catalogs'], output_cat_name)\n",
    "    kwargs = {\n",
    "        'files': {\n",
    "            'image': stack_filename,\n",
    "            'wtmap': stack_filename.replace('.fits', '.wtmap.fits')\n",
    "        },\n",
    "        'api_kwargs': {\n",
    "            'config': {\n",
    "                'PSF_NAME': os.path.join(stack_filename.replace('.fits', '.psf')),\n",
    "                'CATALOG_TYPE': 'FITS_LDAC',\n",
    "                'FILTER': 'N',\n",
    "                'CATALOG_NAME': catalog_name,\n",
    "                'WEIGHT_TYPE': 'MAP_WEIGHT',\n",
    "            },\n",
    "            'params': ['NUMBER', 'EXT_NUMBER', 'XWIN_IMAGE', 'YWIN_IMAGE', 'ERRAWIN_IMAGE',\n",
    "                'ERRBWIN_IMAGE', 'ERRTHETAWIN_IMAGE', 'XWIN_WORLD', 'YWIN_WORLD', 'FLUX_AUTO',\n",
    "                'FLUXERR_AUTO', 'FLAGS', 'FLAGS_WEIGHT', 'FLUX_RADIUS',\n",
    "                'ELONGATION', 'MAG_AUTO', 'MAGERR_AUTO', 'ALPHAPSF_SKY', 'DELTAPSF_SKY',\n",
    "                'ERRX2PSF_WORLD','ERRY2PSF_WORLD', 'FLUX_PSF', 'FLUXERR_PSF', 'MAG_PSF', 'MAGERR_PSF'],\n",
    "        }\n",
    "    }\n",
    "    pipeline.add_step(aw.api.run_sex, ['step6', 'SExtractor'], **kwargs)\n",
    "\n",
    "    def save_output(pipeline, old_stack, new_stack, old_cat, new_cat):\n",
    "        # Copy the final stack and catalog from the temp folder\n",
    "        import shutil\n",
    "        # Move the weight map if it exists\n",
    "        if os.path.isfile(old_stack.replace('.fits', '.wtmap.fits')):\n",
    "            shutil.move(old_stack.replace('.fits', '.wtmap.fits'), new_stack.replace('.fits', '.wtmap.fits'))\n",
    "        shutil.move(old_stack, new_stack)\n",
    "        shutil.move(old_cat, new_cat)\n",
    "        result = {\n",
    "            'status': 'success'\n",
    "        }\n",
    "        return result\n",
    "\n",
    "    kwargs = {\n",
    "        'old_stack': stack_filename,\n",
    "        'new_stack': os.path.join(pipeline.paths['stacks'], stack_name),\n",
    "        'old_cat': catalog_name,\n",
    "        'new_cat': os.path.join(pipeline.paths['catalogs'], output_cat_name)\n",
    "    }\n",
    "    pipeline.add_step(save_output, ['step7', 'save_output'], **kwargs)\n",
    "\n",
    "    return pipeline"
   ]
  }
 ],
 "metadata": {
  "anaconda-cloud": {},
  "kernelspec": {
   "display_name": "Python [conda env:iraf27]",
   "language": "python",
   "name": "conda-env-iraf27-py"
  },
  "language_info": {
   "codemirror_mode": {
    "name": "ipython",
    "version": 2
   },
   "file_extension": ".py",
   "mimetype": "text/x-python",
   "name": "python",
   "nbconvert_exporter": "python",
   "pygments_lexer": "ipython2",
   "version": "2.7.13"
  }
 },
 "nbformat": 4,
 "nbformat_minor": 1
}
