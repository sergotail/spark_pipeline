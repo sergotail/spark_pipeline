{
 "cells": [
  {
   "cell_type": "code",
   "execution_count": null,
   "metadata": {
    "collapsed": true
   },
   "outputs": [],
   "source": [
    "#pipeline pseudocode\n",
    "init_pipeline(params)\n",
    "    #prepare_image_and_dirs - at now we manually put fits files in current dir\n",
    "    init_astromatic_wrapper # create kwargs dicts for astromatic objects from global params\n",
    "\n",
    "# assume we have some images image1.fits image2.fits image3.fits and corresponding to them bias dark and flat fits\n",
    "# 1 pre-reduction of FITS (bias, dark ,flat - HOW???) output - pr_images\n",
    "# 2 calibrate images using SCAMP (which uses SExtractor catalog)\n",
    "    # create catalog from pre-reduced fits\n",
    "    sextractor1 = aw.api.Astromatic(**sex_kwargs_1)\n",
    "    sextractor1.run(pr_image1.fits) # output - sex_output_pr_1\n",
    "    # send catalog to SCAMP - it will calculate astrometry and photometry solution (write into header)\n",
    "    scamp = aw.api.Astromatic(**scamp_kwargs)\n",
    "    scamp.run(sex_output_pr_1.fits) # output - calibrated_pr_1\n",
    "    # for 2 and 3 the same way\n",
    "# 3 co-addition and resampling of calibrated pre-reduced images\n",
    "    swarp = aw.api.Astromatic(**swarp_kwargs)\n",
    "    swarp.run(calibrated_pr_images) # output - preprocessed_coadd\n",
    "# 4 extracting sources from preprocessed images\n",
    "    sextractor2 = aw.api.Astromatic(**sex_kwargs_2)\n",
    "    sextractor2.run(preprocessed_coadd.fits) # output - catalog_1\n",
    "    psfex = aw.api.Astromatic(**psfex_kwargs)\n",
    "    psfex.run(catalog_1) # output - psf_coadd\n",
    "    sextractor3 = aw.api.Astromatic(**sex_kwargs_3)\n",
    "    sextractor3.run(preprocessed_coadd.fits, psf_coadd.fits) # output - catalog_2\n",
    "# catalog_2 - catalog of objects extracted from pre-reducted, preprocessed and co-added and psf-modeled fits\n",
    "# futher processing:\n",
    "    # a) put catalog into DB\n",
    "    # b) add single images processing (not only co-added) - add to catalog objects wchich dissapeared after co-addition"
   ]
  },
  {
   "cell_type": "markdown",
   "metadata": {},
   "source": [
    "# First, we check workability of components of astromatic software through astromatic_wrapper api"
   ]
  },
  {
   "cell_type": "markdown",
   "metadata": {},
   "source": [
    "## Prepare invironment"
   ]
  },
  {
   "cell_type": "code",
   "execution_count": 1,
   "metadata": {
    "collapsed": false
   },
   "outputs": [],
   "source": [
    "import os\n",
    "import datetime\n",
    "import fnmatch\n",
    "import re\n",
    "import astromatic_wrapper as aw #TODO: install aw to itaf virtual env\n",
    "from astropy.io import fits"
   ]
  },
  {
   "cell_type": "code",
   "execution_count": 2,
   "metadata": {
    "collapsed": false
   },
   "outputs": [],
   "source": [
    "#!pip install apex"
   ]
  },
  {
   "cell_type": "code",
   "execution_count": 3,
   "metadata": {
    "collapsed": false
   },
   "outputs": [],
   "source": [
    "import pyraf.iraf as iraf\n",
    "import pyraf"
   ]
  },
  {
   "cell_type": "code",
   "execution_count": 4,
   "metadata": {
    "collapsed": false
   },
   "outputs": [],
   "source": [
    "import sys\n",
    "sys.path.insert(0, '/home/ser/Dev/astro_engine/code')\n",
    "from astro_utils import AEDirsTreeConfigurer"
   ]
  },
  {
   "cell_type": "code",
   "execution_count": 7,
   "metadata": {
    "collapsed": false
   },
   "outputs": [],
   "source": [
    "from fits_utils import *"
   ]
  },
  {
   "cell_type": "code",
   "execution_count": 5,
   "metadata": {
    "collapsed": false
   },
   "outputs": [],
   "source": [
    "print_iraf_tasks = 0\n",
    "iraf.module.images(_doprint=print_iraf_tasks) # print or not to print (why it not working?)"
   ]
  },
  {
   "cell_type": "markdown",
   "metadata": {},
   "source": [
    "Just test that PyRAF works"
   ]
  },
  {
   "cell_type": "code",
   "execution_count": 6,
   "metadata": {
    "collapsed": false
   },
   "outputs": [
    {
     "name": "stdout",
     "output_type": "stream",
     "text": [
      "0\n"
     ]
    }
   ],
   "source": [
    "print iraf.module.imaccess('im_3.fit') #TODO: implement access check if needed\n",
    "input_fits = 'im_1.fit, im_2.fit'\n",
    "output_fits = 'res.fit'\n",
    "s = iraf.module.imcombine(input_fits, output_fits, combine='median', Stdout=1, Stderr=1)"
   ]
  },
  {
   "cell_type": "code",
   "execution_count": 75,
   "metadata": {
    "collapsed": false
   },
   "outputs": [
    {
     "data": {
      "text/plain": [
       "{'catalogs': '/home/ser/Dev/astro_engine/spark_pipeline/spark_pipeline_test_1/catalogs',\n",
       " 'config': '/home/ser/Dev/astro_engine/spark_pipeline/spark_pipeline_test_1/config',\n",
       " 'images': '/home/ser/Dev/astro_engine/spark_pipeline/spark_pipeline_test_1/images',\n",
       " 'logs': '/home/ser/Dev/astro_engine/spark_pipeline/spark_pipeline_test_1/logs',\n",
       " 'stacks': '/home/ser/Dev/astro_engine/spark_pipeline/spark_pipeline_test_1/stacks',\n",
       " 'temp': '/home/ser/Dev/astro_engine/spark_pipeline/spark_pipeline_test_1/temp'}"
      ]
     },
     "execution_count": 75,
     "metadata": {},
     "output_type": "execute_result"
    }
   ],
   "source": [
    "dirs = AEDirsTreeConfigurer()#images_path='images/GRB130427A')\n",
    "dirs.build_dirs_tree()\n",
    "dirs.new_log_dir()\n",
    "paths = dirs.get_paths()\n",
    "paths"
   ]
  },
  {
   "cell_type": "code",
   "execution_count": 108,
   "metadata": {
    "collapsed": true
   },
   "outputs": [],
   "source": [
    "# set image filename\n",
    "files = {'image': os.path.join(paths['images'], 'GRB130427_R60_001_003.fit')}"
   ]
  },
  {
   "cell_type": "code",
   "execution_count": 57,
   "metadata": {
    "collapsed": false
   },
   "outputs": [],
   "source": [
    "# dumped code used for hardcoded configurations\n",
    "common_config = {'config_files': \n",
    "        {'scamp_required_catalog_params': os.path.join(paths['config'],'scamp_required_catalog_params.json'),\n",
    "        'pipeline_config': os.path.join(paths['config'], 'pipeline_config.json')\n",
    "         }}\n",
    "scamp_required_catalog_params = ['NUMBER', 'EXT_NUMBER', 'XWIN_IMAGE', 'YWIN_IMAGE', \n",
    "                                           'AWIN_IMAGE', 'BWIN_IMAGE', \n",
    "                                           'ERRAWIN_IMAGE','ERRBWIN_IMAGE',  'ERRTHETAWIN_IMAGE',\n",
    "                                           'ERRA_WORLD', 'ERRB_WORLD','ERRTHETA_WORLD',\n",
    "                                           'XWIN_WORLD', 'YWIN_WORLD',\n",
    "                                           'X_WORLD', 'Y_WORLD', \n",
    "                                           'FLUX_AUTO', 'FLUX_MAX','FLUX_RADIUS', 'FLUXERR_AUTO', \n",
    "                                           'MAG_AUTO', 'MAGERR_AUTO',\n",
    "                                           # flags not supported yet (need Weightwatcher)\n",
    "                                           #'IMAFLAGS_ISO', 'FLAGS_WEIGHT',\n",
    "                                           'FLAGS', 'ELONGATION'] # TODO: refine this!\n",
    "pipeline_config = {'INPUT_FITS_FORMAT': 'fit' ,'sex_kwargs_calibration_catalogs': sex_kwargs_calibration_catalogs}\n",
    "\n",
    "sex_config_name = 'default.sex'\n",
    "scamp_config_name = 'default.scamp'\n",
    "swarp_config_name = 'default.swarp'\n",
    "sex_config_file = os.path.join(paths['config'], sex_config_name)\n",
    "scamp_config_file = os.path.join(paths['config'], scamp_config_name)\n",
    "swarp_config_file = os.path.join(paths['config'], swarp_config_name)\n",
    "\n",
    "filter_kernel = 'gauss_4.0_7x7.conv'\n",
    "filter_name = os.path.join(paths['config'], filter_kernel)\n",
    "detect_thresh = '5'\n",
    "analysis_thresh = '5'\n",
    "filter_ = 'Y'\n",
    "params = ['NUMBER', 'EXT_NUMBER', 'XWIN_IMAGE', 'YWIN_IMAGE', 'AWIN_IMAGE', 'BWIN_IMAGE',\n",
    "                          'ERRAWIN_IMAGE','ERRBWIN_IMAGE', 'ERRTHETAWIN_IMAGE', \n",
    "                          #'ERRA_WORLD', 'ERRB_WORLD', \n",
    "                          #'ERRTHETA_WORLD', 'X_WORLD', 'Y_WORLD', 'XWIN_WORLD', 'YWIN_WORLD', \n",
    "                          'FLUX_AUTO', 'FLUX_MAX', 'MAG_AUTO', 'FLUXERR_AUTO', \n",
    "                          # flags not supported yet (need Weightwatcher)\n",
    "                          #'IMAFLAGS_ISO', 'FLAGS_WEIGHT',\n",
    "                          'FLAGS', 'FLUX_RADIUS', 'ELONGATION']\n",
    "\n",
    "# TODO: use full SExtractor config params list for set sex_kwargs (consider logic like use fits_ldac output, etc)\n",
    "# define SExtractor kwargs that are common for all images\n",
    "sex_kwargs_calibration_catalogs = {'code': 'SExtractor'}\n",
    "sex_kwargs_calibration_catalogs['config_file'] = sex_config_file\n",
    "sex_kwargs_calibration_catalogs['config'] = dict()\n",
    "sex_kwargs_calibration_catalogs['config']['DETECT_THRESH'] = detect_thresh\n",
    "sex_kwargs_calibration_catalogs['config']['ANALYSIS_THRESH'] = analysis_thresh\n",
    "sex_kwargs_calibration_catalogs['config']['FILTER'] = filter_\n",
    "sex_kwargs_calibration_catalogs['config']['FILTER_NAME'] = filter_name\n",
    "sex_kwargs_calibration_catalogs['temp_path'] = paths['temp']\n",
    "sex_kwargs_calibration_catalogs['params'] = params\n",
    "\n",
    "scamp_kwargs_calibration_headers = {'code': 'SCAMP'}\n",
    "scamp_kwargs_calibration_headers['config_file'] = scamp_config_file\n",
    "scamp_kwargs_calibration_headers['config'] = dict()\n",
    "scamp_kwargs_calibration_headers['config']['ASTREF_CATALOG'] = 'UCAC-3'\n",
    "scamp_kwargs_calibration_headers['config']['ASTREF_BAND'] = 'DEFAULT'\n",
    "scamp_kwargs_calibration_headers['config']['SOLVE_ASTROM'] = 'Y'\n",
    "scamp_kwargs_calibration_headers['config']['SOLVE_PHOTOM'] = 'Y'\n",
    "scamp_kwargs_calibration_headers['config']['CHECKPLOT_DEV'] = 'NULL'\n",
    "scamp_kwargs_calibration_headers['config']['MOSAIC_TYPE'] = 'UNCHANGED'\n",
    "#scamp_kwargs_calibration_headers['config']['DISTORT_DEGREES'] = '1'\n",
    "scamp_kwargs_calibration_headers['config']['COMPUTE_PARALLAXES'] = 'N'\n",
    "scamp_kwargs_calibration_headers['config']['CROSSID_RADIUS'] = '3.0'\n",
    "scamp_kwargs_calibration_headers['config']['EXPOTIME_KEY'] = 'EXPTIME'\n",
    "scamp_kwargs_calibration_headers['config']['PIXSCALE_MAXERR'] = '1.2'\n",
    "scamp_kwargs_calibration_headers['config']['STABILITY_TYPE'] = 'INSTRUMENT'\n",
    "scamp_kwargs_calibration_headers['config']['SN_THRESHOLDS'] = '10.0,100.0'\n",
    "scamp_kwargs_calibration_headers['config']['FWHM_THRESHOLDS'] = '0.0,10.0' #default: '0.0,100.0'\n",
    "\n",
    "swarp_kwargs_calibration = {'code': 'SWarp'}\n",
    "swarp_kwargs_calibration['config_file'] = swarp_config_file\n",
    "swarp_kwargs_calibration['config'] = dict()\n",
    "swarp_kwargs_calibration['config']['RESAMPLE'] = 'N'\n",
    "swarp_kwargs_calibration['config']['COMBINE'] = 'Y'\n",
    "swarp_kwargs_calibration['config']['RESAMPLE_DIR'] = paths['images']\n",
    "swarp_kwargs_calibration['config']['RESAMPLE_SUFFIX'] = '.resamp.fits' \n",
    "swarp_kwargs_calibration['config']['DELETE_TMPFILES'] = 'N'\n",
    "swarp_kwargs_calibration['config']['PROJECTION_TYPE'] = 'NONE'\n",
    "swarp_kwargs_calibration['config']['CELESTIAL_TYPE'] = 'NATIVE'\n",
    "\n",
    "filter_kernel = 'gauss_4.0_7x7.conv' # TODO: is this filter is best here?\n",
    "filter_name = os.path.join(paths['config'], filter_kernel)\n",
    "detect_thresh = '3'\n",
    "analysis_thresh = '3'\n",
    "filter_ = 'Y'\n",
    "params = ['NUMBER', 'EXT_NUMBER', 'XWIN_IMAGE', 'YWIN_IMAGE', 'AWIN_IMAGE', 'BWIN_IMAGE',\n",
    "                          'ERRAWIN_IMAGE','ERRBWIN_IMAGE', 'ERRTHETAWIN_IMAGE', \n",
    "                          'ERRA_WORLD', 'ERRB_WORLD', \n",
    "                          'ERRTHETA_WORLD', 'X_WORLD', 'Y_WORLD', 'XWIN_WORLD', 'YWIN_WORLD', \n",
    "                          'FLUX_AUTO', 'FLUX_MAX', 'MAG_AUTO', 'FLUXERR_AUTO', \n",
    "                          # flags not supported yet (need Weightwatcher)\n",
    "                          #'IMAFLAGS_ISO', 'FLAGS_WEIGHT',\n",
    "                          'FLAGS', 'FLUX_RADIUS', 'ELONGATION']\n",
    "\n",
    "# TODO: use full SExtractor config params list for set sex_kwargs (consider logic like use fits_ldac output, etc)\n",
    "# define SExtractor kwargs that are common for all images\n",
    "sex_kwargs_singe_images_catalogs = {'code': 'SExtractor'}\n",
    "sex_kwargs_singe_images_catalogs['config_file'] = sex_config_file\n",
    "sex_kwargs_singe_images_catalogs['config'] = dict()\n",
    "sex_kwargs_singe_images_catalogs['config']['DETECT_THRESH'] = detect_thresh\n",
    "sex_kwargs_singe_images_catalogs['config']['ANALYSIS_THRESH'] = analysis_thresh\n",
    "sex_kwargs_singe_images_catalogs['config']['FILTER'] = filter_\n",
    "sex_kwargs_singe_images_catalogs['config']['FILTER_NAME'] = filter_name\n",
    "sex_kwargs_singe_images_catalogs['temp_path'] = paths['temp']\n",
    "sex_kwargs_singe_images_catalogs['params'] = params\n",
    "\n",
    "swarp_kwargs_coaddition = {'code': 'SWarp'}\n",
    "swarp_kwargs_coaddition['config_file'] = swarp_config_file\n",
    "swarp_kwargs_coaddition['config'] = dict()\n",
    "swarp_kwargs_coaddition['config']['RESAMPLE'] = 'N'\n",
    "swarp_kwargs_coaddition['config']['COMBINE'] = 'Y'\n",
    "swarp_kwargs_coaddition['config']['RESAMPLE_DIR'] = paths['temp']\n",
    "swarp_kwargs_coaddition['config']['RESAMPLE_SUFFIX'] = '.resamp.fits' \n",
    "swarp_kwargs_coaddition['config']['DELETE_TMPFILES'] = 'Y'\n",
    "swarp_kwargs_coaddition['config']['PROJECTION_TYPE'] = 'NONE'\n",
    "swarp_kwargs_coaddition['config']['CELESTIAL_TYPE'] = 'NATIVE'\n",
    "\n",
    "filter_kernel = 'gauss_4.0_7x7.conv' # TODO: is this filter is best here?\n",
    "filter_name = os.path.join(paths['config'], filter_kernel)\n",
    "detect_thresh = '3'\n",
    "analysis_thresh = '3'\n",
    "filter_ = 'N'\n",
    "params = ['NUMBER', 'EXT_NUMBER', 'XWIN_IMAGE', 'YWIN_IMAGE', 'AWIN_IMAGE', 'BWIN_IMAGE',\n",
    "                          'ERRAWIN_IMAGE','ERRBWIN_IMAGE', 'ERRTHETAWIN_IMAGE', \n",
    "                          'ERRA_WORLD', 'ERRB_WORLD', \n",
    "                          'ERRTHETA_WORLD', 'X_WORLD', 'Y_WORLD', 'XWIN_WORLD', 'YWIN_WORLD', \n",
    "                          'FLUX_AUTO', 'FLUX_MAX', 'MAG_AUTO', 'FLUXERR_AUTO', \n",
    "                          # flags not supported yet (need Weightwatcher)\n",
    "                          #'IMAFLAGS_ISO', 'FLAGS_WEIGHT',\n",
    "                          'FLAGS', 'FLUX_RADIUS', 'ELONGATION']\n",
    "\n",
    "# TODO: use full SExtractor config params list for set sex_kwargs (consider logic like use fits_ldac output, etc)\n",
    "# define SExtractor kwargs that are common for all images\n",
    "sex_kwargs_coadded_image_catalog = {'code': 'SExtractor'}\n",
    "sex_kwargs_coadded_image_catalog['config_file'] = sex_config_file\n",
    "sex_kwargs_coadded_image_catalog['config'] = dict()\n",
    "sex_kwargs_coadded_image_catalog['config']['DETECT_THRESH'] = detect_thresh\n",
    "sex_kwargs_coadded_image_catalog['config']['ANALYSIS_THRESH'] = analysis_thresh\n",
    "sex_kwargs_coadded_image_catalog['config']['FILTER'] = filter_\n",
    "sex_kwargs_coadded_image_catalog['config']['FILTER_NAME'] = filter_name\n",
    "sex_kwargs_coadded_image_catalog['temp_path'] = paths['temp']\n",
    "sex_kwargs_coadded_image_catalog['params'] = params"
   ]
  },
  {
   "cell_type": "markdown",
   "metadata": {},
   "source": [
    "<h2>Pipeline (local version)</h2>"
   ]
  },
  {
   "cell_type": "markdown",
   "metadata": {},
   "source": [
    "<h3>Import all needed packages</h3>"
   ]
  },
  {
   "cell_type": "code",
   "execution_count": 2,
   "metadata": {
    "collapsed": false
   },
   "outputs": [],
   "source": [
    "import os\n",
    "import datetime\n",
    "import copy\n",
    "import astromatic_wrapper as aw #TODO: install aw to itaf virtual env\n",
    "from astropy.io import fits\n",
    "import pyraf.iraf as iraf\n",
    "import pyraf\n",
    "import sys\n",
    "sys.path.insert(0, '/home/ser/Dev/astro_engine/code')\n",
    "from astro_utils import AEDirsTreeConfigurer, AEJsonConfigLoader\n",
    "from fits_utils import *"
   ]
  },
  {
   "cell_type": "markdown",
   "metadata": {},
   "source": [
    "<h3>Define pipeline parameters</h3>"
   ]
  },
  {
   "cell_type": "markdown",
   "metadata": {},
   "source": [
    "Define dirs tree"
   ]
  },
  {
   "cell_type": "code",
   "execution_count": 3,
   "metadata": {
    "collapsed": false
   },
   "outputs": [
    {
     "data": {
      "text/plain": [
       "{'catalogs': '/home/ser/Dev/astro_engine/spark_pipeline/spark_pipeline_test_1/catalogs',\n",
       " 'config': '/home/ser/Dev/astro_engine/spark_pipeline/spark_pipeline_test_1/config',\n",
       " 'images': '/home/ser/Dev/astro_engine/spark_pipeline/spark_pipeline_test_1/images',\n",
       " 'logs': '/home/ser/Dev/astro_engine/spark_pipeline/spark_pipeline_test_1/logs',\n",
       " 'stacks': '/home/ser/Dev/astro_engine/spark_pipeline/spark_pipeline_test_1/stacks',\n",
       " 'temp': '/home/ser/Dev/astro_engine/spark_pipeline/spark_pipeline_test_1/temp'}"
      ]
     },
     "execution_count": 3,
     "metadata": {},
     "output_type": "execute_result"
    }
   ],
   "source": [
    "dirs = AEDirsTreeConfigurer()#images_path='images/GRB130427A')\n",
    "dirs.build_dirs_tree()\n",
    "dirs.new_log_dir()\n",
    "paths = dirs.get_paths()\n",
    "paths"
   ]
  },
  {
   "cell_type": "markdown",
   "metadata": {},
   "source": [
    "Define config for astro software from json config files"
   ]
  },
  {
   "cell_type": "code",
   "execution_count": 4,
   "metadata": {
    "collapsed": false
   },
   "outputs": [
    {
     "name": "stdout",
     "output_type": "stream",
     "text": [
      "{'config_files': ['pipeline_config']}\n"
     ]
    }
   ],
   "source": [
    "all_configs = AEJsonConfigLoader(os.path.join(paths['config'], 'common_config.json'))\n",
    "print all_configs.get_required_common_params()\n",
    "all_configs.build_config()\n",
    "pipeline_config = all_configs.get_pipeline_config()"
   ]
  },
  {
   "cell_type": "code",
   "execution_count": 5,
   "metadata": {
    "collapsed": false
   },
   "outputs": [
    {
     "name": "stdout",
     "output_type": "stream",
     "text": [
      "----- preparation\n",
      "-----------\n",
      "----- images_calibration\n",
      "create_calibration_headers\n",
      "basic_reduction\n",
      "create_calibrated_images_catalogs\n",
      "calibrate_images\n",
      "model_psf_calibrated_images_catalogs\n",
      "create_calibration_catalogs\n",
      "create_calibrated_images_catalogs_psf\n",
      "-----------\n",
      "----- images_coaddition\n",
      "model_psf_coadded_image_catalog\n",
      "coadd_calibrated_images\n",
      "create_coadded_image_catalog\n",
      "create_coadded_image_catalog_psf\n",
      "-----------\n"
     ]
    }
   ],
   "source": [
    "for key in pipeline_config['pipeline_stages'].keys():\n",
    "    print \"-----\",key\n",
    "    for kkey in pipeline_config['pipeline_stages'][key]['stage_steps'].keys():\n",
    "        print kkey\n",
    "    print '-----------'"
   ]
  },
  {
   "cell_type": "markdown",
   "metadata": {},
   "source": [
    "<h4>Catalog extraction basic function</h4>"
   ]
  },
  {
   "cell_type": "code",
   "execution_count": 13,
   "metadata": {
    "collapsed": false
   },
   "outputs": [],
   "source": [
    "def create_catalogs(input_images_names, paths, pipeline_config, pipeline_stage, pipeline_step):\n",
    "    # TODO: check config, stage and step for needed for this function keys\n",
    "    # select pipeline stage and step in config\n",
    "    step_config = copy.deepcopy(pipeline_config['pipeline_stages'][pipeline_stage]['stage_steps'][pipeline_step])\n",
    "    step_params_config = step_config['step_params']\n",
    "    \n",
    "    # use paths to fill path-depended params TODO: preprocess config to do this\n",
    "    step_params_config['software_params']['config_file'] = os.path.join(paths['config'],\n",
    "                                                                step_params_config['software_params']['config_file'])\n",
    "    step_params_config['software_params']['temp_path'] = paths[step_params_config['software_params']['temp_path']]\n",
    "    step_params_config['software_params']['config']['FILTER_NAME'] = os.path.join(paths['config'],\n",
    "                                                      step_params_config['software_params']['config']['FILTER_NAME'])\n",
    "    \n",
    "    # prepare io params   \n",
    "    # input images\n",
    "    input_images_format = to_ext_format(step_params_config['input_params']['images_format'])\n",
    "    input_images_dir = paths[step_params_config['input_params']['images_dir']]\n",
    "    iffs = build_filenames_list(input_images_names, new_ext=input_images_format, \n",
    "                                new_path=input_images_dir)\n",
    "    \n",
    "    # input psf models, if exist\n",
    "    look_for_psf = False\n",
    "    ipfs = range(len(iffs))\n",
    "    if 'psf_models_format' in step_params_config['input_params'].keys() and \\\n",
    "    'psf_models_dir' in step_params_config['input_params'].keys():\n",
    "        look_for_psf = True\n",
    "        input_psf_models_format = to_ext_format(step_params_config['input_params']['psf_models_format'])\n",
    "        input_psf_models_dir = paths[step_params_config['input_params']['psf_models_dir']]\n",
    "        ipfs = build_filenames_list(input_images_names, new_ext=input_psf_models_format, \n",
    "                                    new_path=input_psf_models_dir)\n",
    "    \n",
    "    # output catalogs\n",
    "    output_catalogs_format = to_ext_format(step_params_config['output_params']['catalogs_format'])\n",
    "    output_catalogs_dir = paths[step_params_config['output_params']['catalogs_dir']]\n",
    "    ocfs = build_filenames_list(input_images_names, new_ext=output_catalogs_format, \n",
    "                                    new_path=output_catalogs_dir)\n",
    "    \n",
    "    \n",
    "    if 'check_params_for_scamp_required' in step_params_config['output_params'].keys():\n",
    "        if step_params_config['output_params']['check_params_for_scamp_required'] == 'true':\n",
    "            missing_req_scamp_params = list(set(pipeline_config['scamp_required_catalog_params']) - \\\n",
    "            set(step_params_config['software_params']['params']))\n",
    "            step_params_config['software_params']['params'].extend(missing_req_scamp_params)\n",
    "    \n",
    "    if 'check_params_for_psfex_required' in step_params_config['output_params'].keys():\n",
    "        if step_params_config['output_params']['check_params_for_psfex_required'] == 'true':\n",
    "            missing_req_psfex_params = list(set(pipeline_config['psfex_required_catalog_params']) - \\\n",
    "            set(step_params_config['software_params']['params']))\n",
    "            step_params_config['software_params']['params'].extend(missing_req_psfex_params)\n",
    "    \n",
    "    # output is a list of catalogs full pathnames\n",
    "    catalogs = []\n",
    "    \n",
    "    for (iff, ipf, ocf) in zip(iffs, ipfs, ocfs):\n",
    "        software_params = step_params_config['software_params'] # TODO: deepcopy or not?\n",
    "        # TODO: is it needed or SExtractor recognizes it by itself?\n",
    "        if 'params_from_fits_header' in step_params_config['data_handle'].keys():\n",
    "            fits_file = fits.open(iff)\n",
    "            fits_file_header = fits_file[0].header\n",
    "            for param_name, fits_header_keyword in step_params_config['data_handle']['params_from_fits_header'].iteritems():\n",
    "                if fits_header_keyword in fits_file_header:\n",
    "                    software_params['config'][param_name] = str(fits_file[0].header[fits_header_keyword])\n",
    "        software_params['config']['CATALOG_NAME'] = ocf\n",
    "        if look_for_psf:\n",
    "            software_params['config']['PSF_NAME'] = ipf\n",
    "        sextractor = aw.api.Astromatic(**software_params)\n",
    "        #this_cmd, kwargs2 = sextractor.build_cmd(iff, **software_params)\n",
    "        #print this_cmd\n",
    "        sextractor.run(iff) #TODO: handle run status (maybe return it?)\n",
    "        catalogs.append(ocf)\n",
    "    \n",
    "    return catalogs"
   ]
  },
  {
   "cell_type": "markdown",
   "metadata": {},
   "source": [
    "<h4>Calculate calibration basic function</h4>"
   ]
  },
  {
   "cell_type": "code",
   "execution_count": 14,
   "metadata": {
    "collapsed": false
   },
   "outputs": [],
   "source": [
    "def calculate_calibration(input_images_names, paths, pipeline_config, pipeline_stage, pipeline_step):\n",
    "    # TODO: check config, stage and step for needed for this function keys\n",
    "    # select pipeline stage and step in config\n",
    "    step_config = copy.deepcopy(pipeline_config['pipeline_stages'][pipeline_stage]['stage_steps'][pipeline_step])\n",
    "    step_params_config = step_config['step_params']\n",
    "    \n",
    "    # use paths to fill path-depended params TODO: preprocess config to do this\n",
    "    step_params_config['software_params']['config_file'] = os.path.join(paths['config'],\n",
    "                                                                step_params_config['software_params']['config_file'])\n",
    "    step_params_config['software_params']['temp_path'] = paths[step_params_config['software_params']['temp_path']]\n",
    "    \n",
    "    # prepare io params   \n",
    "    # input catalogs\n",
    "    input_catalogs_format = to_ext_format(step_params_config['input_params']['catalogs_format'])\n",
    "    input_catalogs_dir = paths[step_params_config['input_params']['catalogs_dir']]\n",
    "    icfs = build_filenames_list(input_images_names, new_ext=input_catalogs_format, \n",
    "                                    new_path=input_catalogs_dir)\n",
    "    \n",
    "    # output is empty list\n",
    "    result = []\n",
    "    \n",
    "    calculate_calibration_separately = False\n",
    "    if 'calculate_calibration_separately' in step_params_config['output_params'].keys():\n",
    "        if step_params_config['output_params']['calculate_calibration_separately'] == 'true':\n",
    "            calculate_calibration_separately = True\n",
    "            \n",
    "    software_params = step_params_config['software_params'] # TODO: deepcopy or not?\n",
    "    \n",
    "    if calculate_calibration_separately:\n",
    "        for icf in icfs:\n",
    "            scamp = aw.api.Astromatic(**software_params)\n",
    "            #this_cmd, kwargs2 = scamp.build_cmd(icf, **software_params)\n",
    "            #print this_cmd\n",
    "            scamp.run(icf)\n",
    "    else:\n",
    "        scamp = aw.api.Astromatic(**software_params)\n",
    "        scamp.run(' '.join(icfs)) # TODO: create file with catalogs list, and pass as @catalogs_list\n",
    "        \n",
    "    return result"
   ]
  },
  {
   "cell_type": "markdown",
   "metadata": {},
   "source": [
    "<h4>Image SWarp basic function</h4>"
   ]
  },
  {
   "cell_type": "code",
   "execution_count": 15,
   "metadata": {
    "collapsed": true
   },
   "outputs": [],
   "source": [
    "from operator import itemgetter\n",
    "from itertools import *\n",
    "def swarp_images(input_images_names, paths, pipeline_config, pipeline_stage, pipeline_step):\n",
    "    # TODO: check config, stage and step for needed for this function keys\n",
    "    # select pipeline stage and step in config\n",
    "    step_config = copy.deepcopy(pipeline_config['pipeline_stages'][pipeline_stage]['stage_steps'][pipeline_step])\n",
    "    step_params_config = step_config['step_params']\n",
    "    \n",
    "    # use paths to fill path-depended params TODO: preprocess config to do this\n",
    "    step_params_config['software_params']['config_file'] = os.path.join(paths['config'],\n",
    "                                                                step_params_config['software_params']['config_file'])\n",
    "    step_params_config['software_params']['temp_path'] = paths[step_params_config['software_params']['temp_path']]\n",
    "    step_params_config['software_params']['config']['RESAMPLE_DIR'] = paths[step_params_config['software_params']['config']['RESAMPLE_DIR']]\n",
    "    \n",
    "    # prepare io params\n",
    "    # input images\n",
    "    input_images_format = to_ext_format(step_params_config['input_params']['images_format'])\n",
    "    input_images_dir = paths[step_params_config['input_params']['images_dir']]\n",
    "    iffs = build_filenames_list(input_images_names, new_ext=input_images_format, \n",
    "                                new_path=input_images_dir)\n",
    "    \n",
    "    # output images\n",
    "    output_images_format = to_ext_format(step_params_config['output_params']['images_format'])\n",
    "    output_images_dir = paths[step_params_config['output_params']['images_dir']]\n",
    "    \n",
    "    # output weightmaps\n",
    "    output_weightmaps_format = to_ext_format(step_params_config['output_params']['weightmaps_format'])\n",
    "    output_weightmaps_dir = paths[step_params_config['output_params']['weightmaps_dir']]\n",
    "    \n",
    "    # output is a tuple of lists: swarped images full pathnames and weightmaps full pathnames\n",
    "    swarped_images, weightmaps = [], []\n",
    "    \n",
    "    swarp_separately = False\n",
    "    if 'swarp_separately' in step_params_config['output_params'].keys():\n",
    "        if step_params_config['output_params']['swarp_separately'] == 'true':\n",
    "            swarp_separately = True\n",
    "            \n",
    "    software_params = step_params_config['software_params'] # TODO: deepcopy or not?\n",
    "                   \n",
    "    if swarp_separately:\n",
    "        # prepare output_images_filenames and output_weightmaps_filenames (convert them to full pathname)\n",
    "        offs = build_filenames_list(input_images_names, new_ext=output_images_format, \n",
    "                                    new_path=output_images_dir)\n",
    "        owmfs = build_filenames_list(input_images_names, new_ext=output_weightmaps_format, \n",
    "                                    new_path=output_weightmaps_dir)\n",
    "        \n",
    "        for (iff, off, owmf) in zip(iffs, offs, owmfs):\n",
    "            software_params['config']['IMAGEOUT_NAME'] = off\n",
    "            software_params['config']['WEIGHTOUT_NAME'] = owmf\n",
    "            swarp = aw.api.Astromatic(**software_params)\n",
    "            swarp.run(iff)\n",
    "            swarped_images.append(off)\n",
    "            weightmaps.append(owmf)   \n",
    "    else:\n",
    "        # build coadded image and weightmap names\n",
    "        output_filename = pipeline_config['observation_id']\n",
    "        coadd_images_nums = sorted(\n",
    "            [os.path.basename(iff).rstrip(input_images_format).rsplit('_',1)[1] for iff in iffs])\n",
    "        nums_ranges = []\n",
    "        for k, g in groupby(enumerate(coadd_images_nums), lambda (i,x):int(i)-int(x)):\n",
    "            nums_range = map(itemgetter(1),g)\n",
    "            nums_ranges.append(nums_range[0] if len(nums_range) == 1 else nums_range[0] + '-' + nums_range[-1])\n",
    "        nums_ranges = '_'.join(nums_ranges)\n",
    "        output_image_name = output_filename + '_' + nums_ranges + output_images_format\n",
    "        output_image_name = os.path.join(output_images_dir, output_image_name)\n",
    "        output_weightmap_name = output_filename + '_' + nums_ranges + output_weightmaps_format\n",
    "        output_weightmap_name = os.path.join(output_weightmaps_dir, output_weightmap_name)\n",
    "        # run SWarp\n",
    "        software_params['config']['IMAGEOUT_NAME'] = output_image_name\n",
    "        software_params['config']['WEIGHTOUT_NAME'] = output_weightmap_name\n",
    "        swarp = aw.api.Astromatic(**software_params)\n",
    "        swarp.run(' '.join(iffs)) # TODO: create file with images list, and pass as @images_list\n",
    "        swarped_images.append(output_image_name)\n",
    "        weightmaps.append(output_weightmap_name)\n",
    "    \n",
    "    return swarped_images, weightmaps"
   ]
  },
  {
   "cell_type": "markdown",
   "metadata": {},
   "source": [
    "<h4>Calculate PSF basic function</h4>"
   ]
  },
  {
   "cell_type": "code",
   "execution_count": 20,
   "metadata": {
    "collapsed": true
   },
   "outputs": [],
   "source": [
    "def calculate_psf(input_images_names, paths, pipeline_config, pipeline_stage, pipeline_step):\n",
    "    # TODO: check config, stage and step for needed for this function keys\n",
    "    # select pipeline stage and step in config\n",
    "    step_config = copy.deepcopy(pipeline_config['pipeline_stages'][pipeline_stage]['stage_steps'][pipeline_step])\n",
    "    step_params_config = step_config['step_params']\n",
    "    \n",
    "    # use paths to fill path-depended params TODO: preprocess config to do this\n",
    "    step_params_config['software_params']['config_file'] = os.path.join(paths['config'],\n",
    "                                                                step_params_config['software_params']['config_file'])\n",
    "    step_params_config['software_params']['temp_path'] = paths[step_params_config['software_params']['temp_path']]\n",
    "    \n",
    "    # prepare io params   \n",
    "    # input catalogs\n",
    "    input_catalogs_format = to_ext_format(step_params_config['input_params']['catalogs_format'])\n",
    "    input_catalogs_dir = paths[step_params_config['input_params']['catalogs_dir']]\n",
    "    icfs = build_filenames_list(input_images_names, new_ext=input_catalogs_format, \n",
    "                                    new_path=input_catalogs_dir)\n",
    "    \n",
    "    # output psf models\n",
    "    output_psf_models_format = to_ext_format(step_params_config['output_params']['psf_models_format'])\n",
    "    output_psf_models_dir = paths[step_params_config['output_params']['psf_models_dir']]\n",
    "    # TODO: ispect BUG in PSFEx, it replaces PSF_SUFFIX only last extension part (after last .)\n",
    "    step_params_config['software_params']['config']['PSF_SUFFIX'] = ext_split(output_psf_models_format)[-1]\n",
    "    step_params_config['software_params']['config']['PSF_DIR'] = output_psf_models_dir\n",
    "    opmfs = build_filenames_list(input_images_names, new_ext=output_psf_models_format, \n",
    "                                    new_path=output_psf_models_dir)\n",
    "    \n",
    "    # output is list of calculated psf models full pathnames\n",
    "    #\n",
    "    \n",
    "    calculate_psf_separately = False\n",
    "    if 'calculate_psf_separately' in step_params_config['output_params'].keys():\n",
    "        if step_params_config['output_params']['calculate_psf_separately'] == 'true':\n",
    "            calculate_psf_separately = True\n",
    "            \n",
    "    software_params = step_params_config['software_params'] # TODO: deepcopy or not?\n",
    "    \n",
    "    if calculate_psf_separately:\n",
    "        for icf in icfs:\n",
    "            psfex = aw.api.Astromatic(**software_params)\n",
    "            #this_cmd, kwargs2 = psfex.build_cmd(icf, **software_params)\n",
    "            #print this_cmd\n",
    "            psfex.run(icf)\n",
    "    else:\n",
    "        psfex = aw.api.Astromatic(**software_params)\n",
    "        #this_cmd, kwargs2 = psfex.build_cmd(' '.join(icfs), **software_params)\n",
    "        #print this_cmd\n",
    "        psfex.run(' '.join(icfs)) # TODO: create file with catalogs list, and pass as @catalogs_list\n",
    "    \n",
    "    return opmfs"
   ]
  },
  {
   "cell_type": "markdown",
   "metadata": {
    "collapsed": false
   },
   "source": [
    "<h3>Test part of pipeline (no basic reduction)</h3>"
   ]
  },
  {
   "cell_type": "markdown",
   "metadata": {},
   "source": [
    "Input images are saved to temp folder, beause futher processing needs images and .head files in same directory.<br>\n",
    "Define list of input images, raw and tech frames"
   ]
  },
  {
   "cell_type": "code",
   "execution_count": 25,
   "metadata": {
    "collapsed": false
   },
   "outputs": [
    {
     "data": {
      "text/plain": [
       "['GRB130427_R60_001_001',\n",
       " 'GRB130427_R60_001_002',\n",
       " 'GRB130427_R60_001_003',\n",
       " 'GRB130427_R60_001_004',\n",
       " 'GRB130427_R60_001_005',\n",
       " 'GRB130427_R60_001_006',\n",
       " 'GRB130427_R60_001_007',\n",
       " 'GRB130427_R60_001_008',\n",
       " 'GRB130427_R60_001_009',\n",
       " 'GRB130427_R60_001_010',\n",
       " 'GRB130427_R60_001_011',\n",
       " 'GRB130427_R60_001_012',\n",
       " 'GRB130427_R60_001_013',\n",
       " 'GRB130427_R60_001_014',\n",
       " 'GRB130427_R60_001_015',\n",
       " 'GRB130427_R60_001_016',\n",
       " 'GRB130427_R60_001_017',\n",
       " 'GRB130427_R60_001_018',\n",
       " 'GRB130427_R60_001_019',\n",
       " 'GRB130427_R60_001_020',\n",
       " 'GRB130427_R60_001_021',\n",
       " 'GRB130427_R60_001_022',\n",
       " 'GRB130427_R60_001_023',\n",
       " 'GRB130427_R60_001_024',\n",
       " 'GRB130427_R60_001_025',\n",
       " 'GRB130427_R60_001_026',\n",
       " 'GRB130427_R60_001_027',\n",
       " 'GRB130427_R60_001_028',\n",
       " 'GRB130427_R60_001_029',\n",
       " 'GRB130427_R60_001_030',\n",
       " 'GRB130427_R60_001_031',\n",
       " 'GRB130427_R60_001_032',\n",
       " 'GRB130427_R60_001_033',\n",
       " 'GRB130427_R60_001_034',\n",
       " 'GRB130427_R60_001_035',\n",
       " 'GRB130427_R60_001_036',\n",
       " 'GRB130427_R60_001_037',\n",
       " 'GRB130427_R60_001_038',\n",
       " 'GRB130427_R60_001_039',\n",
       " 'GRB130427_R60_001_040',\n",
       " 'GRB130427_R60_001_041',\n",
       " 'GRB130427_R60_001_042',\n",
       " 'GRB130427_R60_001_043',\n",
       " 'GRB130427_R60_001_044',\n",
       " 'GRB130427_R60_001_045',\n",
       " 'GRB130427_R60_001_046',\n",
       " 'GRB130427_R60_001_047',\n",
       " 'GRB130427_R60_001_048',\n",
       " 'GRB130427_R60_001_049',\n",
       " 'GRB130427_R60_001_050',\n",
       " 'GRB130427_R60_001_051',\n",
       " 'GRB130427_R60_001_052',\n",
       " 'GRB130427_R60_001_053',\n",
       " 'GRB130427_R60_001_054',\n",
       " 'GRB130427_R60_001_055',\n",
       " 'GRB130427_R60_001_056',\n",
       " 'GRB130427_R60_001_057',\n",
       " 'GRB130427_R60_001_058',\n",
       " 'GRB130427_R60_001_059',\n",
       " 'GRB130427_R60_001_060']"
      ]
     },
     "execution_count": 25,
     "metadata": {},
     "output_type": "execute_result"
    }
   ],
   "source": [
    "input_images_names = sorted(get_fits_images_from_dir(paths['temp'], pipeline_config['input_images_format'], True, True))\n",
    "input_images_names = [change_file_extension(iin, '') for iin in input_images_names]\n",
    "input_images_names"
   ]
  },
  {
   "cell_type": "markdown",
   "metadata": {
    "collapsed": false
   },
   "source": [
    "Pipeline basic functions calls"
   ]
  },
  {
   "cell_type": "code",
   "execution_count": 26,
   "metadata": {
    "collapsed": false
   },
   "outputs": [],
   "source": [
    "# stage: images_calibration\n",
    "catalogs_1 = create_catalogs(input_images_names, paths, pipeline_config, 'images_calibration', 'create_calibration_catalogs')\n",
    "calculate_calibration(input_images_names, paths, pipeline_config, 'images_calibration', 'create_calibration_headers')\n",
    "swarped_images_1, _ = swarp_images(input_images_names, paths, pipeline_config, 'images_calibration', 'calibrate_images')\n",
    "catalogs_2 = create_catalogs(input_images_names, paths, pipeline_config, 'images_calibration', 'create_calibrated_images_catalogs')\n",
    "calculate_psf(input_images_names, paths, pipeline_config, 'images_calibration', 'model_psf_calibrated_images_catalogs')\n",
    "catalogs_3 = create_catalogs(input_images_names, paths, pipeline_config, 'images_calibration', 'create_calibrated_images_catalogs_psf')\n",
    "# stage: images_coaddition\n",
    "swarped_images_2, _ = swarp_images(input_images_names, paths, pipeline_config, 'images_coaddition', 'coadd_calibrated_images')\n",
    "catalogs_4 = create_catalogs(swarped_images_2, paths, pipeline_config, 'images_coaddition', 'create_coadded_image_catalog')\n",
    "calculate_psf(swarped_images_2, paths, pipeline_config, 'images_coaddition', 'model_psf_coadded_image_catalog')\n",
    "catalogs_5 = create_catalogs(swarped_images_2, paths, pipeline_config, 'images_coaddition', 'create_coadded_image_catalog_psf')"
   ]
  },
  {
   "cell_type": "markdown",
   "metadata": {
    "collapsed": true
   },
   "source": [
    "Check coadded image catalog"
   ]
  },
  {
   "cell_type": "code",
   "execution_count": 27,
   "metadata": {
    "collapsed": false,
    "scrolled": false
   },
   "outputs": [
    {
     "data": {
      "text/html": [
       "&lt;Table length=1631&gt;\n",
       "<table id=\"table140580257662480\" class=\"table-striped table-bordered table-condensed\">\n",
       "<thead><tr><th>NUMBER</th><th>EXT_NUMBER</th><th>XWIN_IMAGE</th><th>YWIN_IMAGE</th><th>ERRAWIN_IMAGE</th><th>ERRBWIN_IMAGE</th><th>ERRTHETAWIN_IMAGE</th><th>XWIN_WORLD</th><th>YWIN_WORLD</th><th>FLUX_AUTO</th><th>FLUXERR_AUTO</th><th>FLAGS</th><th>FLAGS_WEIGHT</th><th>FLUX_RADIUS</th><th>ELONGATION</th><th>MAG_AUTO</th><th>MAGERR_AUTO</th><th>ALPHAPSF_SKY</th><th>DELTAPSF_SKY</th><th>ERRX2PSF_WORLD</th><th>ERRY2PSF_WORLD</th><th>FLUX_PSF</th><th>FLUXERR_PSF</th><th>MAG_PSF</th><th>MAGERR_PSF</th><th>FLUXERR_APER</th><th>FLUX_APER</th><th>VIGNET [20,20]</th><th>SNR_WIN</th></tr></thead>\n",
       "<thead><tr><th></th><th></th><th>pix</th><th>pix</th><th>pix</th><th>pix</th><th>deg</th><th>deg</th><th>deg</th><th>ct</th><th>ct</th><th></th><th></th><th>pix</th><th></th><th>mag</th><th>mag</th><th>deg</th><th>deg</th><th>deg2</th><th>deg2</th><th>ct</th><th>ct</th><th>mag</th><th>mag</th><th>ct</th><th>ct</th><th>ct</th><th></th></tr></thead>\n",
       "<thead><tr><th>int32</th><th>int16</th><th>float64</th><th>float64</th><th>float32</th><th>float32</th><th>float32</th><th>float64</th><th>float64</th><th>float32</th><th>float32</th><th>int16</th><th>int16</th><th>float32</th><th>float32</th><th>float32</th><th>float32</th><th>float64</th><th>float64</th><th>float64</th><th>float64</th><th>float32</th><th>float32</th><th>float32</th><th>float32</th><th>float32</th><th>float32</th><th>float32</th><th>float32</th></tr></thead>\n",
       "<tr><td>1</td><td>1</td><td>192.032860444</td><td>37.5937114852</td><td>0.00696158</td><td>0.00693273</td><td>-8.26524</td><td>173.161560575</td><td>27.645088665</td><td>1325.46</td><td>4.21555</td><td>7</td><td>0</td><td>3.08848</td><td>1.14423</td><td>-7.80592</td><td>0.00345395</td><td>173.161501498</td><td>27.6450891282</td><td>0.0</td><td>0.0</td><td>0.0</td><td>0.0</td><td>99.0</td><td>99.0</td><td>1.17734</td><td>471.135</td><td>-1e+30 .. -0.0273438</td><td>536.145</td></tr>\n",
       "<tr><td>2</td><td>1</td><td>157.185136853</td><td>11.7670700648</td><td>0.0445368</td><td>0.0443724</td><td>-74.0429</td><td>173.172049361</td><td>27.638201269</td><td>22.0547</td><td>1.23216</td><td>4</td><td>0</td><td>0.996008</td><td>2.47337</td><td>-3.35875</td><td>0.0606732</td><td>173.171982912</td><td>27.6381233894</td><td>0.0</td><td>0.0</td><td>0.0</td><td>0.0</td><td>99.0</td><td>99.0</td><td>1.14135</td><td>23.7855</td><td>-11.707 .. 0.0546875</td><td>29.7808</td></tr>\n",
       "<tr><td>3</td><td>1</td><td>442.747390162</td><td>10.0890597982</td><td>0.0615729</td><td>0.0092936</td><td>59.2769</td><td>173.086090863</td><td>27.6377261226</td><td>11.2168</td><td>0.680413</td><td>4</td><td>0</td><td>0.637429</td><td>4.9223</td><td>-2.62467</td><td>0.065877</td><td>173.086056519</td><td>27.6377350076</td><td>0.0</td><td>0.0</td><td>0.0</td><td>0.0</td><td>99.0</td><td>99.0</td><td>1.13321</td><td>10.0757</td><td>-1e+30 .. -0.357422</td><td>21.3281</td></tr>\n",
       "<tr><td>4</td><td>1</td><td>384.814022604</td><td>11.0132535451</td><td>0.0140614</td><td>0.0139159</td><td>-20.6614</td><td>173.10352954</td><td>27.6379824929</td><td>55.7656</td><td>0.733224</td><td>4</td><td>0</td><td>0.919027</td><td>4.37007</td><td>-4.36592</td><td>0.0142791</td><td>173.103593616</td><td>27.6380207628</td><td>0.0</td><td>0.0</td><td>0.0</td><td>0.0</td><td>99.0</td><td>99.0</td><td>1.14425</td><td>57.1465</td><td>-1.27734 .. -0.148438</td><td>87.0516</td></tr>\n",
       "<tr><td>5</td><td>1</td><td>311.027260585</td><td>9.11952029695</td><td>0.0209234</td><td>0.0206898</td><td>4.26474</td><td>173.125740575</td><td>27.6374868744</td><td>30.0039</td><td>0.814952</td><td>4</td><td>0</td><td>0.879282</td><td>3.63897</td><td>-3.69294</td><td>0.0294974</td><td>173.125636194</td><td>27.6376213193</td><td>0.0</td><td>0.0</td><td>0.0</td><td>0.0</td><td>99.0</td><td>99.0</td><td>1.14187</td><td>29.7991</td><td>-1e+30 .. 0.634766</td><td>55.7287</td></tr>\n",
       "<tr><td>6</td><td>1</td><td>112.10243061</td><td>10.0173770563</td><td>0.0271994</td><td>0.027104</td><td>77.0698</td><td>173.185619803</td><td>27.6377341457</td><td>27.9609</td><td>0.996414</td><td>4</td><td>0</td><td>0.951352</td><td>1.86589</td><td>-3.61638</td><td>0.0387006</td><td>173.185446527</td><td>27.6377574681</td><td>0.0</td><td>0.0</td><td>0.0</td><td>0.0</td><td>99.0</td><td>99.0</td><td>1.13812</td><td>26.5386</td><td>-1e+30 .. -0.265625</td><td>46.2193</td></tr>\n",
       "<tr><td>7</td><td>1</td><td>31.5790008103</td><td>11.2711067761</td><td>0.0401451</td><td>0.0150145</td><td>5.35065</td><td>173.209858709</td><td>27.6380643646</td><td>15.9121</td><td>0.890501</td><td>4</td><td>0</td><td>0.902236</td><td>3.0866</td><td>-3.00432</td><td>0.0607766</td><td>173.209936786</td><td>27.637908046</td><td>0.0</td><td>0.0</td><td>0.0</td><td>0.0</td><td>99.0</td><td>99.0</td><td>1.13609</td><td>16.5333</td><td>-6.33594 .. -0.078125</td><td>27.4335</td></tr>\n",
       "<tr><td>8</td><td>1</td><td>454.029018039</td><td>8.00243542871</td><td>0.0312204</td><td>0.00503261</td><td>-45.0</td><td>173.082695259</td><td>27.6371674438</td><td>28.5527</td><td>0.928072</td><td>20</td><td>0</td><td>0.584051</td><td>4.00667</td><td>-3.63912</td><td>0.0352991</td><td>173.082680873</td><td>27.6371462884</td><td>0.0</td><td>0.0</td><td>0.0</td><td>0.0</td><td>99.0</td><td>99.0</td><td>1.13806</td><td>25.8459</td><td>-1e+30 .. 0.439453</td><td>61.5421</td></tr>\n",
       "<tr><td>9</td><td>1</td><td>431.692159388</td><td>9.15011141469</td><td>0.0589054</td><td>0.0587263</td><td>-22.6584</td><td>173.089418777</td><td>27.6374777621</td><td>16.8379</td><td>1.1488</td><td>4</td><td>0</td><td>1.06536</td><td>2.81793</td><td>-3.06572</td><td>0.0740943</td><td>173.089634318</td><td>27.6374939008</td><td>0.0</td><td>0.0</td><td>0.0</td><td>0.0</td><td>99.0</td><td>99.0</td><td>1.1396</td><td>16.89</td><td>-1e+30 .. 0.634766</td><td>23.8383</td></tr>\n",
       "<tr><td>...</td><td>...</td><td>...</td><td>...</td><td>...</td><td>...</td><td>...</td><td>...</td><td>...</td><td>...</td><td>...</td><td>...</td><td>...</td><td>...</td><td>...</td><td>...</td><td>...</td><td>...</td><td>...</td><td>...</td><td>...</td><td>...</td><td>...</td><td>...</td><td>...</td><td>...</td><td>...</td><td>...</td><td>...</td></tr>\n",
       "<tr><td>1622</td><td>1</td><td>79.0870060777</td><td>505.933304737</td><td>0.0123185</td><td>0.00548458</td><td>-57.871</td><td>173.195617086</td><td>27.7699931083</td><td>29.291</td><td>0.683042</td><td>4</td><td>0</td><td>0.45518</td><td>1.66815</td><td>-3.66684</td><td>0.0253246</td><td>173.195612817</td><td>27.7699746152</td><td>0.0</td><td>0.0</td><td>0.0</td><td>0.0</td><td>99.0</td><td>99.0</td><td>1.1337</td><td>28.9119</td><td>0.0898438 .. -1e+30</td><td>94.0708</td></tr>\n",
       "<tr><td>1623</td><td>1</td><td>341.884896412</td><td>503.050287527</td><td>0.0614738</td><td>0.0188958</td><td>-74.752</td><td>173.11641534</td><td>27.7692141028</td><td>9.87305</td><td>0.575375</td><td>4</td><td>0</td><td>0.701225</td><td>3.64087</td><td>-2.48613</td><td>0.0632892</td><td>173.116406608</td><td>27.7693291811</td><td>0.0</td><td>0.0</td><td>0.0</td><td>0.0</td><td>99.0</td><td>99.0</td><td>1.1354</td><td>8.56938</td><td>-0.246094 .. -0.0214844</td><td>24.3943</td></tr>\n",
       "<tr><td>1624</td><td>1</td><td>329.123796332</td><td>503.996781448</td><td>0.0138839</td><td>0.0125127</td><td>-0.721956</td><td>173.120261188</td><td>27.769468065</td><td>16.5566</td><td>0.77179</td><td>4</td><td>0</td><td>0.451703</td><td>1.10973</td><td>-3.04743</td><td>0.0506241</td><td>173.120242218</td><td>27.7694682155</td><td>0.0</td><td>0.0</td><td>0.0</td><td>0.0</td><td>99.0</td><td>99.0</td><td>1.13977</td><td>18.9234</td><td>0.210938 .. -1e+30</td><td>48.196</td></tr>\n",
       "<tr><td>1625</td><td>1</td><td>252.13324641</td><td>504.119564748</td><td>0.0358137</td><td>0.0355856</td><td>14.2408</td><td>173.14346447</td><td>27.7695078051</td><td>18.4551</td><td>0.926993</td><td>4</td><td>0</td><td>0.817718</td><td>3.35959</td><td>-3.16529</td><td>0.0545494</td><td>173.143430646</td><td>27.7695413768</td><td>0.0</td><td>0.0</td><td>0.0</td><td>0.0</td><td>99.0</td><td>99.0</td><td>1.13983</td><td>19.6216</td><td>-0.253906 .. -1e+30</td><td>30.4796</td></tr>\n",
       "<tr><td>1626</td><td>1</td><td>228.849162837</td><td>502.043021426</td><td>0.0189378</td><td>0.0142661</td><td>78.5101</td><td>173.150481772</td><td>27.7689553459</td><td>18.5762</td><td>0.681485</td><td>4</td><td>0</td><td>0.527969</td><td>1.8795</td><td>-3.17239</td><td>0.039841</td><td>173.150507441</td><td>27.7689819914</td><td>0.0</td><td>0.0</td><td>0.0</td><td>0.0</td><td>99.0</td><td>99.0</td><td>1.14112</td><td>21.1783</td><td>0.308594 .. -0.175781</td><td>55.9669</td></tr>\n",
       "<tr><td>1627</td><td>1</td><td>106.633470434</td><td>501.389968127</td><td>0.385024</td><td>0.345046</td><td>0.258753</td><td>173.187314692</td><td>27.7687824647</td><td>3.17969</td><td>0.726077</td><td>4</td><td>0</td><td>0.794965</td><td>4.18393</td><td>-1.25596</td><td>0.247986</td><td>173.187461</td><td>27.7688451939</td><td>0.0</td><td>0.0</td><td>0.0</td><td>0.0</td><td>99.0</td><td>99.0</td><td>1.13954</td><td>3.00711</td><td>-1e+30 .. 0.0449219</td><td>3.00955</td></tr>\n",
       "<tr><td>1628</td><td>1</td><td>475.518989823</td><td>498.964623868</td><td>0.0839979</td><td>0.0195944</td><td>62.676</td><td>173.076141756</td><td>27.7681020112</td><td>3.94727</td><td>0.726182</td><td>4</td><td>0</td><td>0.871369</td><td>5.44557</td><td>-1.49074</td><td>0.199792</td><td>173.076507657</td><td>27.7683270727</td><td>0.0</td><td>0.0</td><td>0.0</td><td>0.0</td><td>99.0</td><td>99.0</td><td>1.13497</td><td>3.68383</td><td>0.115234 .. 0.0351562</td><td>3.85427</td></tr>\n",
       "<tr><td>1629</td><td>1</td><td>386.221783039</td><td>500.6741023</td><td>0.0355847</td><td>0.0354563</td><td>-51.8659</td><td>173.103053455</td><td>27.7685742224</td><td>32.2383</td><td>1.35991</td><td>4</td><td>0</td><td>1.1492</td><td>2.33708</td><td>-3.77093</td><td>0.0458107</td><td>173.103029057</td><td>27.7683939796</td><td>0.0</td><td>0.0</td><td>0.0</td><td>0.0</td><td>99.0</td><td>99.0</td><td>1.13711</td><td>28.2189</td><td>-1e+30 .. -0.183594</td><td>42.0296</td></tr>\n",
       "<tr><td>1630</td><td>1</td><td>364.102649086</td><td>500.010541282</td><td>0.00731463</td><td>0.00671958</td><td>1.11058</td><td>173.109719685</td><td>27.7684004828</td><td>33.1816</td><td>0.633639</td><td>4</td><td>0</td><td>0.557192</td><td>4.6736</td><td>-3.80224</td><td>0.0207383</td><td>173.109646469</td><td>27.7684071566</td><td>0.0</td><td>0.0</td><td>0.0</td><td>0.0</td><td>99.0</td><td>99.0</td><td>1.14238</td><td>35.682</td><td>0.101562 .. 0.130859</td><td>96.2682</td></tr>\n",
       "<tr><td>1631</td><td>1</td><td>191.2196184</td><td>497.234872002</td><td>0.0774915</td><td>0.0774141</td><td>61.6091</td><td>173.161822271</td><td>27.7676744551</td><td>26.0938</td><td>2.10121</td><td>4</td><td>0</td><td>1.47675</td><td>1.97731</td><td>-3.54134</td><td>0.0874507</td><td>173.161764033</td><td>27.7678762678</td><td>0.0</td><td>0.0</td><td>0.0</td><td>0.0</td><td>99.0</td><td>99.0</td><td>1.14003</td><td>21.8498</td><td>-0.0429688 .. 0.078125</td><td>24.0719</td></tr>\n",
       "</table>"
      ],
      "text/plain": [
       "<Table length=1631>\n",
       "NUMBER EXT_NUMBER   XWIN_IMAGE  ... FLUX_APER      VIGNET [20,20]     SNR_WIN\n",
       "                       pix      ...     ct               ct                  \n",
       "int32    int16       float64    ...  float32          float32         float32\n",
       "------ ---------- ------------- ... --------- ----------------------- -------\n",
       "     1          1 192.032860444 ...   471.135    -1e+30 .. -0.0273438 536.145\n",
       "     2          1 157.185136853 ...   23.7855    -11.707 .. 0.0546875 29.7808\n",
       "     3          1 442.747390162 ...   10.0757     -1e+30 .. -0.357422 21.3281\n",
       "     4          1 384.814022604 ...   57.1465   -1.27734 .. -0.148438 87.0516\n",
       "     5          1 311.027260585 ...   29.7991      -1e+30 .. 0.634766 55.7287\n",
       "     6          1  112.10243061 ...   26.5386     -1e+30 .. -0.265625 46.2193\n",
       "     7          1 31.5790008103 ...   16.5333   -6.33594 .. -0.078125 27.4335\n",
       "     8          1 454.029018039 ...   25.8459      -1e+30 .. 0.439453 61.5421\n",
       "     9          1 431.692159388 ...     16.89      -1e+30 .. 0.634766 23.8383\n",
       "   ...        ...           ... ...       ...                     ...     ...\n",
       "  1622          1 79.0870060777 ...   28.9119     0.0898438 .. -1e+30 94.0708\n",
       "  1623          1 341.884896412 ...   8.56938 -0.246094 .. -0.0214844 24.3943\n",
       "  1624          1 329.123796332 ...   18.9234      0.210938 .. -1e+30  48.196\n",
       "  1625          1  252.13324641 ...   19.6216     -0.253906 .. -1e+30 30.4796\n",
       "  1626          1 228.849162837 ...   21.1783   0.308594 .. -0.175781 55.9669\n",
       "  1627          1 106.633470434 ...   3.00711     -1e+30 .. 0.0449219 3.00955\n",
       "  1628          1 475.518989823 ...   3.68383   0.115234 .. 0.0351562 3.85427\n",
       "  1629          1 386.221783039 ...   28.2189     -1e+30 .. -0.183594 42.0296\n",
       "  1630          1 364.102649086 ...    35.682    0.101562 .. 0.130859 96.2682\n",
       "  1631          1   191.2196184 ...   21.8498  -0.0429688 .. 0.078125 24.0719"
      ]
     },
     "execution_count": 27,
     "metadata": {},
     "output_type": "execute_result"
    }
   ],
   "source": [
    "catalog = aw.utils.ldac.get_table_from_ldac(catalogs_5[0])\n",
    "catalog"
   ]
  },
  {
   "cell_type": "markdown",
   "metadata": {},
   "source": [
    "### 1) SExtractor"
   ]
  },
  {
   "cell_type": "code",
   "execution_count": 109,
   "metadata": {
    "collapsed": false
   },
   "outputs": [
    {
     "name": "stdout",
     "output_type": "stream",
     "text": [
      "0.761 3.0 4.40000009537 60.0\n",
      "3.94218134034\n"
     ]
    }
   ],
   "source": [
    "fits_file = fits.open(files['image'])\n",
    "# deg per pixel, need arcsecs per pixel, so multiply by 3600\n",
    "pixel_scale = 0.761#fits_file[0].header['CDELT1'] * 3600.0 \n",
    "fwhm = fits_file[0].header['FWHM_DEF'] # arcsecs\n",
    "gain = fits_file[0].header['GAIN']\n",
    "exp_time = fits_file[0].header['EXPTIME']\n",
    "print pixel_scale, fwhm, gain, exp_time\n",
    "print fwhm / pixel_scale\n",
    "#fits_file[0].header"
   ]
  },
  {
   "cell_type": "code",
   "execution_count": 110,
   "metadata": {
    "collapsed": false
   },
   "outputs": [],
   "source": [
    "# set params for sextractor execution\n",
    "# set code type according to sextractor\n",
    "sex_kwargs_1 = {'code': 'SExtractor'}\n",
    "# set path to config file\n",
    "sex_kwargs_1['config_file'] = os.path.join(paths['config'], 'default.sex')\n",
    "# change some parameters in config (will not change config file set above)\n",
    "sex_kwargs_1['config'] = {'CATALOG_NAME': os.path.join(paths['temp'], \n",
    "                                                os.path.basename(files['image']).replace('.fit', '.cat'))\n",
    "                    }\n",
    "\n",
    "sex_kwargs_1['config']['CATALOG_TYPE'] = 'FITS_LDAC'\n",
    "#sex_kwargs_1['config']['PIXEL_SCALE'] = str(pixel_scale)\n",
    "#sex_kwargs_1['config']['SEEING_FWHM'] = str(fwhm)\n",
    "sex_kwargs_1['config']['GAIN'] = str(gain)\n",
    "sex_kwargs_1['config']['SATUR_LEVEL'] = '50000.0'\n",
    "sex_kwargs_1['config']['DETECT_THRESH'] = '5'\n",
    "sex_kwargs_1['config']['ANALYSIS_THRESH'] = '5'\n",
    "sex_kwargs_1['config']['FILTER'] = 'Y'\n",
    "sex_kwargs_1['config']['FILTER_NAME'] = os.path.join(paths['config'], 'gauss_4.0_7x7.conv')\n",
    "sex_kwargs_1['config']['CHECKIMAGE_TYPE'] = 'APERTURES,BACKGROUND,-BACKGROUND,OBJECTS,-OBJECTS,FILTERED,SEGMENTATION'\n",
    "sex_kwargs_1['config']['CHECKIMAGE_NAME'] = 'check_aper.fit,check_back.fit,check_-back.fit,check_obs.fit,check_-obs.fit,check_filtered.fit,check_segm.fit'\n",
    "sex_kwargs_1['temp_path'] = paths['temp']\n",
    "sex_kwargs_1['params'] = ['NUMBER', 'EXT_NUMBER', 'XWIN_IMAGE', 'YWIN_IMAGE', 'AWIN_IMAGE', 'BWIN_IMAGE',\n",
    "                          'ERRAWIN_IMAGE','ERRBWIN_IMAGE', 'ERRTHETAWIN_IMAGE', \n",
    "                          #'ERRA_WORLD', 'ERRB_WORLD', \n",
    "                          #'ERRTHETA_WORLD', 'X_WORLD', 'Y_WORLD', 'XWIN_WORLD', 'YWIN_WORLD', \n",
    "                          'FLUX_AUTO', 'FLUX_MAX', 'MAG_AUTO', 'FLUXERR_AUTO', \n",
    "                          # flags not supported yet (need Weightwatcher)\n",
    "                          #'IMAFLAGS_ISO', 'FLAGS_WEIGHT',\n",
    "                          'FLAGS', 'FLUX_RADIUS', 'ELONGATION']\n",
    "\n",
    "# minimum catalog columns needed for SCAMP:\n",
    "#XWIN_IMAGE\n",
    "#YWIN_IMAGE\n",
    "#ERRAWIN_IMAGE\n",
    "#ERRBWIN_IMAGE\n",
    "#ERRTHETAWIN_IMAGE\n",
    "#ERRA_WORLD\n",
    "#ERRB_WORLD\n",
    "#ERRTHETA_WORLD\n",
    "#X_WORLD\n",
    "#Y_WORLD\n",
    "#FLUX_RADIUS\n",
    "#FLUX_AUTO\n",
    "#FLUXERR_AUTO\n",
    "#FLUX_MAX\n",
    "#MAG_AUTO\n",
    "#ELONGATION\n",
    "#FLAGS\n",
    "#AWIN_IMAGE\n",
    "#BWIN_IMAGE"
   ]
  },
  {
   "cell_type": "code",
   "execution_count": 111,
   "metadata": {
    "collapsed": false
   },
   "outputs": [],
   "source": [
    "sextractor = aw.api.Astromatic(**sex_kwargs_1)"
   ]
  },
  {
   "cell_type": "code",
   "execution_count": 112,
   "metadata": {
    "collapsed": false
   },
   "outputs": [
    {
     "name": "stdout",
     "output_type": "stream",
     "text": [
      "sex /home/ser/Dev/astro_engine/spark_pipeline/spark_pipeline_test_1/images/GRB130427_R60_001_003.fit -c /home/ser/Dev/astro_engine/spark_pipeline/spark_pipeline_test_1/config/default.sex -CHECKIMAGE_NAME check_aper.fit,check_back.fit,check_-back.fit,check_obs.fit,check_-obs.fit,check_filtered.fit,check_segm.fit -PARAMETERS_NAME /home/ser/Dev/astro_engine/spark_pipeline/spark_pipeline_test_1/temp/sex.param -ANALYSIS_THRESH 5 -CATALOG_NAME /home/ser/Dev/astro_engine/spark_pipeline/spark_pipeline_test_1/temp/GRB130427_R60_001_003.cat -DETECT_THRESH 5 -FILTER Y -CATALOG_TYPE FITS_LDAC -SATUR_LEVEL 50000.0 -FILTER_NAME /home/ser/Dev/astro_engine/spark_pipeline/spark_pipeline_test_1/config/gauss_4.0_7x7.conv -CHECKIMAGE_TYPE APERTURES,BACKGROUND,-BACKGROUND,OBJECTS,-OBJECTS,FILTERED,SEGMENTATION -GAIN 4.40000009537\n"
     ]
    }
   ],
   "source": [
    "this_cmd, kwargs2 = sextractor.build_cmd(files['image'], **sex_kwargs_1)\n",
    "print this_cmd"
   ]
  },
  {
   "cell_type": "code",
   "execution_count": 113,
   "metadata": {
    "collapsed": false
   },
   "outputs": [
    {
     "data": {
      "text/plain": [
       "{'status': 'success'}"
      ]
     },
     "execution_count": 113,
     "metadata": {},
     "output_type": "execute_result"
    }
   ],
   "source": [
    "sextractor.run(files['image']) "
   ]
  },
  {
   "cell_type": "code",
   "execution_count": 114,
   "metadata": {
    "collapsed": false
   },
   "outputs": [
    {
     "data": {
      "text/html": [
       "&lt;Table length=15&gt;\n",
       "<table id=\"table140491806482064\" class=\"table-striped table-bordered table-condensed\">\n",
       "<thead><tr><th>NUMBER</th><th>EXT_NUMBER</th><th>XWIN_IMAGE</th><th>YWIN_IMAGE</th><th>AWIN_IMAGE</th><th>BWIN_IMAGE</th><th>ERRAWIN_IMAGE</th><th>ERRBWIN_IMAGE</th><th>ERRTHETAWIN_IMAGE</th><th>FLUX_AUTO</th><th>FLUX_MAX</th><th>MAG_AUTO</th><th>FLUXERR_AUTO</th><th>FLAGS</th><th>FLUX_RADIUS</th><th>ELONGATION</th></tr></thead>\n",
       "<thead><tr><th></th><th></th><th>pix</th><th>pix</th><th>pix</th><th>pix</th><th>pix</th><th>pix</th><th>deg</th><th>ct</th><th>ct</th><th>mag</th><th>ct</th><th></th><th>pix</th><th></th></tr></thead>\n",
       "<thead><tr><th>int32</th><th>int16</th><th>float64</th><th>float64</th><th>float32</th><th>float32</th><th>float32</th><th>float32</th><th>float32</th><th>float32</th><th>float32</th><th>float32</th><th>float32</th><th>int16</th><th>float32</th><th>float32</th></tr></thead>\n",
       "<tr><td>1</td><td>1</td><td>199.168055166</td><td>38.0395543366</td><td>1.29435</td><td>1.24256</td><td>0.00895048</td><td>0.00888273</td><td>-61.3488</td><td>108010.0</td><td>6044.28</td><td>-12.5837</td><td>753.883</td><td>0</td><td>2.41308</td><td>1.42192</td></tr>\n",
       "<tr><td>2</td><td>1</td><td>167.923478286</td><td>495.912756943</td><td>0.408029</td><td>0.25735</td><td>0.0281359</td><td>0.0279727</td><td>-70.1514</td><td>6337.43</td><td>3574.19</td><td>-9.50478</td><td>312.527</td><td>2</td><td>1.07645</td><td>1.24797</td></tr>\n",
       "<tr><td>3</td><td>1</td><td>96.8465594062</td><td>487.20156571</td><td>1.23603</td><td>1.19444</td><td>0.0381189</td><td>0.0380669</td><td>-36.7805</td><td>18815.0</td><td>1136.28</td><td>-10.6863</td><td>506.275</td><td>0</td><td>2.15867</td><td>1.03352</td></tr>\n",
       "<tr><td>4</td><td>1</td><td>484.971035118</td><td>435.943760281</td><td>1.27491</td><td>1.19144</td><td>0.0270609</td><td>0.0247532</td><td>-44.8148</td><td>13835.6</td><td>13050.4</td><td>-10.3525</td><td>305.397</td><td>0</td><td>0.407155</td><td>1.07006</td></tr>\n",
       "<tr><td>5</td><td>1</td><td>436.999561041</td><td>434.086067572</td><td>0.344553</td><td>0.296117</td><td>0.0298878</td><td>0.0297697</td><td>42.8448</td><td>4538.59</td><td>2655.58</td><td>-9.1423</td><td>177.712</td><td>0</td><td>1.04116</td><td>1.70323</td></tr>\n",
       "<tr><td>6</td><td>1</td><td>308.93746293</td><td>405.139739043</td><td>1.27587</td><td>1.21961</td><td>0.0210653</td><td>0.0209366</td><td>-9.62813</td><td>37558.7</td><td>2198.43</td><td>-11.4368</td><td>576.513</td><td>0</td><td>2.24851</td><td>1.07395</td></tr>\n",
       "<tr><td>7</td><td>1</td><td>391.748642759</td><td>249.112014528</td><td>1.51975</td><td>0.732005</td><td>0.0861098</td><td>0.0852275</td><td>-74.556</td><td>7227.08</td><td>1640.33</td><td>-9.64741</td><td>276.569</td><td>0</td><td>2.16963</td><td>1.7267</td></tr>\n",
       "<tr><td>8</td><td>1</td><td>459.813620052</td><td>224.285189293</td><td>1.33711</td><td>1.26766</td><td>0.0265599</td><td>0.0265027</td><td>-83.175</td><td>32629.5</td><td>1733.33</td><td>-11.284</td><td>582.138</td><td>0</td><td>2.36409</td><td>1.04671</td></tr>\n",
       "<tr><td>9</td><td>1</td><td>61.1536274061</td><td>211.452984939</td><td>2.14943</td><td>1.66825</td><td>0.0987327</td><td>0.0984798</td><td>46.103</td><td>16059.3</td><td>1043.07</td><td>-10.5143</td><td>523.467</td><td>0</td><td>3.28054</td><td>1.13151</td></tr>\n",
       "<tr><td>10</td><td>1</td><td>153.005957044</td><td>162.906804075</td><td>0.291612</td><td>0.288968</td><td>0.00295288</td><td>0.00278813</td><td>-86.9808</td><td>15597.8</td><td>14678.2</td><td>-10.4827</td><td>332.371</td><td>0</td><td>0.414931</td><td>1.07167</td></tr>\n",
       "<tr><td>11</td><td>1</td><td>496.205571023</td><td>128.662656917</td><td>1.90258</td><td>1.60722</td><td>0.102834</td><td>0.102619</td><td>-28.3812</td><td>13068.7</td><td>493.267</td><td>-10.2906</td><td>459.032</td><td>0</td><td>3.002</td><td>1.35533</td></tr>\n",
       "<tr><td>12</td><td>1</td><td>148.999709632</td><td>118.00598656</td><td>0.290258</td><td>0.288821</td><td>0.00647574</td><td>0.00647411</td><td>-86.8919</td><td>5835.53</td><td>4682.43</td><td>-9.4152</td><td>264.696</td><td>0</td><td>0.435257</td><td>1.00054</td></tr>\n",
       "<tr><td>13</td><td>1</td><td>148.600434556</td><td>99.7856932169</td><td>0.843891</td><td>0.641478</td><td>0.049071</td><td>0.0483487</td><td>-74.6645</td><td>5396.8</td><td>1422.42</td><td>-9.33034</td><td>255.698</td><td>0</td><td>1.28344</td><td>1.71628</td></tr>\n",
       "<tr><td>14</td><td>1</td><td>302.380048839</td><td>78.5385999627</td><td>1.82827</td><td>1.55741</td><td>0.100981</td><td>0.100565</td><td>27.1899</td><td>9983.73</td><td>3904.87</td><td>-9.99823</td><td>387.862</td><td>0</td><td>2.97363</td><td>1.34828</td></tr>\n",
       "<tr><td>15</td><td>1</td><td>315.913437833</td><td>55.119730567</td><td>0.2927</td><td>0.291757</td><td>0.0062915</td><td>0.00591555</td><td>-61.7453</td><td>12630.6</td><td>6909.74</td><td>-10.2536</td><td>429.702</td><td>0</td><td>0.640413</td><td>1.14996</td></tr>\n",
       "</table>"
      ],
      "text/plain": [
       "<Table length=15>\n",
       "NUMBER EXT_NUMBER   XWIN_IMAGE    YWIN_IMAGE  ... FLAGS FLUX_RADIUS ELONGATION\n",
       "                       pix           pix      ...           pix               \n",
       "int32    int16       float64       float64    ... int16   float32    float32  \n",
       "------ ---------- ------------- ------------- ... ----- ----------- ----------\n",
       "     1          1 199.168055166 38.0395543366 ...     0     2.41308    1.42192\n",
       "     2          1 167.923478286 495.912756943 ...     2     1.07645    1.24797\n",
       "     3          1 96.8465594062  487.20156571 ...     0     2.15867    1.03352\n",
       "     4          1 484.971035118 435.943760281 ...     0    0.407155    1.07006\n",
       "     5          1 436.999561041 434.086067572 ...     0     1.04116    1.70323\n",
       "     6          1  308.93746293 405.139739043 ...     0     2.24851    1.07395\n",
       "     7          1 391.748642759 249.112014528 ...     0     2.16963     1.7267\n",
       "     8          1 459.813620052 224.285189293 ...     0     2.36409    1.04671\n",
       "     9          1 61.1536274061 211.452984939 ...     0     3.28054    1.13151\n",
       "    10          1 153.005957044 162.906804075 ...     0    0.414931    1.07167\n",
       "    11          1 496.205571023 128.662656917 ...     0       3.002    1.35533\n",
       "    12          1 148.999709632  118.00598656 ...     0    0.435257    1.00054\n",
       "    13          1 148.600434556 99.7856932169 ...     0     1.28344    1.71628\n",
       "    14          1 302.380048839 78.5385999627 ...     0     2.97363    1.34828\n",
       "    15          1 315.913437833  55.119730567 ...     0    0.640413    1.14996"
      ]
     },
     "execution_count": 114,
     "metadata": {},
     "output_type": "execute_result"
    }
   ],
   "source": [
    "catalog = aw.utils.ldac.get_table_from_ldac(sex_kwargs_1['config']['CATALOG_NAME'])\n",
    "catalog"
   ]
  },
  {
   "cell_type": "markdown",
   "metadata": {
    "collapsed": true
   },
   "source": [
    "### 2) SCAMP"
   ]
  },
  {
   "cell_type": "code",
   "execution_count": 115,
   "metadata": {
    "collapsed": false
   },
   "outputs": [
    {
     "data": {
      "text/plain": [
       "'temp/GRB130427_R60_001_001.cat temp/GRB130427_R60_001_002.cat temp/GRB130427_R60_001_003.cat'"
      ]
     },
     "execution_count": 115,
     "metadata": {},
     "output_type": "execute_result"
    }
   ],
   "source": [
    "scamp_kwargs_1 = {\n",
    "    'config': {\n",
    "        'ASTREF_CATALOG': 'UCAC-3',\n",
    "        'ASTREF_BAND': 'DEFAULT',\n",
    "        'SOLVE_ASTROM': 'Y',\n",
    "        'SOLVE_PHOTOM': 'Y',\n",
    "        'CHECKPLOT_DEV': 'NULL',\n",
    "        'MOSAIC_TYPE': 'UNCHANGED',#'UNCHANGED',\n",
    "        #'DISTORT_DEGREES': '1',\n",
    "        'COMPUTE_PARALLAXES': 'N',\n",
    "        'CROSSID_RADIUS': '3.0',\n",
    "        'EXPOTIME_KEY': 'EXPTIME',\n",
    "        'FULLOUTCAT_TYPE': 'FITS_LDAC',\n",
    "        'FULLOUTCAT_NAME': os.path.join(paths['temp'], 'scamp_catalog.cat'),\n",
    "        'PIXSCALE_MAXERR': '1.2',\n",
    "        'STABILITY_TYPE': 'INSTRUMENT', #default: 'INSTRUMENT'\n",
    "        'SN_THRESHOLDS': '10.0,100.0',\n",
    "        'FWHM_THRESHOLDS': '0.0,10.0', #default: '0.0,100.0'\n",
    "        }\n",
    "}\n",
    "scamp_kwargs_1['code'] = 'SCAMP'\n",
    "scamp_kwargs_1['config_file'] = os.path.join(paths['config'], 'default.scamp')\n",
    "\n",
    "catalogs = ['temp/GRB130427_R60_001_00%d.cat' % n for n in xrange(1,4)]\n",
    "catalogs = ' '.join(catalogs)\n",
    "catalogs"
   ]
  },
  {
   "cell_type": "code",
   "execution_count": 116,
   "metadata": {
    "collapsed": true
   },
   "outputs": [],
   "source": [
    "scamp = aw.api.Astromatic(**scamp_kwargs_1)"
   ]
  },
  {
   "cell_type": "code",
   "execution_count": 117,
   "metadata": {
    "collapsed": false
   },
   "outputs": [
    {
     "name": "stdout",
     "output_type": "stream",
     "text": [
      "scamp temp/GRB130427_R60_001_001.cat temp/GRB130427_R60_001_002.cat temp/GRB130427_R60_001_003.cat -c /home/ser/Dev/astro_engine/spark_pipeline/spark_pipeline_test_1/config/default.scamp -ASTREF_BAND DEFAULT -COMPUTE_PARALLAXES N -MOSAIC_TYPE UNCHANGED -FULLOUTCAT_TYPE FITS_LDAC -CHECKPLOT_DEV NULL -CROSSID_RADIUS 3.0 -ASTREF_CATALOG UCAC-3 -EXPOTIME_KEY EXPTIME -PIXSCALE_MAXERR 1.2 -FWHM_THRESHOLDS 0.0,10.0 -SOLVE_PHOTOM Y -SOLVE_ASTROM Y -SN_THRESHOLDS 10.0,100.0 -STABILITY_TYPE INSTRUMENT -FULLOUTCAT_NAME /home/ser/Dev/astro_engine/spark_pipeline/spark_pipeline_test_1/temp/scamp_catalog.cat\n"
     ]
    }
   ],
   "source": [
    "this_cmd, kwargs2 = scamp.build_cmd(catalogs, **scamp_kwargs_1)\n",
    "print this_cmd"
   ]
  },
  {
   "cell_type": "code",
   "execution_count": 306,
   "metadata": {
    "collapsed": false
   },
   "outputs": [
    {
     "data": {
      "text/plain": [
       "{'status': 'success'}"
      ]
     },
     "execution_count": 306,
     "metadata": {},
     "output_type": "execute_result"
    }
   ],
   "source": [
    "scamp.run(catalogs)"
   ]
  },
  {
   "cell_type": "code",
   "execution_count": 118,
   "metadata": {
    "collapsed": false
   },
   "outputs": [
    {
     "data": {
      "text/plain": [
       "HISTORY   Astrometric solution by SCAMP version 2.0.4 (2014-07-09)              \n",
       "COMMENT   (c) 2010-2013 IAP/CNRS/UPMC                                           \n",
       "COMMENT                                                                         \n",
       "EQUINOX =        2000.00000000 / Mean equinox                                   \n",
       "RADESYS = 'ICRS    '           / Astrometric system                             \n",
       "CTYPE1  = 'RA---TAN'           / WCS projection type for this axis              \n",
       "CTYPE2  = 'DEC--TAN'           / WCS projection type for this axis              \n",
       "CUNIT1  = 'DEG     '           / Axis unit                                      \n",
       "CUNIT2  = 'DEG     '           / Axis unit                                      \n",
       "CRVAL1  =   1.731461084210E+02 / World coordinate on this axis                  \n",
       "CRVAL2  =   2.771140573907E+01 / World coordinate on this axis                  \n",
       "CRPIX1  =   2.425000000000E+02 / Reference pixel on this axis                   \n",
       "CRPIX2  =   2.865000000000E+02 / Reference pixel on this axis                   \n",
       "CD1_1   =  -2.666664161749E-04 / Linear projection matrix                       \n",
       "CD1_2   =  -7.821826983739E-10 / Linear projection matrix                       \n",
       "CD2_1   =  -7.821826983739E-10 / Linear projection matrix                       \n",
       "CD2_2   =   2.666664161749E-04 / Linear projection matrix                       \n",
       "PV1_0   =   1.613618739843E-03 / Projection distortion parameter                \n",
       "PV1_1   =  -1.486320443948E+00 / Projection distortion parameter                \n",
       "PV1_2   =  -5.012668573093E-01 / Projection distortion parameter                \n",
       "PV1_4   =  -6.377457099351E+00 / Projection distortion parameter                \n",
       "PV1_5   =  -4.749339903127E+00 / Projection distortion parameter                \n",
       "PV1_6   =   1.936947959334E+01 / Projection distortion parameter                \n",
       "PV1_7   =   8.286718742088E+01 / Projection distortion parameter                \n",
       "PV1_8   =   2.415640186724E+02 / Projection distortion parameter                \n",
       "PV1_9   =   1.513072842139E+02 / Projection distortion parameter                \n",
       "PV1_10  =   3.424196845776E+02 / Projection distortion parameter                \n",
       "PV2_0   =  -9.196723798483E-02 / Projection distortion parameter                \n",
       "PV2_1   =   5.270563867886E-02 / Projection distortion parameter                \n",
       "PV2_2   =   1.346100037612E-01 / Projection distortion parameter                \n",
       "PV2_4   =  -2.357461419825E+00 / Projection distortion parameter                \n",
       "PV2_5   =   1.390736816021E+01 / Projection distortion parameter                \n",
       "PV2_6   =   2.306266431412E+00 / Projection distortion parameter                \n",
       "PV2_7   =  -1.603300755171E+02 / Projection distortion parameter                \n",
       "PV2_8   =  -2.600148497860E+01 / Projection distortion parameter                \n",
       "PV2_9   =  -3.033714286972E+02 / Projection distortion parameter                \n",
       "PV2_10  =   2.301294824248E+02 / Projection distortion parameter                \n",
       "FGROUPNO=                    1 / SCAMP field group label                        \n",
       "ASTIRMS1=   1.127598412471E-04 / Astrom. dispersion RMS (intern., high S/N)     \n",
       "ASTIRMS2=   3.083807809339E-05 / Astrom. dispersion RMS (intern., high S/N)     \n",
       "ASTRRMS1=   0.000000000000E+00 / Astrom. dispersion RMS (ref., high S/N)        \n",
       "ASTRRMS2=   0.000000000000E+00 / Astrom. dispersion RMS (ref., high S/N)        \n",
       "ASTINST =                    1 / SCAMP astrometric instrument label             \n",
       "FLXSCALE=   1.726253685140E-02 / SCAMP relative flux scale                      \n",
       "MAGZEROP=           0.00000000 / SCAMP zero-point                               \n",
       "PHOTIRMS=           0.00704466 / mag dispersion RMS (internal, high S/N)        \n",
       "PHOTINST=                    1 / SCAMP photometric instrument label             \n",
       "PHOTLINK=                    F / True if linked to a photometric field          "
      ]
     },
     "execution_count": 118,
     "metadata": {},
     "output_type": "execute_result"
    }
   ],
   "source": [
    "# check header output after SCAMP work (need to load header from txt (.head) file)\n",
    "fileobj = open('temp/GRB130427_R60_001_003.head')\n",
    "hdr = fits.Header.fromtextfile(fileobj)\n",
    "hdr"
   ]
  },
  {
   "cell_type": "code",
   "execution_count": 77,
   "metadata": {
    "collapsed": false
   },
   "outputs": [
    {
     "data": {
      "text/html": [
       "&lt;Table length=213&gt;\n",
       "<table id=\"table140193547710352\" class=\"table-striped table-bordered table-condensed\">\n",
       "<thead><tr><th>NUMBER</th><th>EXT_NUMBER</th><th>XWIN_IMAGE</th><th>YWIN_IMAGE</th><th>AWIN_IMAGE</th><th>BWIN_IMAGE</th><th>ERRAWIN_IMAGE</th><th>ERRBWIN_IMAGE</th><th>ERRTHETAWIN_IMAGE</th><th>ERRA_WORLD</th><th>ERRB_WORLD</th><th>ERRTHETA_WORLD</th><th>X_WORLD</th><th>Y_WORLD</th><th>XWIN_WORLD</th><th>YWIN_WORLD</th><th>FLUX_AUTO</th><th>FLUX_MAX</th><th>MAG_AUTO</th><th>FLUXERR_AUTO</th><th>FLAGS</th><th>FLUX_RADIUS</th><th>ELONGATION</th></tr></thead>\n",
       "<thead><tr><th></th><th></th><th>pix</th><th>pix</th><th>pix</th><th>pix</th><th>pix</th><th>pix</th><th>deg</th><th>deg</th><th>deg</th><th>deg</th><th>deg</th><th>deg</th><th>deg</th><th>deg</th><th>ct</th><th>ct</th><th>mag</th><th>ct</th><th></th><th>pix</th><th></th></tr></thead>\n",
       "<thead><tr><th>int32</th><th>int16</th><th>float64</th><th>float64</th><th>float32</th><th>float32</th><th>float32</th><th>float32</th><th>float32</th><th>float32</th><th>float32</th><th>float32</th><th>float64</th><th>float64</th><th>float64</th><th>float64</th><th>float32</th><th>float32</th><th>float32</th><th>float32</th><th>int16</th><th>float32</th><th>float32</th></tr></thead>\n",
       "<tr><td>1</td><td>1</td><td>200.001879873</td><td>37.7858236746</td><td>1.44323</td><td>1.35333</td><td>0.011065</td><td>0.0109902</td><td>-62.1096</td><td>1.45491e-05</td><td>4.84484e-06</td><td>-55.142</td><td>173.159253848</td><td>27.6448352677</td><td>173.159025736</td><td>27.645189041</td><td>1933.7</td><td>91.5996</td><td>-8.21597</td><td>15.4353</td><td>4</td><td>2.76738</td><td>1.61273</td></tr>\n",
       "<tr><td>2</td><td>1</td><td>166.558903708</td><td>12.5396075255</td><td>0.884981</td><td>0.373719</td><td>0.0613923</td><td>0.0603824</td><td>42.5807</td><td>6.0186e-05</td><td>nan</td><td>-40.5507</td><td>173.136591502</td><td>27.6568747765</td><td>173.13699829</td><td>27.6566229741</td><td>89.832</td><td>32.3262</td><td>-4.88358</td><td>4.63264</td><td>4</td><td>1.49201</td><td>1.48775</td></tr>\n",
       "<tr><td>3</td><td>1</td><td>384.691709513</td><td>11.2930270856</td><td>0.908017</td><td>0.418396</td><td>0.0690206</td><td>0.0679324</td><td>-56.3237</td><td>0.000135504</td><td>nan</td><td>-43.574</td><td>173.124353186</td><td>27.7278310217</td><td>173.124269547</td><td>27.727886527</td><td>93.916</td><td>21.7578</td><td>-4.93185</td><td>5.42732</td><td>4</td><td>1.50754</td><td>1.57846</td></tr>\n",
       "<tr><td>4</td><td>1</td><td>413.6074166</td><td>492.082118733</td><td>1.77615</td><td>1.08217</td><td>0.180699</td><td>0.180116</td><td>72.7929</td><td>0.000171837</td><td>nan</td><td>-41.4304</td><td>173.319664854</td><td>27.4997958331</td><td>173.319508909</td><td>27.4999539796</td><td>90.8652</td><td>24.5</td><td>-4.89599</td><td>6.23148</td><td>4</td><td>2.81449</td><td>1.43413</td></tr>\n",
       "<tr><td>5</td><td>1</td><td>132.398679149</td><td>491.661734178</td><td>1.15069</td><td>0.916292</td><td>0.0984648</td><td>0.0982954</td><td>-78.5888</td><td>0.000103588</td><td>1.08439e-05</td><td>-17.1235</td><td>173.210648413</td><td>27.6067080243</td><td>173.210763092</td><td>27.6066452075</td><td>102.209</td><td>27.8223</td><td>-5.02372</td><td>6.30976</td><td>4</td><td>1.98488</td><td>1.31229</td></tr>\n",
       "<tr><td>6</td><td>1</td><td>97.7152617824</td><td>486.896562839</td><td>1.31941</td><td>1.19006</td><td>0.0432631</td><td>0.0431249</td><td>-35.7225</td><td>6.60725e-05</td><td>8.19749e-06</td><td>-16.9525</td><td>173.197454285</td><td>27.6146669061</td><td>173.197302405</td><td>27.6147025907</td><td>313.127</td><td>27.752</td><td>-6.2393</td><td>10.2885</td><td>4</td><td>2.25096</td><td>1.09392</td></tr>\n",
       "<tr><td>7</td><td>1</td><td>431.001280447</td><td>489.984657153</td><td>0.74834</td><td>0.684469</td><td>0.0821369</td><td>0.076041</td><td>89.9702</td><td>0.0001407</td><td>4.62414e-05</td><td>-44.3769</td><td>173.323905234</td><td>27.4837813642</td><td>173.323783312</td><td>27.4840749316</td><td>82.7871</td><td>42.3496</td><td>-4.79491</td><td>5.33619</td><td>4</td><td>0.820596</td><td>1.09332</td></tr>\n",
       "<tr><td>8</td><td>1</td><td>42.1091560706</td><td>485.650792118</td><td>1.12641</td><td>0.612804</td><td>0.10863</td><td>0.108103</td><td>63.123</td><td>0.000258587</td><td>1.79263e-05</td><td>-17.6974</td><td>173.190943918</td><td>27.6304435689</td><td>173.192072659</td><td>27.6300874878</td><td>58.1973</td><td>18.1211</td><td>-4.41226</td><td>3.71911</td><td>4</td><td>1.6064</td><td>2.97875</td></tr>\n",
       "<tr><td>9</td><td>1</td><td>161.939468344</td><td>484.439727379</td><td>1.15906</td><td>0.331486</td><td>0.0798942</td><td>0.0778436</td><td>-28.4998</td><td>0.000106935</td><td>1.17852e-05</td><td>-16.2025</td><td>173.206736156</td><td>27.6053674238</td><td>173.207142469</td><td>27.6052710957</td><td>68.9805</td><td>26.1836</td><td>-4.59682</td><td>3.84855</td><td>4</td><td>1.42279</td><td>1.28023</td></tr>\n",
       "<tr><td>...</td><td>...</td><td>...</td><td>...</td><td>...</td><td>...</td><td>...</td><td>...</td><td>...</td><td>...</td><td>...</td><td>...</td><td>...</td><td>...</td><td>...</td><td>...</td><td>...</td><td>...</td><td>...</td><td>...</td><td>...</td><td>...</td><td>...</td></tr>\n",
       "<tr><td>204</td><td>1</td><td>499.243886415</td><td>34.3974417329</td><td>1.35725</td><td>0.858457</td><td>0.125551</td><td>0.124701</td><td>51.9884</td><td>0.000139507</td><td>7.17501e-05</td><td>-37.1559</td><td>173.055655985</td><td>27.7491033083</td><td>173.055408311</td><td>27.7493901578</td><td>65.3281</td><td>17.9238</td><td>-4.53775</td><td>4.46771</td><td>4</td><td>1.83162</td><td>1.74234</td></tr>\n",
       "<tr><td>205</td><td>1</td><td>395.174105262</td><td>31.9024302025</td><td>1.89529</td><td>1.28714</td><td>0.168449</td><td>0.167587</td><td>45.7395</td><td>0.00011635</td><td>2.94972e-05</td><td>-45.126</td><td>173.139094</td><td>27.715256218</td><td>173.138928936</td><td>27.7154134234</td><td>87.2949</td><td>20.7695</td><td>-4.85247</td><td>6.11635</td><td>4</td><td>2.66941</td><td>1.70674</td></tr>\n",
       "<tr><td>206</td><td>1</td><td>268.079965176</td><td>32.0848208369</td><td>0.34429</td><td>0.290814</td><td>0.0185601</td><td>0.0183562</td><td>15.1334</td><td>5.24908e-05</td><td>1.71646e-05</td><td>-59.5701</td><td>173.168488971</td><td>27.6624572459</td><td>173.168567638</td><td>27.6622873477</td><td>70.1426</td><td>41.7539</td><td>-4.61495</td><td>4.08573</td><td>4</td><td>0.732286</td><td>1.37708</td></tr>\n",
       "<tr><td>207</td><td>1</td><td>404.000679113</td><td>30.998629339</td><td>0.29215</td><td>0.289365</td><td>0.0113985</td><td>0.0113974</td><td>-5.40132</td><td>0.000113508</td><td>4.64203e-06</td><td>-43.7712</td><td>173.13309778</td><td>27.7200348016</td><td>173.133098035</td><td>27.7200345967</td><td>46.1895</td><td>41.668</td><td>-4.16136</td><td>2.50531</td><td>4</td><td>0.415508</td><td>1.00332</td></tr>\n",
       "<tr><td>208</td><td>1</td><td>468.754328635</td><td>31.1949036674</td><td>1.73325</td><td>0.534402</td><td>0.172789</td><td>0.171807</td><td>-0.848136</td><td>0.000163765</td><td>2.97914e-05</td><td>-25.7751</td><td>173.082859059</td><td>27.7451328275</td><td>173.083311704</td><td>27.7448530182</td><td>75.5078</td><td>18.084</td><td>-4.69498</td><td>3.72792</td><td>4</td><td>2.50949</td><td>2.97747</td></tr>\n",
       "<tr><td>209</td><td>1</td><td>157.339232173</td><td>28.0288362433</td><td>0.742366</td><td>0.686462</td><td>0.0839739</td><td>0.0776848</td><td>89.8339</td><td>5.29408e-05</td><td>1.48839e-05</td><td>-43.9046</td><td>173.140253985</td><td>27.6500835494</td><td>173.140273643</td><td>27.6500781217</td><td>50.8301</td><td>44.4258</td><td>-4.2653</td><td>3.90025</td><td>4</td><td>0.492377</td><td>1.08144</td></tr>\n",
       "<tr><td>210</td><td>1</td><td>32.2202517991</td><td>26.1187329572</td><td>0.761966</td><td>0.57367</td><td>0.0938416</td><td>0.0693224</td><td>44.983</td><td>0.000116986</td><td>nan</td><td>-58.6002</td><td>173.06972333</td><td>27.7182963027</td><td>173.069753021</td><td>27.7182524818</td><td>50.2109</td><td>46.4707</td><td>-4.252</td><td>2.93915</td><td>4</td><td>0.446504</td><td>1.32823</td></tr>\n",
       "<tr><td>211</td><td>1</td><td>422.702191054</td><td>48.4581476481</td><td>0.75107</td><td>0.451156</td><td>0.103197</td><td>0.0596241</td><td>18.4348</td><td>8.51905e-05</td><td>3.0867e-05</td><td>-39.8729</td><td>173.137683381</td><td>27.7127645571</td><td>173.137619019</td><td>27.7128495181</td><td>44.332</td><td>40.0547</td><td>-4.11679</td><td>3.51727</td><td>4</td><td>0.597253</td><td>1.66477</td></tr>\n",
       "<tr><td>212</td><td>1</td><td>452.70993832</td><td>16.023018437</td><td>0.473496</td><td>0.262028</td><td>0.040019</td><td>0.038796</td><td>1.49603</td><td>0.000160398</td><td>nan</td><td>-39.2174</td><td>173.078737819</td><td>27.7557009042</td><td>173.079458273</td><td>27.7552693407</td><td>58.4727</td><td>23.9102</td><td>-4.41738</td><td>2.94447</td><td>4</td><td>0.994909</td><td>1.35613</td></tr>\n",
       "<tr><td>213</td><td>1</td><td>265.072219373</td><td>495.062393802</td><td>0.454093</td><td>0.307865</td><td>0.0289447</td><td>0.0284662</td><td>78.7604</td><td>0.000112937</td><td>9.82547e-06</td><td>-22.1125</td><td>173.259528803</td><td>27.5817824086</td><td>173.258751427</td><td>27.5820976497</td><td>43.3398</td><td>27.957</td><td>-4.09222</td><td>2.77018</td><td>4</td><td>0.782006</td><td>1.0006</td></tr>\n",
       "</table>"
      ],
      "text/plain": [
       "<Table length=213>\n",
       "NUMBER EXT_NUMBER   XWIN_IMAGE    YWIN_IMAGE  ... FLAGS FLUX_RADIUS ELONGATION\n",
       "                       pix           pix      ...           pix               \n",
       "int32    int16       float64       float64    ... int16   float32    float32  \n",
       "------ ---------- ------------- ------------- ... ----- ----------- ----------\n",
       "     1          1 200.001879873 37.7858236746 ...     4     2.76738    1.61273\n",
       "     2          1 166.558903708 12.5396075255 ...     4     1.49201    1.48775\n",
       "     3          1 384.691709513 11.2930270856 ...     4     1.50754    1.57846\n",
       "     4          1   413.6074166 492.082118733 ...     4     2.81449    1.43413\n",
       "     5          1 132.398679149 491.661734178 ...     4     1.98488    1.31229\n",
       "     6          1 97.7152617824 486.896562839 ...     4     2.25096    1.09392\n",
       "     7          1 431.001280447 489.984657153 ...     4    0.820596    1.09332\n",
       "     8          1 42.1091560706 485.650792118 ...     4      1.6064    2.97875\n",
       "     9          1 161.939468344 484.439727379 ...     4     1.42279    1.28023\n",
       "   ...        ...           ...           ... ...   ...         ...        ...\n",
       "   204          1 499.243886415 34.3974417329 ...     4     1.83162    1.74234\n",
       "   205          1 395.174105262 31.9024302025 ...     4     2.66941    1.70674\n",
       "   206          1 268.079965176 32.0848208369 ...     4    0.732286    1.37708\n",
       "   207          1 404.000679113  30.998629339 ...     4    0.415508    1.00332\n",
       "   208          1 468.754328635 31.1949036674 ...     4     2.50949    2.97747\n",
       "   209          1 157.339232173 28.0288362433 ...     4    0.492377    1.08144\n",
       "   210          1 32.2202517991 26.1187329572 ...     4    0.446504    1.32823\n",
       "   211          1 422.702191054 48.4581476481 ...     4    0.597253    1.66477\n",
       "   212          1  452.70993832  16.023018437 ...     4    0.994909    1.35613\n",
       "   213          1 265.072219373 495.062393802 ...     4    0.782006     1.0006"
      ]
     },
     "execution_count": 77,
     "metadata": {},
     "output_type": "execute_result"
    }
   ],
   "source": [
    "scamp_catalog = aw.utils.ldac.get_table_from_ldac('/home/ser/Dev/astro_engine/spark_pipeline/spark_pipeline_test_1/catalogs/GRB130427_R60_001_001.cat')\n",
    "scamp_catalog"
   ]
  },
  {
   "cell_type": "markdown",
   "metadata": {},
   "source": [
    "## 3) Swarp"
   ]
  },
  {
   "cell_type": "code",
   "execution_count": 119,
   "metadata": {
    "collapsed": false
   },
   "outputs": [
    {
     "data": {
      "text/plain": [
       "'/home/ser/Dev/astro_engine/spark_pipeline/spark_pipeline_test_1/temp'"
      ]
     },
     "execution_count": 119,
     "metadata": {},
     "output_type": "execute_result"
    }
   ],
   "source": [
    "files['image']\n",
    "paths['temp']"
   ]
  },
  {
   "cell_type": "code",
   "execution_count": 120,
   "metadata": {
    "collapsed": false
   },
   "outputs": [
    {
     "data": {
      "text/plain": [
       "'temp/GRB130427_R60_001_001.fit temp/GRB130427_R60_001_002.fit temp/GRB130427_R60_001_003.fit'"
      ]
     },
     "execution_count": 120,
     "metadata": {},
     "output_type": "execute_result"
    }
   ],
   "source": [
    "coadd_fits_name = 'coadded.fits'\n",
    "coadd_fits_filename = os.path.join(paths['temp'], coadd_fits_name)\n",
    "swarp_kwargs_1 = {\n",
    "    'config': {\n",
    "        'RESAMPLE': 'N',\n",
    "        'IMAGEOUT_NAME': coadd_fits_filename,\n",
    "        'WEIGHTOUT_NAME': coadd_fits_filename.replace('.fits','.wtmap.fits'),\n",
    "        'DELETE_TMPFILES': 'Y',\n",
    "        'PROJECTION_TYPE': 'NONE',\n",
    "        'CELESTIAL_TYPE ': 'NATIVE'\n",
    "    }\n",
    "    }\n",
    "\n",
    "swarp_kwargs_1['code'] = 'SWarp'\n",
    "swarp_kwargs_1['config_file'] = os.path.join(paths['config'], 'default.swarp')\n",
    "fits_to_coadd = ' '.join(['temp/GRB130427_R60_001_00%d.fit' % n for n in xrange(1,4)])\n",
    "fits_to_coadd"
   ]
  },
  {
   "cell_type": "code",
   "execution_count": 121,
   "metadata": {
    "collapsed": false
   },
   "outputs": [],
   "source": [
    "swarp = aw.api.Astromatic(**swarp_kwargs_1)"
   ]
  },
  {
   "cell_type": "code",
   "execution_count": 122,
   "metadata": {
    "collapsed": false
   },
   "outputs": [
    {
     "name": "stdout",
     "output_type": "stream",
     "text": [
      "swarp temp/GRB130427_R60_001_001.fit temp/GRB130427_R60_001_002.fit temp/GRB130427_R60_001_003.fit -c /home/ser/Dev/astro_engine/spark_pipeline/spark_pipeline_test_1/config/default.swarp -RESAMPLE N -PROJECTION_TYPE NONE -WEIGHTOUT_NAME /home/ser/Dev/astro_engine/spark_pipeline/spark_pipeline_test_1/temp/coadded.wtmap.fits -CELESTIAL_TYPE  NATIVE -DELETE_TMPFILES Y -IMAGEOUT_NAME /home/ser/Dev/astro_engine/spark_pipeline/spark_pipeline_test_1/temp/coadded.fits\n"
     ]
    }
   ],
   "source": [
    "this_cmd, kwargs2 = swarp.build_cmd(fits_to_coadd, **swarp_kwargs_1)\n",
    "print this_cmd"
   ]
  },
  {
   "cell_type": "code",
   "execution_count": 271,
   "metadata": {
    "collapsed": false
   },
   "outputs": [
    {
     "ename": "KeyboardInterrupt",
     "evalue": "",
     "output_type": "error",
     "traceback": [
      "\u001b[0;31m---------------------------------------------------------------------------\u001b[0m",
      "\u001b[0;31mKeyboardInterrupt\u001b[0m                         Traceback (most recent call last)",
      "\u001b[0;32m<ipython-input-271-0d5e2714bb59>\u001b[0m in \u001b[0;36m<module>\u001b[0;34m()\u001b[0m\n\u001b[0;32m----> 1\u001b[0;31m \u001b[0mswarp\u001b[0m\u001b[0;34m.\u001b[0m\u001b[0mrun\u001b[0m\u001b[0;34m(\u001b[0m\u001b[0;34m'temp/GRB130427_R60_001_001.fit'\u001b[0m\u001b[0;34m)\u001b[0m\u001b[0;34m\u001b[0m\u001b[0m\n\u001b[0m",
      "\u001b[0;32m/home/ser/Dev/Python/2/anaconda2/envs/iraf27/lib/python2.7/site-packages/astromatic_wrapper/api.pyc\u001b[0m in \u001b[0;36mrun\u001b[0;34m(self, filenames, store_output, raise_error, **kwargs)\u001b[0m\n\u001b[1;32m    523\u001b[0m             \u001b[0mxml_name\u001b[0m \u001b[0;34m=\u001b[0m \u001b[0mNone\u001b[0m\u001b[0;34m\u001b[0m\u001b[0m\n\u001b[1;32m    524\u001b[0m \u001b[0;34m\u001b[0m\u001b[0m\n\u001b[0;32m--> 525\u001b[0;31m         \u001b[0;32mreturn\u001b[0m \u001b[0mself\u001b[0m\u001b[0;34m.\u001b[0m\u001b[0m_run_cmd\u001b[0m\u001b[0;34m(\u001b[0m\u001b[0mthis_cmd\u001b[0m\u001b[0;34m,\u001b[0m \u001b[0mstore_output\u001b[0m\u001b[0;34m,\u001b[0m \u001b[0mxml_name\u001b[0m\u001b[0;34m,\u001b[0m \u001b[0mraise_error\u001b[0m\u001b[0;34m)\u001b[0m\u001b[0;34m\u001b[0m\u001b[0m\n\u001b[0m\u001b[1;32m    526\u001b[0m \u001b[0;34m\u001b[0m\u001b[0m\n\u001b[1;32m    527\u001b[0m     def run_frames(self, filenames, code=None, frames=[1], raise_error=True,\n",
      "\u001b[0;32m/home/ser/Dev/Python/2/anaconda2/envs/iraf27/lib/python2.7/site-packages/astromatic_wrapper/api.pyc\u001b[0m in \u001b[0;36m_run_cmd\u001b[0;34m(self, this_cmd, store_output, xml_name, raise_error, frame)\u001b[0m\n\u001b[1;32m    427\u001b[0m                     \u001b[0;32mbreak\u001b[0m\u001b[0;34m\u001b[0m\u001b[0m\n\u001b[1;32m    428\u001b[0m         \u001b[0;32melse\u001b[0m\u001b[0;34m:\u001b[0m\u001b[0;34m\u001b[0m\u001b[0m\n\u001b[0;32m--> 429\u001b[0;31m             \u001b[0mstatus\u001b[0m \u001b[0;34m=\u001b[0m \u001b[0msubprocess\u001b[0m\u001b[0;34m.\u001b[0m\u001b[0mcall\u001b[0m\u001b[0;34m(\u001b[0m\u001b[0mthis_cmd\u001b[0m\u001b[0;34m,\u001b[0m \u001b[0mshell\u001b[0m\u001b[0;34m=\u001b[0m\u001b[0mTrue\u001b[0m\u001b[0;34m)\u001b[0m\u001b[0;34m\u001b[0m\u001b[0m\n\u001b[0m\u001b[1;32m    430\u001b[0m             \u001b[0;32mif\u001b[0m \u001b[0mstatus\u001b[0m\u001b[0;34m>\u001b[0m\u001b[0;36m0\u001b[0m\u001b[0;34m:\u001b[0m\u001b[0;34m\u001b[0m\u001b[0m\n\u001b[1;32m    431\u001b[0m                 \u001b[0mresult\u001b[0m\u001b[0;34m[\u001b[0m\u001b[0;34m'status'\u001b[0m\u001b[0;34m]\u001b[0m \u001b[0;34m=\u001b[0m \u001b[0;34m'error'\u001b[0m\u001b[0;34m\u001b[0m\u001b[0m\n",
      "\u001b[0;32m/home/ser/Dev/Python/2/anaconda2/envs/iraf27/lib/python2.7/subprocess.pyc\u001b[0m in \u001b[0;36mcall\u001b[0;34m(*popenargs, **kwargs)\u001b[0m\n\u001b[1;32m    166\u001b[0m     \u001b[0mretcode\u001b[0m \u001b[0;34m=\u001b[0m \u001b[0mcall\u001b[0m\u001b[0;34m(\u001b[0m\u001b[0;34m[\u001b[0m\u001b[0;34m\"ls\"\u001b[0m\u001b[0;34m,\u001b[0m \u001b[0;34m\"-l\"\u001b[0m\u001b[0;34m]\u001b[0m\u001b[0;34m)\u001b[0m\u001b[0;34m\u001b[0m\u001b[0m\n\u001b[1;32m    167\u001b[0m     \"\"\"\n\u001b[0;32m--> 168\u001b[0;31m     \u001b[0;32mreturn\u001b[0m \u001b[0mPopen\u001b[0m\u001b[0;34m(\u001b[0m\u001b[0;34m*\u001b[0m\u001b[0mpopenargs\u001b[0m\u001b[0;34m,\u001b[0m \u001b[0;34m**\u001b[0m\u001b[0mkwargs\u001b[0m\u001b[0;34m)\u001b[0m\u001b[0;34m.\u001b[0m\u001b[0mwait\u001b[0m\u001b[0;34m(\u001b[0m\u001b[0;34m)\u001b[0m\u001b[0;34m\u001b[0m\u001b[0m\n\u001b[0m\u001b[1;32m    169\u001b[0m \u001b[0;34m\u001b[0m\u001b[0m\n\u001b[1;32m    170\u001b[0m \u001b[0;34m\u001b[0m\u001b[0m\n",
      "\u001b[0;32m/home/ser/Dev/Python/2/anaconda2/envs/iraf27/lib/python2.7/subprocess.pyc\u001b[0m in \u001b[0;36mwait\u001b[0;34m(self)\u001b[0m\n\u001b[1;32m   1071\u001b[0m             \u001b[0;32mwhile\u001b[0m \u001b[0mself\u001b[0m\u001b[0;34m.\u001b[0m\u001b[0mreturncode\u001b[0m \u001b[0;32mis\u001b[0m \u001b[0mNone\u001b[0m\u001b[0;34m:\u001b[0m\u001b[0;34m\u001b[0m\u001b[0m\n\u001b[1;32m   1072\u001b[0m                 \u001b[0;32mtry\u001b[0m\u001b[0;34m:\u001b[0m\u001b[0;34m\u001b[0m\u001b[0m\n\u001b[0;32m-> 1073\u001b[0;31m                     \u001b[0mpid\u001b[0m\u001b[0;34m,\u001b[0m \u001b[0msts\u001b[0m \u001b[0;34m=\u001b[0m \u001b[0m_eintr_retry_call\u001b[0m\u001b[0;34m(\u001b[0m\u001b[0mos\u001b[0m\u001b[0;34m.\u001b[0m\u001b[0mwaitpid\u001b[0m\u001b[0;34m,\u001b[0m \u001b[0mself\u001b[0m\u001b[0;34m.\u001b[0m\u001b[0mpid\u001b[0m\u001b[0;34m,\u001b[0m \u001b[0;36m0\u001b[0m\u001b[0;34m)\u001b[0m\u001b[0;34m\u001b[0m\u001b[0m\n\u001b[0m\u001b[1;32m   1074\u001b[0m                 \u001b[0;32mexcept\u001b[0m \u001b[0mOSError\u001b[0m \u001b[0;32mas\u001b[0m \u001b[0me\u001b[0m\u001b[0;34m:\u001b[0m\u001b[0;34m\u001b[0m\u001b[0m\n\u001b[1;32m   1075\u001b[0m                     \u001b[0;32mif\u001b[0m \u001b[0me\u001b[0m\u001b[0;34m.\u001b[0m\u001b[0merrno\u001b[0m \u001b[0;34m!=\u001b[0m \u001b[0merrno\u001b[0m\u001b[0;34m.\u001b[0m\u001b[0mECHILD\u001b[0m\u001b[0;34m:\u001b[0m\u001b[0;34m\u001b[0m\u001b[0m\n",
      "\u001b[0;32m/home/ser/Dev/Python/2/anaconda2/envs/iraf27/lib/python2.7/subprocess.pyc\u001b[0m in \u001b[0;36m_eintr_retry_call\u001b[0;34m(func, *args)\u001b[0m\n\u001b[1;32m    119\u001b[0m     \u001b[0;32mwhile\u001b[0m \u001b[0mTrue\u001b[0m\u001b[0;34m:\u001b[0m\u001b[0;34m\u001b[0m\u001b[0m\n\u001b[1;32m    120\u001b[0m         \u001b[0;32mtry\u001b[0m\u001b[0;34m:\u001b[0m\u001b[0;34m\u001b[0m\u001b[0m\n\u001b[0;32m--> 121\u001b[0;31m             \u001b[0;32mreturn\u001b[0m \u001b[0mfunc\u001b[0m\u001b[0;34m(\u001b[0m\u001b[0;34m*\u001b[0m\u001b[0margs\u001b[0m\u001b[0;34m)\u001b[0m\u001b[0;34m\u001b[0m\u001b[0m\n\u001b[0m\u001b[1;32m    122\u001b[0m         \u001b[0;32mexcept\u001b[0m \u001b[0;34m(\u001b[0m\u001b[0mOSError\u001b[0m\u001b[0;34m,\u001b[0m \u001b[0mIOError\u001b[0m\u001b[0;34m)\u001b[0m \u001b[0;32mas\u001b[0m \u001b[0me\u001b[0m\u001b[0;34m:\u001b[0m\u001b[0;34m\u001b[0m\u001b[0m\n\u001b[1;32m    123\u001b[0m             \u001b[0;32mif\u001b[0m \u001b[0me\u001b[0m\u001b[0;34m.\u001b[0m\u001b[0merrno\u001b[0m \u001b[0;34m==\u001b[0m \u001b[0merrno\u001b[0m\u001b[0;34m.\u001b[0m\u001b[0mEINTR\u001b[0m\u001b[0;34m:\u001b[0m\u001b[0;34m\u001b[0m\u001b[0m\n",
      "\u001b[0;31mKeyboardInterrupt\u001b[0m: "
     ]
    }
   ],
   "source": [
    "swarp.run('temp/GRB130427_R60_001_001.fit')"
   ]
  },
  {
   "cell_type": "markdown",
   "metadata": {},
   "source": [
    "### At now we have to check functions above on several images."
   ]
  },
  {
   "cell_type": "raw",
   "metadata": {},
   "source": [
    "Input: set of images, paths\n",
    "Output: coadded image"
   ]
  },
  {
   "cell_type": "code",
   "execution_count": 68,
   "metadata": {
    "collapsed": true
   },
   "outputs": [],
   "source": [
    "# by defualt, we search for images in paths['images']\n",
    "def pipeline_1(paths):\n",
    "    print \"prepare...\"\n",
    "    # prepare\n",
    "    fits_format = 'fit'\n",
    "    filenames = sorted(get_fits_images_from_dir(paths['images'], files_format=fits_format))\n",
    "    exposures = []\n",
    "    for filename in filenames:\n",
    "        exposures.append({'image': os.path.join(paths['images'], filename)})\n",
    "    # STEP 1: basic extraction with SExtractor (generate catalogs) for each image\n",
    "    catalog_names = []\n",
    "    print 'begin SExtractor execution'\n",
    "    for files in exposures:\n",
    "        print files['image'] + ':'\n",
    "        # Create names for the output catalogs for each image (in temp dir)\n",
    "        catalog_names.append(os.path.join(paths['temp'],\n",
    "            os.path.basename(files['image']).replace('.'+fits_format, '.cat')))\n",
    "        # set params for sextractor execution\n",
    "        sex_kwargs_1 = {'code': 'SExtractor'}\n",
    "        sex_kwargs_1['config_file'] = os.path.join(paths['config'], 'default.sex')\n",
    "        sex_kwargs_1['config'] = {'CATALOG_NAME': catalog_names[-1]}\n",
    "        sex_kwargs_1['config']['CATALOG_TYPE'] = 'FITS_LDAC'\n",
    "        sex_kwargs_1['config']['FILTER'] = 'N'\n",
    "        sex_kwargs_1['temp_path'] = paths['temp']\n",
    "        sex_kwargs_1['params'] = ['NUMBER', 'EXT_NUMBER', 'XWIN_IMAGE', 'YWIN_IMAGE', 'AWIN_IMAGE', 'BWIN_IMAGE',\n",
    "                                  'ERRAWIN_IMAGE','ERRBWIN_IMAGE', 'ERRTHETAWIN_IMAGE', 'ERRA_WORLD', 'ERRB_WORLD', \n",
    "                                  'ERRTHETA_WORLD', 'X_WORLD', 'Y_WORLD', 'XWIN_WORLD', 'YWIN_WORLD', \n",
    "                                  'FLUX_AUTO', 'FLUX_MAX', 'MAG_AUTO', 'FLUXERR_AUTO', \n",
    "                                  'FLAGS', 'FLUX_RADIUS', 'ELONGATION']\n",
    "        sextractor = aw.api.Astromatic(**sex_kwargs_1)\n",
    "        print sextractor.run(files['image'])\n",
    "    print 'all catalogs successfully created'\n",
    "    \n",
    "    # STEP 2: compute solution for extracted catalogs\n",
    "    print 'SCAMP now working...'\n",
    "    scamp_kwargs_1 = {\n",
    "        'config': {\n",
    "            'ASTREF_CATALOG': 'USNO-B1',\n",
    "            'ASTREF_BAND': 'DEFAULT',\n",
    "            'SOLVE_PHOTOM': 'N',\n",
    "            'CHECKPLOT_DEV': 'NULL'\n",
    "            }\n",
    "    }\n",
    "    scamp_kwargs_1['code'] = 'SCAMP'\n",
    "    scamp_kwargs_1['config_file'] = os.path.join(paths['config'], 'default.scamp')\n",
    "    scamp = aw.api.Astromatic(**scamp_kwargs_1)\n",
    "    this_cmd, kwargs2 = scamp.build_cmd(catalog_names, **scamp_kwargs_1)\n",
    "    #print this_cmd\n",
    "    print scamp.run(catalog_names)\n",
    "    \n",
    "    print 'SWarp now working...'\n",
    "    # STEP 3: use SWarp for coadd images using .head files, computed with SCAMP\n",
    "    coadd_fits_name = 'coadded.fits'\n",
    "    coadd_fits_filename = os.path.join(paths['temp'], coadd_fits_name)\n",
    "    swarp_kwargs_1 = {\n",
    "        'config': {\n",
    "            'IMAGEOUT_NAME': coadd_fits_filename,\n",
    "            'WEIGHTOUT_NAME': coadd_fits_filename.replace('.fits','.wtmap.fits'),\n",
    "        }\n",
    "        }\n",
    "    swarp_kwargs_1['code'] = 'SWarp'\n",
    "    swarp_kwargs_1['config_file'] = os.path.join(paths['config'], 'default.swarp')\n",
    "    swarp = aw.api.Astromatic(**swarp_kwargs_1)\n",
    "    this_cmd, kwargs2 = swarp.build_cmd([exp['image'] for exp in exposures], **swarp_kwargs_1)\n",
    "    #print this_cmd\n",
    "    print swarp.run([exp['image'] for exp in exposures])\n",
    "    return\n",
    "    # STEP 4: extract object from coadded image using PSF\n",
    "    print 'SExtractor now working...'\n",
    "    coadd_weight_map = coadd_fits_filename.replace('.fits','.wtmap.fits')\n",
    "    sex_kwargs_2 = {\n",
    "            'config': {\n",
    "                'CATALOG_NAME': coadd_fits_filename.replace('.fits', '.cat'),\n",
    "                'CATALOG_TYPE': 'FITS_LDAC',\n",
    "                'FILTER': 'N',\n",
    "                'WEIGHT_IMAGE': coadd_weight_map,\n",
    "                'WEIGHT_TYPE': 'MAP_WEIGHT',        \n",
    "            },\n",
    "            'params': ['NUMBER', 'EXT_NUMBER', 'XWIN_IMAGE', 'YWIN_IMAGE', 'ERRAWIN_IMAGE',\n",
    "                'ERRBWIN_IMAGE', 'ERRTHETAWIN_IMAGE', 'XWIN_WORLD', 'YWIN_WORLD', 'FLUX_APER(1)',\n",
    "                'FLUXERR_APER(1)', 'FLAGS', 'FLAGS_WEIGHT', 'FLUX_RADIUS',\n",
    "                'ELONGATION', 'VIGNET(20,20)', 'SNR_WIN']\n",
    "        }\n",
    "    sex_kwargs_2['code'] = 'SExtractor'\n",
    "    sex_kwargs_2['config_file'] = os.path.join(paths['config'], 'default.sex')\n",
    "    sex_kwargs_2['temp_path'] = paths['temp']\n",
    "    sextractor = aw.api.Astromatic(**sex_kwargs_2)\n",
    "    print sextractor.run(coadd_fits_filename)\n",
    "    \n",
    "    # Calculate PSF\n",
    "    print 'PSFex now working...'\n",
    "    psf_kwargs_1 = {\n",
    "        'config': {\n",
    "            'PHOT_APERTURES':'15'\n",
    "            'CENTER_KEYS': 'XWIN_IMAGE,YWIN_IMAGE',\n",
    "            'PSFVAR_KEYS': 'XWIN_IMAGE,YWIN_IMAGE',\n",
    "            'PHOTFLUX_KEY': 'FLUX_AUTO',\n",
    "            'PHOTFLUXERR_KEY': 'FLUXERR_AUTO',\n",
    "            'CHECKPLOT_DEV': 'NULL',\n",
    "            'STABILITY_TYPE':  'EXPOSURE',\n",
    "            'PSF_SUFFIX': '.psf'\n",
    "        }\n",
    "    }\n",
    "    psf_kwargs_1['code'] = 'PSFEx'\n",
    "    psf_kwargs_1['config_file'] = os.path.join(paths['config'], 'default.psfex')\n",
    "    psf_kwargs_1['temp_path'] = paths['temp']\n",
    "    psfex = aw.api.Astromatic(**psf_kwargs_1)\n",
    "    print psfex.run(coadd_fits_filename.replace('.fits', '.cat'))\n",
    "    \n",
    "    # Calculate PSF photometry for coadded image\n",
    "    print 'SExtractor now working...'\n",
    "    output_cat_name = 'result.ldac.fits'\n",
    "    catalog_name = os.path.join(paths['catalogs'], output_cat_name)\n",
    "    sex_kwargs_3 = {\n",
    "            'config': {\n",
    "                'PSF_NAME': os.path.join(coadd_fits_filename.replace('.fits', '.psf')),\n",
    "                'CATALOG_TYPE': 'FITS_LDAC',\n",
    "                'FILTER': 'N',\n",
    "                'CATALOG_NAME': catalog_name,\n",
    "                'WEIGHT_IMAGE': coadd_weight_map,\n",
    "                'WEIGHT_TYPE': 'MAP_WEIGHT',\n",
    "            },\n",
    "            'params': ['NUMBER', 'EXT_NUMBER', 'XWIN_IMAGE', 'YWIN_IMAGE', 'ERRAWIN_IMAGE',\n",
    "                'ERRBWIN_IMAGE', 'ERRTHETAWIN_IMAGE', 'XWIN_WORLD', 'YWIN_WORLD', 'FLUX_AUTO',\n",
    "                'FLUXERR_AUTO', 'FLAGS', 'FLAGS_WEIGHT', 'FLUX_RADIUS',\n",
    "                'ELONGATION', 'MAG_AUTO', 'MAGERR_AUTO', 'ALPHAPSF_SKY', 'DELTAPSF_SKY',\n",
    "                'ERRX2PSF_WORLD','ERRY2PSF_WORLD', 'FLUX_PSF', 'FLUXERR_PSF', 'MAG_PSF', 'MAGERR_PSF']\n",
    "        }\n",
    "    sex_kwargs_3['code'] = 'SExtractor'\n",
    "    sex_kwargs_3['config_file'] = os.path.join(paths['config'], 'default.sex')\n",
    "    sex_kwargs_3['temp_path'] = paths['temp']\n",
    "    sextractor = aw.api.Astromatic(**sex_kwargs_3)\n",
    "    print sextractor.run(coadd_fits_filename)\n",
    "    return catalog_name"
   ]
  },
  {
   "cell_type": "code",
   "execution_count": 70,
   "metadata": {
    "collapsed": false
   },
   "outputs": [
    {
     "name": "stdout",
     "output_type": "stream",
     "text": [
      "prepare...\n",
      "begin SExtractor execution\n",
      "/home/ser/Dev/astro_engine/spark_pipeline/spark_pipeline_test_1/images/GRB130427_R60_001_001.fit:\n",
      "{'status': 'success'}\n",
      "/home/ser/Dev/astro_engine/spark_pipeline/spark_pipeline_test_1/images/GRB130427_R60_001_002.fit:\n",
      "{'status': 'success'}\n",
      "all catalogs successfully created\n",
      "SCAMP now working...\n",
      "{'status': 'success'}\n",
      "SWarp now working...\n",
      "{'status': 'success'}\n"
     ]
    }
   ],
   "source": [
    "catalog_name = pipeline_1(paths)\n",
    "#catalog = aw.utils.ldac.get_table_from_ldac(catalog_name)\n",
    "#catalog"
   ]
  },
  {
   "cell_type": "code",
   "execution_count": null,
   "metadata": {
    "collapsed": true
   },
   "outputs": [],
   "source": []
  },
  {
   "cell_type": "markdown",
   "metadata": {},
   "source": [
    "## Test pipeline components"
   ]
  },
  {
   "cell_type": "code",
   "execution_count": 29,
   "metadata": {
    "collapsed": true
   },
   "outputs": [],
   "source": [
    "def build_pipeline(pipeline, exposures, ref_catalog='IKI', ref_band='DEFAULT',\n",
    "        stack_name = 'test_stack.fits', output_cat_name='test_psf.ldac.fits'):\n",
    "    # Generate catalogs from sextractor\n",
    "    catalog_names = []\n",
    "    for files in exposures:\n",
    "        # Create names for the output catalogs for each image\n",
    "        catalog_names.append(os.path.join(pipeline.paths['temp'],\n",
    "            os.path.basename(files['image']).replace('.fit', '.cat')))\n",
    "        kwargs = {\n",
    "            # image to SExtract\n",
    "            'files': files,\n",
    "            # Arguments to initialize Astromatic class\n",
    "            'api_kwargs': {\n",
    "                # Configuration parameters\n",
    "                'config': {\n",
    "                    'CATALOG_NAME': catalog_names[-1],\n",
    "                    'CATALOG_TYPE': 'FITS_LDAC',\n",
    "                    'FILTER': 'N',\n",
    "                    #'WEIGHT_TYPE': 'MAP_WEIGHT',\n",
    "                },\n",
    "                # Output parameters\n",
    "                'params': ['NUMBER', 'EXT_NUMBER', 'XWIN_IMAGE', 'YWIN_IMAGE', 'ERRAWIN_IMAGE',\n",
    "                    'ERRBWIN_IMAGE', 'ERRTHETAWIN_IMAGE', 'XWIN_WORLD', 'YWIN_WORLD', 'FLUX_AUTO',\n",
    "                    'FLUXERR_AUTO', 'IMAFLAGS_ISO', 'FLAGS', 'FLAGS_WEIGHT', 'FLUX_RADIUS',\n",
    "                    'ELONGATION'],\n",
    "            },\n",
    "        }\n",
    "        # Add the step to the pipeline\n",
    "        pipeline.add_step(aw.api.run_sex, ['step1', 'SExtractor'], **kwargs)\n",
    "\n",
    "    # Use SCAMP to get astrometric solutions\n",
    "    kwargs = {\n",
    "        'catalogs': catalog_names,\n",
    "        'api_kwargs': {\n",
    "            'config': {\n",
    "                'ASTREF_CATALOG': ref_catalog,\n",
    "                'ASTREF_BAND': ref_band,\n",
    "                'SOLVE_PHOTOM': 'N',\n",
    "                'CHECKPLOT_DEV': 'NULL'\n",
    "            },\n",
    "        }\n",
    "    }\n",
    "    pipeline.add_step(aw.api.run_scamp, ['step2', 'SCAMP'],**kwargs)\n",
    "\n",
    "    # Resample (rotate and scale) and combine (stack) images using SWarp\n",
    "    stack_filename = os.path.join(pipeline.paths['temp'], stack_name)\n",
    "    kwargs = {\n",
    "        'filenames': [exp['image'] for exp in exposures],\n",
    "        'api_kwargs': {\n",
    "            'config': {\n",
    "                'WEIGHT_TYPE': 'MAP_WEIGHT',\n",
    "                'WEIGHT_SUFFIX': '.wtmap.fits',\n",
    "                'IMAGEOUT_NAME': stack_filename,\n",
    "                'WEIGHTOUT_NAME': stack_filename.replace('.fits','.wtmap.fits'),\n",
    "            },\n",
    "        }\n",
    "    }\n",
    "    pipeline.add_step(aw.api.run_swarp, ['step3', 'SWarp'], **kwargs)\n",
    "\n",
    "    # Get positions in stack for PSF photometry (SExtractor -> PSFex -> SExtractor)\n",
    "    kwargs = {\n",
    "        'files': {\n",
    "            'image': stack_filename,\n",
    "            'wtmap': stack_filename.replace('.fits', '.wtmap.fits')\n",
    "        },\n",
    "        'api_kwargs': {\n",
    "            'config': {\n",
    "                'CATALOG_TYPE': 'FITS_LDAC',\n",
    "                'FILTER': 'N',\n",
    "                'WEIGHT_TYPE': 'MAP_WEIGHT',\n",
    "            },\n",
    "            'params': ['NUMBER', 'EXT_NUMBER', 'XWIN_IMAGE', 'YWIN_IMAGE', 'ERRAWIN_IMAGE',\n",
    "                'ERRBWIN_IMAGE', 'ERRTHETAWIN_IMAGE', 'XWIN_WORLD', 'YWIN_WORLD', 'FLUX_APER(1)',\n",
    "                'FLUXERR_APER(1)', 'FLAGS', 'FLAGS_WEIGHT', 'FLUX_RADIUS',\n",
    "                'ELONGATION', 'VIGNET(20,20)', 'SNR_WIN'],\n",
    "        }\n",
    "    }\n",
    "    pipeline.add_step(aw.api.run_sex, ['step4', 'SExtractor'], **kwargs)\n",
    "\n",
    "    # Calculate PSF\n",
    "    kwargs = {\n",
    "        'catalogs': stack_filename.replace('.fits', '.cat'),\n",
    "        'api_kwargs': {\n",
    "            'config': {\n",
    "                'CENTER_KEYS': 'XWIN_IMAGE,YWIN_IMAGE',\n",
    "                'PSFVAR_KEYS': 'XWIN_IMAGE,YWIN_IMAGE',\n",
    "                'CHECKPLOT_DEV': 'NULL',\n",
    "                'PSF_SUFFIX': '.psf'\n",
    "            }\n",
    "        }\n",
    "    }\n",
    "    pipeline.add_step(aw.api.run_psfex, ['step5', 'PSFEx'], **kwargs)\n",
    "\n",
    "    # Calculate PSF photometry for coadded image\n",
    "    catalog_name = os.path.join(pipeline.paths['catalogs'], output_cat_name)\n",
    "    kwargs = {\n",
    "        'files': {\n",
    "            'image': stack_filename,\n",
    "            'wtmap': stack_filename.replace('.fits', '.wtmap.fits')\n",
    "        },\n",
    "        'api_kwargs': {\n",
    "            'config': {\n",
    "                'PSF_NAME': os.path.join(stack_filename.replace('.fits', '.psf')),\n",
    "                'CATALOG_TYPE': 'FITS_LDAC',\n",
    "                'FILTER': 'N',\n",
    "                'CATALOG_NAME': catalog_name,\n",
    "                'WEIGHT_TYPE': 'MAP_WEIGHT',\n",
    "            },\n",
    "            'params': ['NUMBER', 'EXT_NUMBER', 'XWIN_IMAGE', 'YWIN_IMAGE', 'ERRAWIN_IMAGE',\n",
    "                'ERRBWIN_IMAGE', 'ERRTHETAWIN_IMAGE', 'XWIN_WORLD', 'YWIN_WORLD', 'FLUX_AUTO',\n",
    "                'FLUXERR_AUTO', 'FLAGS', 'FLAGS_WEIGHT', 'FLUX_RADIUS',\n",
    "                'ELONGATION', 'MAG_AUTO', 'MAGERR_AUTO', 'ALPHAPSF_SKY', 'DELTAPSF_SKY',\n",
    "                'ERRX2PSF_WORLD','ERRY2PSF_WORLD', 'FLUX_PSF', 'FLUXERR_PSF', 'MAG_PSF', 'MAGERR_PSF'],\n",
    "        }\n",
    "    }\n",
    "    pipeline.add_step(aw.api.run_sex, ['step6', 'SExtractor'], **kwargs)\n",
    "\n",
    "    def save_output(pipeline, old_stack, new_stack, old_cat, new_cat):\n",
    "        # Copy the final stack and catalog from the temp folder\n",
    "        import shutil\n",
    "        # Move the weight map if it exists\n",
    "        if os.path.isfile(old_stack.replace('.fits', '.wtmap.fits')):\n",
    "            shutil.move(old_stack.replace('.fits', '.wtmap.fits'), new_stack.replace('.fits', '.wtmap.fits'))\n",
    "        shutil.move(old_stack, new_stack)\n",
    "        shutil.move(old_cat, new_cat)\n",
    "        result = {\n",
    "            'status': 'success'\n",
    "        }\n",
    "        return result\n",
    "\n",
    "    kwargs = {\n",
    "        'old_stack': stack_filename,\n",
    "        'new_stack': os.path.join(pipeline.paths['stacks'], stack_name),\n",
    "        'old_cat': catalog_name,\n",
    "        'new_cat': os.path.join(pipeline.paths['catalogs'], output_cat_name)\n",
    "    }\n",
    "    pipeline.add_step(save_output, ['step7', 'save_output'], **kwargs)\n",
    "\n",
    "    return pipeline"
   ]
  }
 ],
 "metadata": {
  "anaconda-cloud": {},
  "kernelspec": {
   "display_name": "Python [conda env:iraf27]",
   "language": "python",
   "name": "conda-env-iraf27-py"
  },
  "language_info": {
   "codemirror_mode": {
    "name": "ipython",
    "version": 2
   },
   "file_extension": ".py",
   "mimetype": "text/x-python",
   "name": "python",
   "nbconvert_exporter": "python",
   "pygments_lexer": "ipython2",
   "version": "2.7.13"
  }
 },
 "nbformat": 4,
 "nbformat_minor": 1
}
