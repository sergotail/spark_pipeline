{
 "cells": [
  {
   "cell_type": "code",
   "execution_count": null,
   "metadata": {
    "collapsed": true
   },
   "outputs": [],
   "source": [
    "#pipeline pseudocode\n",
    "init_pipeline(params)\n",
    "    #prepare_image_and_dirs - at now we manually put fits files in current dir\n",
    "    init_astromatic_wrapper # create kwargs dicts for astromatic objects from global params\n",
    "\n",
    "# assume we have some images image1.fits image2.fits image3.fits and corresponding to them bias dark and flat fits\n",
    "# 1 pre-reduction of FITS (bias, dark ,flat - HOW???) output - pr_images\n",
    "# 2 calibrate images using SCAMP (which uses SExtractor catalog)\n",
    "    # create catalog from pre-reduced fits\n",
    "    sextractor1 = aw.api.Astromatic(**sex_kwargs_1)\n",
    "    sextractor1.run(pr_image1.fits) # output - sex_output_pr_1\n",
    "    # send catalog to SCAMP - it will calculate astrometry and photometry solution (write into header)\n",
    "    scamp = aw.api.Astromatic(**scamp_kwargs)\n",
    "    scamp.run(sex_output_pr_1.fits) # output - calibrated_pr_1\n",
    "    # for 2 and 3 the same way\n",
    "# 3 co-addition and resampling of calibrated pre-reduced images\n",
    "    swarp = aw.api.Astromatic(**swarp_kwargs)\n",
    "    swarp.run(calibrated_pr_images) # output - preprocessed_coadd\n",
    "# 4 extracting sources from preprocessed images\n",
    "    sextractor2 = aw.api.Astromatic(**sex_kwargs_2)\n",
    "    sextractor2.run(preprocessed_coadd.fits) # output - catalog_1\n",
    "    psfex = aw.api.Astromatic(**psfex_kwargs)\n",
    "    psfex.run(catalog_1) # output - psf_coadd\n",
    "    sextractor3 = aw.api.Astromatic(**sex_kwargs_3)\n",
    "    sextractor3.run(preprocessed_coadd.fits, psf_coadd.fits) # output - catalog_2\n",
    "# catalog_2 - catalog of objects extracted from pre-reducted, preprocessed and co-added and psf-modeled fits\n",
    "# futher processing:\n",
    "    # a) put catalog into DB\n",
    "    # b) add single images processing (not only co-added) - add to catalog objects wchich dissapeared after co-addition"
   ]
  },
  {
   "cell_type": "markdown",
   "metadata": {},
   "source": [
    "# First, we check workability of components of astromatic software through astromatic_wrapper api"
   ]
  },
  {
   "cell_type": "markdown",
   "metadata": {},
   "source": [
    "## Prepare invironment"
   ]
  },
  {
   "cell_type": "code",
   "execution_count": 1,
   "metadata": {
    "collapsed": true
   },
   "outputs": [],
   "source": [
    "import os\n",
    "import datetime\n",
    "import fnmatch\n",
    "import re\n",
    "import astromatic_wrapper as aw\n",
    "from astropy.io import fits"
   ]
  },
  {
   "cell_type": "code",
   "execution_count": 2,
   "metadata": {
    "collapsed": false
   },
   "outputs": [
    {
     "data": {
      "text/plain": [
       "{'PSFEx': 'psfex', 'SCAMP': 'scamp', 'SExtractor': 'sex', 'SWarp': 'swarp'}"
      ]
     },
     "execution_count": 2,
     "metadata": {},
     "output_type": "execute_result"
    }
   ],
   "source": [
    "aw.api.codes"
   ]
  },
  {
   "cell_type": "code",
   "execution_count": 3,
   "metadata": {
    "collapsed": false
   },
   "outputs": [
    {
     "name": "stdout",
     "output_type": "stream",
     "text": [
      "/home/ser/Dev/Notebooks/test_pipeline/images\n",
      "/home/ser/Dev/Notebooks/test_pipeline/catalogs\n",
      "/home/ser/Dev/Notebooks/test_pipeline/config\n",
      "/home/ser/Dev/Notebooks/test_pipeline/stacks\n",
      "/home/ser/Dev/Notebooks/test_pipeline/temp\n"
     ]
    }
   ],
   "source": [
    "# define mode and log path\n",
    "mode = 'test'\n",
    "wrk_dir = ''\n",
    "log_path = datetime.datetime.now().strftime('%Y-%m-%d_%H-%M-%S') + '_' + mode\n",
    "\n",
    "# set paths to work dirs\n",
    "base_path = os.getcwd() if wrk_dir is None or not len(wrk_dir) else wrk_dir\n",
    "paths = {\n",
    "    'temp': os.path.join(base_path, 'temp'),\n",
    "    #'log': os.path.join(base_path, 'log', log_path),\n",
    "    'config': os.path.join(base_path, 'config'),\n",
    "    'catalogs': os.path.join(base_path, 'catalogs'),\n",
    "    'stacks': os.path.join(base_path, 'stacks'),\n",
    "    'images': os.path.join(base_path, 'images')\n",
    "        }\n",
    "# build paths is needed for pipeline (it`s a code issue and will be elimenated in future)\n",
    "build_paths = {}\n",
    "\n",
    "# check if paths are ok\n",
    "for val in paths.values():\n",
    "    print val"
   ]
  },
  {
   "cell_type": "code",
   "execution_count": 28,
   "metadata": {
    "collapsed": true
   },
   "outputs": [],
   "source": [
    "# set image filename\n",
    "files = {'image': os.path.join(paths['images'], 'GRB130427_R60_001_001.fit')}"
   ]
  },
  {
   "cell_type": "code",
   "execution_count": 29,
   "metadata": {
    "collapsed": false
   },
   "outputs": [
    {
     "data": {
      "text/plain": [
       "SIMPLE  =                    T / file does conform to FITS standard             \n",
       "BITPIX  =                   16 / number of bits per data pixel                  \n",
       "NAXIS   =                    2 / number of data axes                            \n",
       "NAXIS1  =                  512 / length of data axis 1                          \n",
       "NAXIS2  =                  512 / length of data axis 2                          \n",
       "EXTEND  =                    T / FITS dataset may contain extensions            \n",
       "COMMENT   FITS (Flexible Image Transport System) format is defined in 'Astronomy\n",
       "COMMENT   and Astrophysics', volume 376, page 359; bibcode: 2001A&A...376..359H \n",
       "BZERO   =                32768 / offset data range to that of unsigned short    \n",
       "BSCALE  =                    1 / default scaling factor                         \n",
       "DATE-OBS= '2013-05-14T14:24:34.7150' / Exposure start date/time (UTC)           \n",
       "EXPTIME =                  60. / [s] Integration time                           \n",
       "SHUTTER = 'AUTO    '           / Shutter state                                  \n",
       "EXPTYPE = 'Light   '           / Exposition type                                \n",
       "XBIN    =                    2 / Image X binning                                \n",
       "YBIN    =                    2 / Image Y binning                                \n",
       "GAIN    =     4.40000009536743 / Electrons per ADU                              \n",
       "SYNCMODE= 'NONE    '           / Synchronization mode                           \n",
       "X0      =                   23 / Image X start                                  \n",
       "Y0      =                   50 / Image Y start                                  \n",
       "PIXRATE =                    4 / Pixel rate index (beg. from 1)                 \n",
       "PIXRATEV=              480000. / [Hz] Pixel rate value                          \n",
       "COOLING =                    1 / Cooling machine state                          \n",
       "CCD-TEMP=                -30.5 / [C] Current CCD temperature                    \n",
       "HOT-TEMP=                   7. / [C] Hot finger temperature                     \n",
       "TGT-TEMP=                 -30. / [C] Target cooling temperature                 \n",
       "COOL-PWR=    0.576923076923077 / Cooling machine power [0..1]                   \n",
       "FLIP-DIR= 'vert    '           / Flip direction that camera driver done         \n",
       "CLRSLOW =                    0 / slow cleaning                                  \n",
       "CLRFAST =                    1 / fast cleaning                                  \n",
       "CLRDUMP =                    0 / dump cleaning                                  \n",
       "CLRSLOWS=                    0 / slow cleaning on start                         \n",
       "CLRFASTS=                    1 / fast cleaning on start                         \n",
       "CLRDUMPS=                    0 / dump cleaning on start                         \n",
       "DEFCORR =                    0 / defect correction                              \n",
       "FIXLEVEL=                    0 / fix black level                                \n",
       "SHUTTERD=                  200 / shutter open delay in 0.1 ms                   \n",
       "DATE    = '2013-05-14T14:25:36.0120' / File creation date/time (UTC)            \n",
       "RA      = '11 32 35.230'       / right ascension, J2000                         \n",
       "DEC     = '+27 42 28.643'      / declination, J2000                             \n",
       "HA_I    =     16.4853715896606 / [deg] hour angle, instrumental                 \n",
       "DEC_I   =      27.639799118042 / [deg] declination, instrumental                \n",
       "RATE_HA =                  15. / [\"/s] HA guide rate, instrumental              \n",
       "RATE_DEC=                   0. / [\"/s] Dec guide rate, instrumental             \n",
       "EQUINOX = 'J2000   '           / equinox (Julian epochs)                        \n",
       "CTYPE1  = 'RA---TAN'           / Coordinate system of axis 1                    \n",
       "CTYPE2  = 'DEC--TAN'           / Coordinate system of axis 2                    \n",
       "CUNIT1  = 'DEG     '           / Units of axis 1                                \n",
       "CUNIT2  = 'DEG     '           / Units of axis 2                                \n",
       "CRPIX1  =                242.5 / [pix] Reference pixel X (begining from 1)      \n",
       "CRPIX2  =                286.5 / [pix] Reference pixel Y (begining from 1)      \n",
       "CRVAL1  =     173.146792317026 / [deg] RA of ref. pixel                         \n",
       "CRVAL2  =     27.7079563731608 / [deg] Dec of ref. pixel                        \n",
       "CDELT1  = -0.000266666416176079 / [deg/pix] increment along X                   \n",
       "CDELT2  = 0.000266666416176079 / [deg/pix] increment along Y                    \n",
       "CROTA1  =                   0.                                                  \n",
       "CROTA2  =                   0. / [deg] CCW rotation of the coordinate system    \n",
       "CSYNC-TS= '2013-05-14T14:25:35.9970' / CRVALs synchronization timestamp         \n",
       "CSYNC-ET=                   0. / [ms] CRVALs synchronization execution time     \n",
       "FWHM_DEF=                   3. / [arcsec] Default FWHM                          \n",
       "FILTER  = 'R       '           / Optical filter                                 \n",
       "INSTRUME= 'CASSEGRAIN-S3C'                                                      \n",
       "TELESCOP= 'AZT33-IK'           / Telescope name                                 \n",
       "OBSERVER= '        '           / Observer name or ID                            \n",
       "ORIGIN  = 'ISTP SB RAS, SSO (Mondy)'                                            "
      ]
     },
     "execution_count": 29,
     "metadata": {},
     "output_type": "execute_result"
    }
   ],
   "source": [
    "# prepare FITS file header for processing\n",
    "hdulist = fits.open(files['image'])\n",
    "hdulist[0].header"
   ]
  },
  {
   "cell_type": "markdown",
   "metadata": {},
   "source": [
    "### 1) SExtractor"
   ]
  },
  {
   "cell_type": "code",
   "execution_count": 30,
   "metadata": {
    "collapsed": false
   },
   "outputs": [],
   "source": [
    "# set params for sextractor execution\n",
    "# set code type according to sextractor\n",
    "sex_kwargs_1 = {'code': 'SExtractor'}\n",
    "# set path to config file\n",
    "sex_kwargs_1['config_file'] = os.path.join(paths['config'], 'default.sex')\n",
    "# change some parameters in config (will not change config file set above)\n",
    "sex_kwargs_1['config'] = {'CATALOG_NAME': os.path.join(paths['temp'], \n",
    "                                                os.path.basename(files['image']).replace('.fit', '.cat'))\n",
    "                    }\n",
    "\n",
    "sex_kwargs_1['config']['CATALOG_TYPE'] = 'FITS_LDAC'\n",
    "sex_kwargs_1['config']['FILTER'] = 'N'\n",
    "sex_kwargs_1['temp_path'] = paths['temp']\n",
    "sex_kwargs_1['params'] = ['NUMBER', 'EXT_NUMBER', 'XWIN_IMAGE', 'YWIN_IMAGE', 'AWIN_IMAGE', 'BWIN_IMAGE',\n",
    "                          'ERRAWIN_IMAGE','ERRBWIN_IMAGE', 'ERRTHETAWIN_IMAGE', 'ERRA_WORLD', 'ERRB_WORLD', \n",
    "                          'ERRTHETA_WORLD', 'X_WORLD', 'Y_WORLD', 'XWIN_WORLD', 'YWIN_WORLD', \n",
    "                          'FLUX_AUTO', 'FLUX_MAX', 'MAG_AUTO', 'FLUXERR_AUTO', \n",
    "                          # flags not supported yet (need Weightwatcher)\n",
    "                          #'IMAFLAGS_ISO', 'FLAGS_WEIGHT',\n",
    "                          'FLAGS', 'FLUX_RADIUS', 'ELONGATION']\n",
    "\n",
    "# minimum catalog columns needed for SCAMP:\n",
    "#XWIN_IMAGE\n",
    "#YWIN_IMAGE\n",
    "#ERRAWIN_IMAGE\n",
    "#ERRBWIN_IMAGE\n",
    "#ERRTHETAWIN_IMAGE\n",
    "#ERRA_WORLD\n",
    "#ERRB_WORLD\n",
    "#ERRTHETA_WORLD\n",
    "#X_WORLD\n",
    "#Y_WORLD\n",
    "#FLUX_RADIUS\n",
    "#FLUX_AUTO\n",
    "#FLUXERR_AUTO\n",
    "#FLUX_MAX\n",
    "#MAG_AUTO\n",
    "#ELONGATION\n",
    "#FLAGS\n",
    "#AWIN_IMAGE\n",
    "#BWIN_IMAGE"
   ]
  },
  {
   "cell_type": "code",
   "execution_count": 31,
   "metadata": {
    "collapsed": false
   },
   "outputs": [],
   "source": [
    "sextractor = aw.api.Astromatic(**sex_kwargs_1)"
   ]
  },
  {
   "cell_type": "code",
   "execution_count": 32,
   "metadata": {
    "collapsed": false
   },
   "outputs": [
    {
     "name": "stdout",
     "output_type": "stream",
     "text": [
      "sex /home/ser/Dev/Notebooks/test_pipeline/images/GRB130427_R60_001_001.fit -c /home/ser/Dev/Notebooks/test_pipeline/config/default.sex -FILTER N -PARAMETERS_NAME /home/ser/Dev/Notebooks/test_pipeline/temp/sex.param -CATALOG_TYPE FITS_LDAC -CATALOG_NAME /home/ser/Dev/Notebooks/test_pipeline/temp/GRB130427_R60_001_001.cat\n"
     ]
    }
   ],
   "source": [
    "this_cmd, kwargs2 = sextractor.build_cmd(files['image'], **sex_kwargs_1)\n",
    "print this_cmd"
   ]
  },
  {
   "cell_type": "code",
   "execution_count": 33,
   "metadata": {
    "collapsed": false
   },
   "outputs": [
    {
     "data": {
      "text/plain": [
       "{'status': 'success'}"
      ]
     },
     "execution_count": 33,
     "metadata": {},
     "output_type": "execute_result"
    }
   ],
   "source": [
    "sextractor.run(files['image']) "
   ]
  },
  {
   "cell_type": "code",
   "execution_count": 34,
   "metadata": {
    "collapsed": false
   },
   "outputs": [
    {
     "data": {
      "text/html": [
       "&lt;Table length=3098&gt;\n",
       "<table id=\"table139666459888592\" class=\"table-striped table-bordered table-condensed\">\n",
       "<thead><tr><th>NUMBER</th><th>EXT_NUMBER</th><th>XWIN_IMAGE</th><th>YWIN_IMAGE</th><th>AWIN_IMAGE</th><th>BWIN_IMAGE</th><th>ERRAWIN_IMAGE</th><th>ERRBWIN_IMAGE</th><th>ERRTHETAWIN_IMAGE</th><th>ERRA_WORLD</th><th>ERRB_WORLD</th><th>ERRTHETA_WORLD</th><th>X_WORLD</th><th>Y_WORLD</th><th>XWIN_WORLD</th><th>YWIN_WORLD</th><th>FLUX_AUTO</th><th>FLUX_MAX</th><th>MAG_AUTO</th><th>FLUXERR_AUTO</th><th>FLAGS</th><th>FLUX_RADIUS</th><th>ELONGATION</th></tr></thead>\n",
       "<thead><tr><th></th><th></th><th>pix</th><th>pix</th><th>pix</th><th>pix</th><th>pix</th><th>pix</th><th>deg</th><th>deg</th><th>deg</th><th>deg</th><th>deg</th><th>deg</th><th>deg</th><th>deg</th><th>ct</th><th>ct</th><th>mag</th><th>ct</th><th></th><th>pix</th><th></th></tr></thead>\n",
       "<thead><tr><th>int32</th><th>int16</th><th>float64</th><th>float64</th><th>float32</th><th>float32</th><th>float32</th><th>float32</th><th>float32</th><th>float32</th><th>float32</th><th>float32</th><th>float64</th><th>float64</th><th>float64</th><th>float64</th><th>float32</th><th>float32</th><th>float32</th><th>float32</th><th>int16</th><th>float32</th><th>float32</th></tr></thead>\n",
       "<tr><td>1</td><td>1</td><td>74.0506797733</td><td>4.96785582996</td><td>0.323244</td><td>0.289622</td><td>0.0185418</td><td>0.0184054</td><td>44.8963</td><td>5.40008e-06</td><td>3.77398e-06</td><td>-37.5049</td><td>173.19748825</td><td>27.6328150289</td><td>173.197495356</td><td>27.6328720298</td><td>1874.71</td><td>1444.24</td><td>-8.18233</td><td>74.1216</td><td>0</td><td>0.485663</td><td>1.68992</td></tr>\n",
       "<tr><td>2</td><td>1</td><td>435.752504902</td><td>4.12222775746</td><td>0.506723</td><td>0.249457</td><td>0.0234493</td><td>0.0126799</td><td>-47.5847</td><td>6.25309e-06</td><td>3.38137e-06</td><td>47.5983</td><td>173.088704362</td><td>27.6326310121</td><td>173.088623675</td><td>27.6326436152</td><td>1790.76</td><td>970.529</td><td>-8.13259</td><td>84.6418</td><td>0</td><td>0.57194</td><td>2.0313</td></tr>\n",
       "<tr><td>3</td><td>1</td><td>391.664085704</td><td>3.65109619705</td><td>1.30106</td><td>0.288675</td><td>0.0926271</td><td>0.022354</td><td>45.0</td><td>2.47005e-05</td><td>5.96106e-06</td><td>-44.9895</td><td>173.101805007</td><td>27.6323387867</td><td>173.101894252</td><td>27.6325228849</td><td>287.597</td><td>396.692</td><td>-6.14696</td><td>153.999</td><td>16</td><td>0.511613</td><td>4.50702</td></tr>\n",
       "<tr><td>4</td><td>1</td><td>112.09876803</td><td>3.92879817309</td><td>0.787976</td><td>0.214852</td><td>0.0362528</td><td>0.00797585</td><td>61.7319</td><td>9.66705e-06</td><td>2.12845e-06</td><td>-61.744</td><td>173.186624908</td><td>27.6325439927</td><td>173.186042832</td><td>27.6325986426</td><td>-67.0791</td><td>866.306</td><td>99.0</td><td>116.252</td><td>16</td><td>0.0</td><td>3.66752</td></tr>\n",
       "<tr><td>5</td><td>1</td><td>108.454015622</td><td>9.39888210087</td><td>0.727711</td><td>0.186901</td><td>0.082488</td><td>0.0217069</td><td>-27.1206</td><td>2.1996e-05</td><td>5.79152e-06</td><td>27.1079</td><td>173.187631956</td><td>27.6334934591</td><td>173.187140435</td><td>27.6340570144</td><td>772.069</td><td>492.583</td><td>-7.21914</td><td>83.2629</td><td>0</td><td>0.708332</td><td>3.89356</td></tr>\n",
       "<tr><td>6</td><td>1</td><td>171.016293694</td><td>10.2398484152</td><td>1.17612</td><td>0.174485</td><td>0.0296752</td><td>0.00805462</td><td>-38.7114</td><td>7.91331e-06</td><td>2.14814e-06</td><td>38.7062</td><td>173.168327636</td><td>27.6331851572</td><td>173.168309107</td><td>27.634285449</td><td>2847.8</td><td>1274.26</td><td>-8.63627</td><td>95.3613</td><td>16</td><td>1.23039</td><td>6.74054</td></tr>\n",
       "<tr><td>7</td><td>1</td><td>304.262985612</td><td>9.77950602873</td><td>0.72701</td><td>0.305383</td><td>0.0565512</td><td>0.00944447</td><td>-31.1592</td><td>1.50805e-05</td><td>2.51715e-06</td><td>31.1644</td><td>173.128213415</td><td>27.6341834105</td><td>173.128201511</td><td>27.6341631122</td><td>1519.67</td><td>1424.83</td><td>-7.95437</td><td>124.696</td><td>0</td><td>0.465004</td><td>2.38065</td></tr>\n",
       "<tr><td>8</td><td>1</td><td>431.210482331</td><td>8.52234249694</td><td>1.09986</td><td>0.419533</td><td>0.0884621</td><td>0.030418</td><td>4.72838</td><td>2.35895e-05</td><td>8.11258e-06</td><td>-4.70234</td><td>173.090049909</td><td>27.6340057375</td><td>173.089990204</td><td>27.6338175391</td><td>993.887</td><td>541.043</td><td>-7.49334</td><td>179.785</td><td>0</td><td>1.08155</td><td>2.62164</td></tr>\n",
       "<tr><td>9</td><td>1</td><td>437.530236805</td><td>4.86677636309</td><td>0.77098</td><td>0.130869</td><td>0.0575818</td><td>0.0102394</td><td>59.5503</td><td>1.53559e-05</td><td>2.72629e-06</td><td>-59.5334</td><td>173.088178186</td><td>27.6335005257</td><td>173.088088475</td><td>27.6328419366</td><td>1530.37</td><td>1169.4</td><td>-7.96199</td><td>84.2915</td><td>1</td><td>0.640406</td><td>5.89123</td></tr>\n",
       "<tr><td>...</td><td>...</td><td>...</td><td>...</td><td>...</td><td>...</td><td>...</td><td>...</td><td>...</td><td>...</td><td>...</td><td>...</td><td>...</td><td>...</td><td>...</td><td>...</td><td>...</td><td>...</td><td>...</td><td>...</td><td>...</td><td>...</td><td>...</td></tr>\n",
       "<tr><td>3089</td><td>1</td><td>42.0945428487</td><td>486.064094654</td><td>0.417307</td><td>0.293276</td><td>0.0309072</td><td>0.0290835</td><td>-4.09331</td><td>7.07535e-06</td><td>3.65054e-06</td><td>-40.6709</td><td>173.207093266</td><td>27.7611862525</td><td>173.207185078</td><td>27.7611602809</td><td>1792.18</td><td>1087.12</td><td>-8.13345</td><td>117.991</td><td>1</td><td>0.634402</td><td>1.96043</td></tr>\n",
       "<tr><td>3090</td><td>1</td><td>334.686137924</td><td>486.170780036</td><td>0.751872</td><td>0.521233</td><td>0.546332</td><td>0.545184</td><td>6.57342</td><td>5.91991e-05</td><td>3.4224e-05</td><td>-89.8227</td><td>173.119006992</td><td>27.760895694</td><td>173.119011744</td><td>27.7611990732</td><td>320.85</td><td>96.9346</td><td>-6.26576</td><td>148.438</td><td>1</td><td>1.10433</td><td>1.83205</td></tr>\n",
       "<tr><td>3091</td><td>1</td><td>51.1931939997</td><td>484.981581433</td><td>0.563411</td><td>0.257707</td><td>0.222595</td><td>0.222242</td><td>23.9106</td><td>2.85375e-05</td><td>2.23853e-05</td><td>-48.3404</td><td>173.204356743</td><td>27.760982824</td><td>173.204443023</td><td>27.7608727755</td><td>1041.43</td><td>483.762</td><td>-7.54407</td><td>279.186</td><td>0</td><td>1.18191</td><td>1.56529</td></tr>\n",
       "<tr><td>3092</td><td>1</td><td>46.2615483948</td><td>486.311850375</td><td>0.865311</td><td>0.373214</td><td>0.423266</td><td>0.422313</td><td>-76.9488</td><td>5.59214e-05</td><td>3.12137e-05</td><td>24.2061</td><td>173.205766444</td><td>27.7611420514</td><td>173.205929376</td><td>27.7612268888</td><td>623.945</td><td>209.208</td><td>-6.98786</td><td>275.973</td><td>1</td><td>1.28483</td><td>1.99923</td></tr>\n",
       "<tr><td>3093</td><td>1</td><td>395.049179667</td><td>491.407073374</td><td>0.937305</td><td>0.700076</td><td>0.224172</td><td>0.223722</td><td>-56.0637</td><td>3.56469e-05</td><td>2.39621e-05</td><td>-66.6323</td><td>173.100699404</td><td>27.7626365808</td><td>173.100820575</td><td>27.7625905896</td><td>1332.76</td><td>302.687</td><td>-7.81188</td><td>270.08</td><td>0</td><td>1.44708</td><td>1.61491</td></tr>\n",
       "<tr><td>3094</td><td>1</td><td>126.155517447</td><td>484.896873654</td><td>1.18047</td><td>0.374264</td><td>0.206079</td><td>0.0716893</td><td>6.28346</td><td>5.49549e-05</td><td>1.9115e-05</td><td>-6.2992</td><td>173.181570098</td><td>27.7609450202</td><td>173.18185297</td><td>27.76085772</td><td>382.7</td><td>224.949</td><td>-6.45715</td><td>174.627</td><td>0</td><td>1.2718</td><td>3.15411</td></tr>\n",
       "<tr><td>3095</td><td>1</td><td>305.545040588</td><td>484.351931318</td><td>0.797554</td><td>0.108176</td><td>0.486063</td><td>0.48316</td><td>-12.8075</td><td>7.13297e-05</td><td>1.57881e-05</td><td>61.5479</td><td>173.127819085</td><td>27.7608354087</td><td>173.127793586</td><td>27.7607155254</td><td>314.505</td><td>116.904</td><td>-6.24407</td><td>116.559</td><td>0</td><td>0.997327</td><td>4.88403</td></tr>\n",
       "<tr><td>3096</td><td>1</td><td>41.9688558966</td><td>483.075440645</td><td>0.413697</td><td>0.33598</td><td>0.047088</td><td>0.0464736</td><td>-88.4764</td><td>2.52753e-05</td><td>5.07649e-06</td><td>51.3413</td><td>173.207324825</td><td>27.7604827288</td><td>173.207222512</td><td>27.7603632919</td><td>1808.08</td><td>1105.8</td><td>-8.14305</td><td>149.573</td><td>0</td><td>0.822051</td><td>4.61532</td></tr>\n",
       "<tr><td>3097</td><td>1</td><td>75.9777778279</td><td>485.42777478</td><td>0.711899</td><td>0.149231</td><td>0.0660685</td><td>0.0130055</td><td>-24.9045</td><td>1.76174e-05</td><td>3.47245e-06</td><td>24.8879</td><td>173.197073634</td><td>27.760908252</td><td>173.196974195</td><td>27.760994657</td><td>1248.47</td><td>936.979</td><td>-7.74095</td><td>83.9106</td><td>0</td><td>0.575333</td><td>4.77046</td></tr>\n",
       "<tr><td>3098</td><td>1</td><td>27.7179051117</td><td>483.689069494</td><td>1.20686</td><td>0.190737</td><td>0.140963</td><td>0.0331611</td><td>-51.597</td><td>3.75911e-05</td><td>8.83854e-06</td><td>51.5812</td><td>173.211616606</td><td>27.7607945518</td><td>173.21151714</td><td>27.7605249926</td><td>878.976</td><td>445.18</td><td>-7.35994</td><td>174.95</td><td>0</td><td>1.19953</td><td>6.32734</td></tr>\n",
       "</table>"
      ],
      "text/plain": [
       "<Table length=3098>\n",
       "NUMBER EXT_NUMBER   XWIN_IMAGE    YWIN_IMAGE  ... FLAGS FLUX_RADIUS ELONGATION\n",
       "                       pix           pix      ...           pix               \n",
       "int32    int16       float64       float64    ... int16   float32    float32  \n",
       "------ ---------- ------------- ------------- ... ----- ----------- ----------\n",
       "     1          1 74.0506797733 4.96785582996 ...     0    0.485663    1.68992\n",
       "     2          1 435.752504902 4.12222775746 ...     0     0.57194     2.0313\n",
       "     3          1 391.664085704 3.65109619705 ...    16    0.511613    4.50702\n",
       "     4          1  112.09876803 3.92879817309 ...    16         0.0    3.66752\n",
       "     5          1 108.454015622 9.39888210087 ...     0    0.708332    3.89356\n",
       "     6          1 171.016293694 10.2398484152 ...    16     1.23039    6.74054\n",
       "     7          1 304.262985612 9.77950602873 ...     0    0.465004    2.38065\n",
       "     8          1 431.210482331 8.52234249694 ...     0     1.08155    2.62164\n",
       "     9          1 437.530236805 4.86677636309 ...     1    0.640406    5.89123\n",
       "   ...        ...           ...           ... ...   ...         ...        ...\n",
       "  3089          1 42.0945428487 486.064094654 ...     1    0.634402    1.96043\n",
       "  3090          1 334.686137924 486.170780036 ...     1     1.10433    1.83205\n",
       "  3091          1 51.1931939997 484.981581433 ...     0     1.18191    1.56529\n",
       "  3092          1 46.2615483948 486.311850375 ...     1     1.28483    1.99923\n",
       "  3093          1 395.049179667 491.407073374 ...     0     1.44708    1.61491\n",
       "  3094          1 126.155517447 484.896873654 ...     0      1.2718    3.15411\n",
       "  3095          1 305.545040588 484.351931318 ...     0    0.997327    4.88403\n",
       "  3096          1 41.9688558966 483.075440645 ...     0    0.822051    4.61532\n",
       "  3097          1 75.9777778279  485.42777478 ...     0    0.575333    4.77046\n",
       "  3098          1 27.7179051117 483.689069494 ...     0     1.19953    6.32734"
      ]
     },
     "execution_count": 34,
     "metadata": {},
     "output_type": "execute_result"
    }
   ],
   "source": [
    "catalog = aw.utils.ldac.get_table_from_ldac(sex_kwargs_1['config']['CATALOG_NAME'])\n",
    "catalog"
   ]
  },
  {
   "cell_type": "markdown",
   "metadata": {
    "collapsed": true
   },
   "source": [
    "### 2) SCAMP"
   ]
  },
  {
   "cell_type": "code",
   "execution_count": 35,
   "metadata": {
    "collapsed": true
   },
   "outputs": [],
   "source": [
    "scamp_kwargs_1 = {\n",
    "    'config': {\n",
    "        'ASTREF_CATALOG': 'USNO-A1',\n",
    "        'ASTREF_BAND': 'DEFAULT',\n",
    "        'SOLVE_PHOTOM': 'N',\n",
    "        'CHECKPLOT_DEV': 'NULL'\n",
    "        }\n",
    "}\n",
    "scamp_kwargs_1['code'] = 'SCAMP'\n",
    "scamp_kwargs_1['config_file'] = os.path.join(paths['config'], 'default.scamp')\n",
    "\n",
    "catalogs = 'temp/GRB130427_R60_001_001.cat'"
   ]
  },
  {
   "cell_type": "code",
   "execution_count": 36,
   "metadata": {
    "collapsed": true
   },
   "outputs": [],
   "source": [
    "scamp = aw.api.Astromatic(**scamp_kwargs_1)"
   ]
  },
  {
   "cell_type": "code",
   "execution_count": 37,
   "metadata": {
    "collapsed": false
   },
   "outputs": [
    {
     "name": "stdout",
     "output_type": "stream",
     "text": [
      "scamp temp/GRB130427_R60_001_001.cat -c /home/ser/Dev/Notebooks/test_pipeline/config/default.scamp -ASTREF_BAND DEFAULT -SOLVE_PHOTOM N -CHECKPLOT_DEV NULL -ASTREF_CATALOG USNO-A1\n"
     ]
    }
   ],
   "source": [
    "this_cmd, kwargs2 = scamp.build_cmd(catalogs, **scamp_kwargs_1)\n",
    "print this_cmd"
   ]
  },
  {
   "cell_type": "code",
   "execution_count": 38,
   "metadata": {
    "collapsed": false
   },
   "outputs": [
    {
     "data": {
      "text/plain": [
       "{'status': 'success'}"
      ]
     },
     "execution_count": 38,
     "metadata": {},
     "output_type": "execute_result"
    }
   ],
   "source": [
    "scamp.run(catalogs)"
   ]
  },
  {
   "cell_type": "code",
   "execution_count": 48,
   "metadata": {
    "collapsed": false
   },
   "outputs": [
    {
     "data": {
      "text/plain": [
       "HISTORY   Astrometric solution by SCAMP version 2.0.4 (2014-07-09)              \n",
       "COMMENT   (c) 2010-2013 IAP/CNRS/UPMC                                           \n",
       "COMMENT                                                                         \n",
       "EQUINOX =        2000.00000000 / Mean equinox                                   \n",
       "RADESYS = 'ICRS    '           / Astrometric system                             \n",
       "CTYPE1  = 'RA---TAN'           / WCS projection type for this axis              \n",
       "CTYPE2  = 'DEC--TAN'           / WCS projection type for this axis              \n",
       "CUNIT1  = 'DEG     '           / Axis unit                                      \n",
       "CUNIT2  = 'DEG     '           / Axis unit                                      \n",
       "CRVAL1  =   1.731463015344E+02 / World coordinate on this axis                  \n",
       "CRVAL2  =   2.771173662660E+01 / World coordinate on this axis                  \n",
       "CRPIX1  =   2.425000000000E+02 / Reference pixel on this axis                   \n",
       "CRPIX2  =   2.865000000000E+02 / Reference pixel on this axis                   \n",
       "CD1_1   =  -2.660237361292E-04 / Linear projection matrix                       \n",
       "CD1_2   =   2.247644030822E-07 / Linear projection matrix                       \n",
       "CD2_1   =  -8.666257892175E-07 / Linear projection matrix                       \n",
       "CD2_2   =   2.673625062731E-04 / Linear projection matrix                       \n",
       "PV1_0   =  -1.067935163314E-03 / Projection distortion parameter                \n",
       "PV1_1   =   1.113691838864E+00 / Projection distortion parameter                \n",
       "PV1_2   =   8.873797633659E-04 / Projection distortion parameter                \n",
       "PV1_4   =  -4.632246928075E-01 / Projection distortion parameter                \n",
       "PV1_5   =   5.591913408912E-02 / Projection distortion parameter                \n",
       "PV1_7   =  -5.179094887180E+01 / Projection distortion parameter                \n",
       "PV2_0   =   8.255582047893E-03 / Projection distortion parameter                \n",
       "PV2_1   =   9.972245750698E-01 / Projection distortion parameter                \n",
       "PV2_2   =  -8.168043877485E-01 / Projection distortion parameter                \n",
       "PV2_5   =  -7.579624794585E-02 / Projection distortion parameter                \n",
       "PV2_6   =   2.640202659751E+00 / Projection distortion parameter                \n",
       "PV2_10  =   3.646449980930E+02 / Projection distortion parameter                \n",
       "FGROUPNO=                    1 / SCAMP field group label                        \n",
       "ASTIRMS1=   0.000000000000E+00 / Astrom. dispersion RMS (intern., high S/N)     \n",
       "ASTIRMS2=   0.000000000000E+00 / Astrom. dispersion RMS (intern., high S/N)     \n",
       "ASTRRMS1=   0.000000000000E+00 / Astrom. dispersion RMS (ref., high S/N)        \n",
       "ASTRRMS2=   0.000000000000E+00 / Astrom. dispersion RMS (ref., high S/N)        \n",
       "ASTINST =                    1 / SCAMP astrometric instrument label             \n",
       "FLXSCALE=   0.000000000000E+00 / SCAMP relative flux scale                      \n",
       "MAGZEROP=           0.00000000 / SCAMP zero-point                               \n",
       "PHOTIRMS=           0.00000000 / mag dispersion RMS (internal, high S/N)        \n",
       "PHOTINST=                    1 / SCAMP photometric instrument label             \n",
       "PHOTLINK=                    F / True if linked to a photometric field          "
      ]
     },
     "execution_count": 48,
     "metadata": {},
     "output_type": "execute_result"
    }
   ],
   "source": [
    "# check header output after SCAMP work (need to load header from txt (.head) file)\n",
    "fileobj = open('temp/GRB130427_R60_001_001.head')\n",
    "hdr = fits.Header.fromtextfile(fileobj)\n",
    "hdr"
   ]
  },
  {
   "cell_type": "markdown",
   "metadata": {},
   "source": [
    "## 3) Swarp"
   ]
  },
  {
   "cell_type": "code",
   "execution_count": 52,
   "metadata": {
    "collapsed": false
   },
   "outputs": [
    {
     "data": {
      "text/plain": [
       "'/home/ser/Dev/Notebooks/test_pipeline/temp'"
      ]
     },
     "execution_count": 52,
     "metadata": {},
     "output_type": "execute_result"
    }
   ],
   "source": [
    "files['image']\n",
    "paths['temp']"
   ]
  },
  {
   "cell_type": "code",
   "execution_count": 67,
   "metadata": {
    "collapsed": false
   },
   "outputs": [],
   "source": [
    "coadd_fits_name = 'coadded.fits'\n",
    "coadd_fits_filename = os.path.join(paths['temp'], coadd_fits_name)\n",
    "swarp_kwargs_1 = {\n",
    "    'config': {\n",
    "        #'WEIGHT_TYPE': 'MAP_WEIGHT',\n",
    "        #'WEIGHT_SUFFIX': '.wtmap.fits',\n",
    "        'IMAGEOUT_NAME': coadd_fits_filename,\n",
    "        'WEIGHTOUT_NAME': coadd_fits_filename.replace('.fits','.wtmap.fits'),\n",
    "    }\n",
    "    }\n",
    "\n",
    "swarp_kwargs_1['code'] = 'SWarp'\n",
    "swarp_kwargs_1['config_file'] = os.path.join(paths['config'], 'default.swarp')"
   ]
  },
  {
   "cell_type": "code",
   "execution_count": 68,
   "metadata": {
    "collapsed": false
   },
   "outputs": [],
   "source": [
    "swarp = aw.api.Astromatic(**swarp_kwargs_1)"
   ]
  },
  {
   "cell_type": "code",
   "execution_count": 69,
   "metadata": {
    "collapsed": false
   },
   "outputs": [
    {
     "name": "stdout",
     "output_type": "stream",
     "text": [
      "swarp temp/GRB130427_R60_001_001.fit -c /home/ser/Dev/Notebooks/test_pipeline/config/default.swarp -WEIGHTOUT_NAME /home/ser/Dev/Notebooks/test_pipeline/temp/coadded.wtmap.fits -IMAGEOUT_NAME /home/ser/Dev/Notebooks/test_pipeline/temp/coadded.fits\n"
     ]
    }
   ],
   "source": [
    "this_cmd, kwargs2 = swarp.build_cmd('temp/GRB130427_R60_001_001.fit', **swarp_kwargs_1)\n",
    "print this_cmd"
   ]
  },
  {
   "cell_type": "code",
   "execution_count": 70,
   "metadata": {
    "collapsed": false
   },
   "outputs": [
    {
     "data": {
      "text/plain": [
       "{'status': 'success'}"
      ]
     },
     "execution_count": 70,
     "metadata": {},
     "output_type": "execute_result"
    }
   ],
   "source": [
    "swarp.run('temp/GRB130427_R60_001_001.fit')"
   ]
  },
  {
   "cell_type": "markdown",
   "metadata": {},
   "source": [
    "### At now we have to check functions above on several images."
   ]
  },
  {
   "cell_type": "raw",
   "metadata": {},
   "source": [
    "Input: set of images, paths\n",
    "Output: coadded image"
   ]
  },
  {
   "cell_type": "code",
   "execution_count": 4,
   "metadata": {
    "collapsed": false
   },
   "outputs": [],
   "source": [
    "# function returns list of filenames with specified format in directory\n",
    "def get_fits_images_from_dir(directory, files_format='fits', exact_pattern=True):\n",
    "    regex_end = '$' if exact_pattern else ''\n",
    "    files_format += regex_end\n",
    "    return [f for f in os.listdir(directory) if os.path.isfile(os.path.join(directory, f)) and re.search(files_format, f, re.IGNORECASE) is not None]"
   ]
  },
  {
   "cell_type": "code",
   "execution_count": 5,
   "metadata": {
    "collapsed": true
   },
   "outputs": [],
   "source": [
    "# by defualt, we search for images in paths['images']\n",
    "def pipeline_1(paths):\n",
    "    print \"prepare...\"\n",
    "    # prepare\n",
    "    fits_format = 'fit'\n",
    "    filenames = sorted(get_fits_images_from_dir(paths['images'], files_format=fits_format))\n",
    "    exposures = []\n",
    "    for filename in filenames:\n",
    "        exposures.append({'image': os.path.join(paths['images'], filename)})\n",
    "    # STEP 1: basic extraction with SExtractor (generate catalogs) for each image\n",
    "    catalog_names = []\n",
    "    print 'begin SExtractor execution'\n",
    "    for files in exposures:\n",
    "        print files['image'] + ':'\n",
    "        # Create names for the output catalogs for each image (in temp dir)\n",
    "        catalog_names.append(os.path.join(paths['temp'],\n",
    "            os.path.basename(files['image']).replace('.'+fits_format, '.cat')))\n",
    "        # set params for sextractor execution\n",
    "        sex_kwargs_1 = {'code': 'SExtractor'}\n",
    "        sex_kwargs_1['config_file'] = os.path.join(paths['config'], 'default.sex')\n",
    "        sex_kwargs_1['config'] = {'CATALOG_NAME': catalog_names[-1]}\n",
    "        sex_kwargs_1['config']['CATALOG_TYPE'] = 'FITS_LDAC'\n",
    "        sex_kwargs_1['config']['FILTER'] = 'N'\n",
    "        sex_kwargs_1['temp_path'] = paths['temp']\n",
    "        sex_kwargs_1['params'] = ['NUMBER', 'EXT_NUMBER', 'XWIN_IMAGE', 'YWIN_IMAGE', 'AWIN_IMAGE', 'BWIN_IMAGE',\n",
    "                                  'ERRAWIN_IMAGE','ERRBWIN_IMAGE', 'ERRTHETAWIN_IMAGE', 'ERRA_WORLD', 'ERRB_WORLD', \n",
    "                                  'ERRTHETA_WORLD', 'X_WORLD', 'Y_WORLD', 'XWIN_WORLD', 'YWIN_WORLD', \n",
    "                                  'FLUX_AUTO', 'FLUX_MAX', 'MAG_AUTO', 'FLUXERR_AUTO', \n",
    "                                  'FLAGS', 'FLUX_RADIUS', 'ELONGATION']\n",
    "        sextractor = aw.api.Astromatic(**sex_kwargs_1)\n",
    "        print sextractor.run(files['image'])\n",
    "    print 'all catalogs successfully created'\n",
    "    \n",
    "    # STEP 2: compute solution for extracted catalogs\n",
    "    print 'SCAMP now working...'\n",
    "    scamp_kwargs_1 = {\n",
    "        'config': {\n",
    "            'ASTREF_CATALOG': 'USNO-B1',\n",
    "            'ASTREF_BAND': 'DEFAULT',\n",
    "            'SOLVE_PHOTOM': 'N',\n",
    "            'CHECKPLOT_DEV': 'NULL'\n",
    "            }\n",
    "    }\n",
    "    scamp_kwargs_1['code'] = 'SCAMP'\n",
    "    scamp_kwargs_1['config_file'] = os.path.join(paths['config'], 'default.scamp')\n",
    "    scamp = aw.api.Astromatic(**scamp_kwargs_1)\n",
    "    this_cmd, kwargs2 = scamp.build_cmd(catalog_names, **scamp_kwargs_1)\n",
    "    #print this_cmd\n",
    "    print scamp.run(catalog_names)\n",
    "    \n",
    "    print 'SWarp now working...'\n",
    "    # STEP 3: use SWarp for coadd images using .head files, computed with SCAMP\n",
    "    coadd_fits_name = 'coadded.fits'\n",
    "    coadd_fits_filename = os.path.join(paths['temp'], coadd_fits_name)\n",
    "    swarp_kwargs_1 = {\n",
    "        'config': {\n",
    "            'IMAGEOUT_NAME': coadd_fits_filename,\n",
    "            'WEIGHTOUT_NAME': coadd_fits_filename.replace('.fits','.wtmap.fits'),\n",
    "        }\n",
    "        }\n",
    "    swarp_kwargs_1['code'] = 'SWarp'\n",
    "    swarp_kwargs_1['config_file'] = os.path.join(paths['config'], 'default.swarp')\n",
    "    swarp = aw.api.Astromatic(**swarp_kwargs_1)\n",
    "    this_cmd, kwargs2 = swarp.build_cmd([exp['image'] for exp in exposures], **swarp_kwargs_1)\n",
    "    #print this_cmd\n",
    "    print swarp.run([exp['image'] for exp in exposures])\n",
    "    \n",
    "    # STEP 4: extract object from coadded image using PSF\n",
    "    print 'SExtractor now working...'\n",
    "    coadd_weight_map = coadd_fits_filename.replace('.fits','.wtmap.fits')\n",
    "    sex_kwargs_2 = {\n",
    "            'config': {\n",
    "                'CATALOG_NAME': coadd_fits_filename.replace('.fits', '.cat'),\n",
    "                'CATALOG_TYPE': 'FITS_LDAC',\n",
    "                'FILTER': 'N',\n",
    "                'WEIGHT_IMAGE': coadd_weight_map,\n",
    "                'WEIGHT_TYPE': 'MAP_WEIGHT',        \n",
    "            },\n",
    "            'params': ['NUMBER', 'EXT_NUMBER', 'XWIN_IMAGE', 'YWIN_IMAGE', 'ERRAWIN_IMAGE',\n",
    "                'ERRBWIN_IMAGE', 'ERRTHETAWIN_IMAGE', 'XWIN_WORLD', 'YWIN_WORLD', 'FLUX_APER(1)',\n",
    "                'FLUXERR_APER(1)', 'FLAGS', 'FLAGS_WEIGHT', 'FLUX_RADIUS',\n",
    "                'ELONGATION', 'VIGNET(20,20)', 'SNR_WIN']\n",
    "        }\n",
    "    sex_kwargs_2['code'] = 'SExtractor'\n",
    "    sex_kwargs_2['config_file'] = os.path.join(paths['config'], 'default.sex')\n",
    "    sex_kwargs_2['temp_path'] = paths['temp']\n",
    "    sextractor = aw.api.Astromatic(**sex_kwargs_2)\n",
    "    print sextractor.run(coadd_fits_filename)\n",
    "    \n",
    "    # Calculate PSF\n",
    "    print 'PSFex now working...'\n",
    "    psf_kwargs_1 = {\n",
    "        'config': {\n",
    "            'CENTER_KEYS': 'XWIN_IMAGE,YWIN_IMAGE',\n",
    "            'PSFVAR_KEYS': 'XWIN_IMAGE,YWIN_IMAGE',\n",
    "            'CHECKPLOT_DEV': 'NULL',\n",
    "            'PSF_SUFFIX': '.psf'\n",
    "        }\n",
    "    }\n",
    "    psf_kwargs_1['code'] = 'PSFEx'\n",
    "    psf_kwargs_1['config_file'] = os.path.join(paths['config'], 'default.psfex')\n",
    "    psf_kwargs_1['temp_path'] = paths['temp']\n",
    "    psfex = aw.api.Astromatic(**psf_kwargs_1)\n",
    "    print psfex.run(coadd_fits_filename.replace('.fits', '.cat'))\n",
    "    \n",
    "    # Calculate PSF photometry for coadded image\n",
    "    print 'SExtractor now working...'\n",
    "    output_cat_name = 'result.ldac.fits'\n",
    "    catalog_name = os.path.join(paths['catalogs'], output_cat_name)\n",
    "    sex_kwargs_3 = {\n",
    "            'config': {\n",
    "                'PSF_NAME': os.path.join(coadd_fits_filename.replace('.fits', '.psf')),\n",
    "                'CATALOG_TYPE': 'FITS_LDAC',\n",
    "                'FILTER': 'N',\n",
    "                'CATALOG_NAME': catalog_name,\n",
    "                'WEIGHT_IMAGE': coadd_weight_map,\n",
    "                'WEIGHT_TYPE': 'MAP_WEIGHT',\n",
    "            },\n",
    "            'params': ['NUMBER', 'EXT_NUMBER', 'XWIN_IMAGE', 'YWIN_IMAGE', 'ERRAWIN_IMAGE',\n",
    "                'ERRBWIN_IMAGE', 'ERRTHETAWIN_IMAGE', 'XWIN_WORLD', 'YWIN_WORLD', 'FLUX_AUTO',\n",
    "                'FLUXERR_AUTO', 'FLAGS', 'FLAGS_WEIGHT', 'FLUX_RADIUS',\n",
    "                'ELONGATION', 'MAG_AUTO', 'MAGERR_AUTO', 'ALPHAPSF_SKY', 'DELTAPSF_SKY',\n",
    "                'ERRX2PSF_WORLD','ERRY2PSF_WORLD', 'FLUX_PSF', 'FLUXERR_PSF', 'MAG_PSF', 'MAGERR_PSF']\n",
    "        }\n",
    "    sex_kwargs_3['code'] = 'SExtractor'\n",
    "    sex_kwargs_3['config_file'] = os.path.join(paths['config'], 'default.sex')\n",
    "    sex_kwargs_3['temp_path'] = paths['temp']\n",
    "    sextractor = aw.api.Astromatic(**sex_kwargs_3)\n",
    "    print sextractor.run(coadd_fits_filename)\n",
    "    return catalog_name"
   ]
  },
  {
   "cell_type": "code",
   "execution_count": 6,
   "metadata": {
    "collapsed": false
   },
   "outputs": [
    {
     "name": "stdout",
     "output_type": "stream",
     "text": [
      "prepare...\n",
      "begin SExtractor execution\n",
      "/home/ser/Dev/Notebooks/test_pipeline/images/GRB130427_R60_001_001.fit:\n",
      "{'status': 'success'}\n",
      "/home/ser/Dev/Notebooks/test_pipeline/images/GRB130427_R60_001_002.fit:\n",
      "{'status': 'success'}\n",
      "/home/ser/Dev/Notebooks/test_pipeline/images/GRB130427_R60_001_003.fit:\n",
      "{'status': 'success'}\n",
      "/home/ser/Dev/Notebooks/test_pipeline/images/GRB130427_R60_001_004.fit:\n",
      "{'status': 'success'}\n",
      "/home/ser/Dev/Notebooks/test_pipeline/images/GRB130427_R60_001_005.fit:\n",
      "{'status': 'success'}\n",
      "/home/ser/Dev/Notebooks/test_pipeline/images/GRB130427_R60_001_006.fit:\n",
      "{'status': 'success'}\n",
      "/home/ser/Dev/Notebooks/test_pipeline/images/GRB130427_R60_001_007.fit:\n",
      "{'status': 'success'}\n",
      "/home/ser/Dev/Notebooks/test_pipeline/images/GRB130427_R60_001_008.fit:\n",
      "{'status': 'success'}\n",
      "/home/ser/Dev/Notebooks/test_pipeline/images/GRB130427_R60_001_009.fit:\n",
      "{'status': 'success'}\n",
      "/home/ser/Dev/Notebooks/test_pipeline/images/GRB130427_R60_001_010.fit:\n",
      "{'status': 'success'}\n",
      "/home/ser/Dev/Notebooks/test_pipeline/images/GRB130427_R60_001_011.fit:\n",
      "{'status': 'success'}\n",
      "/home/ser/Dev/Notebooks/test_pipeline/images/GRB130427_R60_001_012.fit:\n",
      "{'status': 'success'}\n",
      "all catalogs successfully created\n",
      "SCAMP now working...\n",
      "{'status': 'success'}\n",
      "SWarp now working...\n",
      "{'status': 'success'}\n",
      "SExtractor now working...\n",
      "{'status': 'success'}\n",
      "PSFex now working...\n",
      "{'status': 'success'}\n",
      "SExtractor now working...\n",
      "{'status': 'success'}\n"
     ]
    },
    {
     "data": {
      "text/html": [
       "&lt;Table length=4830&gt;\n",
       "<table id=\"table140578466930512\" class=\"table-striped table-bordered table-condensed\">\n",
       "<thead><tr><th>NUMBER</th><th>EXT_NUMBER</th><th>XWIN_IMAGE</th><th>YWIN_IMAGE</th><th>ERRAWIN_IMAGE</th><th>ERRBWIN_IMAGE</th><th>ERRTHETAWIN_IMAGE</th><th>XWIN_WORLD</th><th>YWIN_WORLD</th><th>FLUX_AUTO</th><th>FLUXERR_AUTO</th><th>FLAGS</th><th>FLAGS_WEIGHT</th><th>FLUX_RADIUS</th><th>ELONGATION</th><th>MAG_AUTO</th><th>MAGERR_AUTO</th><th>ALPHAPSF_SKY</th><th>DELTAPSF_SKY</th><th>ERRX2PSF_WORLD</th><th>ERRY2PSF_WORLD</th><th>FLUX_PSF</th><th>FLUXERR_PSF</th><th>MAG_PSF</th><th>MAGERR_PSF</th></tr></thead>\n",
       "<thead><tr><th></th><th></th><th>pix</th><th>pix</th><th>pix</th><th>pix</th><th>deg</th><th>deg</th><th>deg</th><th>ct</th><th>ct</th><th></th><th></th><th>pix</th><th></th><th>mag</th><th>mag</th><th>deg</th><th>deg</th><th>deg2</th><th>deg2</th><th>ct</th><th>ct</th><th>mag</th><th>mag</th></tr></thead>\n",
       "<thead><tr><th>int32</th><th>int16</th><th>float64</th><th>float64</th><th>float32</th><th>float32</th><th>float32</th><th>float64</th><th>float64</th><th>float32</th><th>float32</th><th>int16</th><th>int16</th><th>float32</th><th>float32</th><th>float32</th><th>float32</th><th>float64</th><th>float64</th><th>float64</th><th>float64</th><th>float32</th><th>float32</th><th>float32</th><th>float32</th></tr></thead>\n",
       "<tr><td>1</td><td>1</td><td>372.139765315</td><td>13.9131042692</td><td>0.246118</td><td>0.0810579</td><td>0.0</td><td>173.112397892</td><td>27.6315894054</td><td>0.0215645</td><td>79.4957</td><td>1</td><td>2</td><td>0.000376829</td><td>2.96744</td><td>4.16565</td><td>4003.45</td><td>173.112399019</td><td>27.6324125758</td><td>0.0</td><td>0.0</td><td>0.0</td><td>0.0</td><td>99.0</td><td>99.0</td></tr>\n",
       "<tr><td>2</td><td>1</td><td>80.5226834819</td><td>16.5051499837</td><td>0.190472</td><td>0.190321</td><td>8.49262</td><td>173.200173618</td><td>27.6322720576</td><td>-60.0936</td><td>148.739</td><td>1</td><td>2</td><td>-1.46933</td><td>3.09904</td><td>99.0</td><td>99.0</td><td>173.200095443</td><td>27.6325611443</td><td>0.0</td><td>0.0</td><td>0.0</td><td>0.0</td><td>99.0</td><td>99.0</td></tr>\n",
       "<tr><td>3</td><td>1</td><td>238.649095638</td><td>17.0097210864</td><td>0.12948</td><td>0.128456</td><td>1.78076</td><td>173.152578034</td><td>27.6324181076</td><td>342.465</td><td>153.963</td><td>1</td><td>2</td><td>1.04587</td><td>3.20376</td><td>-6.33654</td><td>0.488237</td><td>173.152932102</td><td>27.6325472654</td><td>0.0</td><td>0.0</td><td>0.0</td><td>0.0</td><td>99.0</td><td>99.0</td></tr>\n",
       "<tr><td>4</td><td>1</td><td>409.920713343</td><td>17.0025961689</td><td>0.153586</td><td>0.147151</td><td>-0.865824</td><td>173.101025693</td><td>27.6324103336</td><td>169.333</td><td>79.5021</td><td>1</td><td>2</td><td>0.545886</td><td>1.43112</td><td>-5.57186</td><td>0.509877</td><td>173.10109003</td><td>27.6324627012</td><td>0.0</td><td>0.0</td><td>0.0</td><td>0.0</td><td>99.0</td><td>99.0</td></tr>\n",
       "<tr><td>5</td><td>1</td><td>449.642235515</td><td>17.6985819239</td><td>0.0774448</td><td>0.0757072</td><td>3.22519</td><td>173.089069527</td><td>27.6325918443</td><td>838.763</td><td>119.301</td><td>3</td><td>2</td><td>0.790973</td><td>1.87213</td><td>-7.3091</td><td>0.154466</td><td>173.08910857</td><td>27.6325684817</td><td>0.0</td><td>0.0</td><td>0.0</td><td>0.0</td><td>99.0</td><td>99.0</td></tr>\n",
       "<tr><td>6</td><td>1</td><td>452.017212783</td><td>17.4397426785</td><td>0.0662309</td><td>0.0450145</td><td>89.8933</td><td>173.088354698</td><td>27.632522544</td><td>669.006</td><td>236.878</td><td>19</td><td>2</td><td>0.645593</td><td>6.9231</td><td>-7.06358</td><td>0.384525</td><td>173.088270863</td><td>27.6324960947</td><td>0.0</td><td>0.0</td><td>0.0</td><td>0.0</td><td>99.0</td><td>99.0</td></tr>\n",
       "<tr><td>7</td><td>1</td><td>476.445852091</td><td>17.7727485014</td><td>0.214055</td><td>0.181751</td><td>-1.30503</td><td>173.081001685</td><td>27.6326082862</td><td>254.729</td><td>97.371</td><td>1</td><td>2</td><td>0.681841</td><td>1.61503</td><td>-6.01519</td><td>0.415127</td><td>173.080897023</td><td>27.6326009597</td><td>0.0</td><td>0.0</td><td>0.0</td><td>0.0</td><td>99.0</td><td>99.0</td></tr>\n",
       "<tr><td>8</td><td>1</td><td>64.0021260804</td><td>18.8787420843</td><td>0.112896</td><td>0.102502</td><td>-89.3676</td><td>173.205146617</td><td>27.632902875</td><td>206.363</td><td>79.5211</td><td>3</td><td>0</td><td>0.489473</td><td>1.62489</td><td>-5.78658</td><td>0.418485</td><td>173.205080308</td><td>27.6328312978</td><td>0.0</td><td>0.0</td><td>0.0</td><td>0.0</td><td>99.0</td><td>99.0</td></tr>\n",
       "<tr><td>9</td><td>1</td><td>61.9047684119</td><td>18.4374297615</td><td>0.0981565</td><td>0.0848145</td><td>-89.7893</td><td>173.205777851</td><td>27.6327849079</td><td>299.498</td><td>151.388</td><td>3</td><td>0</td><td>0.777718</td><td>3.06734</td><td>-6.19098</td><td>0.548945</td><td>173.206162087</td><td>27.6328187854</td><td>0.0</td><td>0.0</td><td>0.0</td><td>0.0</td><td>99.0</td><td>99.0</td></tr>\n",
       "<tr><td>...</td><td>...</td><td>...</td><td>...</td><td>...</td><td>...</td><td>...</td><td>...</td><td>...</td><td>...</td><td>...</td><td>...</td><td>...</td><td>...</td><td>...</td><td>...</td><td>...</td><td>...</td><td>...</td><td>...</td><td>...</td><td>...</td><td>...</td><td>...</td><td>...</td></tr>\n",
       "<tr><td>4821</td><td>1</td><td>270.199708816</td><td>331.719937176</td><td>0.295557</td><td>0.295462</td><td>-4.87144</td><td>173.143081676</td><td>27.7163410688</td><td>914.392</td><td>168.637</td><td>2</td><td>0</td><td>1.69669</td><td>1.96908</td><td>-7.40283</td><td>0.200286</td><td>173.143106573</td><td>27.7164897396</td><td>7.55037553757e-09</td><td>4.4652880703e-09</td><td>654.883</td><td>91.9743</td><td>-7.04041</td><td>0.152522</td></tr>\n",
       "<tr><td>4822</td><td>1</td><td>264.827634742</td><td>331.443472184</td><td>0.0621172</td><td>0.0581081</td><td>-89.6492</td><td>173.1446999</td><td>27.7162673309</td><td>1332.2</td><td>125.768</td><td>2</td><td>0</td><td>0.843943</td><td>1.18177</td><td>-7.81142</td><td>0.102525</td><td>173.144780632</td><td>27.7164799995</td><td>3.3606104453e-09</td><td>2.0863094328e-09</td><td>1067.16</td><td>116.219</td><td>-7.57058</td><td>0.118271</td></tr>\n",
       "<tr><td>4823</td><td>1</td><td>194.44529484</td><td>329.456025577</td><td>0.393319</td><td>0.393216</td><td>-7.42137</td><td>173.165900982</td><td>27.7157354245</td><td>2408.48</td><td>344.19</td><td>3</td><td>0</td><td>3.03504</td><td>3.39257</td><td>-8.45436</td><td>0.155197</td><td>173.165791574</td><td>27.7155635004</td><td>2.2645591211e-09</td><td>1.9074604965e-09</td><td>904.102</td><td>86.4999</td><td>-7.39054</td><td>0.103903</td></tr>\n",
       "<tr><td>4824</td><td>1</td><td>261.35659228</td><td>331.042665734</td><td>0.181716</td><td>0.1815</td><td>-1.98636</td><td>173.145745475</td><td>27.7161604303</td><td>5674.6</td><td>387.444</td><td>3</td><td>0</td><td>3.17781</td><td>2.65404</td><td>-9.38484</td><td>0.0741488</td><td>173.145978671</td><td>27.7161775546</td><td>5.98055719359e-10</td><td>4.66013918488e-10</td><td>1984.92</td><td>92.6346</td><td>-8.24436</td><td>0.0506826</td></tr>\n",
       "<tr><td>4825</td><td>1</td><td>253.772537734</td><td>331.916213983</td><td>0.439622</td><td>0.415134</td><td>24.7427</td><td>173.148030021</td><td>27.7163933073</td><td>1065.44</td><td>217.693</td><td>1</td><td>0</td><td>2.32812</td><td>2.14619</td><td>-7.56882</td><td>0.221895</td><td>173.147944187</td><td>27.7165112377</td><td>1.14182677879e-08</td><td>8.96294386153e-09</td><td>482.148</td><td>95.8897</td><td>-6.70795</td><td>0.215984</td></tr>\n",
       "<tr><td>4826</td><td>1</td><td>106.226949077</td><td>332.472602895</td><td>0.131887</td><td>0.131785</td><td>-8.8511</td><td>173.192475125</td><td>27.7165328744</td><td>1348.43</td><td>171.007</td><td>1</td><td>0</td><td>1.3911</td><td>3.04589</td><td>-7.82457</td><td>0.137726</td><td>173.19272359</td><td>27.7165408826</td><td>1.1418496919e-08</td><td>8.9626958915e-09</td><td>0.0</td><td>0.0</td><td>99.0</td><td>99.0</td></tr>\n",
       "<tr><td>4827</td><td>1</td><td>44.9895382295</td><td>332.27265083</td><td>0.305209</td><td>0.305103</td><td>5.14189</td><td>173.210921597</td><td>27.7164717319</td><td>682.997</td><td>151.356</td><td>0</td><td>0</td><td>1.43672</td><td>2.94553</td><td>-7.08605</td><td>0.240664</td><td>173.210637749</td><td>27.7162550736</td><td>7.86304825564e-09</td><td>4.00934901557e-09</td><td>513.195</td><td>87.772</td><td>-6.77571</td><td>0.185739</td></tr>\n",
       "<tr><td>4828</td><td>1</td><td>421.606928244</td><td>331.328700326</td><td>0.362532</td><td>0.3624</td><td>-6.45874</td><td>173.097473465</td><td>27.7162293936</td><td>872.365</td><td>173.253</td><td>1</td><td>0</td><td>1.75249</td><td>3.09815</td><td>-7.35175</td><td>0.215682</td><td>173.097384922</td><td>27.7163571403</td><td>4.14770326442e-09</td><td>2.97122681617e-09</td><td>717.256</td><td>89.3122</td><td>-7.13918</td><td>0.135228</td></tr>\n",
       "<tr><td>4829</td><td>1</td><td>378.978264825</td><td>329.551859591</td><td>0.140188</td><td>0.14005</td><td>-30.0005</td><td>173.110314582</td><td>27.7157591499</td><td>2960.37</td><td>363.207</td><td>3</td><td>0</td><td>2.07103</td><td>1.75462</td><td>-8.67836</td><td>0.133241</td><td>173.110006645</td><td>27.7158755443</td><td>4.74617138385e-10</td><td>3.92744084478e-10</td><td>2243.21</td><td>95.2405</td><td>-8.37717</td><td>0.0461086</td></tr>\n",
       "<tr><td>4830</td><td>1</td><td>373.935577617</td><td>327.50691968</td><td>0.0993649</td><td>0.0862281</td><td>89.9887</td><td>173.111833732</td><td>27.7152141783</td><td>705.223</td><td>108.898</td><td>3</td><td>0</td><td>0.79263</td><td>1.39404</td><td>-7.12082</td><td>0.167696</td><td>173.11202694</td><td>27.7152766213</td><td>6.12335820966e-09</td><td>3.88759729111e-09</td><td>735.221</td><td>92.4684</td><td>-7.16604</td><td>0.136586</td></tr>\n",
       "</table>"
      ],
      "text/plain": [
       "<Table length=4830>\n",
       "NUMBER EXT_NUMBER   XWIN_IMAGE  ... FLUXERR_PSF MAG_PSF  MAGERR_PSF\n",
       "                       pix      ...      ct       mag       mag    \n",
       "int32    int16       float64    ...   float32   float32   float32  \n",
       "------ ---------- ------------- ... ----------- -------- ----------\n",
       "     1          1 372.139765315 ...         0.0     99.0       99.0\n",
       "     2          1 80.5226834819 ...         0.0     99.0       99.0\n",
       "     3          1 238.649095638 ...         0.0     99.0       99.0\n",
       "     4          1 409.920713343 ...         0.0     99.0       99.0\n",
       "     5          1 449.642235515 ...         0.0     99.0       99.0\n",
       "     6          1 452.017212783 ...         0.0     99.0       99.0\n",
       "     7          1 476.445852091 ...         0.0     99.0       99.0\n",
       "     8          1 64.0021260804 ...         0.0     99.0       99.0\n",
       "     9          1 61.9047684119 ...         0.0     99.0       99.0\n",
       "   ...        ...           ... ...         ...      ...        ...\n",
       "  4821          1 270.199708816 ...     91.9743 -7.04041   0.152522\n",
       "  4822          1 264.827634742 ...     116.219 -7.57058   0.118271\n",
       "  4823          1  194.44529484 ...     86.4999 -7.39054   0.103903\n",
       "  4824          1  261.35659228 ...     92.6346 -8.24436  0.0506826\n",
       "  4825          1 253.772537734 ...     95.8897 -6.70795   0.215984\n",
       "  4826          1 106.226949077 ...         0.0     99.0       99.0\n",
       "  4827          1 44.9895382295 ...      87.772 -6.77571   0.185739\n",
       "  4828          1 421.606928244 ...     89.3122 -7.13918   0.135228\n",
       "  4829          1 378.978264825 ...     95.2405 -8.37717  0.0461086\n",
       "  4830          1 373.935577617 ...     92.4684 -7.16604   0.136586"
      ]
     },
     "execution_count": 6,
     "metadata": {},
     "output_type": "execute_result"
    }
   ],
   "source": [
    "catalog_name = pipeline_1(paths)\n",
    "catalog = aw.utils.ldac.get_table_from_ldac(catalog_name)\n",
    "catalog"
   ]
  },
  {
   "cell_type": "code",
   "execution_count": null,
   "metadata": {
    "collapsed": true
   },
   "outputs": [],
   "source": []
  },
  {
   "cell_type": "markdown",
   "metadata": {},
   "source": [
    "## Test pipeline components"
   ]
  },
  {
   "cell_type": "code",
   "execution_count": 29,
   "metadata": {
    "collapsed": true
   },
   "outputs": [],
   "source": [
    "def build_pipeline(pipeline, exposures, ref_catalog='IKI', ref_band='DEFAULT',\n",
    "        stack_name = 'test_stack.fits', output_cat_name='test_psf.ldac.fits'):\n",
    "    # Generate catalogs from sextractor\n",
    "    catalog_names = []\n",
    "    for files in exposures:\n",
    "        # Create names for the output catalogs for each image\n",
    "        catalog_names.append(os.path.join(pipeline.paths['temp'],\n",
    "            os.path.basename(files['image']).replace('.fit', '.cat')))\n",
    "        kwargs = {\n",
    "            # image to SExtract\n",
    "            'files': files,\n",
    "            # Arguments to initialize Astromatic class\n",
    "            'api_kwargs': {\n",
    "                # Configuration parameters\n",
    "                'config': {\n",
    "                    'CATALOG_NAME': catalog_names[-1],\n",
    "                    'CATALOG_TYPE': 'FITS_LDAC',\n",
    "                    'FILTER': 'N',\n",
    "                    #'WEIGHT_TYPE': 'MAP_WEIGHT',\n",
    "                },\n",
    "                # Output parameters\n",
    "                'params': ['NUMBER', 'EXT_NUMBER', 'XWIN_IMAGE', 'YWIN_IMAGE', 'ERRAWIN_IMAGE',\n",
    "                    'ERRBWIN_IMAGE', 'ERRTHETAWIN_IMAGE', 'XWIN_WORLD', 'YWIN_WORLD', 'FLUX_AUTO',\n",
    "                    'FLUXERR_AUTO', 'IMAFLAGS_ISO', 'FLAGS', 'FLAGS_WEIGHT', 'FLUX_RADIUS',\n",
    "                    'ELONGATION'],\n",
    "            },\n",
    "        }\n",
    "        # Add the step to the pipeline\n",
    "        pipeline.add_step(aw.api.run_sex, ['step1', 'SExtractor'], **kwargs)\n",
    "\n",
    "    # Use SCAMP to get astrometric solutions\n",
    "    kwargs = {\n",
    "        'catalogs': catalog_names,\n",
    "        'api_kwargs': {\n",
    "            'config': {\n",
    "                'ASTREF_CATALOG': ref_catalog,\n",
    "                'ASTREF_BAND': ref_band,\n",
    "                'SOLVE_PHOTOM': 'N',\n",
    "                'CHECKPLOT_DEV': 'NULL'\n",
    "            },\n",
    "        }\n",
    "    }\n",
    "    pipeline.add_step(aw.api.run_scamp, ['step2', 'SCAMP'],**kwargs)\n",
    "\n",
    "    # Resample (rotate and scale) and combine (stack) images using SWarp\n",
    "    stack_filename = os.path.join(pipeline.paths['temp'], stack_name)\n",
    "    kwargs = {\n",
    "        'filenames': [exp['image'] for exp in exposures],\n",
    "        'api_kwargs': {\n",
    "            'config': {\n",
    "                'WEIGHT_TYPE': 'MAP_WEIGHT',\n",
    "                'WEIGHT_SUFFIX': '.wtmap.fits',\n",
    "                'IMAGEOUT_NAME': stack_filename,\n",
    "                'WEIGHTOUT_NAME': stack_filename.replace('.fits','.wtmap.fits'),\n",
    "            },\n",
    "        }\n",
    "    }\n",
    "    pipeline.add_step(aw.api.run_swarp, ['step3', 'SWarp'], **kwargs)\n",
    "\n",
    "    # Get positions in stack for PSF photometry (SExtractor -> PSFex -> SExtractor)\n",
    "    kwargs = {\n",
    "        'files': {\n",
    "            'image': stack_filename,\n",
    "            'wtmap': stack_filename.replace('.fits', '.wtmap.fits')\n",
    "        },\n",
    "        'api_kwargs': {\n",
    "            'config': {\n",
    "                'CATALOG_TYPE': 'FITS_LDAC',\n",
    "                'FILTER': 'N',\n",
    "                'WEIGHT_TYPE': 'MAP_WEIGHT',\n",
    "            },\n",
    "            'params': ['NUMBER', 'EXT_NUMBER', 'XWIN_IMAGE', 'YWIN_IMAGE', 'ERRAWIN_IMAGE',\n",
    "                'ERRBWIN_IMAGE', 'ERRTHETAWIN_IMAGE', 'XWIN_WORLD', 'YWIN_WORLD', 'FLUX_APER(1)',\n",
    "                'FLUXERR_APER(1)', 'FLAGS', 'FLAGS_WEIGHT', 'FLUX_RADIUS',\n",
    "                'ELONGATION', 'VIGNET(20,20)', 'SNR_WIN'],\n",
    "        }\n",
    "    }\n",
    "    pipeline.add_step(aw.api.run_sex, ['step4', 'SExtractor'], **kwargs)\n",
    "\n",
    "    # Calculate PSF\n",
    "    kwargs = {\n",
    "        'catalogs': stack_filename.replace('.fits', '.cat'),\n",
    "        'api_kwargs': {\n",
    "            'config': {\n",
    "                'CENTER_KEYS': 'XWIN_IMAGE,YWIN_IMAGE',\n",
    "                'PSFVAR_KEYS': 'XWIN_IMAGE,YWIN_IMAGE',\n",
    "                'CHECKPLOT_DEV': 'NULL',\n",
    "                'PSF_SUFFIX': '.psf'\n",
    "            }\n",
    "        }\n",
    "    }\n",
    "    pipeline.add_step(aw.api.run_psfex, ['step5', 'PSFEx'], **kwargs)\n",
    "\n",
    "    # Calculate PSF photometry for coadded image\n",
    "    catalog_name = os.path.join(pipeline.paths['catalogs'], output_cat_name)\n",
    "    kwargs = {\n",
    "        'files': {\n",
    "            'image': stack_filename,\n",
    "            'wtmap': stack_filename.replace('.fits', '.wtmap.fits')\n",
    "        },\n",
    "        'api_kwargs': {\n",
    "            'config': {\n",
    "                'PSF_NAME': os.path.join(stack_filename.replace('.fits', '.psf')),\n",
    "                'CATALOG_TYPE': 'FITS_LDAC',\n",
    "                'FILTER': 'N',\n",
    "                'CATALOG_NAME': catalog_name,\n",
    "                'WEIGHT_TYPE': 'MAP_WEIGHT',\n",
    "            },\n",
    "            'params': ['NUMBER', 'EXT_NUMBER', 'XWIN_IMAGE', 'YWIN_IMAGE', 'ERRAWIN_IMAGE',\n",
    "                'ERRBWIN_IMAGE', 'ERRTHETAWIN_IMAGE', 'XWIN_WORLD', 'YWIN_WORLD', 'FLUX_AUTO',\n",
    "                'FLUXERR_AUTO', 'FLAGS', 'FLAGS_WEIGHT', 'FLUX_RADIUS',\n",
    "                'ELONGATION', 'MAG_AUTO', 'MAGERR_AUTO', 'ALPHAPSF_SKY', 'DELTAPSF_SKY',\n",
    "                'ERRX2PSF_WORLD','ERRY2PSF_WORLD', 'FLUX_PSF', 'FLUXERR_PSF', 'MAG_PSF', 'MAGERR_PSF'],\n",
    "        }\n",
    "    }\n",
    "    pipeline.add_step(aw.api.run_sex, ['step6', 'SExtractor'], **kwargs)\n",
    "\n",
    "    def save_output(pipeline, old_stack, new_stack, old_cat, new_cat):\n",
    "        # Copy the final stack and catalog from the temp folder\n",
    "        import shutil\n",
    "        # Move the weight map if it exists\n",
    "        if os.path.isfile(old_stack.replace('.fits', '.wtmap.fits')):\n",
    "            shutil.move(old_stack.replace('.fits', '.wtmap.fits'), new_stack.replace('.fits', '.wtmap.fits'))\n",
    "        shutil.move(old_stack, new_stack)\n",
    "        shutil.move(old_cat, new_cat)\n",
    "        result = {\n",
    "            'status': 'success'\n",
    "        }\n",
    "        return result\n",
    "\n",
    "    kwargs = {\n",
    "        'old_stack': stack_filename,\n",
    "        'new_stack': os.path.join(pipeline.paths['stacks'], stack_name),\n",
    "        'old_cat': catalog_name,\n",
    "        'new_cat': os.path.join(pipeline.paths['catalogs'], output_cat_name)\n",
    "    }\n",
    "    pipeline.add_step(save_output, ['step7', 'save_output'], **kwargs)\n",
    "\n",
    "    return pipeline"
   ]
  }
 ],
 "metadata": {
  "anaconda-cloud": {},
  "kernelspec": {
   "display_name": "Python [conda root]",
   "language": "python",
   "name": "conda-root-py"
  },
  "language_info": {
   "codemirror_mode": {
    "name": "ipython",
    "version": 2
   },
   "file_extension": ".py",
   "mimetype": "text/x-python",
   "name": "python",
   "nbconvert_exporter": "python",
   "pygments_lexer": "ipython2",
   "version": "2.7.12"
  }
 },
 "nbformat": 4,
 "nbformat_minor": 1
}
